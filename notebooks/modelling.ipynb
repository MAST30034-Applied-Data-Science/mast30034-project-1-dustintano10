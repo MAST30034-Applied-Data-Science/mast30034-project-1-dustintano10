{
 "cells": [
  {
   "cell_type": "code",
   "execution_count": 4,
   "id": "b7b7c16c",
   "metadata": {},
   "outputs": [],
   "source": [
    "from pyspark.sql import SparkSession, functions as F\n",
    "from pyspark.sql.functions import *\n",
    "\n",
    "# Cell to create a spark session\n",
    "spark = (\n",
    "    SparkSession.builder.appName(\"MAST30034 ASSIGNMENT 1 DUSTIN\")\n",
    "    .config(\"spark.sql.repl.eagerEval.enabled\", True) \n",
    "    .config(\"spark.sql.parquet.cacheMetadata\", \"true\")\n",
    "    .config(\"spark.sql.session.timeZone\", \"Etc/UTC\")\n",
    "    .config(\"spark.executor.memory\", \"2g\")\n",
    "    .config(\"spark.driver.memory\", \"4g\")\n",
    "    .getOrCreate()\n",
    ")"
   ]
  },
  {
   "cell_type": "code",
   "execution_count": 5,
   "id": "61d0a36a",
   "metadata": {},
   "outputs": [],
   "source": [
    "import pandas as pd\n",
    "import statsmodels.api as sm"
   ]
  },
  {
   "cell_type": "code",
   "execution_count": 11,
   "id": "0d040657",
   "metadata": {},
   "outputs": [],
   "source": [
    "yellow = spark.read.parquet('../../mast30034-project-1-dustintano10/data/curated/yellow/yellow_indexed')\n",
    "yellow_sample = pd.read_parquet('../../mast30034-project-1-dustintano10/data/curated/yellow/yellow_sample')"
   ]
  },
  {
   "cell_type": "code",
   "execution_count": null,
   "id": "e12f904a",
   "metadata": {},
   "outputs": [],
   "source": [
    "# take a sample of the indexed dataframe\n",
    "\n",
    "SAMPLE_SIZE = 0.10\n",
    "\n",
    "yellow_indexed_sample = yellow_indexed.sample(SAMPLE_SIZE, seed=0)\n",
    "\n",
    "sample_pandas = yellow_indexed_sample.toPandas()"
   ]
  },
  {
   "cell_type": "code",
   "execution_count": 14,
   "id": "1d154587",
   "metadata": {},
   "outputs": [
    {
     "data": {
      "text/html": [
       "<div>\n",
       "<style scoped>\n",
       "    .dataframe tbody tr th:only-of-type {\n",
       "        vertical-align: middle;\n",
       "    }\n",
       "\n",
       "    .dataframe tbody tr th {\n",
       "        vertical-align: top;\n",
       "    }\n",
       "\n",
       "    .dataframe thead th {\n",
       "        text-align: right;\n",
       "    }\n",
       "</style>\n",
       "<table border=\"1\" class=\"dataframe\">\n",
       "  <thead>\n",
       "    <tr style=\"text-align: right;\">\n",
       "      <th></th>\n",
       "      <th>fare_amount</th>\n",
       "      <th>tolls_amount</th>\n",
       "      <th>total_amount</th>\n",
       "      <th>is_weekend_boolean</th>\n",
       "      <th>trip_length</th>\n",
       "      <th>Attendance</th>\n",
       "      <th>Win_boolean</th>\n",
       "      <th>margin_victory/loss</th>\n",
       "      <th>pickup_hour</th>\n",
       "      <th>dropoff_hour</th>\n",
       "      <th>PULocationID</th>\n",
       "      <th>DOLocationID</th>\n",
       "      <th>Start(ET)_NUMERIC</th>\n",
       "    </tr>\n",
       "  </thead>\n",
       "  <tbody>\n",
       "    <tr>\n",
       "      <th>mean</th>\n",
       "      <td>-0.0000</td>\n",
       "      <td>-0.0000</td>\n",
       "      <td>-0.0000</td>\n",
       "      <td>0.0000</td>\n",
       "      <td>-0.0000</td>\n",
       "      <td>-0.0000</td>\n",
       "      <td>-0.0000</td>\n",
       "      <td>-0.0000</td>\n",
       "      <td>0.0000</td>\n",
       "      <td>0.0000</td>\n",
       "      <td>-0.0000</td>\n",
       "      <td>-0.0000</td>\n",
       "      <td>-0.0000</td>\n",
       "    </tr>\n",
       "    <tr>\n",
       "      <th>std</th>\n",
       "      <td>1.0000</td>\n",
       "      <td>1.0000</td>\n",
       "      <td>1.0000</td>\n",
       "      <td>1.0000</td>\n",
       "      <td>1.0000</td>\n",
       "      <td>1.0000</td>\n",
       "      <td>1.0000</td>\n",
       "      <td>1.0000</td>\n",
       "      <td>1.0000</td>\n",
       "      <td>1.0000</td>\n",
       "      <td>1.0000</td>\n",
       "      <td>1.0000</td>\n",
       "      <td>1.0000</td>\n",
       "    </tr>\n",
       "  </tbody>\n",
       "</table>\n",
       "</div>"
      ],
      "text/plain": [
       "      fare_amount  tolls_amount  total_amount  is_weekend_boolean  \\\n",
       "mean      -0.0000       -0.0000       -0.0000              0.0000   \n",
       "std        1.0000        1.0000        1.0000              1.0000   \n",
       "\n",
       "      trip_length  Attendance  Win_boolean  margin_victory/loss  pickup_hour  \\\n",
       "mean      -0.0000     -0.0000      -0.0000              -0.0000       0.0000   \n",
       "std        1.0000      1.0000       1.0000               1.0000       1.0000   \n",
       "\n",
       "      dropoff_hour  PULocationID  DOLocationID  Start(ET)_NUMERIC  \n",
       "mean        0.0000       -0.0000       -0.0000            -0.0000  \n",
       "std         1.0000        1.0000        1.0000             1.0000  "
      ]
     },
     "execution_count": 14,
     "metadata": {},
     "output_type": "execute_result"
    }
   ],
   "source": [
    "# standardized the x columns code from tutorial 2\n",
    "\n",
    "\n",
    "from scipy.stats import zscore\n",
    "\n",
    "x_cols = ['fare_amount','tolls_amount', 'total_amount', 'is_weekend_binary', 'trip_length', \n",
    "          'Attendance', 'Win_binary', 'margin_victory/loss','pickup_hour', 'dropoff_hour', \n",
    "          'PULocationID', 'DOLocationID', 'Start(ET)_NUMERIC']\n",
    "\n",
    "y_cols = ['tip_amount']\n",
    "\n",
    "df_standard = yellow_sample[x_cols].astype(float).apply(zscore)\n",
    "\n",
    "# format output to 4 decimal places\n",
    "pd.options.display.float_format = '{:,.4f}'.format\n",
    "df_standard.describe().loc[['mean','std']]\n",
    "\n"
   ]
  },
  {
   "cell_type": "code",
   "execution_count": 16,
   "id": "ea68fcc8",
   "metadata": {},
   "outputs": [
    {
     "data": {
      "text/html": [
       "<style>#sk-container-id-1 {color: black;background-color: white;}#sk-container-id-1 pre{padding: 0;}#sk-container-id-1 div.sk-toggleable {background-color: white;}#sk-container-id-1 label.sk-toggleable__label {cursor: pointer;display: block;width: 100%;margin-bottom: 0;padding: 0.3em;box-sizing: border-box;text-align: center;}#sk-container-id-1 label.sk-toggleable__label-arrow:before {content: \"▸\";float: left;margin-right: 0.25em;color: #696969;}#sk-container-id-1 label.sk-toggleable__label-arrow:hover:before {color: black;}#sk-container-id-1 div.sk-estimator:hover label.sk-toggleable__label-arrow:before {color: black;}#sk-container-id-1 div.sk-toggleable__content {max-height: 0;max-width: 0;overflow: hidden;text-align: left;background-color: #f0f8ff;}#sk-container-id-1 div.sk-toggleable__content pre {margin: 0.2em;color: black;border-radius: 0.25em;background-color: #f0f8ff;}#sk-container-id-1 input.sk-toggleable__control:checked~div.sk-toggleable__content {max-height: 200px;max-width: 100%;overflow: auto;}#sk-container-id-1 input.sk-toggleable__control:checked~label.sk-toggleable__label-arrow:before {content: \"▾\";}#sk-container-id-1 div.sk-estimator input.sk-toggleable__control:checked~label.sk-toggleable__label {background-color: #d4ebff;}#sk-container-id-1 div.sk-label input.sk-toggleable__control:checked~label.sk-toggleable__label {background-color: #d4ebff;}#sk-container-id-1 input.sk-hidden--visually {border: 0;clip: rect(1px 1px 1px 1px);clip: rect(1px, 1px, 1px, 1px);height: 1px;margin: -1px;overflow: hidden;padding: 0;position: absolute;width: 1px;}#sk-container-id-1 div.sk-estimator {font-family: monospace;background-color: #f0f8ff;border: 1px dotted black;border-radius: 0.25em;box-sizing: border-box;margin-bottom: 0.5em;}#sk-container-id-1 div.sk-estimator:hover {background-color: #d4ebff;}#sk-container-id-1 div.sk-parallel-item::after {content: \"\";width: 100%;border-bottom: 1px solid gray;flex-grow: 1;}#sk-container-id-1 div.sk-label:hover label.sk-toggleable__label {background-color: #d4ebff;}#sk-container-id-1 div.sk-serial::before {content: \"\";position: absolute;border-left: 1px solid gray;box-sizing: border-box;top: 0;bottom: 0;left: 50%;z-index: 0;}#sk-container-id-1 div.sk-serial {display: flex;flex-direction: column;align-items: center;background-color: white;padding-right: 0.2em;padding-left: 0.2em;position: relative;}#sk-container-id-1 div.sk-item {position: relative;z-index: 1;}#sk-container-id-1 div.sk-parallel {display: flex;align-items: stretch;justify-content: center;background-color: white;position: relative;}#sk-container-id-1 div.sk-item::before, #sk-container-id-1 div.sk-parallel-item::before {content: \"\";position: absolute;border-left: 1px solid gray;box-sizing: border-box;top: 0;bottom: 0;left: 50%;z-index: -1;}#sk-container-id-1 div.sk-parallel-item {display: flex;flex-direction: column;z-index: 1;position: relative;background-color: white;}#sk-container-id-1 div.sk-parallel-item:first-child::after {align-self: flex-end;width: 50%;}#sk-container-id-1 div.sk-parallel-item:last-child::after {align-self: flex-start;width: 50%;}#sk-container-id-1 div.sk-parallel-item:only-child::after {width: 0;}#sk-container-id-1 div.sk-dashed-wrapped {border: 1px dashed gray;margin: 0 0.4em 0.5em 0.4em;box-sizing: border-box;padding-bottom: 0.4em;background-color: white;}#sk-container-id-1 div.sk-label label {font-family: monospace;font-weight: bold;display: inline-block;line-height: 1.2em;}#sk-container-id-1 div.sk-label-container {text-align: center;}#sk-container-id-1 div.sk-container {/* jupyter's `normalize.less` sets `[hidden] { display: none; }` but bootstrap.min.css set `[hidden] { display: none !important; }` so we also need the `!important` here to be able to override the default hidden behavior on the sphinx rendered scikit-learn.org. See: https://github.com/scikit-learn/scikit-learn/issues/21755 */display: inline-block !important;position: relative;}#sk-container-id-1 div.sk-text-repr-fallback {display: none;}</style><div id=\"sk-container-id-1\" class=\"sk-top-container\"><div class=\"sk-text-repr-fallback\"><pre>ElasticNet()</pre><b>In a Jupyter environment, please rerun this cell to show the HTML representation or trust the notebook. <br />On GitHub, the HTML representation is unable to render, please try loading this page with nbviewer.org.</b></div><div class=\"sk-container\" hidden><div class=\"sk-item\"><div class=\"sk-estimator sk-toggleable\"><input class=\"sk-toggleable__control sk-hidden--visually\" id=\"sk-estimator-id-1\" type=\"checkbox\" checked><label for=\"sk-estimator-id-1\" class=\"sk-toggleable__label sk-toggleable__label-arrow\">ElasticNet</label><div class=\"sk-toggleable__content\"><pre>ElasticNet()</pre></div></div></div></div></div>"
      ],
      "text/plain": [
       "ElasticNet()"
      ]
     },
     "execution_count": 16,
     "metadata": {},
     "output_type": "execute_result"
    }
   ],
   "source": [
    "# fit the lasso model code from tutorial 2\n",
    "\n",
    "import numpy as np\n",
    "from glmnet import ElasticNet\n",
    "\n",
    "elastic_net_model_lasso = ElasticNet(alpha=1) \n",
    "elastic_net_model_lasso.fit(\n",
    "    df_standard.values, \n",
    "    # flatten the array (from 2d matrix to 1d vector) to remove the warning message:\n",
    "    # A column-vector y was passed when a 1d array was expected.\n",
    "    yellow_sample[y_cols].values.flatten()\n",
    ")"
   ]
  },
  {
   "cell_type": "code",
   "execution_count": 17,
   "id": "d12f216b",
   "metadata": {},
   "outputs": [
    {
     "data": {
      "text/html": [
       "<style>#sk-container-id-2 {color: black;background-color: white;}#sk-container-id-2 pre{padding: 0;}#sk-container-id-2 div.sk-toggleable {background-color: white;}#sk-container-id-2 label.sk-toggleable__label {cursor: pointer;display: block;width: 100%;margin-bottom: 0;padding: 0.3em;box-sizing: border-box;text-align: center;}#sk-container-id-2 label.sk-toggleable__label-arrow:before {content: \"▸\";float: left;margin-right: 0.25em;color: #696969;}#sk-container-id-2 label.sk-toggleable__label-arrow:hover:before {color: black;}#sk-container-id-2 div.sk-estimator:hover label.sk-toggleable__label-arrow:before {color: black;}#sk-container-id-2 div.sk-toggleable__content {max-height: 0;max-width: 0;overflow: hidden;text-align: left;background-color: #f0f8ff;}#sk-container-id-2 div.sk-toggleable__content pre {margin: 0.2em;color: black;border-radius: 0.25em;background-color: #f0f8ff;}#sk-container-id-2 input.sk-toggleable__control:checked~div.sk-toggleable__content {max-height: 200px;max-width: 100%;overflow: auto;}#sk-container-id-2 input.sk-toggleable__control:checked~label.sk-toggleable__label-arrow:before {content: \"▾\";}#sk-container-id-2 div.sk-estimator input.sk-toggleable__control:checked~label.sk-toggleable__label {background-color: #d4ebff;}#sk-container-id-2 div.sk-label input.sk-toggleable__control:checked~label.sk-toggleable__label {background-color: #d4ebff;}#sk-container-id-2 input.sk-hidden--visually {border: 0;clip: rect(1px 1px 1px 1px);clip: rect(1px, 1px, 1px, 1px);height: 1px;margin: -1px;overflow: hidden;padding: 0;position: absolute;width: 1px;}#sk-container-id-2 div.sk-estimator {font-family: monospace;background-color: #f0f8ff;border: 1px dotted black;border-radius: 0.25em;box-sizing: border-box;margin-bottom: 0.5em;}#sk-container-id-2 div.sk-estimator:hover {background-color: #d4ebff;}#sk-container-id-2 div.sk-parallel-item::after {content: \"\";width: 100%;border-bottom: 1px solid gray;flex-grow: 1;}#sk-container-id-2 div.sk-label:hover label.sk-toggleable__label {background-color: #d4ebff;}#sk-container-id-2 div.sk-serial::before {content: \"\";position: absolute;border-left: 1px solid gray;box-sizing: border-box;top: 0;bottom: 0;left: 50%;z-index: 0;}#sk-container-id-2 div.sk-serial {display: flex;flex-direction: column;align-items: center;background-color: white;padding-right: 0.2em;padding-left: 0.2em;position: relative;}#sk-container-id-2 div.sk-item {position: relative;z-index: 1;}#sk-container-id-2 div.sk-parallel {display: flex;align-items: stretch;justify-content: center;background-color: white;position: relative;}#sk-container-id-2 div.sk-item::before, #sk-container-id-2 div.sk-parallel-item::before {content: \"\";position: absolute;border-left: 1px solid gray;box-sizing: border-box;top: 0;bottom: 0;left: 50%;z-index: -1;}#sk-container-id-2 div.sk-parallel-item {display: flex;flex-direction: column;z-index: 1;position: relative;background-color: white;}#sk-container-id-2 div.sk-parallel-item:first-child::after {align-self: flex-end;width: 50%;}#sk-container-id-2 div.sk-parallel-item:last-child::after {align-self: flex-start;width: 50%;}#sk-container-id-2 div.sk-parallel-item:only-child::after {width: 0;}#sk-container-id-2 div.sk-dashed-wrapped {border: 1px dashed gray;margin: 0 0.4em 0.5em 0.4em;box-sizing: border-box;padding-bottom: 0.4em;background-color: white;}#sk-container-id-2 div.sk-label label {font-family: monospace;font-weight: bold;display: inline-block;line-height: 1.2em;}#sk-container-id-2 div.sk-label-container {text-align: center;}#sk-container-id-2 div.sk-container {/* jupyter's `normalize.less` sets `[hidden] { display: none; }` but bootstrap.min.css set `[hidden] { display: none !important; }` so we also need the `!important` here to be able to override the default hidden behavior on the sphinx rendered scikit-learn.org. See: https://github.com/scikit-learn/scikit-learn/issues/21755 */display: inline-block !important;position: relative;}#sk-container-id-2 div.sk-text-repr-fallback {display: none;}</style><div id=\"sk-container-id-2\" class=\"sk-top-container\"><div class=\"sk-text-repr-fallback\"><pre>ElasticNet(alpha=0)</pre><b>In a Jupyter environment, please rerun this cell to show the HTML representation or trust the notebook. <br />On GitHub, the HTML representation is unable to render, please try loading this page with nbviewer.org.</b></div><div class=\"sk-container\" hidden><div class=\"sk-item\"><div class=\"sk-estimator sk-toggleable\"><input class=\"sk-toggleable__control sk-hidden--visually\" id=\"sk-estimator-id-2\" type=\"checkbox\" checked><label for=\"sk-estimator-id-2\" class=\"sk-toggleable__label sk-toggleable__label-arrow\">ElasticNet</label><div class=\"sk-toggleable__content\"><pre>ElasticNet(alpha=0)</pre></div></div></div></div></div>"
      ],
      "text/plain": [
       "ElasticNet(alpha=0)"
      ]
     },
     "execution_count": 17,
     "metadata": {},
     "output_type": "execute_result"
    }
   ],
   "source": [
    "# fit the ridge model code from tutorial 2\n",
    "\n",
    "elastic_net_model_ridge = ElasticNet(alpha=0) \n",
    "elastic_net_model_ridge.fit(\n",
    "    df_standard.values, \n",
    "    # flatten the array (from 2d matrix to 1d vector) to remove the warning message:\n",
    "    # A column-vector y was passed when a 1d array was expected.\n",
    "    yellow_sample[y_cols].values.flatten()\n",
    ")"
   ]
  },
  {
   "cell_type": "code",
   "execution_count": 18,
   "id": "87454e24",
   "metadata": {},
   "outputs": [
    {
     "name": "stdout",
     "output_type": "stream",
     "text": [
      "Best lambda value for LASSO: 0.0032187193511177053\n",
      "Best lambda value for Ridge: 0.11301540780402779\n"
     ]
    }
   ],
   "source": [
    "best_lambda_lasso = elastic_net_model_lasso.lambda_best_[0]\n",
    "best_lambda_ridge = elastic_net_model_ridge.lambda_best_[0]\n",
    "\n",
    "print(f'Best lambda value for LASSO:', best_lambda_lasso)\n",
    "print(f'Best lambda value for Ridge:', best_lambda_ridge)\n"
   ]
  },
  {
   "cell_type": "code",
   "execution_count": 20,
   "id": "8dc5b9ae",
   "metadata": {},
   "outputs": [],
   "source": [
    "# drop the tpep pickup and dropoff columns, and categorical columns which have not been indexed\n",
    "\n",
    "yellow = yellow.drop('tpep_pickup_datetime', 'tpep_dropoff_datetime', 'Start(ET)',\n",
    "                     'Win', 'is_weekend')"
   ]
  },
  {
   "cell_type": "code",
   "execution_count": 22,
   "id": "c7daa3c7",
   "metadata": {},
   "outputs": [],
   "source": [
    "# use all 2018 data as a train set\n",
    "\n",
    "# then use the first game of 2019 as the test set\n",
    "\n",
    "yellow_train = yellow.where((F.col('Date') < '2019-01-11'))\n",
    "\n",
    "yellow_test = yellow.where((F.col('Date') == '2019-01-11'))\n"
   ]
  },
  {
   "cell_type": "code",
   "execution_count": 23,
   "id": "e76d4294",
   "metadata": {},
   "outputs": [],
   "source": [
    "# drop Date columns for both train and test\n",
    "\n",
    "yellow_train = yellow_train.drop('Date')\n",
    "\n",
    "yellow_test = yellow_test.drop('Date')"
   ]
  },
  {
   "cell_type": "code",
   "execution_count": 24,
   "id": "f6848a4e",
   "metadata": {},
   "outputs": [
    {
     "name": "stdout",
     "output_type": "stream",
     "text": [
      "22/08/25 16:04:15 WARN package: Truncated the string representation of a plan since it was too large. This behavior can be adjusted by setting 'spark.sql.debug.maxToStringFields'.\n",
      "+--------------------+----------+\n",
      "|            features|tip_amount|\n",
      "+--------------------+----------+\n",
      "|[16.5,0.0,2.56,22...|      4.58|\n",
      "|[5.0,0.0,0.9,7.25...|      1.45|\n",
      "|[4.0,0.0,0.63,5.7...|      0.96|\n",
      "+--------------------+----------+\n",
      "only showing top 3 rows\n",
      "\n"
     ]
    }
   ],
   "source": [
    "# create a vector for the train dataframe ridge model\n",
    "\n",
    "from pyspark.ml.feature import VectorAssembler\n",
    "\n",
    "features = 'features'\n",
    "\n",
    "# use all featuresn\n",
    "input_cols_full = ['fare_amount','tolls_amount', 'trip_distance', 'total_amount', 'is_weekend_binary', 'trip_length', \n",
    "                   'Win_binary','PULocationID', 'DOLocationID', 'pickup_hour', 'dropoff_hour','Attendance', \n",
    "                    'margin_victory/loss', 'Start(ET)_NUMERIC']\n",
    "\n",
    "vectorAssembler_full = VectorAssembler(\n",
    "    inputCols = input_cols_full, \n",
    "    outputCol = features)\n",
    "\n",
    "\n",
    "v_yellow_train_full = vectorAssembler_full.transform(yellow_train.dropna('any'))\n",
    "\n",
    "v_yellow_train_full = v_yellow_train_full.select(['features', 'tip_amount'])\n",
    "\n",
    "v_yellow_train_full.show(3)"
   ]
  },
  {
   "cell_type": "code",
   "execution_count": 25,
   "id": "5339d35c",
   "metadata": {},
   "outputs": [
    {
     "name": "stdout",
     "output_type": "stream",
     "text": [
      "+--------------------+----------+\n",
      "|            features|tip_amount|\n",
      "+--------------------+----------+\n",
      "|[13.0,0.0,2.88,18...|       3.7|\n",
      "|(14,[0,2,3,5,7,8,...|      2.26|\n",
      "|(14,[0,2,3,5,7,8,...|      1.86|\n",
      "+--------------------+----------+\n",
      "only showing top 3 rows\n",
      "\n"
     ]
    }
   ],
   "source": [
    "v_yellow_test_full = vectorAssembler_full.transform(yellow_test.dropna('any'))\n",
    "\n",
    "v_yellow_test_full = v_yellow_test_full.select(['features', 'tip_amount'])\n",
    "\n",
    "v_yellow_test_full.show(3)"
   ]
  },
  {
   "cell_type": "code",
   "execution_count": 26,
   "id": "22e20add",
   "metadata": {},
   "outputs": [
    {
     "name": "stdout",
     "output_type": "stream",
     "text": [
      "22/08/25 16:04:21 WARN InstanceBuilder$NativeBLAS: Failed to load implementation from:dev.ludovic.netlib.blas.JNIBLAS\n",
      "22/08/25 16:04:21 WARN InstanceBuilder$NativeBLAS: Failed to load implementation from:dev.ludovic.netlib.blas.ForeignLinkerBLAS\n"
     ]
    },
    {
     "name": "stderr",
     "output_type": "stream",
     "text": [
      "                                                                                \r"
     ]
    }
   ],
   "source": [
    "# LassoM stands for LASSO model\n",
    "\n",
    "from pyspark.ml.regression import LinearRegression\n",
    "\n",
    "LassoM = LinearRegression(featuresCol = 'features', labelCol = 'tip_amount', \n",
    "                      regParam = best_lambda_lasso, elasticNetParam = 1).fit(v_yellow_train_full)"
   ]
  },
  {
   "cell_type": "code",
   "execution_count": 27,
   "id": "cfa8920c",
   "metadata": {},
   "outputs": [
    {
     "data": {
      "text/html": [
       "<div>\n",
       "<style scoped>\n",
       "    .dataframe tbody tr th:only-of-type {\n",
       "        vertical-align: middle;\n",
       "    }\n",
       "\n",
       "    .dataframe tbody tr th {\n",
       "        vertical-align: top;\n",
       "    }\n",
       "\n",
       "    .dataframe thead th {\n",
       "        text-align: right;\n",
       "    }\n",
       "</style>\n",
       "<table border=\"1\" class=\"dataframe\">\n",
       "  <thead>\n",
       "    <tr style=\"text-align: right;\">\n",
       "      <th></th>\n",
       "      <th>coefficient</th>\n",
       "    </tr>\n",
       "  </thead>\n",
       "  <tbody>\n",
       "    <tr>\n",
       "      <th>intercept</th>\n",
       "      <td>-0.7828</td>\n",
       "    </tr>\n",
       "    <tr>\n",
       "      <th>fare_amount</th>\n",
       "      <td>-0.8181</td>\n",
       "    </tr>\n",
       "    <tr>\n",
       "      <th>tolls_amount</th>\n",
       "      <td>-0.8164</td>\n",
       "    </tr>\n",
       "    <tr>\n",
       "      <th>trip_distance</th>\n",
       "      <td>-0.0360</td>\n",
       "    </tr>\n",
       "    <tr>\n",
       "      <th>total_amount</th>\n",
       "      <td>0.8522</td>\n",
       "    </tr>\n",
       "    <tr>\n",
       "      <th>is_weekend_boolean</th>\n",
       "      <td>0.1261</td>\n",
       "    </tr>\n",
       "    <tr>\n",
       "      <th>trip_length</th>\n",
       "      <td>0.0000</td>\n",
       "    </tr>\n",
       "    <tr>\n",
       "      <th>Win_boolean</th>\n",
       "      <td>0.0000</td>\n",
       "    </tr>\n",
       "    <tr>\n",
       "      <th>PULocationID</th>\n",
       "      <td>0.0001</td>\n",
       "    </tr>\n",
       "    <tr>\n",
       "      <th>DOLocationID</th>\n",
       "      <td>0.0001</td>\n",
       "    </tr>\n",
       "    <tr>\n",
       "      <th>pickup_hour</th>\n",
       "      <td>-0.0096</td>\n",
       "    </tr>\n",
       "    <tr>\n",
       "      <th>dropoff_hour</th>\n",
       "      <td>-0.0063</td>\n",
       "    </tr>\n",
       "    <tr>\n",
       "      <th>Attendance</th>\n",
       "      <td>0.0000</td>\n",
       "    </tr>\n",
       "    <tr>\n",
       "      <th>margin_victory/loss</th>\n",
       "      <td>0.0000</td>\n",
       "    </tr>\n",
       "    <tr>\n",
       "      <th>Start(ET)_NUMERIC</th>\n",
       "      <td>0.0005</td>\n",
       "    </tr>\n",
       "  </tbody>\n",
       "</table>\n",
       "</div>"
      ],
      "text/plain": [
       "                     coefficient\n",
       "intercept                -0.7828\n",
       "fare_amount              -0.8181\n",
       "tolls_amount             -0.8164\n",
       "trip_distance            -0.0360\n",
       "total_amount              0.8522\n",
       "is_weekend_boolean        0.1261\n",
       "trip_length               0.0000\n",
       "Win_boolean               0.0000\n",
       "PULocationID              0.0001\n",
       "DOLocationID              0.0001\n",
       "pickup_hour              -0.0096\n",
       "dropoff_hour             -0.0063\n",
       "Attendance                0.0000\n",
       "margin_victory/loss       0.0000\n",
       "Start(ET)_NUMERIC         0.0005"
      ]
     },
     "execution_count": 27,
     "metadata": {},
     "output_type": "execute_result"
    }
   ],
   "source": [
    "#coefficients for LASSO regression\n",
    "\n",
    "pd.DataFrame(\n",
    "    data=[LassoM.intercept] + list(LassoM.coefficients),\n",
    "    index=['intercept'] + input_cols_full,\n",
    "    columns=['coefficient']\n",
    ")\n",
    "\n",
    "# based on LASSO, Attendance, margin_victory/loss, dropoff_hour, and trip_length are all irrelevant"
   ]
  },
  {
   "cell_type": "code",
   "execution_count": 28,
   "id": "e9d04491",
   "metadata": {},
   "outputs": [
    {
     "name": "stdout",
     "output_type": "stream",
     "text": [
      "RMSE: 0.333291\n",
      "r2: 0.933292\n",
      "MSE: 0.111083\n",
      "MAE: 0.262705\n"
     ]
    }
   ],
   "source": [
    "trainingSummary_LassoM = LassoM.summary\n",
    "\n",
    "print(\"RMSE: %f\" % trainingSummary_LassoM.rootMeanSquaredError)\n",
    "print(\"r2: %f\" % trainingSummary_LassoM.r2)\n",
    "print(\"MSE: %f\" % trainingSummary_LassoM.meanSquaredError)\n",
    "print(\"MAE: %f\" % trainingSummary_LassoM.meanAbsoluteError)\n"
   ]
  },
  {
   "cell_type": "code",
   "execution_count": 29,
   "id": "173741f4",
   "metadata": {},
   "outputs": [
    {
     "name": "stderr",
     "output_type": "stream",
     "text": [
      "\r",
      "[Stage 16:===================>                                      (3 + 6) / 9]\r",
      "\r",
      "[Stage 16:======================================>                   (6 + 3) / 9]\r"
     ]
    },
    {
     "name": "stdout",
     "output_type": "stream",
     "text": [
      "+-------+-----------------+\n",
      "|summary|       tip_amount|\n",
      "+-------+-----------------+\n",
      "|  count|          2398168|\n",
      "|   mean|2.042468496785995|\n",
      "| stddev|1.290430556720419|\n",
      "|    min|              0.0|\n",
      "|    max|            411.0|\n",
      "+-------+-----------------+\n",
      "\n"
     ]
    },
    {
     "name": "stderr",
     "output_type": "stream",
     "text": [
      "\r",
      "                                                                                \r"
     ]
    }
   ],
   "source": [
    "v_yellow_train_full.describe().show()"
   ]
  },
  {
   "cell_type": "code",
   "execution_count": 32,
   "id": "75b2334a",
   "metadata": {},
   "outputs": [
    {
     "name": "stdout",
     "output_type": "stream",
     "text": [
      "+--------------------+----------+\n",
      "|            features|tip_amount|\n",
      "+--------------------+----------+\n",
      "|[16.5,2.56,22.88,...|      4.58|\n",
      "|[5.0,0.9,7.25,0.0...|      1.45|\n",
      "|[4.0,0.63,5.76,0....|      0.96|\n",
      "+--------------------+----------+\n",
      "only showing top 3 rows\n",
      "\n"
     ]
    }
   ],
   "source": [
    "features = 'features'\n",
    "\n",
    "# features selected after selection through LASSO\n",
    "input_cols_reduced = ['fare_amount', 'trip_distance', 'total_amount', 'tolls_amount', 'is_weekend_binary',\n",
    "                     'PULocationID', 'DOLocationID', 'pickup_hour','dropoff_hour', 'Start(ET)_NUMERIC']\n",
    "\n",
    "\n",
    "vectorAssembler_reduced = VectorAssembler(\n",
    "    inputCols = input_cols_reduced, \n",
    "    outputCol = features)\n",
    "\n",
    "\n",
    "v_yellow_train_reduced = vectorAssembler_reduced.transform(yellow_train.dropna('any'))\n",
    "\n",
    "v_yellow_train_reduced = v_yellow_train_reduced.select(['features', 'tip_amount'])\n",
    "\n",
    "v_yellow_train_reduced.show(3)"
   ]
  },
  {
   "cell_type": "code",
   "execution_count": 33,
   "id": "0ed5781a",
   "metadata": {},
   "outputs": [
    {
     "name": "stdout",
     "output_type": "stream",
     "text": [
      "+--------------------+----------+\n",
      "|            features|tip_amount|\n",
      "+--------------------+----------+\n",
      "|[13.0,2.88,18.5,0...|       3.7|\n",
      "|(10,[0,1,2,5,6],[...|      2.26|\n",
      "|(10,[0,1,2,5,6],[...|      1.86|\n",
      "+--------------------+----------+\n",
      "only showing top 3 rows\n",
      "\n"
     ]
    }
   ],
   "source": [
    "v_yellow_test_reduced = vectorAssembler_reduced.transform(yellow_test.dropna('any'))\n",
    "\n",
    "v_yellow_test_reduced = v_yellow_test_reduced.select(['features', 'tip_amount'])\n",
    "\n",
    "v_yellow_test_reduced.show(3)"
   ]
  },
  {
   "cell_type": "code",
   "execution_count": 34,
   "id": "27db5708",
   "metadata": {},
   "outputs": [
    {
     "name": "stdout",
     "output_type": "stream",
     "text": [
      "22/08/25 16:07:04 WARN Instrumentation: [fce5c780] regParam is zero, which might cause numerical instability and overfitting.\n"
     ]
    },
    {
     "name": "stderr",
     "output_type": "stream",
     "text": [
      "                                                                                \r"
     ]
    },
    {
     "name": "stdout",
     "output_type": "stream",
     "text": [
      "22/08/25 16:07:06 WARN InstanceBuilder$NativeLAPACK: Failed to load implementation from:dev.ludovic.netlib.lapack.JNILAPACK\n"
     ]
    },
    {
     "name": "stderr",
     "output_type": "stream",
     "text": [
      "                                                                                \r"
     ]
    }
   ],
   "source": [
    "lm = LinearRegression(featuresCol='features', labelCol = 'tip_amount').fit(v_yellow_train_reduced)"
   ]
  },
  {
   "cell_type": "code",
   "execution_count": 35,
   "id": "18e91e7d",
   "metadata": {},
   "outputs": [
    {
     "data": {
      "text/html": [
       "<div>\n",
       "<style scoped>\n",
       "    .dataframe tbody tr th:only-of-type {\n",
       "        vertical-align: middle;\n",
       "    }\n",
       "\n",
       "    .dataframe tbody tr th {\n",
       "        vertical-align: top;\n",
       "    }\n",
       "\n",
       "    .dataframe thead th {\n",
       "        text-align: right;\n",
       "    }\n",
       "</style>\n",
       "<table border=\"1\" class=\"dataframe\">\n",
       "  <thead>\n",
       "    <tr style=\"text-align: right;\">\n",
       "      <th></th>\n",
       "      <th>coefficient</th>\n",
       "    </tr>\n",
       "  </thead>\n",
       "  <tbody>\n",
       "    <tr>\n",
       "      <th>intercept</th>\n",
       "      <td>-0.8346</td>\n",
       "    </tr>\n",
       "    <tr>\n",
       "      <th>fare_amount</th>\n",
       "      <td>-0.8597</td>\n",
       "    </tr>\n",
       "    <tr>\n",
       "      <th>trip_distance</th>\n",
       "      <td>-0.0392</td>\n",
       "    </tr>\n",
       "    <tr>\n",
       "      <th>total_amount</th>\n",
       "      <td>0.8881</td>\n",
       "    </tr>\n",
       "    <tr>\n",
       "      <th>tolls_amount</th>\n",
       "      <td>-0.8666</td>\n",
       "    </tr>\n",
       "    <tr>\n",
       "      <th>is_weekend_boolean</th>\n",
       "      <td>0.1391</td>\n",
       "    </tr>\n",
       "    <tr>\n",
       "      <th>PULocationID</th>\n",
       "      <td>0.0001</td>\n",
       "    </tr>\n",
       "    <tr>\n",
       "      <th>DOLocationID</th>\n",
       "      <td>0.0002</td>\n",
       "    </tr>\n",
       "    <tr>\n",
       "      <th>pickup_hour</th>\n",
       "      <td>-0.0239</td>\n",
       "    </tr>\n",
       "    <tr>\n",
       "      <th>dropoff_hour</th>\n",
       "      <td>0.0066</td>\n",
       "    </tr>\n",
       "    <tr>\n",
       "      <th>Start(ET)_NUMERIC</th>\n",
       "      <td>0.0029</td>\n",
       "    </tr>\n",
       "  </tbody>\n",
       "</table>\n",
       "</div>"
      ],
      "text/plain": [
       "                    coefficient\n",
       "intercept               -0.8346\n",
       "fare_amount             -0.8597\n",
       "trip_distance           -0.0392\n",
       "total_amount             0.8881\n",
       "tolls_amount            -0.8666\n",
       "is_weekend_boolean       0.1391\n",
       "PULocationID             0.0001\n",
       "DOLocationID             0.0002\n",
       "pickup_hour             -0.0239\n",
       "dropoff_hour             0.0066\n",
       "Start(ET)_NUMERIC        0.0029"
      ]
     },
     "execution_count": 35,
     "metadata": {},
     "output_type": "execute_result"
    }
   ],
   "source": [
    "pd.DataFrame(\n",
    "    data=[lm.intercept] + list(lm.coefficients),\n",
    "    index=['intercept'] + input_cols_reduced,\n",
    "    columns=['coefficient']\n",
    ")"
   ]
  },
  {
   "cell_type": "code",
   "execution_count": 37,
   "id": "90342f24",
   "metadata": {},
   "outputs": [
    {
     "name": "stdout",
     "output_type": "stream",
     "text": [
      "RMSE: 0.330728\n",
      "r2: 0.934314\n",
      "MSE: 0.109381\n",
      "MAE: 0.266606\n"
     ]
    }
   ],
   "source": [
    "trainingSummary_lm = lm.summary\n",
    "\n",
    "print(\"RMSE: %f\" % trainingSummary_lm.rootMeanSquaredError)\n",
    "print(\"r2: %f\" % trainingSummary_lm.r2)\n",
    "print(\"MSE: %f\" % trainingSummary_lm.meanSquaredError)\n",
    "print(\"MAE: %f\" % trainingSummary_lm.meanAbsoluteError)\n"
   ]
  },
  {
   "cell_type": "code",
   "execution_count": 38,
   "id": "9014f1c4",
   "metadata": {},
   "outputs": [
    {
     "name": "stdout",
     "output_type": "stream",
     "text": [
      "+------------------+----------+--------------------+\n",
      "|        prediction|tip_amount|            features|\n",
      "+------------------+----------+--------------------+\n",
      "|  4.23433509619992|       3.7|[13.0,2.88,18.5,0...|\n",
      "|2.5591914948221306|      2.26|(10,[0,1,2,5,6],[...|\n",
      "|2.1824115482452453|      1.86|(10,[0,1,2,5,6],[...|\n",
      "| 2.713104899806294|      2.49|(10,[0,1,2,5,6],[...|\n",
      "| 4.304380112562949|      4.06|(10,[0,1,2,5,6],[...|\n",
      "+------------------+----------+--------------------+\n",
      "only showing top 5 rows\n",
      "\n"
     ]
    }
   ],
   "source": [
    "from pyspark.ml.evaluation import RegressionEvaluator\n",
    "\n",
    "\n",
    "lm_predictions = lm.transform(v_yellow_test_reduced)\n",
    "lm_predictions.select(\"prediction\",\"tip_amount\",\"features\").show(5)"
   ]
  },
  {
   "cell_type": "code",
   "execution_count": 39,
   "id": "e85f443f",
   "metadata": {},
   "outputs": [
    {
     "name": "stderr",
     "output_type": "stream",
     "text": [
      "\r",
      "[Stage 30:===================================================>      (8 + 1) / 9]\r"
     ]
    },
    {
     "name": "stdout",
     "output_type": "stream",
     "text": [
      "R Squared (R2) on test data = 0.931308\n",
      "Root Mean Squared Error (RMSE) on test data = 0.352211\n",
      "Mean Squared Error (MSE) on test data = 0.124052\n",
      "Mean Absolute Error (MAE) on test data = 0.286736\n"
     ]
    },
    {
     "name": "stderr",
     "output_type": "stream",
     "text": [
      "\r",
      "                                                                                \r"
     ]
    }
   ],
   "source": [
    "test_result_lm = lm.evaluate(v_yellow_test_reduced)\n",
    "\n",
    "print(\"R Squared (R2) on test data = %g\" % test_result_lm.r2)\n",
    "print(\"Root Mean Squared Error (RMSE) on test data = %g\" % test_result_lm.rootMeanSquaredError)\n",
    "print(\"Mean Squared Error (MSE) on test data = %g\" % test_result_lm.meanSquaredError)\n",
    "print(\"Mean Absolute Error (MAE) on test data = %g\" % test_result_lm.meanAbsoluteError)"
   ]
  },
  {
   "cell_type": "code",
   "execution_count": 40,
   "id": "520e05a4",
   "metadata": {},
   "outputs": [
    {
     "name": "stderr",
     "output_type": "stream",
     "text": [
      "                                                                                \r"
     ]
    }
   ],
   "source": [
    "# rm stands for ridge model\n",
    "\n",
    "rm = LinearRegression(featuresCol = 'features', labelCol = 'tip_amount', \n",
    "                      regParam = best_lambda_ridge, elasticNetParam = 0).fit(v_yellow_train_full)"
   ]
  },
  {
   "cell_type": "code",
   "execution_count": 41,
   "id": "e2a5efb9",
   "metadata": {},
   "outputs": [
    {
     "data": {
      "text/html": [
       "<div>\n",
       "<style scoped>\n",
       "    .dataframe tbody tr th:only-of-type {\n",
       "        vertical-align: middle;\n",
       "    }\n",
       "\n",
       "    .dataframe tbody tr th {\n",
       "        vertical-align: top;\n",
       "    }\n",
       "\n",
       "    .dataframe thead th {\n",
       "        text-align: right;\n",
       "    }\n",
       "</style>\n",
       "<table border=\"1\" class=\"dataframe\">\n",
       "  <thead>\n",
       "    <tr style=\"text-align: right;\">\n",
       "      <th></th>\n",
       "      <th>coefficient</th>\n",
       "    </tr>\n",
       "  </thead>\n",
       "  <tbody>\n",
       "    <tr>\n",
       "      <th>intercept</th>\n",
       "      <td>-0.0753</td>\n",
       "    </tr>\n",
       "    <tr>\n",
       "      <th>fare_amount</th>\n",
       "      <td>-0.0926</td>\n",
       "    </tr>\n",
       "    <tr>\n",
       "      <th>tolls_amount</th>\n",
       "      <td>-0.1027</td>\n",
       "    </tr>\n",
       "    <tr>\n",
       "      <th>trip_distance</th>\n",
       "      <td>-0.0599</td>\n",
       "    </tr>\n",
       "    <tr>\n",
       "      <th>total_amount</th>\n",
       "      <td>0.2495</td>\n",
       "    </tr>\n",
       "    <tr>\n",
       "      <th>is_weekend_boolean</th>\n",
       "      <td>0.0006</td>\n",
       "    </tr>\n",
       "    <tr>\n",
       "      <th>trip_length</th>\n",
       "      <td>-0.0058</td>\n",
       "    </tr>\n",
       "    <tr>\n",
       "      <th>Win_boolean</th>\n",
       "      <td>0.0003</td>\n",
       "    </tr>\n",
       "    <tr>\n",
       "      <th>PULocationID</th>\n",
       "      <td>0.0001</td>\n",
       "    </tr>\n",
       "    <tr>\n",
       "      <th>DOLocationID</th>\n",
       "      <td>0.0001</td>\n",
       "    </tr>\n",
       "    <tr>\n",
       "      <th>pickup_hour</th>\n",
       "      <td>-0.0004</td>\n",
       "    </tr>\n",
       "    <tr>\n",
       "      <th>dropoff_hour</th>\n",
       "      <td>-0.0006</td>\n",
       "    </tr>\n",
       "    <tr>\n",
       "      <th>Attendance</th>\n",
       "      <td>-0.0000</td>\n",
       "    </tr>\n",
       "    <tr>\n",
       "      <th>margin_victory/loss</th>\n",
       "      <td>-0.0002</td>\n",
       "    </tr>\n",
       "    <tr>\n",
       "      <th>Start(ET)_NUMERIC</th>\n",
       "      <td>0.0002</td>\n",
       "    </tr>\n",
       "  </tbody>\n",
       "</table>\n",
       "</div>"
      ],
      "text/plain": [
       "                     coefficient\n",
       "intercept                -0.0753\n",
       "fare_amount              -0.0926\n",
       "tolls_amount             -0.1027\n",
       "trip_distance            -0.0599\n",
       "total_amount              0.2495\n",
       "is_weekend_boolean        0.0006\n",
       "trip_length              -0.0058\n",
       "Win_boolean               0.0003\n",
       "PULocationID              0.0001\n",
       "DOLocationID              0.0001\n",
       "pickup_hour              -0.0004\n",
       "dropoff_hour             -0.0006\n",
       "Attendance               -0.0000\n",
       "margin_victory/loss      -0.0002\n",
       "Start(ET)_NUMERIC         0.0002"
      ]
     },
     "execution_count": 41,
     "metadata": {},
     "output_type": "execute_result"
    }
   ],
   "source": [
    "pd.DataFrame(\n",
    "    data=[rm.intercept] + list(rm.coefficients),\n",
    "    index=['intercept'] + input_cols_full,\n",
    "    columns=['coefficient']\n",
    ")"
   ]
  },
  {
   "cell_type": "code",
   "execution_count": 42,
   "id": "8defd978",
   "metadata": {},
   "outputs": [
    {
     "name": "stdout",
     "output_type": "stream",
     "text": [
      "RMSE: 0.792833\n",
      "r2: 0.622520\n",
      "MSE: 0.628584\n",
      "MAE: 0.402514\n"
     ]
    }
   ],
   "source": [
    "trainingSummary_rm = rm.summary\n",
    "\n",
    "print(\"RMSE: %f\" % trainingSummary_rm.rootMeanSquaredError)\n",
    "print(\"r2: %f\" % trainingSummary_rm.r2)\n",
    "print(\"MSE: %f\" % trainingSummary_rm.meanSquaredError)\n",
    "print(\"MAE: %f\" % trainingSummary_rm.meanAbsoluteError)\n"
   ]
  },
  {
   "cell_type": "code",
   "execution_count": 43,
   "id": "0c7716a1",
   "metadata": {},
   "outputs": [
    {
     "name": "stdout",
     "output_type": "stream",
     "text": [
      "+------------------+----------+--------------------+\n",
      "|        prediction|tip_amount|            features|\n",
      "+------------------+----------+--------------------+\n",
      "|3.0218192860164197|       3.7|[13.0,0.0,2.88,18...|\n",
      "|2.1321807034003672|      2.26|(14,[0,2,3,5,7,8,...|\n",
      "|1.7744462009012867|      1.86|(14,[0,2,3,5,7,8,...|\n",
      "|1.7925143205911493|      2.49|(14,[0,2,3,5,7,8,...|\n",
      "| 3.782685029998886|      4.06|(14,[0,2,3,5,7,8,...|\n",
      "+------------------+----------+--------------------+\n",
      "only showing top 5 rows\n",
      "\n"
     ]
    }
   ],
   "source": [
    "rm_predictions = rm.transform(v_yellow_test_full)\n",
    "rm_predictions.select(\"prediction\",\"tip_amount\",\"features\").show(5)"
   ]
  },
  {
   "cell_type": "code",
   "execution_count": 44,
   "id": "29bf91fc",
   "metadata": {},
   "outputs": [
    {
     "name": "stderr",
     "output_type": "stream",
     "text": [
      "\r",
      "[Stage 39:===================================================>      (8 + 1) / 9]\r"
     ]
    },
    {
     "name": "stdout",
     "output_type": "stream",
     "text": [
      "R Squared (R2) on test data = 0.595039\n",
      "Root Mean Squared Error (RMSE) on test data = 0.855176\n",
      "Mean Squared Error (MSE) on test data = 0.731325\n",
      "Mean Absolute Error (MAE) on test data = 0.37337\n"
     ]
    },
    {
     "name": "stderr",
     "output_type": "stream",
     "text": [
      "\r",
      "                                                                                \r"
     ]
    }
   ],
   "source": [
    "test_result_rm = rm.evaluate(v_yellow_test_full)\n",
    "\n",
    "print(\"R Squared (R2) on test data = %g\" % test_result_rm.r2)\n",
    "print(\"Root Mean Squared Error (RMSE) on test data = %g\" % test_result_rm.rootMeanSquaredError)\n",
    "print(\"Mean Squared Error (MSE) on test data = %g\" % test_result_rm.meanSquaredError)\n",
    "print(\"Mean Absolute Error (MAE) on test data = %g\" % test_result_rm.meanAbsoluteError)"
   ]
  },
  {
   "cell_type": "code",
   "execution_count": null,
   "id": "903190ed",
   "metadata": {},
   "outputs": [],
   "source": []
  }
 ],
 "metadata": {
  "kernelspec": {
   "display_name": "Python 3 (ipykernel)",
   "language": "python",
   "name": "python3"
  },
  "language_info": {
   "codemirror_mode": {
    "name": "ipython",
    "version": 3
   },
   "file_extension": ".py",
   "mimetype": "text/x-python",
   "name": "python",
   "nbconvert_exporter": "python",
   "pygments_lexer": "ipython3",
   "version": "3.8.10"
  }
 },
 "nbformat": 4,
 "nbformat_minor": 5
}
