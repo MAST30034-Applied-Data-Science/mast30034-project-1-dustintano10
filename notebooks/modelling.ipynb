{
 "cells": [
  {
   "cell_type": "code",
   "execution_count": 1,
   "id": "b7b7c16c",
   "metadata": {},
   "outputs": [
    {
     "name": "stdout",
     "output_type": "stream",
     "text": [
      "22/08/26 01:49:21 WARN Utils: Your hostname, DESKTOP-3ADPNV0 resolves to a loopback address: 127.0.1.1; using 172.25.27.116 instead (on interface eth0)\n",
      "22/08/26 01:49:21 WARN Utils: Set SPARK_LOCAL_IP if you need to bind to another address\n"
     ]
    },
    {
     "name": "stderr",
     "output_type": "stream",
     "text": [
      "Setting default log level to \"WARN\".\n",
      "To adjust logging level use sc.setLogLevel(newLevel). For SparkR, use setLogLevel(newLevel).\n"
     ]
    },
    {
     "name": "stdout",
     "output_type": "stream",
     "text": [
      "22/08/26 01:49:23 WARN NativeCodeLoader: Unable to load native-hadoop library for your platform... using builtin-java classes where applicable\n",
      "22/08/26 01:49:25 WARN Utils: Service 'SparkUI' could not bind on port 4040. Attempting port 4041.\n"
     ]
    }
   ],
   "source": [
    "from pyspark.sql import SparkSession, functions as F\n",
    "from pyspark.sql.functions import *\n",
    "\n",
    "# Cell to create a spark session\n",
    "spark = (\n",
    "    SparkSession.builder.appName(\"MAST30034 ASSIGNMENT 1 DUSTIN\")\n",
    "    .config(\"spark.sql.repl.eagerEval.enabled\", True) \n",
    "    .config(\"spark.sql.parquet.cacheMetadata\", \"true\")\n",
    "    .config(\"spark.sql.session.timeZone\", \"Etc/UTC\")\n",
    "    .config(\"spark.executor.memory\", \"2g\")\n",
    "    .config(\"spark.driver.memory\", \"4g\")\n",
    "    .getOrCreate()\n",
    ")"
   ]
  },
  {
   "cell_type": "code",
   "execution_count": 2,
   "id": "61d0a36a",
   "metadata": {},
   "outputs": [],
   "source": [
    "import pandas as pd\n",
    "import statsmodels.api as sm"
   ]
  },
  {
   "cell_type": "code",
   "execution_count": 3,
   "id": "0d040657",
   "metadata": {},
   "outputs": [
    {
     "name": "stderr",
     "output_type": "stream",
     "text": [
      "                                                                                \r"
     ]
    }
   ],
   "source": [
    "yellow = spark.read.parquet('../../mast30034-project-1-dustintano10/data/curated/yellow/yellow_indexed')\n",
    "yellow_sample = pd.read_parquet('../../mast30034-project-1-dustintano10/data/curated/yellow/yellow_sample')"
   ]
  },
  {
   "cell_type": "code",
   "execution_count": 4,
   "id": "e931d3ce",
   "metadata": {},
   "outputs": [
    {
     "data": {
      "text/html": [
       "<div>\n",
       "<style scoped>\n",
       "    .dataframe tbody tr th:only-of-type {\n",
       "        vertical-align: middle;\n",
       "    }\n",
       "\n",
       "    .dataframe tbody tr th {\n",
       "        vertical-align: top;\n",
       "    }\n",
       "\n",
       "    .dataframe thead th {\n",
       "        text-align: right;\n",
       "    }\n",
       "</style>\n",
       "<table border=\"1\" class=\"dataframe\">\n",
       "  <thead>\n",
       "    <tr style=\"text-align: right;\">\n",
       "      <th></th>\n",
       "      <th>tpep_pickup_datetime</th>\n",
       "      <th>tpep_dropoff_datetime</th>\n",
       "      <th>trip_distance</th>\n",
       "      <th>PULocationID</th>\n",
       "      <th>DOLocationID</th>\n",
       "      <th>fare_amount</th>\n",
       "      <th>tip_amount</th>\n",
       "      <th>tolls_amount</th>\n",
       "      <th>total_amount</th>\n",
       "      <th>is_weekend</th>\n",
       "      <th>...</th>\n",
       "      <th>Date</th>\n",
       "      <th>Start(ET)</th>\n",
       "      <th>Attendance</th>\n",
       "      <th>Win</th>\n",
       "      <th>margin_victory/loss</th>\n",
       "      <th>pickup_hour</th>\n",
       "      <th>dropoff_hour</th>\n",
       "      <th>is_weekend_binary</th>\n",
       "      <th>Win_binary</th>\n",
       "      <th>Start(ET)_NUMERIC</th>\n",
       "    </tr>\n",
       "  </thead>\n",
       "  <tbody>\n",
       "    <tr>\n",
       "      <th>0</th>\n",
       "      <td>2018-12-25 09:08:51</td>\n",
       "      <td>2018-12-25 09:13:27</td>\n",
       "      <td>0.90</td>\n",
       "      <td>163</td>\n",
       "      <td>162</td>\n",
       "      <td>5.0</td>\n",
       "      <td>1.45</td>\n",
       "      <td>0.0</td>\n",
       "      <td>7.25</td>\n",
       "      <td>False</td>\n",
       "      <td>...</td>\n",
       "      <td>2018-12-25</td>\n",
       "      <td>12:00</td>\n",
       "      <td>19812</td>\n",
       "      <td>No</td>\n",
       "      <td>-14</td>\n",
       "      <td>9</td>\n",
       "      <td>9</td>\n",
       "      <td>0</td>\n",
       "      <td>0</td>\n",
       "      <td>1.0</td>\n",
       "    </tr>\n",
       "    <tr>\n",
       "      <th>1</th>\n",
       "      <td>2018-12-25 17:03:49</td>\n",
       "      <td>2018-12-25 17:07:48</td>\n",
       "      <td>0.83</td>\n",
       "      <td>237</td>\n",
       "      <td>141</td>\n",
       "      <td>5.0</td>\n",
       "      <td>2.00</td>\n",
       "      <td>0.0</td>\n",
       "      <td>7.80</td>\n",
       "      <td>False</td>\n",
       "      <td>...</td>\n",
       "      <td>2018-12-25</td>\n",
       "      <td>12:00</td>\n",
       "      <td>19812</td>\n",
       "      <td>No</td>\n",
       "      <td>-14</td>\n",
       "      <td>17</td>\n",
       "      <td>17</td>\n",
       "      <td>0</td>\n",
       "      <td>0</td>\n",
       "      <td>1.0</td>\n",
       "    </tr>\n",
       "    <tr>\n",
       "      <th>2</th>\n",
       "      <td>2018-12-25 00:01:04</td>\n",
       "      <td>2018-12-25 00:14:19</td>\n",
       "      <td>2.44</td>\n",
       "      <td>230</td>\n",
       "      <td>141</td>\n",
       "      <td>11.0</td>\n",
       "      <td>2.46</td>\n",
       "      <td>0.0</td>\n",
       "      <td>14.76</td>\n",
       "      <td>False</td>\n",
       "      <td>...</td>\n",
       "      <td>2018-12-25</td>\n",
       "      <td>12:00</td>\n",
       "      <td>19812</td>\n",
       "      <td>No</td>\n",
       "      <td>-14</td>\n",
       "      <td>0</td>\n",
       "      <td>0</td>\n",
       "      <td>0</td>\n",
       "      <td>0</td>\n",
       "      <td>1.0</td>\n",
       "    </tr>\n",
       "    <tr>\n",
       "      <th>3</th>\n",
       "      <td>2018-12-25 00:48:10</td>\n",
       "      <td>2018-12-25 00:53:35</td>\n",
       "      <td>1.20</td>\n",
       "      <td>163</td>\n",
       "      <td>50</td>\n",
       "      <td>6.0</td>\n",
       "      <td>1.45</td>\n",
       "      <td>0.0</td>\n",
       "      <td>8.75</td>\n",
       "      <td>False</td>\n",
       "      <td>...</td>\n",
       "      <td>2018-12-25</td>\n",
       "      <td>12:00</td>\n",
       "      <td>19812</td>\n",
       "      <td>No</td>\n",
       "      <td>-14</td>\n",
       "      <td>0</td>\n",
       "      <td>0</td>\n",
       "      <td>0</td>\n",
       "      <td>0</td>\n",
       "      <td>1.0</td>\n",
       "    </tr>\n",
       "    <tr>\n",
       "      <th>4</th>\n",
       "      <td>2018-12-25 00:29:09</td>\n",
       "      <td>2018-12-25 00:46:08</td>\n",
       "      <td>3.80</td>\n",
       "      <td>239</td>\n",
       "      <td>137</td>\n",
       "      <td>14.5</td>\n",
       "      <td>3.15</td>\n",
       "      <td>0.0</td>\n",
       "      <td>18.95</td>\n",
       "      <td>False</td>\n",
       "      <td>...</td>\n",
       "      <td>2018-12-25</td>\n",
       "      <td>12:00</td>\n",
       "      <td>19812</td>\n",
       "      <td>No</td>\n",
       "      <td>-14</td>\n",
       "      <td>0</td>\n",
       "      <td>0</td>\n",
       "      <td>0</td>\n",
       "      <td>0</td>\n",
       "      <td>1.0</td>\n",
       "    </tr>\n",
       "    <tr>\n",
       "      <th>...</th>\n",
       "      <td>...</td>\n",
       "      <td>...</td>\n",
       "      <td>...</td>\n",
       "      <td>...</td>\n",
       "      <td>...</td>\n",
       "      <td>...</td>\n",
       "      <td>...</td>\n",
       "      <td>...</td>\n",
       "      <td>...</td>\n",
       "      <td>...</td>\n",
       "      <td>...</td>\n",
       "      <td>...</td>\n",
       "      <td>...</td>\n",
       "      <td>...</td>\n",
       "      <td>...</td>\n",
       "      <td>...</td>\n",
       "      <td>...</td>\n",
       "      <td>...</td>\n",
       "      <td>...</td>\n",
       "      <td>...</td>\n",
       "      <td>...</td>\n",
       "    </tr>\n",
       "    <tr>\n",
       "      <th>640635</th>\n",
       "      <td>2019-03-24 10:45:31</td>\n",
       "      <td>2019-03-24 10:50:46</td>\n",
       "      <td>0.80</td>\n",
       "      <td>68</td>\n",
       "      <td>90</td>\n",
       "      <td>5.5</td>\n",
       "      <td>0.00</td>\n",
       "      <td>0.0</td>\n",
       "      <td>6.80</td>\n",
       "      <td>True</td>\n",
       "      <td>...</td>\n",
       "      <td>2019-03-24</td>\n",
       "      <td>12:00</td>\n",
       "      <td>18263</td>\n",
       "      <td>No</td>\n",
       "      <td>-11</td>\n",
       "      <td>10</td>\n",
       "      <td>10</td>\n",
       "      <td>1</td>\n",
       "      <td>0</td>\n",
       "      <td>1.0</td>\n",
       "    </tr>\n",
       "    <tr>\n",
       "      <th>640636</th>\n",
       "      <td>2019-03-24 11:19:25</td>\n",
       "      <td>2019-03-24 11:31:21</td>\n",
       "      <td>1.86</td>\n",
       "      <td>48</td>\n",
       "      <td>170</td>\n",
       "      <td>9.5</td>\n",
       "      <td>2.50</td>\n",
       "      <td>0.0</td>\n",
       "      <td>15.80</td>\n",
       "      <td>True</td>\n",
       "      <td>...</td>\n",
       "      <td>2019-03-24</td>\n",
       "      <td>12:00</td>\n",
       "      <td>18263</td>\n",
       "      <td>No</td>\n",
       "      <td>-11</td>\n",
       "      <td>11</td>\n",
       "      <td>11</td>\n",
       "      <td>1</td>\n",
       "      <td>0</td>\n",
       "      <td>1.0</td>\n",
       "    </tr>\n",
       "    <tr>\n",
       "      <th>640637</th>\n",
       "      <td>2019-03-24 21:37:18</td>\n",
       "      <td>2019-03-24 21:41:17</td>\n",
       "      <td>1.02</td>\n",
       "      <td>162</td>\n",
       "      <td>107</td>\n",
       "      <td>5.5</td>\n",
       "      <td>2.20</td>\n",
       "      <td>0.0</td>\n",
       "      <td>11.00</td>\n",
       "      <td>True</td>\n",
       "      <td>...</td>\n",
       "      <td>2019-03-24</td>\n",
       "      <td>12:00</td>\n",
       "      <td>18263</td>\n",
       "      <td>No</td>\n",
       "      <td>-11</td>\n",
       "      <td>21</td>\n",
       "      <td>21</td>\n",
       "      <td>1</td>\n",
       "      <td>0</td>\n",
       "      <td>1.0</td>\n",
       "    </tr>\n",
       "    <tr>\n",
       "      <th>640638</th>\n",
       "      <td>2019-03-24 22:54:38</td>\n",
       "      <td>2019-03-24 22:59:38</td>\n",
       "      <td>0.69</td>\n",
       "      <td>236</td>\n",
       "      <td>141</td>\n",
       "      <td>5.0</td>\n",
       "      <td>0.70</td>\n",
       "      <td>0.0</td>\n",
       "      <td>9.00</td>\n",
       "      <td>True</td>\n",
       "      <td>...</td>\n",
       "      <td>2019-03-24</td>\n",
       "      <td>12:00</td>\n",
       "      <td>18263</td>\n",
       "      <td>No</td>\n",
       "      <td>-11</td>\n",
       "      <td>22</td>\n",
       "      <td>22</td>\n",
       "      <td>1</td>\n",
       "      <td>0</td>\n",
       "      <td>1.0</td>\n",
       "    </tr>\n",
       "    <tr>\n",
       "      <th>640639</th>\n",
       "      <td>2019-03-24 14:50:54</td>\n",
       "      <td>2019-03-24 14:58:31</td>\n",
       "      <td>1.27</td>\n",
       "      <td>163</td>\n",
       "      <td>143</td>\n",
       "      <td>7.0</td>\n",
       "      <td>1.00</td>\n",
       "      <td>0.0</td>\n",
       "      <td>11.30</td>\n",
       "      <td>True</td>\n",
       "      <td>...</td>\n",
       "      <td>2019-03-24</td>\n",
       "      <td>12:00</td>\n",
       "      <td>18263</td>\n",
       "      <td>No</td>\n",
       "      <td>-11</td>\n",
       "      <td>14</td>\n",
       "      <td>14</td>\n",
       "      <td>1</td>\n",
       "      <td>0</td>\n",
       "      <td>1.0</td>\n",
       "    </tr>\n",
       "  </tbody>\n",
       "</table>\n",
       "<p>640640 rows × 21 columns</p>\n",
       "</div>"
      ],
      "text/plain": [
       "       tpep_pickup_datetime tpep_dropoff_datetime  trip_distance  \\\n",
       "0       2018-12-25 09:08:51   2018-12-25 09:13:27           0.90   \n",
       "1       2018-12-25 17:03:49   2018-12-25 17:07:48           0.83   \n",
       "2       2018-12-25 00:01:04   2018-12-25 00:14:19           2.44   \n",
       "3       2018-12-25 00:48:10   2018-12-25 00:53:35           1.20   \n",
       "4       2018-12-25 00:29:09   2018-12-25 00:46:08           3.80   \n",
       "...                     ...                   ...            ...   \n",
       "640635  2019-03-24 10:45:31   2019-03-24 10:50:46           0.80   \n",
       "640636  2019-03-24 11:19:25   2019-03-24 11:31:21           1.86   \n",
       "640637  2019-03-24 21:37:18   2019-03-24 21:41:17           1.02   \n",
       "640638  2019-03-24 22:54:38   2019-03-24 22:59:38           0.69   \n",
       "640639  2019-03-24 14:50:54   2019-03-24 14:58:31           1.27   \n",
       "\n",
       "        PULocationID  DOLocationID  fare_amount  tip_amount  tolls_amount  \\\n",
       "0                163           162          5.0        1.45           0.0   \n",
       "1                237           141          5.0        2.00           0.0   \n",
       "2                230           141         11.0        2.46           0.0   \n",
       "3                163            50          6.0        1.45           0.0   \n",
       "4                239           137         14.5        3.15           0.0   \n",
       "...              ...           ...          ...         ...           ...   \n",
       "640635            68            90          5.5        0.00           0.0   \n",
       "640636            48           170          9.5        2.50           0.0   \n",
       "640637           162           107          5.5        2.20           0.0   \n",
       "640638           236           141          5.0        0.70           0.0   \n",
       "640639           163           143          7.0        1.00           0.0   \n",
       "\n",
       "        total_amount  is_weekend  ...        Date Start(ET) Attendance  Win  \\\n",
       "0               7.25       False  ...  2018-12-25     12:00      19812   No   \n",
       "1               7.80       False  ...  2018-12-25     12:00      19812   No   \n",
       "2              14.76       False  ...  2018-12-25     12:00      19812   No   \n",
       "3               8.75       False  ...  2018-12-25     12:00      19812   No   \n",
       "4              18.95       False  ...  2018-12-25     12:00      19812   No   \n",
       "...              ...         ...  ...         ...       ...        ...  ...   \n",
       "640635          6.80        True  ...  2019-03-24     12:00      18263   No   \n",
       "640636         15.80        True  ...  2019-03-24     12:00      18263   No   \n",
       "640637         11.00        True  ...  2019-03-24     12:00      18263   No   \n",
       "640638          9.00        True  ...  2019-03-24     12:00      18263   No   \n",
       "640639         11.30        True  ...  2019-03-24     12:00      18263   No   \n",
       "\n",
       "       margin_victory/loss  pickup_hour  dropoff_hour  is_weekend_binary  \\\n",
       "0                      -14            9             9                  0   \n",
       "1                      -14           17            17                  0   \n",
       "2                      -14            0             0                  0   \n",
       "3                      -14            0             0                  0   \n",
       "4                      -14            0             0                  0   \n",
       "...                    ...          ...           ...                ...   \n",
       "640635                 -11           10            10                  1   \n",
       "640636                 -11           11            11                  1   \n",
       "640637                 -11           21            21                  1   \n",
       "640638                 -11           22            22                  1   \n",
       "640639                 -11           14            14                  1   \n",
       "\n",
       "        Win_binary  Start(ET)_NUMERIC  \n",
       "0                0                1.0  \n",
       "1                0                1.0  \n",
       "2                0                1.0  \n",
       "3                0                1.0  \n",
       "4                0                1.0  \n",
       "...            ...                ...  \n",
       "640635           0                1.0  \n",
       "640636           0                1.0  \n",
       "640637           0                1.0  \n",
       "640638           0                1.0  \n",
       "640639           0                1.0  \n",
       "\n",
       "[640640 rows x 21 columns]"
      ]
     },
     "execution_count": 4,
     "metadata": {},
     "output_type": "execute_result"
    }
   ],
   "source": [
    "yellow_sample"
   ]
  },
  {
   "cell_type": "code",
   "execution_count": 5,
   "id": "1d154587",
   "metadata": {},
   "outputs": [
    {
     "data": {
      "text/html": [
       "<div>\n",
       "<style scoped>\n",
       "    .dataframe tbody tr th:only-of-type {\n",
       "        vertical-align: middle;\n",
       "    }\n",
       "\n",
       "    .dataframe tbody tr th {\n",
       "        vertical-align: top;\n",
       "    }\n",
       "\n",
       "    .dataframe thead th {\n",
       "        text-align: right;\n",
       "    }\n",
       "</style>\n",
       "<table border=\"1\" class=\"dataframe\">\n",
       "  <thead>\n",
       "    <tr style=\"text-align: right;\">\n",
       "      <th></th>\n",
       "      <th>fare_amount</th>\n",
       "      <th>tolls_amount</th>\n",
       "      <th>total_amount</th>\n",
       "      <th>is_weekend_binary</th>\n",
       "      <th>trip_length</th>\n",
       "      <th>Attendance</th>\n",
       "      <th>Win_binary</th>\n",
       "      <th>margin_victory/loss</th>\n",
       "      <th>pickup_hour</th>\n",
       "      <th>dropoff_hour</th>\n",
       "      <th>PULocationID</th>\n",
       "      <th>DOLocationID</th>\n",
       "      <th>Start(ET)_NUMERIC</th>\n",
       "    </tr>\n",
       "  </thead>\n",
       "  <tbody>\n",
       "    <tr>\n",
       "      <th>mean</th>\n",
       "      <td>-0.0000</td>\n",
       "      <td>-0.0000</td>\n",
       "      <td>0.0000</td>\n",
       "      <td>-0.0000</td>\n",
       "      <td>0.0000</td>\n",
       "      <td>-0.0000</td>\n",
       "      <td>0.0000</td>\n",
       "      <td>0.0000</td>\n",
       "      <td>0.0000</td>\n",
       "      <td>0.0000</td>\n",
       "      <td>-0.0000</td>\n",
       "      <td>-0.0000</td>\n",
       "      <td>-0.0000</td>\n",
       "    </tr>\n",
       "    <tr>\n",
       "      <th>std</th>\n",
       "      <td>1.0000</td>\n",
       "      <td>1.0000</td>\n",
       "      <td>1.0000</td>\n",
       "      <td>1.0000</td>\n",
       "      <td>1.0000</td>\n",
       "      <td>1.0000</td>\n",
       "      <td>1.0000</td>\n",
       "      <td>1.0000</td>\n",
       "      <td>1.0000</td>\n",
       "      <td>1.0000</td>\n",
       "      <td>1.0000</td>\n",
       "      <td>1.0000</td>\n",
       "      <td>1.0000</td>\n",
       "    </tr>\n",
       "  </tbody>\n",
       "</table>\n",
       "</div>"
      ],
      "text/plain": [
       "      fare_amount  tolls_amount  total_amount  is_weekend_binary  trip_length  \\\n",
       "mean      -0.0000       -0.0000        0.0000            -0.0000       0.0000   \n",
       "std        1.0000        1.0000        1.0000             1.0000       1.0000   \n",
       "\n",
       "      Attendance  Win_binary  margin_victory/loss  pickup_hour  dropoff_hour  \\\n",
       "mean     -0.0000      0.0000               0.0000       0.0000        0.0000   \n",
       "std       1.0000      1.0000               1.0000       1.0000        1.0000   \n",
       "\n",
       "      PULocationID  DOLocationID  Start(ET)_NUMERIC  \n",
       "mean       -0.0000       -0.0000            -0.0000  \n",
       "std         1.0000        1.0000             1.0000  "
      ]
     },
     "execution_count": 5,
     "metadata": {},
     "output_type": "execute_result"
    }
   ],
   "source": [
    "# standardized the x columns code from tutorial 2\n",
    "\n",
    "\n",
    "from scipy.stats import zscore\n",
    "\n",
    "x_cols = ['fare_amount','tolls_amount', 'total_amount', 'is_weekend_binary', 'trip_length', \n",
    "          'Attendance', 'Win_binary', 'margin_victory/loss','pickup_hour', 'dropoff_hour', \n",
    "          'PULocationID', 'DOLocationID', 'Start(ET)_NUMERIC']\n",
    "\n",
    "y_cols = ['tip_amount']\n",
    "\n",
    "df_standard = yellow_sample[x_cols].astype(float).apply(zscore)\n",
    "\n",
    "# format output to 4 decimal places\n",
    "pd.options.display.float_format = '{:,.4f}'.format\n",
    "df_standard.describe().loc[['mean','std']]\n",
    "\n"
   ]
  },
  {
   "cell_type": "code",
   "execution_count": 6,
   "id": "ea68fcc8",
   "metadata": {},
   "outputs": [
    {
     "data": {
      "text/html": [
       "<style>#sk-container-id-1 {color: black;background-color: white;}#sk-container-id-1 pre{padding: 0;}#sk-container-id-1 div.sk-toggleable {background-color: white;}#sk-container-id-1 label.sk-toggleable__label {cursor: pointer;display: block;width: 100%;margin-bottom: 0;padding: 0.3em;box-sizing: border-box;text-align: center;}#sk-container-id-1 label.sk-toggleable__label-arrow:before {content: \"▸\";float: left;margin-right: 0.25em;color: #696969;}#sk-container-id-1 label.sk-toggleable__label-arrow:hover:before {color: black;}#sk-container-id-1 div.sk-estimator:hover label.sk-toggleable__label-arrow:before {color: black;}#sk-container-id-1 div.sk-toggleable__content {max-height: 0;max-width: 0;overflow: hidden;text-align: left;background-color: #f0f8ff;}#sk-container-id-1 div.sk-toggleable__content pre {margin: 0.2em;color: black;border-radius: 0.25em;background-color: #f0f8ff;}#sk-container-id-1 input.sk-toggleable__control:checked~div.sk-toggleable__content {max-height: 200px;max-width: 100%;overflow: auto;}#sk-container-id-1 input.sk-toggleable__control:checked~label.sk-toggleable__label-arrow:before {content: \"▾\";}#sk-container-id-1 div.sk-estimator input.sk-toggleable__control:checked~label.sk-toggleable__label {background-color: #d4ebff;}#sk-container-id-1 div.sk-label input.sk-toggleable__control:checked~label.sk-toggleable__label {background-color: #d4ebff;}#sk-container-id-1 input.sk-hidden--visually {border: 0;clip: rect(1px 1px 1px 1px);clip: rect(1px, 1px, 1px, 1px);height: 1px;margin: -1px;overflow: hidden;padding: 0;position: absolute;width: 1px;}#sk-container-id-1 div.sk-estimator {font-family: monospace;background-color: #f0f8ff;border: 1px dotted black;border-radius: 0.25em;box-sizing: border-box;margin-bottom: 0.5em;}#sk-container-id-1 div.sk-estimator:hover {background-color: #d4ebff;}#sk-container-id-1 div.sk-parallel-item::after {content: \"\";width: 100%;border-bottom: 1px solid gray;flex-grow: 1;}#sk-container-id-1 div.sk-label:hover label.sk-toggleable__label {background-color: #d4ebff;}#sk-container-id-1 div.sk-serial::before {content: \"\";position: absolute;border-left: 1px solid gray;box-sizing: border-box;top: 0;bottom: 0;left: 50%;z-index: 0;}#sk-container-id-1 div.sk-serial {display: flex;flex-direction: column;align-items: center;background-color: white;padding-right: 0.2em;padding-left: 0.2em;position: relative;}#sk-container-id-1 div.sk-item {position: relative;z-index: 1;}#sk-container-id-1 div.sk-parallel {display: flex;align-items: stretch;justify-content: center;background-color: white;position: relative;}#sk-container-id-1 div.sk-item::before, #sk-container-id-1 div.sk-parallel-item::before {content: \"\";position: absolute;border-left: 1px solid gray;box-sizing: border-box;top: 0;bottom: 0;left: 50%;z-index: -1;}#sk-container-id-1 div.sk-parallel-item {display: flex;flex-direction: column;z-index: 1;position: relative;background-color: white;}#sk-container-id-1 div.sk-parallel-item:first-child::after {align-self: flex-end;width: 50%;}#sk-container-id-1 div.sk-parallel-item:last-child::after {align-self: flex-start;width: 50%;}#sk-container-id-1 div.sk-parallel-item:only-child::after {width: 0;}#sk-container-id-1 div.sk-dashed-wrapped {border: 1px dashed gray;margin: 0 0.4em 0.5em 0.4em;box-sizing: border-box;padding-bottom: 0.4em;background-color: white;}#sk-container-id-1 div.sk-label label {font-family: monospace;font-weight: bold;display: inline-block;line-height: 1.2em;}#sk-container-id-1 div.sk-label-container {text-align: center;}#sk-container-id-1 div.sk-container {/* jupyter's `normalize.less` sets `[hidden] { display: none; }` but bootstrap.min.css set `[hidden] { display: none !important; }` so we also need the `!important` here to be able to override the default hidden behavior on the sphinx rendered scikit-learn.org. See: https://github.com/scikit-learn/scikit-learn/issues/21755 */display: inline-block !important;position: relative;}#sk-container-id-1 div.sk-text-repr-fallback {display: none;}</style><div id=\"sk-container-id-1\" class=\"sk-top-container\"><div class=\"sk-text-repr-fallback\"><pre>ElasticNet()</pre><b>In a Jupyter environment, please rerun this cell to show the HTML representation or trust the notebook. <br />On GitHub, the HTML representation is unable to render, please try loading this page with nbviewer.org.</b></div><div class=\"sk-container\" hidden><div class=\"sk-item\"><div class=\"sk-estimator sk-toggleable\"><input class=\"sk-toggleable__control sk-hidden--visually\" id=\"sk-estimator-id-1\" type=\"checkbox\" checked><label for=\"sk-estimator-id-1\" class=\"sk-toggleable__label sk-toggleable__label-arrow\">ElasticNet</label><div class=\"sk-toggleable__content\"><pre>ElasticNet()</pre></div></div></div></div></div>"
      ],
      "text/plain": [
       "ElasticNet()"
      ]
     },
     "execution_count": 6,
     "metadata": {},
     "output_type": "execute_result"
    }
   ],
   "source": [
    "# fit the lasso model code from tutorial 2\n",
    "\n",
    "import numpy as np\n",
    "from glmnet import ElasticNet\n",
    "\n",
    "elastic_net_model_lasso = ElasticNet(alpha=1) \n",
    "elastic_net_model_lasso.fit(\n",
    "    df_standard.values, \n",
    "    # flatten the array (from 2d matrix to 1d vector) to remove the warning message:\n",
    "    # A column-vector y was passed when a 1d array was expected.\n",
    "    yellow_sample[y_cols].values.flatten()\n",
    ")"
   ]
  },
  {
   "cell_type": "code",
   "execution_count": 7,
   "id": "d12f216b",
   "metadata": {},
   "outputs": [
    {
     "data": {
      "text/html": [
       "<style>#sk-container-id-2 {color: black;background-color: white;}#sk-container-id-2 pre{padding: 0;}#sk-container-id-2 div.sk-toggleable {background-color: white;}#sk-container-id-2 label.sk-toggleable__label {cursor: pointer;display: block;width: 100%;margin-bottom: 0;padding: 0.3em;box-sizing: border-box;text-align: center;}#sk-container-id-2 label.sk-toggleable__label-arrow:before {content: \"▸\";float: left;margin-right: 0.25em;color: #696969;}#sk-container-id-2 label.sk-toggleable__label-arrow:hover:before {color: black;}#sk-container-id-2 div.sk-estimator:hover label.sk-toggleable__label-arrow:before {color: black;}#sk-container-id-2 div.sk-toggleable__content {max-height: 0;max-width: 0;overflow: hidden;text-align: left;background-color: #f0f8ff;}#sk-container-id-2 div.sk-toggleable__content pre {margin: 0.2em;color: black;border-radius: 0.25em;background-color: #f0f8ff;}#sk-container-id-2 input.sk-toggleable__control:checked~div.sk-toggleable__content {max-height: 200px;max-width: 100%;overflow: auto;}#sk-container-id-2 input.sk-toggleable__control:checked~label.sk-toggleable__label-arrow:before {content: \"▾\";}#sk-container-id-2 div.sk-estimator input.sk-toggleable__control:checked~label.sk-toggleable__label {background-color: #d4ebff;}#sk-container-id-2 div.sk-label input.sk-toggleable__control:checked~label.sk-toggleable__label {background-color: #d4ebff;}#sk-container-id-2 input.sk-hidden--visually {border: 0;clip: rect(1px 1px 1px 1px);clip: rect(1px, 1px, 1px, 1px);height: 1px;margin: -1px;overflow: hidden;padding: 0;position: absolute;width: 1px;}#sk-container-id-2 div.sk-estimator {font-family: monospace;background-color: #f0f8ff;border: 1px dotted black;border-radius: 0.25em;box-sizing: border-box;margin-bottom: 0.5em;}#sk-container-id-2 div.sk-estimator:hover {background-color: #d4ebff;}#sk-container-id-2 div.sk-parallel-item::after {content: \"\";width: 100%;border-bottom: 1px solid gray;flex-grow: 1;}#sk-container-id-2 div.sk-label:hover label.sk-toggleable__label {background-color: #d4ebff;}#sk-container-id-2 div.sk-serial::before {content: \"\";position: absolute;border-left: 1px solid gray;box-sizing: border-box;top: 0;bottom: 0;left: 50%;z-index: 0;}#sk-container-id-2 div.sk-serial {display: flex;flex-direction: column;align-items: center;background-color: white;padding-right: 0.2em;padding-left: 0.2em;position: relative;}#sk-container-id-2 div.sk-item {position: relative;z-index: 1;}#sk-container-id-2 div.sk-parallel {display: flex;align-items: stretch;justify-content: center;background-color: white;position: relative;}#sk-container-id-2 div.sk-item::before, #sk-container-id-2 div.sk-parallel-item::before {content: \"\";position: absolute;border-left: 1px solid gray;box-sizing: border-box;top: 0;bottom: 0;left: 50%;z-index: -1;}#sk-container-id-2 div.sk-parallel-item {display: flex;flex-direction: column;z-index: 1;position: relative;background-color: white;}#sk-container-id-2 div.sk-parallel-item:first-child::after {align-self: flex-end;width: 50%;}#sk-container-id-2 div.sk-parallel-item:last-child::after {align-self: flex-start;width: 50%;}#sk-container-id-2 div.sk-parallel-item:only-child::after {width: 0;}#sk-container-id-2 div.sk-dashed-wrapped {border: 1px dashed gray;margin: 0 0.4em 0.5em 0.4em;box-sizing: border-box;padding-bottom: 0.4em;background-color: white;}#sk-container-id-2 div.sk-label label {font-family: monospace;font-weight: bold;display: inline-block;line-height: 1.2em;}#sk-container-id-2 div.sk-label-container {text-align: center;}#sk-container-id-2 div.sk-container {/* jupyter's `normalize.less` sets `[hidden] { display: none; }` but bootstrap.min.css set `[hidden] { display: none !important; }` so we also need the `!important` here to be able to override the default hidden behavior on the sphinx rendered scikit-learn.org. See: https://github.com/scikit-learn/scikit-learn/issues/21755 */display: inline-block !important;position: relative;}#sk-container-id-2 div.sk-text-repr-fallback {display: none;}</style><div id=\"sk-container-id-2\" class=\"sk-top-container\"><div class=\"sk-text-repr-fallback\"><pre>ElasticNet(alpha=0)</pre><b>In a Jupyter environment, please rerun this cell to show the HTML representation or trust the notebook. <br />On GitHub, the HTML representation is unable to render, please try loading this page with nbviewer.org.</b></div><div class=\"sk-container\" hidden><div class=\"sk-item\"><div class=\"sk-estimator sk-toggleable\"><input class=\"sk-toggleable__control sk-hidden--visually\" id=\"sk-estimator-id-2\" type=\"checkbox\" checked><label for=\"sk-estimator-id-2\" class=\"sk-toggleable__label sk-toggleable__label-arrow\">ElasticNet</label><div class=\"sk-toggleable__content\"><pre>ElasticNet(alpha=0)</pre></div></div></div></div></div>"
      ],
      "text/plain": [
       "ElasticNet(alpha=0)"
      ]
     },
     "execution_count": 7,
     "metadata": {},
     "output_type": "execute_result"
    }
   ],
   "source": [
    "# fit the ridge model code from tutorial 2\n",
    "\n",
    "elastic_net_model_ridge = ElasticNet(alpha=0) \n",
    "elastic_net_model_ridge.fit(\n",
    "    df_standard.values, \n",
    "    # flatten the array (from 2d matrix to 1d vector) to remove the warning message:\n",
    "    # A column-vector y was passed when a 1d array was expected.\n",
    "    yellow_sample[y_cols].values.flatten()\n",
    ")"
   ]
  },
  {
   "cell_type": "code",
   "execution_count": 8,
   "id": "87454e24",
   "metadata": {},
   "outputs": [
    {
     "name": "stdout",
     "output_type": "stream",
     "text": [
      "Best lambda value for LASSO: 0.012131562052867662\n",
      "Best lambda value for Ridge: 0.15308295078753603\n"
     ]
    }
   ],
   "source": [
    "# gets the best lambda value for both ridge and LASSO\n",
    "\n",
    "best_lambda_lasso = elastic_net_model_lasso.lambda_best_[0]\n",
    "best_lambda_ridge = elastic_net_model_ridge.lambda_best_[0]\n",
    "\n",
    "print(f'Best lambda value for LASSO:', best_lambda_lasso)\n",
    "print(f'Best lambda value for Ridge:', best_lambda_ridge)\n"
   ]
  },
  {
   "cell_type": "code",
   "execution_count": 9,
   "id": "8dc5b9ae",
   "metadata": {},
   "outputs": [],
   "source": [
    "# drop the tpep pickup and dropoff columns, and categorical columns which have not been indexed\n",
    "\n",
    "yellow = yellow.drop('tpep_pickup_datetime', 'tpep_dropoff_datetime', 'Start(ET)',\n",
    "                     'Win', 'is_weekend')"
   ]
  },
  {
   "cell_type": "code",
   "execution_count": 10,
   "id": "c7daa3c7",
   "metadata": {},
   "outputs": [],
   "source": [
    "# use all 2018 data as a train set\n",
    "\n",
    "# then use the first game of 2019 as the test set\n",
    "\n",
    "yellow_train = yellow.where((F.col('Date') < '2019-01-11'))\n",
    "\n",
    "yellow_test = yellow.where((F.col('Date') == '2019-01-11'))\n"
   ]
  },
  {
   "cell_type": "code",
   "execution_count": 11,
   "id": "e76d4294",
   "metadata": {},
   "outputs": [],
   "source": [
    "# drop Date columns for both train and test\n",
    "\n",
    "yellow_train = yellow_train.drop('Date')\n",
    "\n",
    "yellow_test = yellow_test.drop('Date')"
   ]
  },
  {
   "cell_type": "code",
   "execution_count": 12,
   "id": "f6848a4e",
   "metadata": {},
   "outputs": [
    {
     "name": "stdout",
     "output_type": "stream",
     "text": [
      "22/08/26 01:49:55 WARN package: Truncated the string representation of a plan since it was too large. This behavior can be adjusted by setting 'spark.sql.debug.maxToStringFields'.\n"
     ]
    },
    {
     "name": "stderr",
     "output_type": "stream",
     "text": [
      "\r",
      "[Stage 1:>                                                          (0 + 1) / 1]\r"
     ]
    },
    {
     "name": "stdout",
     "output_type": "stream",
     "text": [
      "+--------------------+----------+\n",
      "|            features|tip_amount|\n",
      "+--------------------+----------+\n",
      "|[16.5,0.0,2.56,22...|      4.58|\n",
      "|[26.0,0.0,7.85,33...|      5.56|\n",
      "|[5.0,0.0,0.9,7.25...|      1.45|\n",
      "+--------------------+----------+\n",
      "only showing top 3 rows\n",
      "\n"
     ]
    },
    {
     "name": "stderr",
     "output_type": "stream",
     "text": [
      "\r",
      "                                                                                \r"
     ]
    }
   ],
   "source": [
    "# create a vector for train data with full columns\n",
    "\n",
    "from pyspark.ml.feature import VectorAssembler\n",
    "\n",
    "features = 'features'\n",
    "\n",
    "# use all featuresn\n",
    "input_cols_full = ['fare_amount','tolls_amount', 'trip_distance', 'total_amount', 'is_weekend_binary', 'trip_length', \n",
    "                   'Win_binary','PULocationID', 'DOLocationID', 'pickup_hour', 'dropoff_hour','Attendance', \n",
    "                    'margin_victory/loss', 'Start(ET)_NUMERIC']\n",
    "\n",
    "vectorAssembler_full = VectorAssembler(\n",
    "    inputCols = input_cols_full, \n",
    "    outputCol = features)\n",
    "\n",
    "\n",
    "v_yellow_train_full = vectorAssembler_full.transform(yellow_train.dropna('any'))\n",
    "\n",
    "v_yellow_train_full = v_yellow_train_full.select(['features', 'tip_amount'])\n",
    "\n",
    "v_yellow_train_full.show(3)"
   ]
  },
  {
   "cell_type": "code",
   "execution_count": 13,
   "id": "5339d35c",
   "metadata": {},
   "outputs": [
    {
     "name": "stdout",
     "output_type": "stream",
     "text": [
      "+--------------------+----------+\n",
      "|            features|tip_amount|\n",
      "+--------------------+----------+\n",
      "|[13.0,0.0,2.88,18...|       3.7|\n",
      "|(14,[0,2,3,5,7,8,...|      2.26|\n",
      "|(14,[0,2,3,5,7,8,...|      1.86|\n",
      "+--------------------+----------+\n",
      "only showing top 3 rows\n",
      "\n"
     ]
    }
   ],
   "source": [
    "# creation of test vector for full column\n",
    "\n",
    "v_yellow_test_full = vectorAssembler_full.transform(yellow_test.dropna('any'))\n",
    "\n",
    "v_yellow_test_full = v_yellow_test_full.select(['features', 'tip_amount'])\n",
    "\n",
    "v_yellow_test_full.show(3)"
   ]
  },
  {
   "cell_type": "code",
   "execution_count": 14,
   "id": "22e20add",
   "metadata": {},
   "outputs": [
    {
     "name": "stdout",
     "output_type": "stream",
     "text": [
      "22/08/26 01:50:00 WARN InstanceBuilder$NativeBLAS: Failed to load implementation from:dev.ludovic.netlib.blas.JNIBLAS\n",
      "22/08/26 01:50:00 WARN InstanceBuilder$NativeBLAS: Failed to load implementation from:dev.ludovic.netlib.blas.ForeignLinkerBLAS\n"
     ]
    },
    {
     "name": "stderr",
     "output_type": "stream",
     "text": [
      "                                                                                \r"
     ]
    }
   ],
   "source": [
    "# LassoM stands for LASSO model\n",
    "\n",
    "from pyspark.ml.regression import LinearRegression\n",
    "\n",
    "LassoM = LinearRegression(featuresCol = 'features', labelCol = 'tip_amount', \n",
    "                      regParam = best_lambda_lasso, elasticNetParam = 1).fit(v_yellow_train_full)"
   ]
  },
  {
   "cell_type": "code",
   "execution_count": 15,
   "id": "cfa8920c",
   "metadata": {},
   "outputs": [
    {
     "data": {
      "text/html": [
       "<div>\n",
       "<style scoped>\n",
       "    .dataframe tbody tr th:only-of-type {\n",
       "        vertical-align: middle;\n",
       "    }\n",
       "\n",
       "    .dataframe tbody tr th {\n",
       "        vertical-align: top;\n",
       "    }\n",
       "\n",
       "    .dataframe thead th {\n",
       "        text-align: right;\n",
       "    }\n",
       "</style>\n",
       "<table border=\"1\" class=\"dataframe\">\n",
       "  <thead>\n",
       "    <tr style=\"text-align: right;\">\n",
       "      <th></th>\n",
       "      <th>coefficient</th>\n",
       "    </tr>\n",
       "  </thead>\n",
       "  <tbody>\n",
       "    <tr>\n",
       "      <th>intercept</th>\n",
       "      <td>-0.6962</td>\n",
       "    </tr>\n",
       "    <tr>\n",
       "      <th>fare_amount</th>\n",
       "      <td>-0.7411</td>\n",
       "    </tr>\n",
       "    <tr>\n",
       "      <th>tolls_amount</th>\n",
       "      <td>-0.7130</td>\n",
       "    </tr>\n",
       "    <tr>\n",
       "      <th>trip_distance</th>\n",
       "      <td>-0.0299</td>\n",
       "    </tr>\n",
       "    <tr>\n",
       "      <th>total_amount</th>\n",
       "      <td>0.7861</td>\n",
       "    </tr>\n",
       "    <tr>\n",
       "      <th>is_weekend_binary</th>\n",
       "      <td>0.0937</td>\n",
       "    </tr>\n",
       "    <tr>\n",
       "      <th>trip_length</th>\n",
       "      <td>0.0000</td>\n",
       "    </tr>\n",
       "    <tr>\n",
       "      <th>Win_binary</th>\n",
       "      <td>0.0000</td>\n",
       "    </tr>\n",
       "    <tr>\n",
       "      <th>PULocationID</th>\n",
       "      <td>0.0000</td>\n",
       "    </tr>\n",
       "    <tr>\n",
       "      <th>DOLocationID</th>\n",
       "      <td>0.0000</td>\n",
       "    </tr>\n",
       "    <tr>\n",
       "      <th>pickup_hour</th>\n",
       "      <td>-0.0063</td>\n",
       "    </tr>\n",
       "    <tr>\n",
       "      <th>dropoff_hour</th>\n",
       "      <td>-0.0062</td>\n",
       "    </tr>\n",
       "    <tr>\n",
       "      <th>Attendance</th>\n",
       "      <td>0.0000</td>\n",
       "    </tr>\n",
       "    <tr>\n",
       "      <th>margin_victory/loss</th>\n",
       "      <td>0.0000</td>\n",
       "    </tr>\n",
       "    <tr>\n",
       "      <th>Start(ET)_NUMERIC</th>\n",
       "      <td>0.0000</td>\n",
       "    </tr>\n",
       "  </tbody>\n",
       "</table>\n",
       "</div>"
      ],
      "text/plain": [
       "                     coefficient\n",
       "intercept                -0.6962\n",
       "fare_amount              -0.7411\n",
       "tolls_amount             -0.7130\n",
       "trip_distance            -0.0299\n",
       "total_amount              0.7861\n",
       "is_weekend_binary         0.0937\n",
       "trip_length               0.0000\n",
       "Win_binary                0.0000\n",
       "PULocationID              0.0000\n",
       "DOLocationID              0.0000\n",
       "pickup_hour              -0.0063\n",
       "dropoff_hour             -0.0062\n",
       "Attendance                0.0000\n",
       "margin_victory/loss       0.0000\n",
       "Start(ET)_NUMERIC         0.0000"
      ]
     },
     "execution_count": 15,
     "metadata": {},
     "output_type": "execute_result"
    }
   ],
   "source": [
    "#coefficients for LASSO regression\n",
    "\n",
    "pd.DataFrame(\n",
    "    data=[LassoM.intercept] + list(LassoM.coefficients),\n",
    "    index=['intercept'] + input_cols_full,\n",
    "    columns=['coefficient']\n",
    ")\n",
    "\n",
    "# based on LASSO, Attendance, margin_victory/loss, Win_binary, trip_length, PULocationID , DOLocationID and \n",
    "# Start(ET) are all irrelevant"
   ]
  },
  {
   "cell_type": "code",
   "execution_count": 16,
   "id": "75b2334a",
   "metadata": {},
   "outputs": [
    {
     "name": "stdout",
     "output_type": "stream",
     "text": [
      "+--------------------+----------+\n",
      "|            features|tip_amount|\n",
      "+--------------------+----------+\n",
      "|[16.5,2.56,22.88,...|      4.58|\n",
      "|[26.0,7.85,33.36,...|      5.56|\n",
      "|[5.0,0.9,7.25,0.0...|      1.45|\n",
      "+--------------------+----------+\n",
      "only showing top 3 rows\n",
      "\n"
     ]
    }
   ],
   "source": [
    "features = 'features'\n",
    "\n",
    "# features selected after selection through LASSO\n",
    "input_cols_reduced = ['fare_amount', 'trip_distance', 'total_amount', 'tolls_amount', 'is_weekend_binary',\n",
    "                     'PULocationID', 'DOLocationID', 'pickup_hour','dropoff_hour', 'Start(ET)_NUMERIC']\n",
    "\n",
    "\n",
    "vectorAssembler_reduced = VectorAssembler(\n",
    "    inputCols = input_cols_reduced, \n",
    "    outputCol = features)\n",
    "\n",
    "\n",
    "v_yellow_train_reduced = vectorAssembler_reduced.transform(yellow_train.dropna('any'))\n",
    "\n",
    "v_yellow_train_reduced = v_yellow_train_reduced.select(['features', 'tip_amount'])\n",
    "\n",
    "v_yellow_train_reduced.show(3)"
   ]
  },
  {
   "cell_type": "code",
   "execution_count": 17,
   "id": "0ed5781a",
   "metadata": {},
   "outputs": [
    {
     "name": "stdout",
     "output_type": "stream",
     "text": [
      "+--------------------+----------+\n",
      "|            features|tip_amount|\n",
      "+--------------------+----------+\n",
      "|[13.0,2.88,18.5,0...|       3.7|\n",
      "|(10,[0,1,2,5,6],[...|      2.26|\n",
      "|(10,[0,1,2,5,6],[...|      1.86|\n",
      "+--------------------+----------+\n",
      "only showing top 3 rows\n",
      "\n"
     ]
    }
   ],
   "source": [
    "# creating vector for the reduced columns\n",
    "\n",
    "v_yellow_test_reduced = vectorAssembler_reduced.transform(yellow_test.dropna('any'))\n",
    "\n",
    "v_yellow_test_reduced = v_yellow_test_reduced.select(['features', 'tip_amount'])\n",
    "\n",
    "v_yellow_test_reduced.show(3)"
   ]
  },
  {
   "cell_type": "code",
   "execution_count": 18,
   "id": "27db5708",
   "metadata": {},
   "outputs": [
    {
     "name": "stdout",
     "output_type": "stream",
     "text": [
      "22/08/26 01:50:10 WARN Instrumentation: [24cd6a33] regParam is zero, which might cause numerical instability and overfitting.\n"
     ]
    },
    {
     "name": "stderr",
     "output_type": "stream",
     "text": [
      "                                                                                \r"
     ]
    },
    {
     "name": "stdout",
     "output_type": "stream",
     "text": [
      "22/08/26 01:50:13 WARN InstanceBuilder$NativeLAPACK: Failed to load implementation from:dev.ludovic.netlib.lapack.JNILAPACK\n"
     ]
    },
    {
     "name": "stderr",
     "output_type": "stream",
     "text": [
      "                                                                                \r"
     ]
    }
   ],
   "source": [
    "# lm stands for linear model\n",
    "\n",
    "lm = LinearRegression(featuresCol='features', labelCol = 'tip_amount').fit(v_yellow_train_reduced)"
   ]
  },
  {
   "cell_type": "code",
   "execution_count": 19,
   "id": "18e91e7d",
   "metadata": {},
   "outputs": [
    {
     "data": {
      "text/html": [
       "<div>\n",
       "<style scoped>\n",
       "    .dataframe tbody tr th:only-of-type {\n",
       "        vertical-align: middle;\n",
       "    }\n",
       "\n",
       "    .dataframe tbody tr th {\n",
       "        vertical-align: top;\n",
       "    }\n",
       "\n",
       "    .dataframe thead th {\n",
       "        text-align: right;\n",
       "    }\n",
       "</style>\n",
       "<table border=\"1\" class=\"dataframe\">\n",
       "  <thead>\n",
       "    <tr style=\"text-align: right;\">\n",
       "      <th></th>\n",
       "      <th>coefficient</th>\n",
       "    </tr>\n",
       "  </thead>\n",
       "  <tbody>\n",
       "    <tr>\n",
       "      <th>intercept</th>\n",
       "      <td>-0.8573</td>\n",
       "    </tr>\n",
       "    <tr>\n",
       "      <th>fare_amount</th>\n",
       "      <td>-0.8752</td>\n",
       "    </tr>\n",
       "    <tr>\n",
       "      <th>trip_distance</th>\n",
       "      <td>-0.0380</td>\n",
       "    </tr>\n",
       "    <tr>\n",
       "      <th>total_amount</th>\n",
       "      <td>0.9013</td>\n",
       "    </tr>\n",
       "    <tr>\n",
       "      <th>tolls_amount</th>\n",
       "      <td>-0.8673</td>\n",
       "    </tr>\n",
       "    <tr>\n",
       "      <th>is_weekend_binary</th>\n",
       "      <td>0.1418</td>\n",
       "    </tr>\n",
       "    <tr>\n",
       "      <th>PULocationID</th>\n",
       "      <td>0.0001</td>\n",
       "    </tr>\n",
       "    <tr>\n",
       "      <th>DOLocationID</th>\n",
       "      <td>0.0002</td>\n",
       "    </tr>\n",
       "    <tr>\n",
       "      <th>pickup_hour</th>\n",
       "      <td>-0.0238</td>\n",
       "    </tr>\n",
       "    <tr>\n",
       "      <th>dropoff_hour</th>\n",
       "      <td>0.0064</td>\n",
       "    </tr>\n",
       "    <tr>\n",
       "      <th>Start(ET)_NUMERIC</th>\n",
       "      <td>0.0030</td>\n",
       "    </tr>\n",
       "  </tbody>\n",
       "</table>\n",
       "</div>"
      ],
      "text/plain": [
       "                   coefficient\n",
       "intercept              -0.8573\n",
       "fare_amount            -0.8752\n",
       "trip_distance          -0.0380\n",
       "total_amount            0.9013\n",
       "tolls_amount           -0.8673\n",
       "is_weekend_binary       0.1418\n",
       "PULocationID            0.0001\n",
       "DOLocationID            0.0002\n",
       "pickup_hour            -0.0238\n",
       "dropoff_hour            0.0064\n",
       "Start(ET)_NUMERIC       0.0030"
      ]
     },
     "execution_count": 19,
     "metadata": {},
     "output_type": "execute_result"
    }
   ],
   "source": [
    "# coefficients of linear model\n",
    "\n",
    "pd.DataFrame(\n",
    "    data=[lm.intercept] + list(lm.coefficients),\n",
    "    index=['intercept'] + input_cols_reduced,\n",
    "    columns=['coefficient']\n",
    ")"
   ]
  },
  {
   "cell_type": "code",
   "execution_count": 20,
   "id": "90342f24",
   "metadata": {},
   "outputs": [
    {
     "name": "stdout",
     "output_type": "stream",
     "text": [
      "RMSE: 0.334387\n",
      "r2: 0.947511\n",
      "MSE: 0.111815\n",
      "MAE: 0.270444\n"
     ]
    }
   ],
   "source": [
    "# training summary of linear model\n",
    "\n",
    "trainingSummary_lm = lm.summary\n",
    "\n",
    "print(\"RMSE: %f\" % trainingSummary_lm.rootMeanSquaredError)\n",
    "print(\"r2: %f\" % trainingSummary_lm.r2)\n",
    "print(\"MSE: %f\" % trainingSummary_lm.meanSquaredError)\n",
    "print(\"MAE: %f\" % trainingSummary_lm.meanAbsoluteError)\n"
   ]
  },
  {
   "cell_type": "code",
   "execution_count": 21,
   "id": "9014f1c4",
   "metadata": {},
   "outputs": [
    {
     "name": "stdout",
     "output_type": "stream",
     "text": [
      "+------------------+----------+--------------------+\n",
      "|        prediction|tip_amount|            features|\n",
      "+------------------+----------+--------------------+\n",
      "|   4.2598461766094|       3.7|[13.0,2.88,18.5,0...|\n",
      "|2.5660873917487854|      2.26|(10,[0,1,2,5,6],[...|\n",
      "| 2.187651174567468|      1.86|(10,[0,1,2,5,6],[...|\n",
      "|2.7277228029519716|      2.49|(10,[0,1,2,5,6],[...|\n",
      "| 4.319614696434301|      4.06|(10,[0,1,2,5,6],[...|\n",
      "+------------------+----------+--------------------+\n",
      "only showing top 5 rows\n",
      "\n"
     ]
    }
   ],
   "source": [
    "# prediction of the linear model\n",
    "\n",
    "from pyspark.ml.evaluation import RegressionEvaluator\n",
    "\n",
    "\n",
    "lm_predictions = lm.transform(v_yellow_test_reduced)\n",
    "lm_predictions.select(\"prediction\",\"tip_amount\",\"features\").show(5)"
   ]
  },
  {
   "cell_type": "code",
   "execution_count": 22,
   "id": "e85f443f",
   "metadata": {},
   "outputs": [
    {
     "name": "stderr",
     "output_type": "stream",
     "text": [
      "\r",
      "[Stage 20:===================================================>      (8 + 1) / 9]\r"
     ]
    },
    {
     "name": "stdout",
     "output_type": "stream",
     "text": [
      "R Squared (R2) on test data = 0.942329\n",
      "Root Mean Squared Error (RMSE) on test data = 0.354405\n",
      "Mean Squared Error (MSE) on test data = 0.125603\n",
      "Mean Absolute Error (MAE) on test data = 0.290916\n"
     ]
    },
    {
     "name": "stderr",
     "output_type": "stream",
     "text": [
      "\r",
      "                                                                                \r"
     ]
    }
   ],
   "source": [
    "# test evaluation of the linear model\n",
    "\n",
    "test_result_lm = lm.evaluate(v_yellow_test_reduced)\n",
    "\n",
    "print(\"R Squared (R2) on test data = %g\" % test_result_lm.r2)\n",
    "print(\"Root Mean Squared Error (RMSE) on test data = %g\" % test_result_lm.rootMeanSquaredError)\n",
    "print(\"Mean Squared Error (MSE) on test data = %g\" % test_result_lm.meanSquaredError)\n",
    "print(\"Mean Absolute Error (MAE) on test data = %g\" % test_result_lm.meanAbsoluteError)"
   ]
  },
  {
   "cell_type": "code",
   "execution_count": 23,
   "id": "520e05a4",
   "metadata": {},
   "outputs": [
    {
     "name": "stderr",
     "output_type": "stream",
     "text": [
      "                                                                                \r"
     ]
    }
   ],
   "source": [
    "# rm stands for ridge model\n",
    "\n",
    "rm = LinearRegression(featuresCol = 'features', labelCol = 'tip_amount', \n",
    "                      regParam = best_lambda_ridge, elasticNetParam = 0).fit(v_yellow_train_full)"
   ]
  },
  {
   "cell_type": "code",
   "execution_count": 24,
   "id": "e2a5efb9",
   "metadata": {},
   "outputs": [
    {
     "data": {
      "text/html": [
       "<div>\n",
       "<style scoped>\n",
       "    .dataframe tbody tr th:only-of-type {\n",
       "        vertical-align: middle;\n",
       "    }\n",
       "\n",
       "    .dataframe tbody tr th {\n",
       "        vertical-align: top;\n",
       "    }\n",
       "\n",
       "    .dataframe thead th {\n",
       "        text-align: right;\n",
       "    }\n",
       "</style>\n",
       "<table border=\"1\" class=\"dataframe\">\n",
       "  <thead>\n",
       "    <tr style=\"text-align: right;\">\n",
       "      <th></th>\n",
       "      <th>coefficient</th>\n",
       "    </tr>\n",
       "  </thead>\n",
       "  <tbody>\n",
       "    <tr>\n",
       "      <th>intercept</th>\n",
       "      <td>0.0565</td>\n",
       "    </tr>\n",
       "    <tr>\n",
       "      <th>fare_amount</th>\n",
       "      <td>-0.0428</td>\n",
       "    </tr>\n",
       "    <tr>\n",
       "      <th>tolls_amount</th>\n",
       "      <td>-0.0145</td>\n",
       "    </tr>\n",
       "    <tr>\n",
       "      <th>trip_distance</th>\n",
       "      <td>-0.0382</td>\n",
       "    </tr>\n",
       "    <tr>\n",
       "      <th>total_amount</th>\n",
       "      <td>0.1968</td>\n",
       "    </tr>\n",
       "    <tr>\n",
       "      <th>is_weekend_binary</th>\n",
       "      <td>-0.0095</td>\n",
       "    </tr>\n",
       "    <tr>\n",
       "      <th>trip_length</th>\n",
       "      <td>-0.0041</td>\n",
       "    </tr>\n",
       "    <tr>\n",
       "      <th>Win_binary</th>\n",
       "      <td>-0.0003</td>\n",
       "    </tr>\n",
       "    <tr>\n",
       "      <th>PULocationID</th>\n",
       "      <td>0.0001</td>\n",
       "    </tr>\n",
       "    <tr>\n",
       "      <th>DOLocationID</th>\n",
       "      <td>0.0001</td>\n",
       "    </tr>\n",
       "    <tr>\n",
       "      <th>pickup_hour</th>\n",
       "      <td>0.0005</td>\n",
       "    </tr>\n",
       "    <tr>\n",
       "      <th>dropoff_hour</th>\n",
       "      <td>0.0003</td>\n",
       "    </tr>\n",
       "    <tr>\n",
       "      <th>Attendance</th>\n",
       "      <td>-0.0000</td>\n",
       "    </tr>\n",
       "    <tr>\n",
       "      <th>margin_victory/loss</th>\n",
       "      <td>-0.0002</td>\n",
       "    </tr>\n",
       "    <tr>\n",
       "      <th>Start(ET)_NUMERIC</th>\n",
       "      <td>0.0002</td>\n",
       "    </tr>\n",
       "  </tbody>\n",
       "</table>\n",
       "</div>"
      ],
      "text/plain": [
       "                     coefficient\n",
       "intercept                 0.0565\n",
       "fare_amount              -0.0428\n",
       "tolls_amount             -0.0145\n",
       "trip_distance            -0.0382\n",
       "total_amount              0.1968\n",
       "is_weekend_binary        -0.0095\n",
       "trip_length              -0.0041\n",
       "Win_binary               -0.0003\n",
       "PULocationID              0.0001\n",
       "DOLocationID              0.0001\n",
       "pickup_hour               0.0005\n",
       "dropoff_hour              0.0003\n",
       "Attendance               -0.0000\n",
       "margin_victory/loss      -0.0002\n",
       "Start(ET)_NUMERIC         0.0002"
      ]
     },
     "execution_count": 24,
     "metadata": {},
     "output_type": "execute_result"
    }
   ],
   "source": [
    "# coefficients of the ridge model\n",
    "\n",
    "pd.DataFrame(\n",
    "    data=[rm.intercept] + list(rm.coefficients),\n",
    "    index=['intercept'] + input_cols_full,\n",
    "    columns=['coefficient']\n",
    ")"
   ]
  },
  {
   "cell_type": "code",
   "execution_count": 25,
   "id": "8defd978",
   "metadata": {},
   "outputs": [
    {
     "name": "stdout",
     "output_type": "stream",
     "text": [
      "RMSE: 0.909676\n",
      "r2: 0.611544\n",
      "MSE: 0.827510\n",
      "MAE: 0.459999\n"
     ]
    }
   ],
   "source": [
    "# training summary of ridge model\n",
    "\n",
    "trainingSummary_rm = rm.summary\n",
    "\n",
    "print(\"RMSE: %f\" % trainingSummary_rm.rootMeanSquaredError)\n",
    "print(\"r2: %f\" % trainingSummary_rm.r2)\n",
    "print(\"MSE: %f\" % trainingSummary_rm.meanSquaredError)\n",
    "print(\"MAE: %f\" % trainingSummary_rm.meanAbsoluteError)\n"
   ]
  },
  {
   "cell_type": "code",
   "execution_count": 26,
   "id": "0c7716a1",
   "metadata": {},
   "outputs": [
    {
     "name": "stdout",
     "output_type": "stream",
     "text": [
      "+------------------+----------+--------------------+\n",
      "|        prediction|tip_amount|            features|\n",
      "+------------------+----------+--------------------+\n",
      "| 2.907149076523077|       3.7|[13.0,0.0,2.88,18...|\n",
      "|2.1000315567582977|      2.26|(14,[0,2,3,5,7,8,...|\n",
      "|1.7522810709891417|      1.86|(14,[0,2,3,5,7,8,...|\n",
      "|1.7235504015063388|      2.49|(14,[0,2,3,5,7,8,...|\n",
      "| 3.709396680426896|      4.06|(14,[0,2,3,5,7,8,...|\n",
      "+------------------+----------+--------------------+\n",
      "only showing top 5 rows\n",
      "\n"
     ]
    }
   ],
   "source": [
    "# predictions of ridge model\n",
    "\n",
    "rm_predictions = rm.transform(v_yellow_test_full)\n",
    "rm_predictions.select(\"prediction\",\"tip_amount\",\"features\").show(5)"
   ]
  },
  {
   "cell_type": "code",
   "execution_count": 27,
   "id": "29bf91fc",
   "metadata": {},
   "outputs": [
    {
     "name": "stderr",
     "output_type": "stream",
     "text": [
      "\r",
      "[Stage 29:===================================================>      (8 + 1) / 9]\r"
     ]
    },
    {
     "name": "stdout",
     "output_type": "stream",
     "text": [
      "R Squared (R2) on test data = 0.587413\n",
      "Root Mean Squared Error (RMSE) on test data = 0.947936\n",
      "Mean Squared Error (MSE) on test data = 0.898583\n",
      "Mean Absolute Error (MAE) on test data = 0.42234\n"
     ]
    },
    {
     "name": "stderr",
     "output_type": "stream",
     "text": [
      "\r",
      "                                                                                \r"
     ]
    }
   ],
   "source": [
    "# test evaluation for ridge model\n",
    "\n",
    "test_result_rm = rm.evaluate(v_yellow_test_full)\n",
    "\n",
    "print(\"R Squared (R2) on test data = %g\" % test_result_rm.r2)\n",
    "print(\"Root Mean Squared Error (RMSE) on test data = %g\" % test_result_rm.rootMeanSquaredError)\n",
    "print(\"Mean Squared Error (MSE) on test data = %g\" % test_result_rm.meanSquaredError)\n",
    "print(\"Mean Absolute Error (MAE) on test data = %g\" % test_result_rm.meanAbsoluteError)"
   ]
  },
  {
   "cell_type": "code",
   "execution_count": null,
   "id": "903190ed",
   "metadata": {},
   "outputs": [],
   "source": []
  }
 ],
 "metadata": {
  "kernelspec": {
   "display_name": "Python 3 (ipykernel)",
   "language": "python",
   "name": "python3"
  },
  "language_info": {
   "codemirror_mode": {
    "name": "ipython",
    "version": 3
   },
   "file_extension": ".py",
   "mimetype": "text/x-python",
   "name": "python",
   "nbconvert_exporter": "python",
   "pygments_lexer": "ipython3",
   "version": "3.8.10"
  }
 },
 "nbformat": 4,
 "nbformat_minor": 5
}
