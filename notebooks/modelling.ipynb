{
 "cells": [
  {
   "cell_type": "code",
   "execution_count": 1,
   "id": "b7b7c16c",
   "metadata": {},
   "outputs": [
    {
     "name": "stdout",
     "output_type": "stream",
     "text": [
      "22/08/21 16:40:00 WARN Utils: Your hostname, DESKTOP-3ADPNV0 resolves to a loopback address: 127.0.1.1; using 172.25.28.45 instead (on interface eth0)\n",
      "22/08/21 16:40:00 WARN Utils: Set SPARK_LOCAL_IP if you need to bind to another address\n"
     ]
    },
    {
     "name": "stderr",
     "output_type": "stream",
     "text": [
      "Setting default log level to \"WARN\".\n",
      "To adjust logging level use sc.setLogLevel(newLevel). For SparkR, use setLogLevel(newLevel).\n"
     ]
    },
    {
     "name": "stdout",
     "output_type": "stream",
     "text": [
      "22/08/21 16:40:07 WARN NativeCodeLoader: Unable to load native-hadoop library for your platform... using builtin-java classes where applicable\n"
     ]
    }
   ],
   "source": [
    "from pyspark.sql import SparkSession, functions as F\n",
    "from pyspark.sql.functions import *\n",
    "\n",
    "# Cell to create a spark session\n",
    "spark = (\n",
    "    SparkSession.builder.appName(\"MAST30034 ASSIGNMENT 1 DUSTIN\")\n",
    "    .config(\"spark.sql.repl.eagerEval.enabled\", True) \n",
    "    .config(\"spark.sql.parquet.cacheMetadata\", \"true\")\n",
    "    .config(\"spark.sql.session.timeZone\", \"Etc/UTC\")\n",
    "    .config(\"spark.executor.memory\", \"2g\")\n",
    "    .config(\"spark.driver.memory\", \"4g\")\n",
    "    .getOrCreate()\n",
    ")"
   ]
  },
  {
   "cell_type": "code",
   "execution_count": 14,
   "id": "61d0a36a",
   "metadata": {},
   "outputs": [],
   "source": [
    "import pandas as pd"
   ]
  },
  {
   "cell_type": "code",
   "execution_count": 2,
   "id": "0d040657",
   "metadata": {},
   "outputs": [
    {
     "name": "stderr",
     "output_type": "stream",
     "text": [
      "                                                                                \r"
     ]
    }
   ],
   "source": [
    "yellow = spark.read.parquet('../../mast30034-project-1-dustintano10/data/curated/yellow/yellow_credit')"
   ]
  },
  {
   "cell_type": "code",
   "execution_count": 3,
   "id": "1efa645a",
   "metadata": {},
   "outputs": [
    {
     "name": "stderr",
     "output_type": "stream",
     "text": [
      "\r",
      "[Stage 1:>                                                          (0 + 1) / 1]\r"
     ]
    },
    {
     "name": "stdout",
     "output_type": "stream",
     "text": [
      "-RECORD 0------------------------------------\n",
      " tpep_pickup_datetime  | 2018-12-25 00:39:10 \n",
      " tpep_dropoff_datetime | 2018-12-25 01:04:33 \n",
      " trip_distance         | 2.56                \n",
      " PULocationID          | 162                 \n",
      " DOLocationID          | 263                 \n",
      " fare_amount           | 16.5                \n",
      " tip_amount            | 4.58                \n",
      " total_amount          | 22.88               \n",
      " day_of_week           | Tue                 \n",
      " is_weekend            | false               \n",
      " trip_length           | 25.3833             \n",
      " Date                  | 2018-12-25          \n",
      " Start(ET)             | 12:00               \n",
      " Attendance            | 19812               \n",
      " Win                   | false               \n",
      " margin_victory/loss   | -14                 \n",
      "only showing top 1 row\n",
      "\n"
     ]
    },
    {
     "name": "stderr",
     "output_type": "stream",
     "text": [
      "\r",
      "                                                                                \r"
     ]
    }
   ],
   "source": [
    "yellow = yellow.withColumn(\n",
    "    'Win',\n",
    "    (F.col(\"Win\") == 'Yes').cast('BOOLEAN')\n",
    ")\n",
    "\n",
    "yellow.show(1, vertical=True, truncate=100)"
   ]
  },
  {
   "cell_type": "code",
   "execution_count": 4,
   "id": "c530189d",
   "metadata": {},
   "outputs": [
    {
     "name": "stderr",
     "output_type": "stream",
     "text": [
      "                                                                                \r"
     ]
    },
    {
     "data": {
      "text/html": [
       "<table border='1'>\n",
       "<tr><th>Date</th><th>count</th></tr>\n",
       "<tr><td>2018-10-17</td><td>182129</td></tr>\n",
       "<tr><td>2018-10-20</td><td>169804</td></tr>\n",
       "<tr><td>2018-10-26</td><td>181843</td></tr>\n",
       "<tr><td>2018-10-29</td><td>156363</td></tr>\n",
       "<tr><td>2018-10-31</td><td>164490</td></tr>\n",
       "<tr><td>2018-11-05</td><td>161472</td></tr>\n",
       "<tr><td>2018-11-11</td><td>148113</td></tr>\n",
       "<tr><td>2018-11-20</td><td>166765</td></tr>\n",
       "<tr><td>2018-11-23</td><td>99489</td></tr>\n",
       "<tr><td>2018-12-01</td><td>180716</td></tr>\n",
       "<tr><td>2018-12-03</td><td>157951</td></tr>\n",
       "<tr><td>2018-12-08</td><td>177893</td></tr>\n",
       "<tr><td>2018-12-09</td><td>150746</td></tr>\n",
       "<tr><td>2018-12-17</td><td>166478</td></tr>\n",
       "<tr><td>2018-12-21</td><td>171904</td></tr>\n",
       "<tr><td>2018-12-25</td><td>56868</td></tr>\n",
       "<tr><td>2019-01-11</td><td>180695</td></tr>\n",
       "<tr><td>2019-01-13</td><td>140161</td></tr>\n",
       "<tr><td>2019-01-21</td><td>113949</td></tr>\n",
       "<tr><td>2019-01-23</td><td>164238</td></tr>\n",
       "</table>\n",
       "only showing top 20 rows\n"
      ],
      "text/plain": [
       "+----------+------+\n",
       "|      Date| count|\n",
       "+----------+------+\n",
       "|2018-10-17|182129|\n",
       "|2018-10-20|169804|\n",
       "|2018-10-26|181843|\n",
       "|2018-10-29|156363|\n",
       "|2018-10-31|164490|\n",
       "|2018-11-05|161472|\n",
       "|2018-11-11|148113|\n",
       "|2018-11-20|166765|\n",
       "|2018-11-23| 99489|\n",
       "|2018-12-01|180716|\n",
       "|2018-12-03|157951|\n",
       "|2018-12-08|177893|\n",
       "|2018-12-09|150746|\n",
       "|2018-12-17|166478|\n",
       "|2018-12-21|171904|\n",
       "|2018-12-25| 56868|\n",
       "|2019-01-11|180695|\n",
       "|2019-01-13|140161|\n",
       "|2019-01-21|113949|\n",
       "|2019-01-23|164238|\n",
       "+----------+------+\n",
       "only showing top 20 rows"
      ]
     },
     "execution_count": 4,
     "metadata": {},
     "output_type": "execute_result"
    }
   ],
   "source": [
    "yellow.groupBy('Date').count().orderBy('Date')\n"
   ]
  },
  {
   "cell_type": "code",
   "execution_count": 5,
   "id": "8dc5b9ae",
   "metadata": {},
   "outputs": [],
   "source": [
    "# converts the pickup_hours into categorical data as there are correlation that could be seen from analysis\n",
    "\n",
    "# drop the tpep pickup and dropoff columns\n",
    "\n",
    "yellow = yellow.withColumn('pickup_hour', hour(\"tpep_pickup_datetime\"))\n",
    "yellow = yellow.withColumn('dropoff_hour', hour(\"tpep_dropoff_datetime\"))\n",
    "\n",
    "yellow = yellow.drop('tpep_pickup_datetime', 'tpep_dropoff_datetime')"
   ]
  },
  {
   "cell_type": "code",
   "execution_count": 6,
   "id": "76935103",
   "metadata": {},
   "outputs": [],
   "source": [
    "# pick 2018-11-20 as train set after randomly picking it manually\n",
    "yellow_train = yellow.where((F.col('Date') == '2018-11-20'))\n",
    "\n",
    "# pick 2018-11-23 as the test set as it is the next game date after 2018-11-20\n",
    "yellow_test = yellow.where((F.col('Date') == '2018-11-23'))\n",
    "\n"
   ]
  },
  {
   "cell_type": "code",
   "execution_count": 7,
   "id": "e76d4294",
   "metadata": {},
   "outputs": [],
   "source": [
    "yellow_train = yellow_train.drop('Date','Start(ET)')"
   ]
  },
  {
   "cell_type": "code",
   "execution_count": 8,
   "id": "aa8b078e",
   "metadata": {},
   "outputs": [],
   "source": [
    "yellow_test = yellow_test.drop('Date', 'Start(ET)')"
   ]
  },
  {
   "cell_type": "code",
   "execution_count": 9,
   "id": "983a3100",
   "metadata": {},
   "outputs": [
    {
     "data": {
      "text/html": [
       "<table border='1'>\n",
       "<tr><th>trip_distance</th><th>PULocationID</th><th>DOLocationID</th><th>fare_amount</th><th>tip_amount</th><th>total_amount</th><th>day_of_week</th><th>is_weekend</th><th>trip_length</th><th>Attendance</th><th>Win</th><th>margin_victory/loss</th><th>pickup_hour</th><th>dropoff_hour</th></tr>\n",
       "<tr><td>0.88</td><td>79</td><td>249</td><td>6.5</td><td>1.82</td><td>9.12</td><td>Tue</td><td>false</td><td>6.8333</td><td>19812</td><td>false</td><td>-4</td><td>11</td><td>11</td></tr>\n",
       "<tr><td>1.79</td><td>90</td><td>211</td><td>10.0</td><td>2.16</td><td>12.96</td><td>Tue</td><td>false</td><td>13.3333</td><td>19812</td><td>false</td><td>-4</td><td>13</td><td>13</td></tr>\n",
       "<tr><td>1.36</td><td>211</td><td>90</td><td>7.0</td><td>1.0</td><td>8.8</td><td>Tue</td><td>false</td><td>7.8667</td><td>19812</td><td>false</td><td>-4</td><td>13</td><td>13</td></tr>\n",
       "<tr><td>1.48</td><td>100</td><td>170</td><td>17.5</td><td>0.0</td><td>18.3</td><td>Tue</td><td>false</td><td>35.6</td><td>19812</td><td>false</td><td>-4</td><td>14</td><td>14</td></tr>\n",
       "<tr><td>0.78</td><td>170</td><td>234</td><td>6.0</td><td>2.04</td><td>8.84</td><td>Tue</td><td>false</td><td>6.6333</td><td>19812</td><td>false</td><td>-4</td><td>14</td><td>14</td></tr>\n",
       "<tr><td>2.19</td><td>234</td><td>246</td><td>15.0</td><td>2.0</td><td>17.8</td><td>Tue</td><td>false</td><td>22.9167</td><td>19812</td><td>false</td><td>-4</td><td>14</td><td>15</td></tr>\n",
       "<tr><td>1.84</td><td>158</td><td>144</td><td>13.5</td><td>2.86</td><td>17.16</td><td>Tue</td><td>false</td><td>20.1</td><td>19812</td><td>false</td><td>-4</td><td>15</td><td>15</td></tr>\n",
       "<tr><td>2.65</td><td>140</td><td>239</td><td>13.5</td><td>2.5</td><td>16.8</td><td>Tue</td><td>false</td><td>18.65</td><td>19812</td><td>false</td><td>-4</td><td>19</td><td>19</td></tr>\n",
       "<tr><td>2.16</td><td>239</td><td>41</td><td>11.5</td><td>1.0</td><td>13.3</td><td>Tue</td><td>false</td><td>15.6833</td><td>19812</td><td>false</td><td>-4</td><td>19</td><td>19</td></tr>\n",
       "<tr><td>1.04</td><td>41</td><td>74</td><td>5.5</td><td>1.26</td><td>7.56</td><td>Tue</td><td>false</td><td>4.9333</td><td>19812</td><td>false</td><td>-4</td><td>19</td><td>19</td></tr>\n",
       "<tr><td>0.58</td><td>263</td><td>236</td><td>4.0</td><td>0.96</td><td>5.76</td><td>Tue</td><td>false</td><td>3.15</td><td>19812</td><td>false</td><td>-4</td><td>20</td><td>20</td></tr>\n",
       "<tr><td>2.76</td><td>186</td><td>43</td><td>14.5</td><td>3.18</td><td>18.48</td><td>Tue</td><td>false</td><td>19.0667</td><td>19812</td><td>false</td><td>-4</td><td>21</td><td>21</td></tr>\n",
       "<tr><td>0.76</td><td>75</td><td>263</td><td>5.5</td><td>0.63</td><td>6.93</td><td>Tue</td><td>false</td><td>5.3667</td><td>19812</td><td>false</td><td>-4</td><td>22</td><td>22</td></tr>\n",
       "<tr><td>1.27</td><td>263</td><td>239</td><td>7.0</td><td>1.95</td><td>9.75</td><td>Tue</td><td>false</td><td>7.4</td><td>19812</td><td>false</td><td>-4</td><td>22</td><td>22</td></tr>\n",
       "<tr><td>1.96</td><td>170</td><td>48</td><td>9.0</td><td>2.06</td><td>12.36</td><td>Tue</td><td>false</td><td>10.1833</td><td>19812</td><td>false</td><td>-4</td><td>0</td><td>0</td></tr>\n",
       "<tr><td>0.96</td><td>162</td><td>170</td><td>5.5</td><td>1.36</td><td>8.16</td><td>Tue</td><td>false</td><td>4.2167</td><td>19812</td><td>false</td><td>-4</td><td>0</td><td>0</td></tr>\n",
       "<tr><td>2.18</td><td>163</td><td>236</td><td>8.0</td><td>2.0</td><td>11.3</td><td>Tue</td><td>false</td><td>6.0167</td><td>19812</td><td>false</td><td>-4</td><td>0</td><td>0</td></tr>\n",
       "<tr><td>5.22</td><td>141</td><td>129</td><td>18.0</td><td>3.86</td><td>23.16</td><td>Tue</td><td>false</td><td>18.4167</td><td>19812</td><td>false</td><td>-4</td><td>0</td><td>0</td></tr>\n",
       "<tr><td>4.26</td><td>107</td><td>143</td><td>15.0</td><td>2.2</td><td>18.5</td><td>Tue</td><td>false</td><td>15.55</td><td>19812</td><td>false</td><td>-4</td><td>0</td><td>0</td></tr>\n",
       "<tr><td>1.14</td><td>68</td><td>48</td><td>5.0</td><td>1.25</td><td>7.55</td><td>Tue</td><td>false</td><td>3.1833</td><td>19812</td><td>false</td><td>-4</td><td>0</td><td>0</td></tr>\n",
       "</table>\n",
       "only showing top 20 rows\n"
      ],
      "text/plain": [
       "+-------------+------------+------------+-----------+----------+------------+-----------+----------+-----------+----------+-----+-------------------+-----------+------------+\n",
       "|trip_distance|PULocationID|DOLocationID|fare_amount|tip_amount|total_amount|day_of_week|is_weekend|trip_length|Attendance|  Win|margin_victory/loss|pickup_hour|dropoff_hour|\n",
       "+-------------+------------+------------+-----------+----------+------------+-----------+----------+-----------+----------+-----+-------------------+-----------+------------+\n",
       "|         0.88|          79|         249|        6.5|      1.82|        9.12|        Tue|     false|     6.8333|     19812|false|                 -4|         11|          11|\n",
       "|         1.79|          90|         211|       10.0|      2.16|       12.96|        Tue|     false|    13.3333|     19812|false|                 -4|         13|          13|\n",
       "|         1.36|         211|          90|        7.0|       1.0|         8.8|        Tue|     false|     7.8667|     19812|false|                 -4|         13|          13|\n",
       "|         1.48|         100|         170|       17.5|       0.0|        18.3|        Tue|     false|       35.6|     19812|false|                 -4|         14|          14|\n",
       "|         0.78|         170|         234|        6.0|      2.04|        8.84|        Tue|     false|     6.6333|     19812|false|                 -4|         14|          14|\n",
       "|         2.19|         234|         246|       15.0|       2.0|        17.8|        Tue|     false|    22.9167|     19812|false|                 -4|         14|          15|\n",
       "|         1.84|         158|         144|       13.5|      2.86|       17.16|        Tue|     false|       20.1|     19812|false|                 -4|         15|          15|\n",
       "|         2.65|         140|         239|       13.5|       2.5|        16.8|        Tue|     false|      18.65|     19812|false|                 -4|         19|          19|\n",
       "|         2.16|         239|          41|       11.5|       1.0|        13.3|        Tue|     false|    15.6833|     19812|false|                 -4|         19|          19|\n",
       "|         1.04|          41|          74|        5.5|      1.26|        7.56|        Tue|     false|     4.9333|     19812|false|                 -4|         19|          19|\n",
       "|         0.58|         263|         236|        4.0|      0.96|        5.76|        Tue|     false|       3.15|     19812|false|                 -4|         20|          20|\n",
       "|         2.76|         186|          43|       14.5|      3.18|       18.48|        Tue|     false|    19.0667|     19812|false|                 -4|         21|          21|\n",
       "|         0.76|          75|         263|        5.5|      0.63|        6.93|        Tue|     false|     5.3667|     19812|false|                 -4|         22|          22|\n",
       "|         1.27|         263|         239|        7.0|      1.95|        9.75|        Tue|     false|        7.4|     19812|false|                 -4|         22|          22|\n",
       "|         1.96|         170|          48|        9.0|      2.06|       12.36|        Tue|     false|    10.1833|     19812|false|                 -4|          0|           0|\n",
       "|         0.96|         162|         170|        5.5|      1.36|        8.16|        Tue|     false|     4.2167|     19812|false|                 -4|          0|           0|\n",
       "|         2.18|         163|         236|        8.0|       2.0|        11.3|        Tue|     false|     6.0167|     19812|false|                 -4|          0|           0|\n",
       "|         5.22|         141|         129|       18.0|      3.86|       23.16|        Tue|     false|    18.4167|     19812|false|                 -4|          0|           0|\n",
       "|         4.26|         107|         143|       15.0|       2.2|        18.5|        Tue|     false|      15.55|     19812|false|                 -4|          0|           0|\n",
       "|         1.14|          68|          48|        5.0|      1.25|        7.55|        Tue|     false|     3.1833|     19812|false|                 -4|          0|           0|\n",
       "+-------------+------------+------------+-----------+----------+------------+-----------+----------+-----------+----------+-----+-------------------+-----------+------------+\n",
       "only showing top 20 rows"
      ]
     },
     "execution_count": 9,
     "metadata": {},
     "output_type": "execute_result"
    }
   ],
   "source": [
    "yellow_train"
   ]
  },
  {
   "cell_type": "code",
   "execution_count": 16,
   "id": "c06b6a35",
   "metadata": {},
   "outputs": [
    {
     "name": "stdout",
     "output_type": "stream",
     "text": [
      "+--------------------+----------+\n",
      "|            features|tip_amount|\n",
      "+--------------------+----------+\n",
      "|[6.5,0.88,9.12,0....|      1.82|\n",
      "|[10.0,1.79,12.96,...|      2.16|\n",
      "|[7.0,1.36,8.8,0.0...|       1.0|\n",
      "+--------------------+----------+\n",
      "only showing top 3 rows\n",
      "\n"
     ]
    }
   ],
   "source": [
    "from pyspark.ml.feature import VectorAssembler\n",
    "\n",
    "features = 'features'\n",
    "\n",
    "input_cols = ['fare_amount', 'trip_distance', 'total_amount', 'is_weekend', 'trip_length', 'Attendance', 'Win', 'margin_victory/loss',\n",
    "             'PULocationID', 'DOLocationID', 'pickup_hour', 'dropoff_hour']\n",
    "\n",
    "vectorAssembler = VectorAssembler(\n",
    "    inputCols = input_cols, \n",
    "    outputCol = features)\n",
    "\n",
    "v_yellow_train = vectorAssembler.transform(yellow_train.dropna('any'))\n",
    "\n",
    "v_yellow_train = v_yellow_train.select(['features', 'tip_amount'])\n",
    "\n",
    "v_yellow_train.show(3)"
   ]
  },
  {
   "cell_type": "code",
   "execution_count": 17,
   "id": "22e20add",
   "metadata": {},
   "outputs": [
    {
     "name": "stdout",
     "output_type": "stream",
     "text": [
      "22/08/21 16:44:33 WARN Instrumentation: [31a17585] regParam is zero, which might cause numerical instability and overfitting.\n"
     ]
    },
    {
     "name": "stderr",
     "output_type": "stream",
     "text": [
      "                                                                                \r"
     ]
    },
    {
     "name": "stdout",
     "output_type": "stream",
     "text": [
      "22/08/21 16:44:35 WARN Instrumentation: [31a17585] Cholesky solver failed due to singular covariance matrix. Retrying with Quasi-Newton solver.\n"
     ]
    },
    {
     "name": "stderr",
     "output_type": "stream",
     "text": [
      "                                                                                \r"
     ]
    }
   ],
   "source": [
    "from pyspark.ml.regression import LinearRegression\n",
    "lm = LinearRegression(\n",
    "    featuresCol='features', \n",
    "    labelCol='tip_amount'\n",
    ").fit(v_yellow_train)\n"
   ]
  },
  {
   "cell_type": "code",
   "execution_count": 18,
   "id": "ea2b5228",
   "metadata": {},
   "outputs": [
    {
     "data": {
      "text/html": [
       "<div>\n",
       "<style scoped>\n",
       "    .dataframe tbody tr th:only-of-type {\n",
       "        vertical-align: middle;\n",
       "    }\n",
       "\n",
       "    .dataframe tbody tr th {\n",
       "        vertical-align: top;\n",
       "    }\n",
       "\n",
       "    .dataframe thead th {\n",
       "        text-align: right;\n",
       "    }\n",
       "</style>\n",
       "<table border=\"1\" class=\"dataframe\">\n",
       "  <thead>\n",
       "    <tr style=\"text-align: right;\">\n",
       "      <th></th>\n",
       "      <th>coefficient</th>\n",
       "    </tr>\n",
       "  </thead>\n",
       "  <tbody>\n",
       "    <tr>\n",
       "      <th>intercept</th>\n",
       "      <td>-0.472782</td>\n",
       "    </tr>\n",
       "    <tr>\n",
       "      <th>fare_amount</th>\n",
       "      <td>-0.712973</td>\n",
       "    </tr>\n",
       "    <tr>\n",
       "      <th>trip_distance</th>\n",
       "      <td>-0.000818</td>\n",
       "    </tr>\n",
       "    <tr>\n",
       "      <th>total_amount</th>\n",
       "      <td>0.687725</td>\n",
       "    </tr>\n",
       "    <tr>\n",
       "      <th>is_weekend</th>\n",
       "      <td>0.000000</td>\n",
       "    </tr>\n",
       "    <tr>\n",
       "      <th>trip_length</th>\n",
       "      <td>0.043450</td>\n",
       "    </tr>\n",
       "    <tr>\n",
       "      <th>Attendance</th>\n",
       "      <td>0.000000</td>\n",
       "    </tr>\n",
       "    <tr>\n",
       "      <th>Win</th>\n",
       "      <td>0.000000</td>\n",
       "    </tr>\n",
       "    <tr>\n",
       "      <th>margin_victory/loss</th>\n",
       "      <td>0.000000</td>\n",
       "    </tr>\n",
       "    <tr>\n",
       "      <th>PULocationID</th>\n",
       "      <td>-0.000054</td>\n",
       "    </tr>\n",
       "    <tr>\n",
       "      <th>DOLocationID</th>\n",
       "      <td>-0.000003</td>\n",
       "    </tr>\n",
       "  </tbody>\n",
       "</table>\n",
       "</div>"
      ],
      "text/plain": [
       "                     coefficient\n",
       "intercept              -0.472782\n",
       "fare_amount            -0.712973\n",
       "trip_distance          -0.000818\n",
       "total_amount            0.687725\n",
       "is_weekend              0.000000\n",
       "trip_length             0.043450\n",
       "Attendance              0.000000\n",
       "Win                     0.000000\n",
       "margin_victory/loss     0.000000\n",
       "PULocationID           -0.000054\n",
       "DOLocationID           -0.000003"
      ]
     },
     "execution_count": 18,
     "metadata": {},
     "output_type": "execute_result"
    }
   ],
   "source": [
    "# Access coefficients\n",
    "pd.DataFrame(\n",
    "    data=[lm.intercept] + list(lm.coefficients),\n",
    "    index=['intercept'] + input_cols,\n",
    "    columns=['coefficient']\n",
    ")"
   ]
  },
  {
   "cell_type": "code",
   "execution_count": null,
   "id": "e5ce8ef6",
   "metadata": {},
   "outputs": [],
   "source": []
  }
 ],
 "metadata": {
  "kernelspec": {
   "display_name": "Python 3 (ipykernel)",
   "language": "python",
   "name": "python3"
  },
  "language_info": {
   "codemirror_mode": {
    "name": "ipython",
    "version": 3
   },
   "file_extension": ".py",
   "mimetype": "text/x-python",
   "name": "python",
   "nbconvert_exporter": "python",
   "pygments_lexer": "ipython3",
   "version": "3.8.10"
  }
 },
 "nbformat": 4,
 "nbformat_minor": 5
}
