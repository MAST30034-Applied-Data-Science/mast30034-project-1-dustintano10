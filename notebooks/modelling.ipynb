{
 "cells": [
  {
   "cell_type": "code",
   "execution_count": 1,
   "id": "b7b7c16c",
   "metadata": {},
   "outputs": [
    {
     "name": "stdout",
     "output_type": "stream",
     "text": [
      "22/08/24 20:45:29 WARN Utils: Your hostname, DESKTOP-3ADPNV0 resolves to a loopback address: 127.0.1.1; using 172.25.24.22 instead (on interface eth0)\n",
      "22/08/24 20:45:29 WARN Utils: Set SPARK_LOCAL_IP if you need to bind to another address\n"
     ]
    },
    {
     "name": "stderr",
     "output_type": "stream",
     "text": [
      "Setting default log level to \"WARN\".\n",
      "To adjust logging level use sc.setLogLevel(newLevel). For SparkR, use setLogLevel(newLevel).\n"
     ]
    },
    {
     "name": "stdout",
     "output_type": "stream",
     "text": [
      "22/08/24 20:45:32 WARN NativeCodeLoader: Unable to load native-hadoop library for your platform... using builtin-java classes where applicable\n",
      "22/08/24 20:45:35 WARN Utils: Service 'SparkUI' could not bind on port 4040. Attempting port 4041.\n",
      "22/08/24 20:45:35 WARN Utils: Service 'SparkUI' could not bind on port 4041. Attempting port 4042.\n"
     ]
    }
   ],
   "source": [
    "from pyspark.sql import SparkSession, functions as F\n",
    "from pyspark.sql.functions import *\n",
    "\n",
    "# Cell to create a spark session\n",
    "spark = (\n",
    "    SparkSession.builder.appName(\"MAST30034 ASSIGNMENT 1 DUSTIN\")\n",
    "    .config(\"spark.sql.repl.eagerEval.enabled\", True) \n",
    "    .config(\"spark.sql.parquet.cacheMetadata\", \"true\")\n",
    "    .config(\"spark.sql.session.timeZone\", \"Etc/UTC\")\n",
    "    .config(\"spark.executor.memory\", \"2g\")\n",
    "    .config(\"spark.driver.memory\", \"4g\")\n",
    "    .getOrCreate()\n",
    ")"
   ]
  },
  {
   "cell_type": "code",
   "execution_count": 2,
   "id": "61d0a36a",
   "metadata": {},
   "outputs": [],
   "source": [
    "import pandas as pd\n",
    "import statsmodels.api as sm"
   ]
  },
  {
   "cell_type": "code",
   "execution_count": 3,
   "id": "0d040657",
   "metadata": {},
   "outputs": [
    {
     "name": "stderr",
     "output_type": "stream",
     "text": [
      "                                                                                \r"
     ]
    }
   ],
   "source": [
    "yellow = spark.read.parquet('../../mast30034-project-1-dustintano10/data/curated/yellow/yellow_credit')"
   ]
  },
  {
   "cell_type": "code",
   "execution_count": 4,
   "id": "b8f7cdbe",
   "metadata": {},
   "outputs": [],
   "source": [
    "# converts the booleans into 0 and 1's\n",
    "# convert the location ID's into strings for one hot encoding\n",
    "\n",
    "yellow = yellow.withColumn('pickup_hour', hour(\"tpep_pickup_datetime\"))\n",
    "\n",
    "yellow = yellow.withColumn('dropoff_hour', hour(\"tpep_dropoff_datetime\"))\n",
    "\n",
    "yellow = yellow.withColumn('is_weekend', F.when(yellow.is_weekend == 'false', 0).otherwise(1))\n",
    "\n",
    "yellow = yellow.withColumn('Win', F.when(yellow.Win == 'No', 0).otherwise(1))\n",
    "\n",
    "yellow = yellow.withColumn('PULocationID', F.col('PULocationID').cast('STRING'))\n",
    "\n",
    "yellow = yellow.withColumn('DOLocationID', F.col('PULocationID').cast('STRING'))"
   ]
  },
  {
   "cell_type": "code",
   "execution_count": 5,
   "id": "e4b86d51",
   "metadata": {},
   "outputs": [
    {
     "name": "stderr",
     "output_type": "stream",
     "text": [
      "                                                                                \r"
     ]
    },
    {
     "data": {
      "text/html": [
       "<table border='1'>\n",
       "<tr><th>tpep_pickup_datetime</th><th>tpep_dropoff_datetime</th><th>trip_distance</th><th>PULocationID</th><th>DOLocationID</th><th>fare_amount</th><th>tip_amount</th><th>tolls_amount</th><th>total_amount</th><th>is_weekend</th><th>trip_length</th><th>Date</th><th>Start(ET)</th><th>Attendance</th><th>Win</th><th>margin_victory/loss</th><th>pickup_hour</th><th>dropoff_hour</th><th>PULocationID_NUMERIC</th><th>DOLocationID_NUMERIC</th><th>Start(ET)_NUMERIC</th></tr>\n",
       "<tr><td>2018-12-25 00:39:10</td><td>2018-12-25 01:04:33</td><td>2.56</td><td>162</td><td>162</td><td>16.5</td><td>4.58</td><td>0.0</td><td>22.88</td><td>0</td><td>25.3833</td><td>2018-12-25</td><td>12:00</td><td>19812</td><td>0</td><td>-14</td><td>0</td><td>1</td><td>3.0</td><td>3.0</td><td>1.0</td></tr>\n",
       "<tr><td>2018-12-25 09:08:51</td><td>2018-12-25 09:13:27</td><td>0.9</td><td>163</td><td>163</td><td>5.0</td><td>1.45</td><td>0.0</td><td>7.25</td><td>0</td><td>4.6</td><td>2018-12-25</td><td>12:00</td><td>19812</td><td>0</td><td>-14</td><td>9</td><td>9</td><td>14.0</td><td>14.0</td><td>1.0</td></tr>\n",
       "<tr><td>2018-12-25 10:29:03</td><td>2018-12-25 10:31:40</td><td>0.63</td><td>100</td><td>100</td><td>4.0</td><td>0.96</td><td>0.0</td><td>5.76</td><td>0</td><td>2.6167</td><td>2018-12-25</td><td>12:00</td><td>19812</td><td>0</td><td>-14</td><td>10</td><td>10</td><td>23.0</td><td>23.0</td><td>1.0</td></tr>\n",
       "<tr><td>2018-12-25 15:52:23</td><td>2018-12-25 16:07:03</td><td>2.13</td><td>162</td><td>162</td><td>11.5</td><td>1.0</td><td>0.0</td><td>13.3</td><td>0</td><td>14.6667</td><td>2018-12-25</td><td>12:00</td><td>19812</td><td>0</td><td>-14</td><td>15</td><td>16</td><td>3.0</td><td>3.0</td><td>1.0</td></tr>\n",
       "<tr><td>2018-12-25 00:31:15</td><td>2018-12-25 00:42:04</td><td>2.88</td><td>230</td><td>230</td><td>11.0</td><td>2.36</td><td>0.0</td><td>14.16</td><td>0</td><td>10.8167</td><td>2018-12-25</td><td>12:00</td><td>19812</td><td>0</td><td>-14</td><td>0</td><td>0</td><td>10.0</td><td>10.0</td><td>1.0</td></tr>\n",
       "<tr><td>2018-12-25 00:51:53</td><td>2018-12-25 00:58:03</td><td>0.98</td><td>161</td><td>161</td><td>6.0</td><td>1.36</td><td>0.0</td><td>8.16</td><td>0</td><td>6.1667</td><td>2018-12-25</td><td>12:00</td><td>19812</td><td>0</td><td>-14</td><td>0</td><td>0</td><td>2.0</td><td>2.0</td><td>1.0</td></tr>\n",
       "<tr><td>2018-12-25 03:53:56</td><td>2018-12-25 04:06:21</td><td>1.64</td><td>246</td><td>246</td><td>9.5</td><td>0.0</td><td>0.0</td><td>10.3</td><td>0</td><td>12.4167</td><td>2018-12-25</td><td>12:00</td><td>19812</td><td>0</td><td>-14</td><td>3</td><td>4</td><td>26.0</td><td>26.0</td><td>1.0</td></tr>\n",
       "<tr><td>2018-12-25 17:03:49</td><td>2018-12-25 17:07:48</td><td>0.83</td><td>237</td><td>237</td><td>5.0</td><td>2.0</td><td>0.0</td><td>7.8</td><td>0</td><td>3.9833</td><td>2018-12-25</td><td>12:00</td><td>19812</td><td>0</td><td>-14</td><td>17</td><td>17</td><td>0.0</td><td>0.0</td><td>1.0</td></tr>\n",
       "<tr><td>2018-12-25 17:38:54</td><td>2018-12-25 17:42:43</td><td>1.1</td><td>237</td><td>237</td><td>5.5</td><td>1.58</td><td>0.0</td><td>7.88</td><td>0</td><td>3.8167</td><td>2018-12-25</td><td>12:00</td><td>19812</td><td>0</td><td>-14</td><td>17</td><td>17</td><td>0.0</td><td>0.0</td><td>1.0</td></tr>\n",
       "<tr><td>2018-12-25 19:48:14</td><td>2018-12-25 19:51:23</td><td>0.71</td><td>114</td><td>114</td><td>4.5</td><td>1.06</td><td>0.0</td><td>6.36</td><td>0</td><td>3.15</td><td>2018-12-25</td><td>12:00</td><td>19812</td><td>0</td><td>-14</td><td>19</td><td>19</td><td>28.0</td><td>28.0</td><td>1.0</td></tr>\n",
       "</table>\n"
      ],
      "text/plain": [
       "+--------------------+---------------------+-------------+------------+------------+-----------+----------+------------+------------+----------+-----------+----------+---------+----------+---+-------------------+-----------+------------+--------------------+--------------------+-----------------+\n",
       "|tpep_pickup_datetime|tpep_dropoff_datetime|trip_distance|PULocationID|DOLocationID|fare_amount|tip_amount|tolls_amount|total_amount|is_weekend|trip_length|      Date|Start(ET)|Attendance|Win|margin_victory/loss|pickup_hour|dropoff_hour|PULocationID_NUMERIC|DOLocationID_NUMERIC|Start(ET)_NUMERIC|\n",
       "+--------------------+---------------------+-------------+------------+------------+-----------+----------+------------+------------+----------+-----------+----------+---------+----------+---+-------------------+-----------+------------+--------------------+--------------------+-----------------+\n",
       "| 2018-12-25 00:39:10|  2018-12-25 01:04:33|         2.56|         162|         162|       16.5|      4.58|         0.0|       22.88|         0|    25.3833|2018-12-25|    12:00|     19812|  0|                -14|          0|           1|                 3.0|                 3.0|              1.0|\n",
       "| 2018-12-25 09:08:51|  2018-12-25 09:13:27|          0.9|         163|         163|        5.0|      1.45|         0.0|        7.25|         0|        4.6|2018-12-25|    12:00|     19812|  0|                -14|          9|           9|                14.0|                14.0|              1.0|\n",
       "| 2018-12-25 10:29:03|  2018-12-25 10:31:40|         0.63|         100|         100|        4.0|      0.96|         0.0|        5.76|         0|     2.6167|2018-12-25|    12:00|     19812|  0|                -14|         10|          10|                23.0|                23.0|              1.0|\n",
       "| 2018-12-25 15:52:23|  2018-12-25 16:07:03|         2.13|         162|         162|       11.5|       1.0|         0.0|        13.3|         0|    14.6667|2018-12-25|    12:00|     19812|  0|                -14|         15|          16|                 3.0|                 3.0|              1.0|\n",
       "| 2018-12-25 00:31:15|  2018-12-25 00:42:04|         2.88|         230|         230|       11.0|      2.36|         0.0|       14.16|         0|    10.8167|2018-12-25|    12:00|     19812|  0|                -14|          0|           0|                10.0|                10.0|              1.0|\n",
       "| 2018-12-25 00:51:53|  2018-12-25 00:58:03|         0.98|         161|         161|        6.0|      1.36|         0.0|        8.16|         0|     6.1667|2018-12-25|    12:00|     19812|  0|                -14|          0|           0|                 2.0|                 2.0|              1.0|\n",
       "| 2018-12-25 03:53:56|  2018-12-25 04:06:21|         1.64|         246|         246|        9.5|       0.0|         0.0|        10.3|         0|    12.4167|2018-12-25|    12:00|     19812|  0|                -14|          3|           4|                26.0|                26.0|              1.0|\n",
       "| 2018-12-25 17:03:49|  2018-12-25 17:07:48|         0.83|         237|         237|        5.0|       2.0|         0.0|         7.8|         0|     3.9833|2018-12-25|    12:00|     19812|  0|                -14|         17|          17|                 0.0|                 0.0|              1.0|\n",
       "| 2018-12-25 17:38:54|  2018-12-25 17:42:43|          1.1|         237|         237|        5.5|      1.58|         0.0|        7.88|         0|     3.8167|2018-12-25|    12:00|     19812|  0|                -14|         17|          17|                 0.0|                 0.0|              1.0|\n",
       "| 2018-12-25 19:48:14|  2018-12-25 19:51:23|         0.71|         114|         114|        4.5|      1.06|         0.0|        6.36|         0|       3.15|2018-12-25|    12:00|     19812|  0|                -14|         19|          19|                28.0|                28.0|              1.0|\n",
       "+--------------------+---------------------+-------------+------------+------------+-----------+----------+------------+------------+----------+-----------+----------+---------+----------+---+-------------------+-----------+------------+--------------------+--------------------+-----------------+"
      ]
     },
     "execution_count": 5,
     "metadata": {},
     "output_type": "execute_result"
    }
   ],
   "source": [
    "# code to one hot encode the categorical attributes\n",
    "\n",
    "from pyspark.ml.feature import StringIndexer, OneHotEncoder\n",
    "from pyspark.ml import Pipeline\n",
    "\n",
    "\n",
    "categorical = ['PULocationID', 'DOLocationID', 'Start(ET)']\n",
    "\n",
    "indexers = []\n",
    "\n",
    "for column in categorical:\n",
    "    indexers.append(StringIndexer(inputCol=column, outputCol=column+\"_NUMERIC\").fit(yellow))\n",
    "    \n",
    "pipeline = Pipeline(stages=indexers)\n",
    "yellow_indexed = pipeline.fit(yellow).transform(yellow)\n",
    "yellow_indexed.limit(10)"
   ]
  },
  {
   "cell_type": "code",
   "execution_count": 6,
   "id": "e12f904a",
   "metadata": {},
   "outputs": [
    {
     "name": "stderr",
     "output_type": "stream",
     "text": [
      "                                                                                \r"
     ]
    }
   ],
   "source": [
    "# take a sample of the indexed dataframe\n",
    "\n",
    "SAMPLE_SIZE = 0.10\n",
    "\n",
    "yellow_indexed_sample = yellow_indexed.sample(SAMPLE_SIZE, seed=0)\n",
    "\n",
    "sample_pandas = yellow_indexed_sample.toPandas()"
   ]
  },
  {
   "cell_type": "code",
   "execution_count": 7,
   "id": "1d154587",
   "metadata": {},
   "outputs": [
    {
     "data": {
      "text/html": [
       "<div>\n",
       "<style scoped>\n",
       "    .dataframe tbody tr th:only-of-type {\n",
       "        vertical-align: middle;\n",
       "    }\n",
       "\n",
       "    .dataframe tbody tr th {\n",
       "        vertical-align: top;\n",
       "    }\n",
       "\n",
       "    .dataframe thead th {\n",
       "        text-align: right;\n",
       "    }\n",
       "</style>\n",
       "<table border=\"1\" class=\"dataframe\">\n",
       "  <thead>\n",
       "    <tr style=\"text-align: right;\">\n",
       "      <th></th>\n",
       "      <th>fare_amount</th>\n",
       "      <th>tolls_amount</th>\n",
       "      <th>total_amount</th>\n",
       "      <th>is_weekend</th>\n",
       "      <th>trip_length</th>\n",
       "      <th>Attendance</th>\n",
       "      <th>Win</th>\n",
       "      <th>margin_victory/loss</th>\n",
       "      <th>pickup_hour</th>\n",
       "      <th>dropoff_hour</th>\n",
       "      <th>PULocationID_NUMERIC</th>\n",
       "      <th>DOLocationID_NUMERIC</th>\n",
       "      <th>Start(ET)_NUMERIC</th>\n",
       "    </tr>\n",
       "  </thead>\n",
       "  <tbody>\n",
       "    <tr>\n",
       "      <th>mean</th>\n",
       "      <td>-0.0000</td>\n",
       "      <td>-0.0000</td>\n",
       "      <td>-0.0000</td>\n",
       "      <td>0.0000</td>\n",
       "      <td>-0.0000</td>\n",
       "      <td>-0.0000</td>\n",
       "      <td>-0.0000</td>\n",
       "      <td>-0.0000</td>\n",
       "      <td>0.0000</td>\n",
       "      <td>0.0000</td>\n",
       "      <td>0.0000</td>\n",
       "      <td>0.0000</td>\n",
       "      <td>-0.0000</td>\n",
       "    </tr>\n",
       "    <tr>\n",
       "      <th>std</th>\n",
       "      <td>1.0000</td>\n",
       "      <td>1.0000</td>\n",
       "      <td>1.0000</td>\n",
       "      <td>1.0000</td>\n",
       "      <td>1.0000</td>\n",
       "      <td>1.0000</td>\n",
       "      <td>1.0000</td>\n",
       "      <td>1.0000</td>\n",
       "      <td>1.0000</td>\n",
       "      <td>1.0000</td>\n",
       "      <td>1.0000</td>\n",
       "      <td>1.0000</td>\n",
       "      <td>1.0000</td>\n",
       "    </tr>\n",
       "  </tbody>\n",
       "</table>\n",
       "</div>"
      ],
      "text/plain": [
       "      fare_amount  tolls_amount  total_amount  is_weekend  trip_length  \\\n",
       "mean      -0.0000       -0.0000       -0.0000      0.0000      -0.0000   \n",
       "std        1.0000        1.0000        1.0000      1.0000       1.0000   \n",
       "\n",
       "      Attendance     Win  margin_victory/loss  pickup_hour  dropoff_hour  \\\n",
       "mean     -0.0000 -0.0000              -0.0000       0.0000        0.0000   \n",
       "std       1.0000  1.0000               1.0000       1.0000        1.0000   \n",
       "\n",
       "      PULocationID_NUMERIC  DOLocationID_NUMERIC  Start(ET)_NUMERIC  \n",
       "mean                0.0000                0.0000            -0.0000  \n",
       "std                 1.0000                1.0000             1.0000  "
      ]
     },
     "execution_count": 7,
     "metadata": {},
     "output_type": "execute_result"
    }
   ],
   "source": [
    "# standardized the x columns code from tutorial 2\n",
    "\n",
    "\n",
    "from scipy.stats import zscore\n",
    "\n",
    "x_cols = ['fare_amount','tolls_amount', 'total_amount', 'is_weekend', 'trip_length', \n",
    "          'Attendance', 'Win', 'margin_victory/loss','pickup_hour', 'dropoff_hour', \n",
    "          'PULocationID_NUMERIC', 'DOLocationID_NUMERIC', 'Start(ET)_NUMERIC']\n",
    "\n",
    "y_cols = ['tip_amount']\n",
    "\n",
    "df_standard = sample_pandas[x_cols].astype(float).apply(zscore)\n",
    "\n",
    "# format output to 4 decimal places\n",
    "pd.options.display.float_format = '{:,.4f}'.format\n",
    "df_standard.describe().loc[['mean','std']]\n",
    "\n"
   ]
  },
  {
   "cell_type": "code",
   "execution_count": 8,
   "id": "ea68fcc8",
   "metadata": {},
   "outputs": [
    {
     "data": {
      "text/html": [
       "<style>#sk-container-id-1 {color: black;background-color: white;}#sk-container-id-1 pre{padding: 0;}#sk-container-id-1 div.sk-toggleable {background-color: white;}#sk-container-id-1 label.sk-toggleable__label {cursor: pointer;display: block;width: 100%;margin-bottom: 0;padding: 0.3em;box-sizing: border-box;text-align: center;}#sk-container-id-1 label.sk-toggleable__label-arrow:before {content: \"▸\";float: left;margin-right: 0.25em;color: #696969;}#sk-container-id-1 label.sk-toggleable__label-arrow:hover:before {color: black;}#sk-container-id-1 div.sk-estimator:hover label.sk-toggleable__label-arrow:before {color: black;}#sk-container-id-1 div.sk-toggleable__content {max-height: 0;max-width: 0;overflow: hidden;text-align: left;background-color: #f0f8ff;}#sk-container-id-1 div.sk-toggleable__content pre {margin: 0.2em;color: black;border-radius: 0.25em;background-color: #f0f8ff;}#sk-container-id-1 input.sk-toggleable__control:checked~div.sk-toggleable__content {max-height: 200px;max-width: 100%;overflow: auto;}#sk-container-id-1 input.sk-toggleable__control:checked~label.sk-toggleable__label-arrow:before {content: \"▾\";}#sk-container-id-1 div.sk-estimator input.sk-toggleable__control:checked~label.sk-toggleable__label {background-color: #d4ebff;}#sk-container-id-1 div.sk-label input.sk-toggleable__control:checked~label.sk-toggleable__label {background-color: #d4ebff;}#sk-container-id-1 input.sk-hidden--visually {border: 0;clip: rect(1px 1px 1px 1px);clip: rect(1px, 1px, 1px, 1px);height: 1px;margin: -1px;overflow: hidden;padding: 0;position: absolute;width: 1px;}#sk-container-id-1 div.sk-estimator {font-family: monospace;background-color: #f0f8ff;border: 1px dotted black;border-radius: 0.25em;box-sizing: border-box;margin-bottom: 0.5em;}#sk-container-id-1 div.sk-estimator:hover {background-color: #d4ebff;}#sk-container-id-1 div.sk-parallel-item::after {content: \"\";width: 100%;border-bottom: 1px solid gray;flex-grow: 1;}#sk-container-id-1 div.sk-label:hover label.sk-toggleable__label {background-color: #d4ebff;}#sk-container-id-1 div.sk-serial::before {content: \"\";position: absolute;border-left: 1px solid gray;box-sizing: border-box;top: 0;bottom: 0;left: 50%;z-index: 0;}#sk-container-id-1 div.sk-serial {display: flex;flex-direction: column;align-items: center;background-color: white;padding-right: 0.2em;padding-left: 0.2em;position: relative;}#sk-container-id-1 div.sk-item {position: relative;z-index: 1;}#sk-container-id-1 div.sk-parallel {display: flex;align-items: stretch;justify-content: center;background-color: white;position: relative;}#sk-container-id-1 div.sk-item::before, #sk-container-id-1 div.sk-parallel-item::before {content: \"\";position: absolute;border-left: 1px solid gray;box-sizing: border-box;top: 0;bottom: 0;left: 50%;z-index: -1;}#sk-container-id-1 div.sk-parallel-item {display: flex;flex-direction: column;z-index: 1;position: relative;background-color: white;}#sk-container-id-1 div.sk-parallel-item:first-child::after {align-self: flex-end;width: 50%;}#sk-container-id-1 div.sk-parallel-item:last-child::after {align-self: flex-start;width: 50%;}#sk-container-id-1 div.sk-parallel-item:only-child::after {width: 0;}#sk-container-id-1 div.sk-dashed-wrapped {border: 1px dashed gray;margin: 0 0.4em 0.5em 0.4em;box-sizing: border-box;padding-bottom: 0.4em;background-color: white;}#sk-container-id-1 div.sk-label label {font-family: monospace;font-weight: bold;display: inline-block;line-height: 1.2em;}#sk-container-id-1 div.sk-label-container {text-align: center;}#sk-container-id-1 div.sk-container {/* jupyter's `normalize.less` sets `[hidden] { display: none; }` but bootstrap.min.css set `[hidden] { display: none !important; }` so we also need the `!important` here to be able to override the default hidden behavior on the sphinx rendered scikit-learn.org. See: https://github.com/scikit-learn/scikit-learn/issues/21755 */display: inline-block !important;position: relative;}#sk-container-id-1 div.sk-text-repr-fallback {display: none;}</style><div id=\"sk-container-id-1\" class=\"sk-top-container\"><div class=\"sk-text-repr-fallback\"><pre>ElasticNet()</pre><b>In a Jupyter environment, please rerun this cell to show the HTML representation or trust the notebook. <br />On GitHub, the HTML representation is unable to render, please try loading this page with nbviewer.org.</b></div><div class=\"sk-container\" hidden><div class=\"sk-item\"><div class=\"sk-estimator sk-toggleable\"><input class=\"sk-toggleable__control sk-hidden--visually\" id=\"sk-estimator-id-1\" type=\"checkbox\" checked><label for=\"sk-estimator-id-1\" class=\"sk-toggleable__label sk-toggleable__label-arrow\">ElasticNet</label><div class=\"sk-toggleable__content\"><pre>ElasticNet()</pre></div></div></div></div></div>"
      ],
      "text/plain": [
       "ElasticNet()"
      ]
     },
     "execution_count": 8,
     "metadata": {},
     "output_type": "execute_result"
    }
   ],
   "source": [
    "# fit the lasso model code from tutorial 2\n",
    "\n",
    "import numpy as np\n",
    "from glmnet import ElasticNet\n",
    "\n",
    "elastic_net_model_lasso = ElasticNet(alpha=1) \n",
    "elastic_net_model_lasso.fit(\n",
    "    df_standard.values, \n",
    "    # flatten the array (from 2d matrix to 1d vector) to remove the warning message:\n",
    "    # A column-vector y was passed when a 1d array was expected.\n",
    "    sample_pandas[y_cols].values.flatten()\n",
    ")"
   ]
  },
  {
   "cell_type": "code",
   "execution_count": 9,
   "id": "d12f216b",
   "metadata": {},
   "outputs": [
    {
     "data": {
      "text/html": [
       "<style>#sk-container-id-2 {color: black;background-color: white;}#sk-container-id-2 pre{padding: 0;}#sk-container-id-2 div.sk-toggleable {background-color: white;}#sk-container-id-2 label.sk-toggleable__label {cursor: pointer;display: block;width: 100%;margin-bottom: 0;padding: 0.3em;box-sizing: border-box;text-align: center;}#sk-container-id-2 label.sk-toggleable__label-arrow:before {content: \"▸\";float: left;margin-right: 0.25em;color: #696969;}#sk-container-id-2 label.sk-toggleable__label-arrow:hover:before {color: black;}#sk-container-id-2 div.sk-estimator:hover label.sk-toggleable__label-arrow:before {color: black;}#sk-container-id-2 div.sk-toggleable__content {max-height: 0;max-width: 0;overflow: hidden;text-align: left;background-color: #f0f8ff;}#sk-container-id-2 div.sk-toggleable__content pre {margin: 0.2em;color: black;border-radius: 0.25em;background-color: #f0f8ff;}#sk-container-id-2 input.sk-toggleable__control:checked~div.sk-toggleable__content {max-height: 200px;max-width: 100%;overflow: auto;}#sk-container-id-2 input.sk-toggleable__control:checked~label.sk-toggleable__label-arrow:before {content: \"▾\";}#sk-container-id-2 div.sk-estimator input.sk-toggleable__control:checked~label.sk-toggleable__label {background-color: #d4ebff;}#sk-container-id-2 div.sk-label input.sk-toggleable__control:checked~label.sk-toggleable__label {background-color: #d4ebff;}#sk-container-id-2 input.sk-hidden--visually {border: 0;clip: rect(1px 1px 1px 1px);clip: rect(1px, 1px, 1px, 1px);height: 1px;margin: -1px;overflow: hidden;padding: 0;position: absolute;width: 1px;}#sk-container-id-2 div.sk-estimator {font-family: monospace;background-color: #f0f8ff;border: 1px dotted black;border-radius: 0.25em;box-sizing: border-box;margin-bottom: 0.5em;}#sk-container-id-2 div.sk-estimator:hover {background-color: #d4ebff;}#sk-container-id-2 div.sk-parallel-item::after {content: \"\";width: 100%;border-bottom: 1px solid gray;flex-grow: 1;}#sk-container-id-2 div.sk-label:hover label.sk-toggleable__label {background-color: #d4ebff;}#sk-container-id-2 div.sk-serial::before {content: \"\";position: absolute;border-left: 1px solid gray;box-sizing: border-box;top: 0;bottom: 0;left: 50%;z-index: 0;}#sk-container-id-2 div.sk-serial {display: flex;flex-direction: column;align-items: center;background-color: white;padding-right: 0.2em;padding-left: 0.2em;position: relative;}#sk-container-id-2 div.sk-item {position: relative;z-index: 1;}#sk-container-id-2 div.sk-parallel {display: flex;align-items: stretch;justify-content: center;background-color: white;position: relative;}#sk-container-id-2 div.sk-item::before, #sk-container-id-2 div.sk-parallel-item::before {content: \"\";position: absolute;border-left: 1px solid gray;box-sizing: border-box;top: 0;bottom: 0;left: 50%;z-index: -1;}#sk-container-id-2 div.sk-parallel-item {display: flex;flex-direction: column;z-index: 1;position: relative;background-color: white;}#sk-container-id-2 div.sk-parallel-item:first-child::after {align-self: flex-end;width: 50%;}#sk-container-id-2 div.sk-parallel-item:last-child::after {align-self: flex-start;width: 50%;}#sk-container-id-2 div.sk-parallel-item:only-child::after {width: 0;}#sk-container-id-2 div.sk-dashed-wrapped {border: 1px dashed gray;margin: 0 0.4em 0.5em 0.4em;box-sizing: border-box;padding-bottom: 0.4em;background-color: white;}#sk-container-id-2 div.sk-label label {font-family: monospace;font-weight: bold;display: inline-block;line-height: 1.2em;}#sk-container-id-2 div.sk-label-container {text-align: center;}#sk-container-id-2 div.sk-container {/* jupyter's `normalize.less` sets `[hidden] { display: none; }` but bootstrap.min.css set `[hidden] { display: none !important; }` so we also need the `!important` here to be able to override the default hidden behavior on the sphinx rendered scikit-learn.org. See: https://github.com/scikit-learn/scikit-learn/issues/21755 */display: inline-block !important;position: relative;}#sk-container-id-2 div.sk-text-repr-fallback {display: none;}</style><div id=\"sk-container-id-2\" class=\"sk-top-container\"><div class=\"sk-text-repr-fallback\"><pre>ElasticNet(alpha=0)</pre><b>In a Jupyter environment, please rerun this cell to show the HTML representation or trust the notebook. <br />On GitHub, the HTML representation is unable to render, please try loading this page with nbviewer.org.</b></div><div class=\"sk-container\" hidden><div class=\"sk-item\"><div class=\"sk-estimator sk-toggleable\"><input class=\"sk-toggleable__control sk-hidden--visually\" id=\"sk-estimator-id-2\" type=\"checkbox\" checked><label for=\"sk-estimator-id-2\" class=\"sk-toggleable__label sk-toggleable__label-arrow\">ElasticNet</label><div class=\"sk-toggleable__content\"><pre>ElasticNet(alpha=0)</pre></div></div></div></div></div>"
      ],
      "text/plain": [
       "ElasticNet(alpha=0)"
      ]
     },
     "execution_count": 9,
     "metadata": {},
     "output_type": "execute_result"
    }
   ],
   "source": [
    "# fit the ridge model code from tutorial 2\n",
    "\n",
    "elastic_net_model_ridge = ElasticNet(alpha=0) \n",
    "elastic_net_model_ridge.fit(\n",
    "    df_standard.values, \n",
    "    # flatten the array (from 2d matrix to 1d vector) to remove the warning message:\n",
    "    # A column-vector y was passed when a 1d array was expected.\n",
    "    sample_pandas[y_cols].values.flatten()\n",
    ")"
   ]
  },
  {
   "cell_type": "code",
   "execution_count": 10,
   "id": "87454e24",
   "metadata": {},
   "outputs": [
    {
     "name": "stdout",
     "output_type": "stream",
     "text": [
      "Best lambda value for LASSO: 0.005125111439378727\n",
      "Best lambda value for Ridge: 0.09382737702850333\n"
     ]
    }
   ],
   "source": [
    "best_lambda_lasso = elastic_net_model_lasso.lambda_best_[0]\n",
    "best_lambda_ridge = elastic_net_model_ridge.lambda_best_[0]\n",
    "\n",
    "print(f'Best lambda value for LASSO:', best_lambda_lasso)\n",
    "print(f'Best lambda value for Ridge:', best_lambda_ridge)\n"
   ]
  },
  {
   "cell_type": "code",
   "execution_count": 11,
   "id": "8dc5b9ae",
   "metadata": {},
   "outputs": [],
   "source": [
    "# drop the tpep pickup and dropoff columns, and categorical columns which have not been indexed\n",
    "\n",
    "yellow_indexed = yellow_indexed.drop('tpep_pickup_datetime', 'tpep_dropoff_datetime', 'Start(ET)',\n",
    "                                    'PULocationID', 'DOLocationID')"
   ]
  },
  {
   "cell_type": "code",
   "execution_count": 12,
   "id": "c7daa3c7",
   "metadata": {},
   "outputs": [],
   "source": [
    "# use all 2018 data as a train set\n",
    "\n",
    "# then use the first game of 2019 as the test set\n",
    "\n",
    "yellow_train = yellow_indexed.where((F.col('Date') < '2019-01-11'))\n",
    "\n",
    "yellow_test = yellow_indexed.where((F.col('Date') == '2019-01-11'))\n"
   ]
  },
  {
   "cell_type": "code",
   "execution_count": 13,
   "id": "e76d4294",
   "metadata": {},
   "outputs": [],
   "source": [
    "# drop Date columns for both train and test\n",
    "\n",
    "yellow_train = yellow_train.drop('Date')\n",
    "\n",
    "yellow_test = yellow_test.drop('Date')"
   ]
  },
  {
   "cell_type": "code",
   "execution_count": 14,
   "id": "f6848a4e",
   "metadata": {},
   "outputs": [
    {
     "name": "stdout",
     "output_type": "stream",
     "text": [
      "22/08/24 20:48:21 WARN package: Truncated the string representation of a plan since it was too large. This behavior can be adjusted by setting 'spark.sql.debug.maxToStringFields'.\n",
      "+--------------------+----------+\n",
      "|            features|tip_amount|\n",
      "+--------------------+----------+\n",
      "|[16.5,0.0,2.56,22...|      4.58|\n",
      "|[5.0,0.0,0.9,7.25...|      1.45|\n",
      "|[4.0,0.0,0.63,5.7...|      0.96|\n",
      "+--------------------+----------+\n",
      "only showing top 3 rows\n",
      "\n"
     ]
    }
   ],
   "source": [
    "# create a vector for the train dataframe ridge model\n",
    "\n",
    "from pyspark.ml.feature import VectorAssembler\n",
    "\n",
    "features = 'features'\n",
    "\n",
    "# use all featuresn\n",
    "input_cols_full = ['fare_amount','tolls_amount', 'trip_distance', 'total_amount', 'is_weekend', 'trip_length', 'Win',\n",
    "                    'PULocationID_NUMERIC', 'DOLocationID_NUMERIC', 'pickup_hour', 'dropoff_hour','Attendance', \n",
    "                    'margin_victory/loss', 'Start(ET)_NUMERIC']\n",
    "\n",
    "vectorAssembler_full = VectorAssembler(\n",
    "    inputCols = input_cols_full, \n",
    "    outputCol = features)\n",
    "\n",
    "\n",
    "v_yellow_train_full = vectorAssembler_full.transform(yellow_train.dropna('any'))\n",
    "\n",
    "v_yellow_train_full = v_yellow_train_full.select(['features', 'tip_amount'])\n",
    "\n",
    "v_yellow_train_full.show(3)"
   ]
  },
  {
   "cell_type": "code",
   "execution_count": 15,
   "id": "5339d35c",
   "metadata": {},
   "outputs": [
    {
     "name": "stderr",
     "output_type": "stream",
     "text": [
      "[Stage 20:==============>                                           (1 + 3) / 4]\r"
     ]
    },
    {
     "name": "stdout",
     "output_type": "stream",
     "text": [
      "+--------------------+----------+\n",
      "|            features|tip_amount|\n",
      "+--------------------+----------+\n",
      "|[13.0,0.0,2.88,18...|       3.7|\n",
      "|(14,[0,2,3,5,7,8,...|      2.26|\n",
      "|(14,[0,2,3,5,7,8,...|      1.86|\n",
      "+--------------------+----------+\n",
      "only showing top 3 rows\n",
      "\n"
     ]
    },
    {
     "name": "stderr",
     "output_type": "stream",
     "text": [
      "\r",
      "                                                                                \r"
     ]
    }
   ],
   "source": [
    "v_yellow_test_full = vectorAssembler_full.transform(yellow_test.dropna('any'))\n",
    "\n",
    "v_yellow_test_full = v_yellow_test_full.select(['features', 'tip_amount'])\n",
    "\n",
    "v_yellow_test_full.show(3)"
   ]
  },
  {
   "cell_type": "code",
   "execution_count": 16,
   "id": "22e20add",
   "metadata": {},
   "outputs": [
    {
     "name": "stdout",
     "output_type": "stream",
     "text": [
      "22/08/24 20:48:26 WARN InstanceBuilder$NativeBLAS: Failed to load implementation from:dev.ludovic.netlib.blas.JNIBLAS\n",
      "22/08/24 20:48:26 WARN InstanceBuilder$NativeBLAS: Failed to load implementation from:dev.ludovic.netlib.blas.ForeignLinkerBLAS\n"
     ]
    },
    {
     "name": "stderr",
     "output_type": "stream",
     "text": [
      "                                                                                \r"
     ]
    }
   ],
   "source": [
    "# LassoM stands for LASSO model\n",
    "\n",
    "from pyspark.ml.regression import LinearRegression\n",
    "\n",
    "LassoM = LinearRegression(featuresCol = 'features', labelCol = 'tip_amount', \n",
    "                      regParam = best_lambda_lasso, elasticNetParam = 1).fit(v_yellow_train_full)"
   ]
  },
  {
   "cell_type": "code",
   "execution_count": 17,
   "id": "cfa8920c",
   "metadata": {},
   "outputs": [
    {
     "data": {
      "text/html": [
       "<div>\n",
       "<style scoped>\n",
       "    .dataframe tbody tr th:only-of-type {\n",
       "        vertical-align: middle;\n",
       "    }\n",
       "\n",
       "    .dataframe tbody tr th {\n",
       "        vertical-align: top;\n",
       "    }\n",
       "\n",
       "    .dataframe thead th {\n",
       "        text-align: right;\n",
       "    }\n",
       "</style>\n",
       "<table border=\"1\" class=\"dataframe\">\n",
       "  <thead>\n",
       "    <tr style=\"text-align: right;\">\n",
       "      <th></th>\n",
       "      <th>coefficient</th>\n",
       "    </tr>\n",
       "  </thead>\n",
       "  <tbody>\n",
       "    <tr>\n",
       "      <th>intercept</th>\n",
       "      <td>-0.7366</td>\n",
       "    </tr>\n",
       "    <tr>\n",
       "      <th>fare_amount</th>\n",
       "      <td>-0.8070</td>\n",
       "    </tr>\n",
       "    <tr>\n",
       "      <th>tolls_amount</th>\n",
       "      <td>-0.8002</td>\n",
       "    </tr>\n",
       "    <tr>\n",
       "      <th>trip_distance</th>\n",
       "      <td>-0.0344</td>\n",
       "    </tr>\n",
       "    <tr>\n",
       "      <th>total_amount</th>\n",
       "      <td>0.8428</td>\n",
       "    </tr>\n",
       "    <tr>\n",
       "      <th>is_weekend</th>\n",
       "      <td>0.1202</td>\n",
       "    </tr>\n",
       "    <tr>\n",
       "      <th>trip_length</th>\n",
       "      <td>0.0000</td>\n",
       "    </tr>\n",
       "    <tr>\n",
       "      <th>Win</th>\n",
       "      <td>0.0000</td>\n",
       "    </tr>\n",
       "    <tr>\n",
       "      <th>PULocationID_NUMERIC</th>\n",
       "      <td>-0.0002</td>\n",
       "    </tr>\n",
       "    <tr>\n",
       "      <th>DOLocationID_NUMERIC</th>\n",
       "      <td>-0.0002</td>\n",
       "    </tr>\n",
       "    <tr>\n",
       "      <th>pickup_hour</th>\n",
       "      <td>-0.0153</td>\n",
       "    </tr>\n",
       "    <tr>\n",
       "      <th>dropoff_hour</th>\n",
       "      <td>0.0000</td>\n",
       "    </tr>\n",
       "    <tr>\n",
       "      <th>Attendance</th>\n",
       "      <td>0.0000</td>\n",
       "    </tr>\n",
       "    <tr>\n",
       "      <th>margin_victory/loss</th>\n",
       "      <td>0.0000</td>\n",
       "    </tr>\n",
       "    <tr>\n",
       "      <th>Start(ET)_NUMERIC</th>\n",
       "      <td>0.0000</td>\n",
       "    </tr>\n",
       "  </tbody>\n",
       "</table>\n",
       "</div>"
      ],
      "text/plain": [
       "                      coefficient\n",
       "intercept                 -0.7366\n",
       "fare_amount               -0.8070\n",
       "tolls_amount              -0.8002\n",
       "trip_distance             -0.0344\n",
       "total_amount               0.8428\n",
       "is_weekend                 0.1202\n",
       "trip_length                0.0000\n",
       "Win                        0.0000\n",
       "PULocationID_NUMERIC      -0.0002\n",
       "DOLocationID_NUMERIC      -0.0002\n",
       "pickup_hour               -0.0153\n",
       "dropoff_hour               0.0000\n",
       "Attendance                 0.0000\n",
       "margin_victory/loss        0.0000\n",
       "Start(ET)_NUMERIC          0.0000"
      ]
     },
     "execution_count": 17,
     "metadata": {},
     "output_type": "execute_result"
    }
   ],
   "source": [
    "#coefficients for LASSO regression\n",
    "\n",
    "pd.DataFrame(\n",
    "    data=[LassoM.intercept] + list(LassoM.coefficients),\n",
    "    index=['intercept'] + input_cols_full,\n",
    "    columns=['coefficient']\n",
    ")\n",
    "\n",
    "# based on LASSO, Attendance, margin_victory/loss, dropoff_hour, and trip_length are all irrelevant"
   ]
  },
  {
   "cell_type": "code",
   "execution_count": 18,
   "id": "e9d04491",
   "metadata": {},
   "outputs": [
    {
     "name": "stdout",
     "output_type": "stream",
     "text": [
      "RMSE: 0.334951\n",
      "r2: 0.932626\n",
      "MSE: 0.112192\n",
      "MAE: 0.262370\n"
     ]
    }
   ],
   "source": [
    "trainingSummary_LassoM = LassoM.summary\n",
    "\n",
    "print(\"RMSE: %f\" % trainingSummary_LassoM.rootMeanSquaredError)\n",
    "print(\"r2: %f\" % trainingSummary_LassoM.r2)\n",
    "print(\"MSE: %f\" % trainingSummary_LassoM.meanSquaredError)\n",
    "print(\"MAE: %f\" % trainingSummary_LassoM.meanAbsoluteError)\n"
   ]
  },
  {
   "cell_type": "code",
   "execution_count": 19,
   "id": "173741f4",
   "metadata": {},
   "outputs": [
    {
     "name": "stderr",
     "output_type": "stream",
     "text": [
      "[Stage 25:===================================================>      (8 + 1) / 9]\r"
     ]
    },
    {
     "name": "stdout",
     "output_type": "stream",
     "text": [
      "+-------+-----------------+\n",
      "|summary|       tip_amount|\n",
      "+-------+-----------------+\n",
      "|  count|          2398168|\n",
      "|   mean|2.042468496785995|\n",
      "| stddev|1.290430556720419|\n",
      "|    min|              0.0|\n",
      "|    max|            411.0|\n",
      "+-------+-----------------+\n",
      "\n"
     ]
    },
    {
     "name": "stderr",
     "output_type": "stream",
     "text": [
      "\r",
      "                                                                                \r"
     ]
    }
   ],
   "source": [
    "v_yellow_train_full.describe().show()"
   ]
  },
  {
   "cell_type": "code",
   "execution_count": 20,
   "id": "75b2334a",
   "metadata": {},
   "outputs": [
    {
     "name": "stdout",
     "output_type": "stream",
     "text": [
      "+--------------------+----------+\n",
      "|            features|tip_amount|\n",
      "+--------------------+----------+\n",
      "|[16.5,2.56,22.88,...|      4.58|\n",
      "|[5.0,0.9,7.25,0.0...|      1.45|\n",
      "|[4.0,0.63,5.76,0....|      0.96|\n",
      "+--------------------+----------+\n",
      "only showing top 3 rows\n",
      "\n"
     ]
    }
   ],
   "source": [
    "features = 'features'\n",
    "\n",
    "# features selected after selection through LASSO\n",
    "input_cols_reduced = ['fare_amount', 'trip_distance', 'total_amount', 'is_weekend', 'trip_length',\n",
    "                     'PULocationID_NUMERIC', 'DOLocationID_NUMERIC', 'pickup_hour', 'Win', 'Start(ET)_NUMERIC']\n",
    "\n",
    "\n",
    "vectorAssembler_reduced = VectorAssembler(\n",
    "    inputCols = input_cols_reduced, \n",
    "    outputCol = features)\n",
    "\n",
    "\n",
    "v_yellow_train_reduced = vectorAssembler_reduced.transform(yellow_train.dropna('any'))\n",
    "\n",
    "v_yellow_train_reduced = v_yellow_train_reduced.select(['features', 'tip_amount'])\n",
    "\n",
    "v_yellow_train_reduced.show(3)"
   ]
  },
  {
   "cell_type": "code",
   "execution_count": 21,
   "id": "0ed5781a",
   "metadata": {},
   "outputs": [
    {
     "name": "stderr",
     "output_type": "stream",
     "text": [
      "[Stage 31:===========================================>              (3 + 1) / 4]\r"
     ]
    },
    {
     "name": "stdout",
     "output_type": "stream",
     "text": [
      "+--------------------+----------+\n",
      "|            features|tip_amount|\n",
      "+--------------------+----------+\n",
      "|[13.0,2.88,18.5,0...|       3.7|\n",
      "|[10.0,2.73,13.56,...|      2.26|\n",
      "|[8.0,2.03,11.16,0...|      1.86|\n",
      "+--------------------+----------+\n",
      "only showing top 3 rows\n",
      "\n"
     ]
    },
    {
     "name": "stderr",
     "output_type": "stream",
     "text": [
      "\r",
      "                                                                                \r"
     ]
    }
   ],
   "source": [
    "v_yellow_test_reduced = vectorAssembler_reduced.transform(yellow_test.dropna('any'))\n",
    "\n",
    "v_yellow_test_reduced = v_yellow_test_reduced.select(['features', 'tip_amount'])\n",
    "\n",
    "v_yellow_test_reduced.show(3)"
   ]
  },
  {
   "cell_type": "code",
   "execution_count": 22,
   "id": "27db5708",
   "metadata": {},
   "outputs": [
    {
     "name": "stdout",
     "output_type": "stream",
     "text": [
      "22/08/24 20:48:53 WARN Instrumentation: [72ba7fb3] regParam is zero, which might cause numerical instability and overfitting.\n"
     ]
    },
    {
     "name": "stderr",
     "output_type": "stream",
     "text": [
      "                                                                                \r"
     ]
    },
    {
     "name": "stdout",
     "output_type": "stream",
     "text": [
      "22/08/24 20:49:04 WARN InstanceBuilder$NativeLAPACK: Failed to load implementation from:dev.ludovic.netlib.lapack.JNILAPACK\n",
      "22/08/24 20:49:04 WARN Instrumentation: [72ba7fb3] Cholesky solver failed due to singular covariance matrix. Retrying with Quasi-Newton solver.\n"
     ]
    },
    {
     "name": "stderr",
     "output_type": "stream",
     "text": [
      "                                                                                \r"
     ]
    }
   ],
   "source": [
    "lm = LinearRegression(featuresCol='features', labelCol = 'tip_amount').fit(v_yellow_train_reduced)"
   ]
  },
  {
   "cell_type": "code",
   "execution_count": 23,
   "id": "18e91e7d",
   "metadata": {},
   "outputs": [
    {
     "data": {
      "text/html": [
       "<div>\n",
       "<style scoped>\n",
       "    .dataframe tbody tr th:only-of-type {\n",
       "        vertical-align: middle;\n",
       "    }\n",
       "\n",
       "    .dataframe tbody tr th {\n",
       "        vertical-align: top;\n",
       "    }\n",
       "\n",
       "    .dataframe thead th {\n",
       "        text-align: right;\n",
       "    }\n",
       "</style>\n",
       "<table border=\"1\" class=\"dataframe\">\n",
       "  <thead>\n",
       "    <tr style=\"text-align: right;\">\n",
       "      <th></th>\n",
       "      <th>coefficient</th>\n",
       "    </tr>\n",
       "  </thead>\n",
       "  <tbody>\n",
       "    <tr>\n",
       "      <th>intercept</th>\n",
       "      <td>-0.6029</td>\n",
       "    </tr>\n",
       "    <tr>\n",
       "      <th>fare_amount</th>\n",
       "      <td>-0.7550</td>\n",
       "    </tr>\n",
       "    <tr>\n",
       "      <th>trip_distance</th>\n",
       "      <td>-0.0578</td>\n",
       "    </tr>\n",
       "    <tr>\n",
       "      <th>total_amount</th>\n",
       "      <td>0.7956</td>\n",
       "    </tr>\n",
       "    <tr>\n",
       "      <th>is_weekend</th>\n",
       "      <td>0.1193</td>\n",
       "    </tr>\n",
       "    <tr>\n",
       "      <th>trip_length</th>\n",
       "      <td>0.0014</td>\n",
       "    </tr>\n",
       "    <tr>\n",
       "      <th>PULocationID_NUMERIC</th>\n",
       "      <td>-0.0007</td>\n",
       "    </tr>\n",
       "    <tr>\n",
       "      <th>DOLocationID_NUMERIC</th>\n",
       "      <td>-0.0007</td>\n",
       "    </tr>\n",
       "    <tr>\n",
       "      <th>pickup_hour</th>\n",
       "      <td>-0.0156</td>\n",
       "    </tr>\n",
       "    <tr>\n",
       "      <th>Win</th>\n",
       "      <td>-0.0093</td>\n",
       "    </tr>\n",
       "    <tr>\n",
       "      <th>Start(ET)_NUMERIC</th>\n",
       "      <td>0.0041</td>\n",
       "    </tr>\n",
       "  </tbody>\n",
       "</table>\n",
       "</div>"
      ],
      "text/plain": [
       "                      coefficient\n",
       "intercept                 -0.6029\n",
       "fare_amount               -0.7550\n",
       "trip_distance             -0.0578\n",
       "total_amount               0.7956\n",
       "is_weekend                 0.1193\n",
       "trip_length                0.0014\n",
       "PULocationID_NUMERIC      -0.0007\n",
       "DOLocationID_NUMERIC      -0.0007\n",
       "pickup_hour               -0.0156\n",
       "Win                       -0.0093\n",
       "Start(ET)_NUMERIC          0.0041"
      ]
     },
     "execution_count": 23,
     "metadata": {},
     "output_type": "execute_result"
    }
   ],
   "source": [
    "pd.DataFrame(\n",
    "    data=[lm.intercept] + list(lm.coefficients),\n",
    "    index=['intercept'] + input_cols_reduced,\n",
    "    columns=['coefficient']\n",
    ")"
   ]
  },
  {
   "cell_type": "code",
   "execution_count": 24,
   "id": "90342f24",
   "metadata": {},
   "outputs": [
    {
     "name": "stdout",
     "output_type": "stream",
     "text": [
      "RMSE: 0.440091\n",
      "r2: 0.883690\n",
      "MSE: 0.193680\n",
      "MAE: 0.274930\n"
     ]
    }
   ],
   "source": [
    "trainingSummary_lm = lm.summary\n",
    "\n",
    "print(\"RMSE: %f\" % trainingSummary_lm.rootMeanSquaredError)\n",
    "print(\"r2: %f\" % trainingSummary_lm.r2)\n",
    "print(\"MSE: %f\" % trainingSummary_lm.meanSquaredError)\n",
    "print(\"MAE: %f\" % trainingSummary_lm.meanAbsoluteError)\n"
   ]
  },
  {
   "cell_type": "code",
   "execution_count": 25,
   "id": "9014f1c4",
   "metadata": {},
   "outputs": [
    {
     "name": "stderr",
     "output_type": "stream",
     "text": [
      "[Stage 38:==============>                                           (1 + 3) / 4]\r"
     ]
    },
    {
     "name": "stdout",
     "output_type": "stream",
     "text": [
      "+------------------+----------+--------------------+\n",
      "|        prediction|tip_amount|            features|\n",
      "+------------------+----------+--------------------+\n",
      "| 4.017312264494462|       3.7|[13.0,2.88,18.5,0...|\n",
      "| 2.448578881792878|      2.26|[10.0,2.73,13.56,...|\n",
      "|2.1264127982613363|      1.86|[8.0,2.03,11.16,0...|\n",
      "| 2.625039480088274|      2.49|[7.0,1.39,10.79,0...|\n",
      "|  4.11479352702198|      4.06|[19.0,5.88,24.36,...|\n",
      "+------------------+----------+--------------------+\n",
      "only showing top 5 rows\n",
      "\n"
     ]
    },
    {
     "name": "stderr",
     "output_type": "stream",
     "text": [
      "\r",
      "[Stage 38:===========================================>              (3 + 1) / 4]\r",
      "\r",
      "                                                                                \r"
     ]
    }
   ],
   "source": [
    "from pyspark.ml.evaluation import RegressionEvaluator\n",
    "\n",
    "\n",
    "lm_predictions = lm.transform(v_yellow_test_reduced)\n",
    "lm_predictions.select(\"prediction\",\"tip_amount\",\"features\").show(5)"
   ]
  },
  {
   "cell_type": "code",
   "execution_count": 26,
   "id": "e85f443f",
   "metadata": {},
   "outputs": [
    {
     "name": "stderr",
     "output_type": "stream",
     "text": [
      "[Stage 39:===================================================>      (8 + 1) / 9]\r"
     ]
    },
    {
     "name": "stdout",
     "output_type": "stream",
     "text": [
      "R Squared (R2) on test data = 0.895011\n",
      "Root Mean Squared Error (RMSE) on test data = 0.435432\n",
      "Mean Squared Error (MSE) on test data = 0.189601\n",
      "Mean Absolute Error (MAE) on test data = 0.283667\n"
     ]
    },
    {
     "name": "stderr",
     "output_type": "stream",
     "text": [
      "\r",
      "                                                                                \r"
     ]
    }
   ],
   "source": [
    "test_result_lm = lm.evaluate(v_yellow_test_reduced)\n",
    "\n",
    "print(\"R Squared (R2) on test data = %g\" % test_result_lm.r2)\n",
    "print(\"Root Mean Squared Error (RMSE) on test data = %g\" % test_result_lm.rootMeanSquaredError)\n",
    "print(\"Mean Squared Error (MSE) on test data = %g\" % test_result_lm.meanSquaredError)\n",
    "print(\"Mean Absolute Error (MAE) on test data = %g\" % test_result_lm.meanAbsoluteError)"
   ]
  },
  {
   "cell_type": "code",
   "execution_count": 27,
   "id": "520e05a4",
   "metadata": {},
   "outputs": [
    {
     "name": "stderr",
     "output_type": "stream",
     "text": [
      "                                                                                \r"
     ]
    }
   ],
   "source": [
    "# rm stands for ridge model\n",
    "\n",
    "rm = LinearRegression(featuresCol = 'features', labelCol = 'tip_amount', \n",
    "                      regParam = best_lambda_ridge, elasticNetParam = 0).fit(v_yellow_train_full)"
   ]
  },
  {
   "cell_type": "code",
   "execution_count": 28,
   "id": "e2a5efb9",
   "metadata": {},
   "outputs": [
    {
     "data": {
      "text/html": [
       "<div>\n",
       "<style scoped>\n",
       "    .dataframe tbody tr th:only-of-type {\n",
       "        vertical-align: middle;\n",
       "    }\n",
       "\n",
       "    .dataframe tbody tr th {\n",
       "        vertical-align: top;\n",
       "    }\n",
       "\n",
       "    .dataframe thead th {\n",
       "        text-align: right;\n",
       "    }\n",
       "</style>\n",
       "<table border=\"1\" class=\"dataframe\">\n",
       "  <thead>\n",
       "    <tr style=\"text-align: right;\">\n",
       "      <th></th>\n",
       "      <th>coefficient</th>\n",
       "    </tr>\n",
       "  </thead>\n",
       "  <tbody>\n",
       "    <tr>\n",
       "      <th>intercept</th>\n",
       "      <td>-0.0428</td>\n",
       "    </tr>\n",
       "    <tr>\n",
       "      <th>fare_amount</th>\n",
       "      <td>-0.1203</td>\n",
       "    </tr>\n",
       "    <tr>\n",
       "      <th>tolls_amount</th>\n",
       "      <td>-0.1305</td>\n",
       "    </tr>\n",
       "    <tr>\n",
       "      <th>trip_distance</th>\n",
       "      <td>-0.0640</td>\n",
       "    </tr>\n",
       "    <tr>\n",
       "      <th>total_amount</th>\n",
       "      <td>0.2762</td>\n",
       "    </tr>\n",
       "    <tr>\n",
       "      <th>is_weekend</th>\n",
       "      <td>0.0077</td>\n",
       "    </tr>\n",
       "    <tr>\n",
       "      <th>trip_length</th>\n",
       "      <td>-0.0066</td>\n",
       "    </tr>\n",
       "    <tr>\n",
       "      <th>Win</th>\n",
       "      <td>-0.0003</td>\n",
       "    </tr>\n",
       "    <tr>\n",
       "      <th>PULocationID_NUMERIC</th>\n",
       "      <td>-0.0013</td>\n",
       "    </tr>\n",
       "    <tr>\n",
       "      <th>DOLocationID_NUMERIC</th>\n",
       "      <td>-0.0013</td>\n",
       "    </tr>\n",
       "    <tr>\n",
       "      <th>pickup_hour</th>\n",
       "      <td>-0.0009</td>\n",
       "    </tr>\n",
       "    <tr>\n",
       "      <th>dropoff_hour</th>\n",
       "      <td>-0.0012</td>\n",
       "    </tr>\n",
       "    <tr>\n",
       "      <th>Attendance</th>\n",
       "      <td>-0.0000</td>\n",
       "    </tr>\n",
       "    <tr>\n",
       "      <th>margin_victory/loss</th>\n",
       "      <td>-0.0002</td>\n",
       "    </tr>\n",
       "    <tr>\n",
       "      <th>Start(ET)_NUMERIC</th>\n",
       "      <td>0.0006</td>\n",
       "    </tr>\n",
       "  </tbody>\n",
       "</table>\n",
       "</div>"
      ],
      "text/plain": [
       "                      coefficient\n",
       "intercept                 -0.0428\n",
       "fare_amount               -0.1203\n",
       "tolls_amount              -0.1305\n",
       "trip_distance             -0.0640\n",
       "total_amount               0.2762\n",
       "is_weekend                 0.0077\n",
       "trip_length               -0.0066\n",
       "Win                       -0.0003\n",
       "PULocationID_NUMERIC      -0.0013\n",
       "DOLocationID_NUMERIC      -0.0013\n",
       "pickup_hour               -0.0009\n",
       "dropoff_hour              -0.0012\n",
       "Attendance                -0.0000\n",
       "margin_victory/loss       -0.0002\n",
       "Start(ET)_NUMERIC          0.0006"
      ]
     },
     "execution_count": 28,
     "metadata": {},
     "output_type": "execute_result"
    }
   ],
   "source": [
    "pd.DataFrame(\n",
    "    data=[rm.intercept] + list(rm.coefficients),\n",
    "    index=['intercept'] + input_cols_full,\n",
    "    columns=['coefficient']\n",
    ")"
   ]
  },
  {
   "cell_type": "code",
   "execution_count": 29,
   "id": "8defd978",
   "metadata": {},
   "outputs": [
    {
     "name": "stdout",
     "output_type": "stream",
     "text": [
      "RMSE: 0.765345\n",
      "r2: 0.648241\n",
      "MSE: 0.585753\n",
      "MAE: 0.389100\n"
     ]
    }
   ],
   "source": [
    "trainingSummary_rm = rm.summary\n",
    "\n",
    "print(\"RMSE: %f\" % trainingSummary_rm.rootMeanSquaredError)\n",
    "print(\"r2: %f\" % trainingSummary_rm.r2)\n",
    "print(\"MSE: %f\" % trainingSummary_rm.meanSquaredError)\n",
    "print(\"MAE: %f\" % trainingSummary_rm.meanAbsoluteError)\n"
   ]
  },
  {
   "cell_type": "code",
   "execution_count": 30,
   "id": "0c7716a1",
   "metadata": {},
   "outputs": [
    {
     "name": "stderr",
     "output_type": "stream",
     "text": [
      "[Stage 47:===========================================>              (3 + 1) / 4]\r"
     ]
    },
    {
     "name": "stdout",
     "output_type": "stream",
     "text": [
      "+------------------+----------+--------------------+\n",
      "|        prediction|tip_amount|            features|\n",
      "+------------------+----------+--------------------+\n",
      "|3.0635689339405525|       3.7|[13.0,0.0,2.88,18...|\n",
      "| 2.115710779425697|      2.26|(14,[0,2,3,5,7,8,...|\n",
      "|1.8159809532824283|      1.86|(14,[0,2,3,5,7,8,...|\n",
      "|1.8793977552018994|      2.49|(14,[0,2,3,5,7,8,...|\n",
      "|3.8497936092227176|      4.06|(14,[0,2,3,5,7,8,...|\n",
      "+------------------+----------+--------------------+\n",
      "only showing top 5 rows\n",
      "\n"
     ]
    },
    {
     "name": "stderr",
     "output_type": "stream",
     "text": [
      "\r",
      "                                                                                \r"
     ]
    }
   ],
   "source": [
    "rm_predictions = rm.transform(v_yellow_test_full)\n",
    "rm_predictions.select(\"prediction\",\"tip_amount\",\"features\").show(5)"
   ]
  },
  {
   "cell_type": "code",
   "execution_count": 31,
   "id": "29bf91fc",
   "metadata": {},
   "outputs": [
    {
     "name": "stderr",
     "output_type": "stream",
     "text": [
      "[Stage 48:===================================================>      (8 + 1) / 9]\r"
     ]
    },
    {
     "name": "stdout",
     "output_type": "stream",
     "text": [
      "R Squared (R2) on test data = 0.623506\n",
      "Root Mean Squared Error (RMSE) on test data = 0.82457\n",
      "Mean Squared Error (MSE) on test data = 0.679916\n",
      "Mean Absolute Error (MAE) on test data = 0.36117\n"
     ]
    },
    {
     "name": "stderr",
     "output_type": "stream",
     "text": [
      "\r",
      "                                                                                \r"
     ]
    }
   ],
   "source": [
    "test_result_rm = rm.evaluate(v_yellow_test_full)\n",
    "\n",
    "print(\"R Squared (R2) on test data = %g\" % test_result_rm.r2)\n",
    "print(\"Root Mean Squared Error (RMSE) on test data = %g\" % test_result_rm.rootMeanSquaredError)\n",
    "print(\"Mean Squared Error (MSE) on test data = %g\" % test_result_rm.meanSquaredError)\n",
    "print(\"Mean Absolute Error (MAE) on test data = %g\" % test_result_rm.meanAbsoluteError)"
   ]
  },
  {
   "cell_type": "code",
   "execution_count": null,
   "id": "903190ed",
   "metadata": {},
   "outputs": [],
   "source": []
  }
 ],
 "metadata": {
  "kernelspec": {
   "display_name": "Python 3 (ipykernel)",
   "language": "python",
   "name": "python3"
  },
  "language_info": {
   "codemirror_mode": {
    "name": "ipython",
    "version": 3
   },
   "file_extension": ".py",
   "mimetype": "text/x-python",
   "name": "python",
   "nbconvert_exporter": "python",
   "pygments_lexer": "ipython3",
   "version": "3.8.10"
  }
 },
 "nbformat": 4,
 "nbformat_minor": 5
}
