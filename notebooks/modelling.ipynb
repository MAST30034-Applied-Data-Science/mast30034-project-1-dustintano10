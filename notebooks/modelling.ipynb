{
 "cells": [
  {
   "cell_type": "code",
   "execution_count": null,
   "id": "b7b7c16c",
   "metadata": {},
   "outputs": [
    {
     "name": "stdout",
     "output_type": "stream",
     "text": [
      "22/08/22 18:48:26 WARN Utils: Your hostname, DESKTOP-3ADPNV0 resolves to a loopback address: 127.0.1.1; using 172.25.21.27 instead (on interface eth0)\n",
      "22/08/22 18:48:26 WARN Utils: Set SPARK_LOCAL_IP if you need to bind to another address\n"
     ]
    }
   ],
   "source": [
    "from pyspark.sql import SparkSession, functions as F\n",
    "from pyspark.sql.functions import *\n",
    "\n",
    "# Cell to create a spark session\n",
    "spark = (\n",
    "    SparkSession.builder.appName(\"MAST30034 ASSIGNMENT 1 DUSTIN\")\n",
    "    .config(\"spark.sql.repl.eagerEval.enabled\", True) \n",
    "    .config(\"spark.sql.parquet.cacheMetadata\", \"true\")\n",
    "    .config(\"spark.sql.session.timeZone\", \"Etc/UTC\")\n",
    "    .config(\"spark.executor.memory\", \"2g\")\n",
    "    .config(\"spark.driver.memory\", \"4g\")\n",
    "    .getOrCreate()\n",
    ")"
   ]
  },
  {
   "cell_type": "code",
   "execution_count": null,
   "id": "61d0a36a",
   "metadata": {},
   "outputs": [],
   "source": [
    "import pandas as pd\n",
    "import statsmodels.api as sm"
   ]
  },
  {
   "cell_type": "code",
   "execution_count": null,
   "id": "0d040657",
   "metadata": {},
   "outputs": [],
   "source": [
    "yellow = spark.read.parquet('../../mast30034-project-1-dustintano10/data/curated/yellow/yellow_credit')\n",
    "yellow_sample = spark.read.parquet('../../mast30034-project-1-dustintano10/data/curated/yellow/yellow_sample')"
   ]
  },
  {
   "cell_type": "code",
   "execution_count": null,
   "id": "1efa645a",
   "metadata": {},
   "outputs": [],
   "source": [
    "yellow_sample = yellow_sample.withColumn('pickup_hour', hour(\"tpep_pickup_datetime\"))\n",
    "yellow_sample = yellow_sample.withColumn('dropoff_hour', hour(\"tpep_dropoff_datetime\"))\n",
    "yellow_sample = yellow_sample.withColumn('is_weekend', F.when(yellow.is_weekend == 'false', 0).otherwise(1))\n",
    "\n",
    "yellow_sample = yellow_sample.withColumn('Win', F.when(yellow.Win == 'No', 0).otherwise(1))"
   ]
  },
  {
   "cell_type": "code",
   "execution_count": null,
   "id": "2e6764b1",
   "metadata": {},
   "outputs": [],
   "source": [
    "yellow_sample_pandas = yellow_sample.toPandas()\n"
   ]
  },
  {
   "cell_type": "code",
   "execution_count": 16,
   "id": "a7a2c9a0",
   "metadata": {},
   "outputs": [
    {
     "data": {
      "text/html": [
       "<div>\n",
       "<style scoped>\n",
       "    .dataframe tbody tr th:only-of-type {\n",
       "        vertical-align: middle;\n",
       "    }\n",
       "\n",
       "    .dataframe tbody tr th {\n",
       "        vertical-align: top;\n",
       "    }\n",
       "\n",
       "    .dataframe thead th {\n",
       "        text-align: right;\n",
       "    }\n",
       "</style>\n",
       "<table border=\"1\" class=\"dataframe\">\n",
       "  <thead>\n",
       "    <tr style=\"text-align: right;\">\n",
       "      <th></th>\n",
       "      <th>tpep_pickup_datetime</th>\n",
       "      <th>tpep_dropoff_datetime</th>\n",
       "      <th>trip_distance</th>\n",
       "      <th>PULocationID</th>\n",
       "      <th>DOLocationID</th>\n",
       "      <th>fare_amount</th>\n",
       "      <th>tip_amount</th>\n",
       "      <th>total_amount</th>\n",
       "      <th>is_weekend</th>\n",
       "      <th>trip_length</th>\n",
       "      <th>Date</th>\n",
       "      <th>Start(ET)</th>\n",
       "      <th>Attendance</th>\n",
       "      <th>Win</th>\n",
       "      <th>score_margin</th>\n",
       "      <th>pickup_hour</th>\n",
       "      <th>dropoff_hour</th>\n",
       "    </tr>\n",
       "  </thead>\n",
       "  <tbody>\n",
       "    <tr>\n",
       "      <th>0</th>\n",
       "      <td>2018-10-26 00:00:39</td>\n",
       "      <td>2018-10-26 00:20:58</td>\n",
       "      <td>3.67</td>\n",
       "      <td>65</td>\n",
       "      <td>225</td>\n",
       "      <td>16.5</td>\n",
       "      <td>4.45</td>\n",
       "      <td>22.25</td>\n",
       "      <td>False</td>\n",
       "      <td>20.3167</td>\n",
       "      <td>2018-10-26</td>\n",
       "      <td>19:30</td>\n",
       "      <td>19812</td>\n",
       "      <td>No</td>\n",
       "      <td>-28</td>\n",
       "      <td>0</td>\n",
       "      <td>0</td>\n",
       "    </tr>\n",
       "    <tr>\n",
       "      <th>1</th>\n",
       "      <td>2018-10-26 00:30:26</td>\n",
       "      <td>2018-10-26 00:37:25</td>\n",
       "      <td>1.10</td>\n",
       "      <td>161</td>\n",
       "      <td>234</td>\n",
       "      <td>6.5</td>\n",
       "      <td>1.00</td>\n",
       "      <td>8.80</td>\n",
       "      <td>False</td>\n",
       "      <td>6.9833</td>\n",
       "      <td>2018-10-26</td>\n",
       "      <td>19:30</td>\n",
       "      <td>19812</td>\n",
       "      <td>No</td>\n",
       "      <td>-28</td>\n",
       "      <td>0</td>\n",
       "      <td>0</td>\n",
       "    </tr>\n",
       "    <tr>\n",
       "      <th>2</th>\n",
       "      <td>2018-10-26 00:15:27</td>\n",
       "      <td>2018-10-26 00:26:08</td>\n",
       "      <td>2.90</td>\n",
       "      <td>148</td>\n",
       "      <td>87</td>\n",
       "      <td>11.5</td>\n",
       "      <td>3.20</td>\n",
       "      <td>16.00</td>\n",
       "      <td>False</td>\n",
       "      <td>10.6833</td>\n",
       "      <td>2018-10-26</td>\n",
       "      <td>19:30</td>\n",
       "      <td>19812</td>\n",
       "      <td>No</td>\n",
       "      <td>-28</td>\n",
       "      <td>0</td>\n",
       "      <td>0</td>\n",
       "    </tr>\n",
       "    <tr>\n",
       "      <th>3</th>\n",
       "      <td>2018-10-26 00:34:47</td>\n",
       "      <td>2018-10-26 00:51:25</td>\n",
       "      <td>1.80</td>\n",
       "      <td>232</td>\n",
       "      <td>79</td>\n",
       "      <td>12.0</td>\n",
       "      <td>1.00</td>\n",
       "      <td>14.30</td>\n",
       "      <td>False</td>\n",
       "      <td>16.6333</td>\n",
       "      <td>2018-10-26</td>\n",
       "      <td>19:30</td>\n",
       "      <td>19812</td>\n",
       "      <td>No</td>\n",
       "      <td>-28</td>\n",
       "      <td>0</td>\n",
       "      <td>0</td>\n",
       "    </tr>\n",
       "    <tr>\n",
       "      <th>4</th>\n",
       "      <td>2018-10-26 00:22:33</td>\n",
       "      <td>2018-10-26 00:47:43</td>\n",
       "      <td>5.79</td>\n",
       "      <td>68</td>\n",
       "      <td>116</td>\n",
       "      <td>21.0</td>\n",
       "      <td>4.46</td>\n",
       "      <td>26.76</td>\n",
       "      <td>False</td>\n",
       "      <td>25.1667</td>\n",
       "      <td>2018-10-26</td>\n",
       "      <td>19:30</td>\n",
       "      <td>19812</td>\n",
       "      <td>No</td>\n",
       "      <td>-28</td>\n",
       "      <td>0</td>\n",
       "      <td>0</td>\n",
       "    </tr>\n",
       "    <tr>\n",
       "      <th>...</th>\n",
       "      <td>...</td>\n",
       "      <td>...</td>\n",
       "      <td>...</td>\n",
       "      <td>...</td>\n",
       "      <td>...</td>\n",
       "      <td>...</td>\n",
       "      <td>...</td>\n",
       "      <td>...</td>\n",
       "      <td>...</td>\n",
       "      <td>...</td>\n",
       "      <td>...</td>\n",
       "      <td>...</td>\n",
       "      <td>...</td>\n",
       "      <td>...</td>\n",
       "      <td>...</td>\n",
       "      <td>...</td>\n",
       "      <td>...</td>\n",
       "    </tr>\n",
       "    <tr>\n",
       "      <th>641336</th>\n",
       "      <td>2019-03-24 23:36:46</td>\n",
       "      <td>2019-03-24 23:47:53</td>\n",
       "      <td>7.20</td>\n",
       "      <td>132</td>\n",
       "      <td>95</td>\n",
       "      <td>21.0</td>\n",
       "      <td>4.45</td>\n",
       "      <td>26.75</td>\n",
       "      <td>True</td>\n",
       "      <td>11.1167</td>\n",
       "      <td>2019-03-24</td>\n",
       "      <td>12:00</td>\n",
       "      <td>18263</td>\n",
       "      <td>No</td>\n",
       "      <td>-11</td>\n",
       "      <td>23</td>\n",
       "      <td>23</td>\n",
       "    </tr>\n",
       "    <tr>\n",
       "      <th>641337</th>\n",
       "      <td>2019-03-24 23:54:40</td>\n",
       "      <td>2019-03-24 23:58:35</td>\n",
       "      <td>1.02</td>\n",
       "      <td>144</td>\n",
       "      <td>113</td>\n",
       "      <td>5.5</td>\n",
       "      <td>1.86</td>\n",
       "      <td>11.16</td>\n",
       "      <td>True</td>\n",
       "      <td>3.9167</td>\n",
       "      <td>2019-03-24</td>\n",
       "      <td>12:00</td>\n",
       "      <td>18263</td>\n",
       "      <td>No</td>\n",
       "      <td>-11</td>\n",
       "      <td>23</td>\n",
       "      <td>23</td>\n",
       "    </tr>\n",
       "    <tr>\n",
       "      <th>641338</th>\n",
       "      <td>2019-03-24 09:14:27</td>\n",
       "      <td>2019-03-24 09:36:37</td>\n",
       "      <td>3.61</td>\n",
       "      <td>113</td>\n",
       "      <td>237</td>\n",
       "      <td>16.0</td>\n",
       "      <td>3.04</td>\n",
       "      <td>23.34</td>\n",
       "      <td>True</td>\n",
       "      <td>22.1667</td>\n",
       "      <td>2019-03-24</td>\n",
       "      <td>12:00</td>\n",
       "      <td>18263</td>\n",
       "      <td>No</td>\n",
       "      <td>-11</td>\n",
       "      <td>9</td>\n",
       "      <td>9</td>\n",
       "    </tr>\n",
       "    <tr>\n",
       "      <th>641339</th>\n",
       "      <td>2019-03-24 10:03:10</td>\n",
       "      <td>2019-03-24 10:06:48</td>\n",
       "      <td>0.74</td>\n",
       "      <td>234</td>\n",
       "      <td>186</td>\n",
       "      <td>4.5</td>\n",
       "      <td>1.24</td>\n",
       "      <td>9.54</td>\n",
       "      <td>True</td>\n",
       "      <td>3.6333</td>\n",
       "      <td>2019-03-24</td>\n",
       "      <td>12:00</td>\n",
       "      <td>18263</td>\n",
       "      <td>No</td>\n",
       "      <td>-11</td>\n",
       "      <td>10</td>\n",
       "      <td>10</td>\n",
       "    </tr>\n",
       "    <tr>\n",
       "      <th>641340</th>\n",
       "      <td>2019-03-24 10:15:06</td>\n",
       "      <td>2019-03-24 10:25:36</td>\n",
       "      <td>2.16</td>\n",
       "      <td>48</td>\n",
       "      <td>158</td>\n",
       "      <td>9.0</td>\n",
       "      <td>1.80</td>\n",
       "      <td>14.60</td>\n",
       "      <td>True</td>\n",
       "      <td>10.5000</td>\n",
       "      <td>2019-03-24</td>\n",
       "      <td>12:00</td>\n",
       "      <td>18263</td>\n",
       "      <td>No</td>\n",
       "      <td>-11</td>\n",
       "      <td>10</td>\n",
       "      <td>10</td>\n",
       "    </tr>\n",
       "  </tbody>\n",
       "</table>\n",
       "<p>641341 rows × 17 columns</p>\n",
       "</div>"
      ],
      "text/plain": [
       "       tpep_pickup_datetime tpep_dropoff_datetime  trip_distance  \\\n",
       "0       2018-10-26 00:00:39   2018-10-26 00:20:58           3.67   \n",
       "1       2018-10-26 00:30:26   2018-10-26 00:37:25           1.10   \n",
       "2       2018-10-26 00:15:27   2018-10-26 00:26:08           2.90   \n",
       "3       2018-10-26 00:34:47   2018-10-26 00:51:25           1.80   \n",
       "4       2018-10-26 00:22:33   2018-10-26 00:47:43           5.79   \n",
       "...                     ...                   ...            ...   \n",
       "641336  2019-03-24 23:36:46   2019-03-24 23:47:53           7.20   \n",
       "641337  2019-03-24 23:54:40   2019-03-24 23:58:35           1.02   \n",
       "641338  2019-03-24 09:14:27   2019-03-24 09:36:37           3.61   \n",
       "641339  2019-03-24 10:03:10   2019-03-24 10:06:48           0.74   \n",
       "641340  2019-03-24 10:15:06   2019-03-24 10:25:36           2.16   \n",
       "\n",
       "        PULocationID  DOLocationID  fare_amount  tip_amount  total_amount  \\\n",
       "0                 65           225         16.5        4.45         22.25   \n",
       "1                161           234          6.5        1.00          8.80   \n",
       "2                148            87         11.5        3.20         16.00   \n",
       "3                232            79         12.0        1.00         14.30   \n",
       "4                 68           116         21.0        4.46         26.76   \n",
       "...              ...           ...          ...         ...           ...   \n",
       "641336           132            95         21.0        4.45         26.75   \n",
       "641337           144           113          5.5        1.86         11.16   \n",
       "641338           113           237         16.0        3.04         23.34   \n",
       "641339           234           186          4.5        1.24          9.54   \n",
       "641340            48           158          9.0        1.80         14.60   \n",
       "\n",
       "        is_weekend  trip_length        Date Start(ET)  Attendance Win  \\\n",
       "0            False      20.3167  2018-10-26     19:30       19812  No   \n",
       "1            False       6.9833  2018-10-26     19:30       19812  No   \n",
       "2            False      10.6833  2018-10-26     19:30       19812  No   \n",
       "3            False      16.6333  2018-10-26     19:30       19812  No   \n",
       "4            False      25.1667  2018-10-26     19:30       19812  No   \n",
       "...            ...          ...         ...       ...         ...  ..   \n",
       "641336        True      11.1167  2019-03-24     12:00       18263  No   \n",
       "641337        True       3.9167  2019-03-24     12:00       18263  No   \n",
       "641338        True      22.1667  2019-03-24     12:00       18263  No   \n",
       "641339        True       3.6333  2019-03-24     12:00       18263  No   \n",
       "641340        True      10.5000  2019-03-24     12:00       18263  No   \n",
       "\n",
       "        score_margin  pickup_hour  dropoff_hour  \n",
       "0                -28            0             0  \n",
       "1                -28            0             0  \n",
       "2                -28            0             0  \n",
       "3                -28            0             0  \n",
       "4                -28            0             0  \n",
       "...              ...          ...           ...  \n",
       "641336           -11           23            23  \n",
       "641337           -11           23            23  \n",
       "641338           -11            9             9  \n",
       "641339           -11           10            10  \n",
       "641340           -11           10            10  \n",
       "\n",
       "[641341 rows x 17 columns]"
      ]
     },
     "execution_count": 16,
     "metadata": {},
     "output_type": "execute_result"
    }
   ],
   "source": [
    "yellow_sample_pandas.rename(columns = {'margin_victory/loss':'score_margin'}, inplace = True )\n",
    "yellow_sample_pandas"
   ]
  },
  {
   "cell_type": "code",
   "execution_count": 28,
   "id": "47dccba8",
   "metadata": {},
   "outputs": [
    {
     "ename": "ValueError",
     "evalue": "Pandas data cast to numpy dtype of object. Check input data with np.asarray(data).",
     "output_type": "error",
     "traceback": [
      "\u001b[0;31m---------------------------------------------------------------------------\u001b[0m",
      "\u001b[0;31mValueError\u001b[0m                                Traceback (most recent call last)",
      "Input \u001b[0;32mIn [28]\u001b[0m, in \u001b[0;36m<cell line: 10>\u001b[0;34m()\u001b[0m\n\u001b[1;32m      7\u001b[0m     results \u001b[38;5;241m=\u001b[39m sm\u001b[38;5;241m.\u001b[39mOLS(y, x)\u001b[38;5;241m.\u001b[39mfit()\n\u001b[1;32m      8\u001b[0m     \u001b[38;5;28mprint\u001b[39m(results\u001b[38;5;241m.\u001b[39msummary())\n\u001b[0;32m---> 10\u001b[0m \u001b[43mget_stats\u001b[49m\u001b[43m(\u001b[49m\u001b[43m)\u001b[49m\n",
      "Input \u001b[0;32mIn [28]\u001b[0m, in \u001b[0;36mget_stats\u001b[0;34m()\u001b[0m\n\u001b[1;32m      5\u001b[0m \u001b[38;5;28;01mdef\u001b[39;00m \u001b[38;5;21mget_stats\u001b[39m():\n\u001b[1;32m      6\u001b[0m     x \u001b[38;5;241m=\u001b[39m yellow_sample_pandas[x_columns]\n\u001b[0;32m----> 7\u001b[0m     results \u001b[38;5;241m=\u001b[39m \u001b[43msm\u001b[49m\u001b[38;5;241;43m.\u001b[39;49m\u001b[43mOLS\u001b[49m\u001b[43m(\u001b[49m\u001b[43my\u001b[49m\u001b[43m,\u001b[49m\u001b[43m \u001b[49m\u001b[43mx\u001b[49m\u001b[43m)\u001b[49m\u001b[38;5;241m.\u001b[39mfit()\n\u001b[1;32m      8\u001b[0m     \u001b[38;5;28mprint\u001b[39m(results\u001b[38;5;241m.\u001b[39msummary())\n",
      "File \u001b[0;32m/mnt/c/Users/User/notebook/jupyterenv/lib/python3.8/site-packages/statsmodels/regression/linear_model.py:890\u001b[0m, in \u001b[0;36mOLS.__init__\u001b[0;34m(self, endog, exog, missing, hasconst, **kwargs)\u001b[0m\n\u001b[1;32m    887\u001b[0m     msg \u001b[38;5;241m=\u001b[39m (\u001b[38;5;124m\"\u001b[39m\u001b[38;5;124mWeights are not supported in OLS and will be ignored\u001b[39m\u001b[38;5;124m\"\u001b[39m\n\u001b[1;32m    888\u001b[0m            \u001b[38;5;124m\"\u001b[39m\u001b[38;5;124mAn exception will be raised in the next version.\u001b[39m\u001b[38;5;124m\"\u001b[39m)\n\u001b[1;32m    889\u001b[0m     warnings\u001b[38;5;241m.\u001b[39mwarn(msg, ValueWarning)\n\u001b[0;32m--> 890\u001b[0m \u001b[38;5;28;43msuper\u001b[39;49m\u001b[43m(\u001b[49m\u001b[43mOLS\u001b[49m\u001b[43m,\u001b[49m\u001b[43m \u001b[49m\u001b[38;5;28;43mself\u001b[39;49m\u001b[43m)\u001b[49m\u001b[38;5;241;43m.\u001b[39;49m\u001b[38;5;21;43m__init__\u001b[39;49m\u001b[43m(\u001b[49m\u001b[43mendog\u001b[49m\u001b[43m,\u001b[49m\u001b[43m \u001b[49m\u001b[43mexog\u001b[49m\u001b[43m,\u001b[49m\u001b[43m \u001b[49m\u001b[43mmissing\u001b[49m\u001b[38;5;241;43m=\u001b[39;49m\u001b[43mmissing\u001b[49m\u001b[43m,\u001b[49m\n\u001b[1;32m    891\u001b[0m \u001b[43m                          \u001b[49m\u001b[43mhasconst\u001b[49m\u001b[38;5;241;43m=\u001b[39;49m\u001b[43mhasconst\u001b[49m\u001b[43m,\u001b[49m\u001b[43m \u001b[49m\u001b[38;5;241;43m*\u001b[39;49m\u001b[38;5;241;43m*\u001b[39;49m\u001b[43mkwargs\u001b[49m\u001b[43m)\u001b[49m\n\u001b[1;32m    892\u001b[0m \u001b[38;5;28;01mif\u001b[39;00m \u001b[38;5;124m\"\u001b[39m\u001b[38;5;124mweights\u001b[39m\u001b[38;5;124m\"\u001b[39m \u001b[38;5;129;01min\u001b[39;00m \u001b[38;5;28mself\u001b[39m\u001b[38;5;241m.\u001b[39m_init_keys:\n\u001b[1;32m    893\u001b[0m     \u001b[38;5;28mself\u001b[39m\u001b[38;5;241m.\u001b[39m_init_keys\u001b[38;5;241m.\u001b[39mremove(\u001b[38;5;124m\"\u001b[39m\u001b[38;5;124mweights\u001b[39m\u001b[38;5;124m\"\u001b[39m)\n",
      "File \u001b[0;32m/mnt/c/Users/User/notebook/jupyterenv/lib/python3.8/site-packages/statsmodels/regression/linear_model.py:717\u001b[0m, in \u001b[0;36mWLS.__init__\u001b[0;34m(self, endog, exog, weights, missing, hasconst, **kwargs)\u001b[0m\n\u001b[1;32m    715\u001b[0m \u001b[38;5;28;01melse\u001b[39;00m:\n\u001b[1;32m    716\u001b[0m     weights \u001b[38;5;241m=\u001b[39m weights\u001b[38;5;241m.\u001b[39msqueeze()\n\u001b[0;32m--> 717\u001b[0m \u001b[38;5;28;43msuper\u001b[39;49m\u001b[43m(\u001b[49m\u001b[43mWLS\u001b[49m\u001b[43m,\u001b[49m\u001b[43m \u001b[49m\u001b[38;5;28;43mself\u001b[39;49m\u001b[43m)\u001b[49m\u001b[38;5;241;43m.\u001b[39;49m\u001b[38;5;21;43m__init__\u001b[39;49m\u001b[43m(\u001b[49m\u001b[43mendog\u001b[49m\u001b[43m,\u001b[49m\u001b[43m \u001b[49m\u001b[43mexog\u001b[49m\u001b[43m,\u001b[49m\u001b[43m \u001b[49m\u001b[43mmissing\u001b[49m\u001b[38;5;241;43m=\u001b[39;49m\u001b[43mmissing\u001b[49m\u001b[43m,\u001b[49m\n\u001b[1;32m    718\u001b[0m \u001b[43m                          \u001b[49m\u001b[43mweights\u001b[49m\u001b[38;5;241;43m=\u001b[39;49m\u001b[43mweights\u001b[49m\u001b[43m,\u001b[49m\u001b[43m \u001b[49m\u001b[43mhasconst\u001b[49m\u001b[38;5;241;43m=\u001b[39;49m\u001b[43mhasconst\u001b[49m\u001b[43m,\u001b[49m\u001b[43m \u001b[49m\u001b[38;5;241;43m*\u001b[39;49m\u001b[38;5;241;43m*\u001b[39;49m\u001b[43mkwargs\u001b[49m\u001b[43m)\u001b[49m\n\u001b[1;32m    719\u001b[0m nobs \u001b[38;5;241m=\u001b[39m \u001b[38;5;28mself\u001b[39m\u001b[38;5;241m.\u001b[39mexog\u001b[38;5;241m.\u001b[39mshape[\u001b[38;5;241m0\u001b[39m]\n\u001b[1;32m    720\u001b[0m weights \u001b[38;5;241m=\u001b[39m \u001b[38;5;28mself\u001b[39m\u001b[38;5;241m.\u001b[39mweights\n",
      "File \u001b[0;32m/mnt/c/Users/User/notebook/jupyterenv/lib/python3.8/site-packages/statsmodels/regression/linear_model.py:191\u001b[0m, in \u001b[0;36mRegressionModel.__init__\u001b[0;34m(self, endog, exog, **kwargs)\u001b[0m\n\u001b[1;32m    190\u001b[0m \u001b[38;5;28;01mdef\u001b[39;00m \u001b[38;5;21m__init__\u001b[39m(\u001b[38;5;28mself\u001b[39m, endog, exog, \u001b[38;5;241m*\u001b[39m\u001b[38;5;241m*\u001b[39mkwargs):\n\u001b[0;32m--> 191\u001b[0m     \u001b[38;5;28;43msuper\u001b[39;49m\u001b[43m(\u001b[49m\u001b[43mRegressionModel\u001b[49m\u001b[43m,\u001b[49m\u001b[43m \u001b[49m\u001b[38;5;28;43mself\u001b[39;49m\u001b[43m)\u001b[49m\u001b[38;5;241;43m.\u001b[39;49m\u001b[38;5;21;43m__init__\u001b[39;49m\u001b[43m(\u001b[49m\u001b[43mendog\u001b[49m\u001b[43m,\u001b[49m\u001b[43m \u001b[49m\u001b[43mexog\u001b[49m\u001b[43m,\u001b[49m\u001b[43m \u001b[49m\u001b[38;5;241;43m*\u001b[39;49m\u001b[38;5;241;43m*\u001b[39;49m\u001b[43mkwargs\u001b[49m\u001b[43m)\u001b[49m\n\u001b[1;32m    192\u001b[0m     \u001b[38;5;28mself\u001b[39m\u001b[38;5;241m.\u001b[39m_data_attr\u001b[38;5;241m.\u001b[39mextend([\u001b[38;5;124m'\u001b[39m\u001b[38;5;124mpinv_wexog\u001b[39m\u001b[38;5;124m'\u001b[39m, \u001b[38;5;124m'\u001b[39m\u001b[38;5;124mwendog\u001b[39m\u001b[38;5;124m'\u001b[39m, \u001b[38;5;124m'\u001b[39m\u001b[38;5;124mwexog\u001b[39m\u001b[38;5;124m'\u001b[39m, \u001b[38;5;124m'\u001b[39m\u001b[38;5;124mweights\u001b[39m\u001b[38;5;124m'\u001b[39m])\n",
      "File \u001b[0;32m/mnt/c/Users/User/notebook/jupyterenv/lib/python3.8/site-packages/statsmodels/base/model.py:267\u001b[0m, in \u001b[0;36mLikelihoodModel.__init__\u001b[0;34m(self, endog, exog, **kwargs)\u001b[0m\n\u001b[1;32m    266\u001b[0m \u001b[38;5;28;01mdef\u001b[39;00m \u001b[38;5;21m__init__\u001b[39m(\u001b[38;5;28mself\u001b[39m, endog, exog\u001b[38;5;241m=\u001b[39m\u001b[38;5;28;01mNone\u001b[39;00m, \u001b[38;5;241m*\u001b[39m\u001b[38;5;241m*\u001b[39mkwargs):\n\u001b[0;32m--> 267\u001b[0m     \u001b[38;5;28;43msuper\u001b[39;49m\u001b[43m(\u001b[49m\u001b[43m)\u001b[49m\u001b[38;5;241;43m.\u001b[39;49m\u001b[38;5;21;43m__init__\u001b[39;49m\u001b[43m(\u001b[49m\u001b[43mendog\u001b[49m\u001b[43m,\u001b[49m\u001b[43m \u001b[49m\u001b[43mexog\u001b[49m\u001b[43m,\u001b[49m\u001b[43m \u001b[49m\u001b[38;5;241;43m*\u001b[39;49m\u001b[38;5;241;43m*\u001b[39;49m\u001b[43mkwargs\u001b[49m\u001b[43m)\u001b[49m\n\u001b[1;32m    268\u001b[0m     \u001b[38;5;28mself\u001b[39m\u001b[38;5;241m.\u001b[39minitialize()\n",
      "File \u001b[0;32m/mnt/c/Users/User/notebook/jupyterenv/lib/python3.8/site-packages/statsmodels/base/model.py:92\u001b[0m, in \u001b[0;36mModel.__init__\u001b[0;34m(self, endog, exog, **kwargs)\u001b[0m\n\u001b[1;32m     90\u001b[0m missing \u001b[38;5;241m=\u001b[39m kwargs\u001b[38;5;241m.\u001b[39mpop(\u001b[38;5;124m'\u001b[39m\u001b[38;5;124mmissing\u001b[39m\u001b[38;5;124m'\u001b[39m, \u001b[38;5;124m'\u001b[39m\u001b[38;5;124mnone\u001b[39m\u001b[38;5;124m'\u001b[39m)\n\u001b[1;32m     91\u001b[0m hasconst \u001b[38;5;241m=\u001b[39m kwargs\u001b[38;5;241m.\u001b[39mpop(\u001b[38;5;124m'\u001b[39m\u001b[38;5;124mhasconst\u001b[39m\u001b[38;5;124m'\u001b[39m, \u001b[38;5;28;01mNone\u001b[39;00m)\n\u001b[0;32m---> 92\u001b[0m \u001b[38;5;28mself\u001b[39m\u001b[38;5;241m.\u001b[39mdata \u001b[38;5;241m=\u001b[39m \u001b[38;5;28;43mself\u001b[39;49m\u001b[38;5;241;43m.\u001b[39;49m\u001b[43m_handle_data\u001b[49m\u001b[43m(\u001b[49m\u001b[43mendog\u001b[49m\u001b[43m,\u001b[49m\u001b[43m \u001b[49m\u001b[43mexog\u001b[49m\u001b[43m,\u001b[49m\u001b[43m \u001b[49m\u001b[43mmissing\u001b[49m\u001b[43m,\u001b[49m\u001b[43m \u001b[49m\u001b[43mhasconst\u001b[49m\u001b[43m,\u001b[49m\n\u001b[1;32m     93\u001b[0m \u001b[43m                              \u001b[49m\u001b[38;5;241;43m*\u001b[39;49m\u001b[38;5;241;43m*\u001b[39;49m\u001b[43mkwargs\u001b[49m\u001b[43m)\u001b[49m\n\u001b[1;32m     94\u001b[0m \u001b[38;5;28mself\u001b[39m\u001b[38;5;241m.\u001b[39mk_constant \u001b[38;5;241m=\u001b[39m \u001b[38;5;28mself\u001b[39m\u001b[38;5;241m.\u001b[39mdata\u001b[38;5;241m.\u001b[39mk_constant\n\u001b[1;32m     95\u001b[0m \u001b[38;5;28mself\u001b[39m\u001b[38;5;241m.\u001b[39mexog \u001b[38;5;241m=\u001b[39m \u001b[38;5;28mself\u001b[39m\u001b[38;5;241m.\u001b[39mdata\u001b[38;5;241m.\u001b[39mexog\n",
      "File \u001b[0;32m/mnt/c/Users/User/notebook/jupyterenv/lib/python3.8/site-packages/statsmodels/base/model.py:132\u001b[0m, in \u001b[0;36mModel._handle_data\u001b[0;34m(self, endog, exog, missing, hasconst, **kwargs)\u001b[0m\n\u001b[1;32m    131\u001b[0m \u001b[38;5;28;01mdef\u001b[39;00m \u001b[38;5;21m_handle_data\u001b[39m(\u001b[38;5;28mself\u001b[39m, endog, exog, missing, hasconst, \u001b[38;5;241m*\u001b[39m\u001b[38;5;241m*\u001b[39mkwargs):\n\u001b[0;32m--> 132\u001b[0m     data \u001b[38;5;241m=\u001b[39m \u001b[43mhandle_data\u001b[49m\u001b[43m(\u001b[49m\u001b[43mendog\u001b[49m\u001b[43m,\u001b[49m\u001b[43m \u001b[49m\u001b[43mexog\u001b[49m\u001b[43m,\u001b[49m\u001b[43m \u001b[49m\u001b[43mmissing\u001b[49m\u001b[43m,\u001b[49m\u001b[43m \u001b[49m\u001b[43mhasconst\u001b[49m\u001b[43m,\u001b[49m\u001b[43m \u001b[49m\u001b[38;5;241;43m*\u001b[39;49m\u001b[38;5;241;43m*\u001b[39;49m\u001b[43mkwargs\u001b[49m\u001b[43m)\u001b[49m\n\u001b[1;32m    133\u001b[0m     \u001b[38;5;66;03m# kwargs arrays could have changed, easier to just attach here\u001b[39;00m\n\u001b[1;32m    134\u001b[0m     \u001b[38;5;28;01mfor\u001b[39;00m key \u001b[38;5;129;01min\u001b[39;00m kwargs:\n",
      "File \u001b[0;32m/mnt/c/Users/User/notebook/jupyterenv/lib/python3.8/site-packages/statsmodels/base/data.py:673\u001b[0m, in \u001b[0;36mhandle_data\u001b[0;34m(endog, exog, missing, hasconst, **kwargs)\u001b[0m\n\u001b[1;32m    670\u001b[0m     exog \u001b[38;5;241m=\u001b[39m np\u001b[38;5;241m.\u001b[39masarray(exog)\n\u001b[1;32m    672\u001b[0m klass \u001b[38;5;241m=\u001b[39m handle_data_class_factory(endog, exog)\n\u001b[0;32m--> 673\u001b[0m \u001b[38;5;28;01mreturn\u001b[39;00m \u001b[43mklass\u001b[49m\u001b[43m(\u001b[49m\u001b[43mendog\u001b[49m\u001b[43m,\u001b[49m\u001b[43m \u001b[49m\u001b[43mexog\u001b[49m\u001b[38;5;241;43m=\u001b[39;49m\u001b[43mexog\u001b[49m\u001b[43m,\u001b[49m\u001b[43m \u001b[49m\u001b[43mmissing\u001b[49m\u001b[38;5;241;43m=\u001b[39;49m\u001b[43mmissing\u001b[49m\u001b[43m,\u001b[49m\u001b[43m \u001b[49m\u001b[43mhasconst\u001b[49m\u001b[38;5;241;43m=\u001b[39;49m\u001b[43mhasconst\u001b[49m\u001b[43m,\u001b[49m\n\u001b[1;32m    674\u001b[0m \u001b[43m             \u001b[49m\u001b[38;5;241;43m*\u001b[39;49m\u001b[38;5;241;43m*\u001b[39;49m\u001b[43mkwargs\u001b[49m\u001b[43m)\u001b[49m\n",
      "File \u001b[0;32m/mnt/c/Users/User/notebook/jupyterenv/lib/python3.8/site-packages/statsmodels/base/data.py:82\u001b[0m, in \u001b[0;36mModelData.__init__\u001b[0;34m(self, endog, exog, missing, hasconst, **kwargs)\u001b[0m\n\u001b[1;32m     80\u001b[0m     \u001b[38;5;28mself\u001b[39m\u001b[38;5;241m.\u001b[39morig_endog \u001b[38;5;241m=\u001b[39m endog\n\u001b[1;32m     81\u001b[0m     \u001b[38;5;28mself\u001b[39m\u001b[38;5;241m.\u001b[39morig_exog \u001b[38;5;241m=\u001b[39m exog\n\u001b[0;32m---> 82\u001b[0m     \u001b[38;5;28mself\u001b[39m\u001b[38;5;241m.\u001b[39mendog, \u001b[38;5;28mself\u001b[39m\u001b[38;5;241m.\u001b[39mexog \u001b[38;5;241m=\u001b[39m \u001b[38;5;28;43mself\u001b[39;49m\u001b[38;5;241;43m.\u001b[39;49m\u001b[43m_convert_endog_exog\u001b[49m\u001b[43m(\u001b[49m\u001b[43mendog\u001b[49m\u001b[43m,\u001b[49m\u001b[43m \u001b[49m\u001b[43mexog\u001b[49m\u001b[43m)\u001b[49m\n\u001b[1;32m     84\u001b[0m \u001b[38;5;28mself\u001b[39m\u001b[38;5;241m.\u001b[39mconst_idx \u001b[38;5;241m=\u001b[39m \u001b[38;5;28;01mNone\u001b[39;00m\n\u001b[1;32m     85\u001b[0m \u001b[38;5;28mself\u001b[39m\u001b[38;5;241m.\u001b[39mk_constant \u001b[38;5;241m=\u001b[39m \u001b[38;5;241m0\u001b[39m\n",
      "File \u001b[0;32m/mnt/c/Users/User/notebook/jupyterenv/lib/python3.8/site-packages/statsmodels/base/data.py:507\u001b[0m, in \u001b[0;36mPandasData._convert_endog_exog\u001b[0;34m(self, endog, exog)\u001b[0m\n\u001b[1;32m    505\u001b[0m exog \u001b[38;5;241m=\u001b[39m exog \u001b[38;5;28;01mif\u001b[39;00m exog \u001b[38;5;129;01mis\u001b[39;00m \u001b[38;5;28;01mNone\u001b[39;00m \u001b[38;5;28;01melse\u001b[39;00m np\u001b[38;5;241m.\u001b[39masarray(exog)\n\u001b[1;32m    506\u001b[0m \u001b[38;5;28;01mif\u001b[39;00m endog\u001b[38;5;241m.\u001b[39mdtype \u001b[38;5;241m==\u001b[39m \u001b[38;5;28mobject\u001b[39m \u001b[38;5;129;01mor\u001b[39;00m exog \u001b[38;5;129;01mis\u001b[39;00m \u001b[38;5;129;01mnot\u001b[39;00m \u001b[38;5;28;01mNone\u001b[39;00m \u001b[38;5;129;01mand\u001b[39;00m exog\u001b[38;5;241m.\u001b[39mdtype \u001b[38;5;241m==\u001b[39m \u001b[38;5;28mobject\u001b[39m:\n\u001b[0;32m--> 507\u001b[0m     \u001b[38;5;28;01mraise\u001b[39;00m \u001b[38;5;167;01mValueError\u001b[39;00m(\u001b[38;5;124m\"\u001b[39m\u001b[38;5;124mPandas data cast to numpy dtype of object. \u001b[39m\u001b[38;5;124m\"\u001b[39m\n\u001b[1;32m    508\u001b[0m                      \u001b[38;5;124m\"\u001b[39m\u001b[38;5;124mCheck input data with np.asarray(data).\u001b[39m\u001b[38;5;124m\"\u001b[39m)\n\u001b[1;32m    509\u001b[0m \u001b[38;5;28;01mreturn\u001b[39;00m \u001b[38;5;28msuper\u001b[39m(PandasData, \u001b[38;5;28mself\u001b[39m)\u001b[38;5;241m.\u001b[39m_convert_endog_exog(endog, exog)\n",
      "\u001b[0;31mValueError\u001b[0m: Pandas data cast to numpy dtype of object. Check input data with np.asarray(data)."
     ]
    }
   ],
   "source": [
    "x_columns = [\"trip_distance\" ,\"PULocationID\", \"DOLocationID\", \"fare_amount\", \"total_amount\", \n",
    "             \"is_weekend\", \"trip_length\", \"Attendance\", \"Win\", \"pickup_hour\", \"dropoff_hour\", \"score_margin\"]\n",
    "y = yellow_sample_pandas[\"tip_amount\"]\n",
    "\n",
    "def get_stats():\n",
    "    x = yellow_sample_pandas[x_columns]\n",
    "    results = sm.OLS(y, x).fit()\n",
    "    print(results.summary())\n",
    "    \n",
    "get_stats()"
   ]
  },
  {
   "cell_type": "code",
   "execution_count": null,
   "id": "e1cac6e8",
   "metadata": {},
   "outputs": [],
   "source": []
  },
  {
   "cell_type": "code",
   "execution_count": 5,
   "id": "c530189d",
   "metadata": {},
   "outputs": [
    {
     "name": "stderr",
     "output_type": "stream",
     "text": [
      "                                                                                \r"
     ]
    },
    {
     "data": {
      "text/html": [
       "<table border='1'>\n",
       "<tr><th>Date</th><th>count</th></tr>\n",
       "<tr><td>2018-10-17</td><td>182129</td></tr>\n",
       "<tr><td>2018-10-20</td><td>169804</td></tr>\n",
       "<tr><td>2018-10-26</td><td>181843</td></tr>\n",
       "<tr><td>2018-10-29</td><td>156363</td></tr>\n",
       "<tr><td>2018-10-31</td><td>164490</td></tr>\n",
       "<tr><td>2018-11-05</td><td>161472</td></tr>\n",
       "<tr><td>2018-11-11</td><td>148113</td></tr>\n",
       "<tr><td>2018-11-20</td><td>166765</td></tr>\n",
       "<tr><td>2018-11-23</td><td>99489</td></tr>\n",
       "<tr><td>2018-12-01</td><td>180716</td></tr>\n",
       "<tr><td>2018-12-03</td><td>157951</td></tr>\n",
       "<tr><td>2018-12-08</td><td>177893</td></tr>\n",
       "<tr><td>2018-12-09</td><td>150746</td></tr>\n",
       "<tr><td>2018-12-17</td><td>166478</td></tr>\n",
       "<tr><td>2018-12-21</td><td>171904</td></tr>\n",
       "<tr><td>2018-12-25</td><td>56868</td></tr>\n",
       "<tr><td>2019-01-11</td><td>180695</td></tr>\n",
       "<tr><td>2019-01-13</td><td>140161</td></tr>\n",
       "<tr><td>2019-01-21</td><td>113949</td></tr>\n",
       "<tr><td>2019-01-23</td><td>164238</td></tr>\n",
       "</table>\n",
       "only showing top 20 rows\n"
      ],
      "text/plain": [
       "+----------+------+\n",
       "|      Date| count|\n",
       "+----------+------+\n",
       "|2018-10-17|182129|\n",
       "|2018-10-20|169804|\n",
       "|2018-10-26|181843|\n",
       "|2018-10-29|156363|\n",
       "|2018-10-31|164490|\n",
       "|2018-11-05|161472|\n",
       "|2018-11-11|148113|\n",
       "|2018-11-20|166765|\n",
       "|2018-11-23| 99489|\n",
       "|2018-12-01|180716|\n",
       "|2018-12-03|157951|\n",
       "|2018-12-08|177893|\n",
       "|2018-12-09|150746|\n",
       "|2018-12-17|166478|\n",
       "|2018-12-21|171904|\n",
       "|2018-12-25| 56868|\n",
       "|2019-01-11|180695|\n",
       "|2019-01-13|140161|\n",
       "|2019-01-21|113949|\n",
       "|2019-01-23|164238|\n",
       "+----------+------+\n",
       "only showing top 20 rows"
      ]
     },
     "execution_count": 5,
     "metadata": {},
     "output_type": "execute_result"
    }
   ],
   "source": [
    "yellow.groupBy('Date').count().orderBy('Date')\n"
   ]
  },
  {
   "cell_type": "code",
   "execution_count": 6,
   "id": "8dc5b9ae",
   "metadata": {},
   "outputs": [],
   "source": [
    "# converts the pickup_hours into categorical data as there are correlation that could be seen from analysis\n",
    "\n",
    "# drop the tpep pickup and dropoff columns\n",
    "\n",
    "yellow = yellow.withColumn('pickup_hour', hour(\"tpep_pickup_datetime\"))\n",
    "yellow = yellow.withColumn('dropoff_hour', hour(\"tpep_dropoff_datetime\"))\n",
    "\n",
    "yellow = yellow.drop('tpep_pickup_datetime', 'tpep_dropoff_datetime', 'Start(ET)', 'margin_victory/loss', 'Attendance')"
   ]
  },
  {
   "cell_type": "code",
   "execution_count": 7,
   "id": "6b7f4555",
   "metadata": {},
   "outputs": [
    {
     "data": {
      "text/html": [
       "<table border='1'>\n",
       "<tr><th>trip_distance</th><th>PULocationID</th><th>DOLocationID</th><th>fare_amount</th><th>tip_amount</th><th>total_amount</th><th>is_weekend</th><th>trip_length</th><th>Date</th><th>Win</th><th>pickup_hour</th><th>dropoff_hour</th></tr>\n",
       "<tr><td>2.56</td><td>162</td><td>263</td><td>16.5</td><td>4.58</td><td>22.88</td><td>0</td><td>25.3833</td><td>2018-12-25</td><td>0</td><td>0</td><td>1</td></tr>\n",
       "<tr><td>0.9</td><td>163</td><td>162</td><td>5.0</td><td>1.45</td><td>7.25</td><td>0</td><td>4.6</td><td>2018-12-25</td><td>0</td><td>9</td><td>9</td></tr>\n",
       "<tr><td>0.63</td><td>100</td><td>48</td><td>4.0</td><td>0.96</td><td>5.76</td><td>0</td><td>2.6167</td><td>2018-12-25</td><td>0</td><td>10</td><td>10</td></tr>\n",
       "<tr><td>8.08</td><td>161</td><td>13</td><td>23.5</td><td>0.0</td><td>24.3</td><td>0</td><td>15.8167</td><td>2018-12-25</td><td>0</td><td>10</td><td>11</td></tr>\n",
       "<tr><td>2.13</td><td>162</td><td>142</td><td>11.5</td><td>1.0</td><td>13.3</td><td>0</td><td>14.6667</td><td>2018-12-25</td><td>0</td><td>15</td><td>16</td></tr>\n",
       "<tr><td>2.88</td><td>230</td><td>236</td><td>11.0</td><td>2.36</td><td>14.16</td><td>0</td><td>10.8167</td><td>2018-12-25</td><td>0</td><td>0</td><td>0</td></tr>\n",
       "<tr><td>0.98</td><td>161</td><td>229</td><td>6.0</td><td>1.36</td><td>8.16</td><td>0</td><td>6.1667</td><td>2018-12-25</td><td>0</td><td>0</td><td>0</td></tr>\n",
       "<tr><td>1.64</td><td>246</td><td>107</td><td>9.5</td><td>0.0</td><td>10.3</td><td>0</td><td>12.4167</td><td>2018-12-25</td><td>0</td><td>3</td><td>4</td></tr>\n",
       "<tr><td>0.83</td><td>237</td><td>141</td><td>5.0</td><td>2.0</td><td>7.8</td><td>0</td><td>3.9833</td><td>2018-12-25</td><td>0</td><td>17</td><td>17</td></tr>\n",
       "<tr><td>1.1</td><td>237</td><td>236</td><td>5.5</td><td>1.58</td><td>7.88</td><td>0</td><td>3.8167</td><td>2018-12-25</td><td>0</td><td>17</td><td>17</td></tr>\n",
       "<tr><td>0.71</td><td>114</td><td>234</td><td>4.5</td><td>1.06</td><td>6.36</td><td>0</td><td>3.15</td><td>2018-12-25</td><td>0</td><td>19</td><td>19</td></tr>\n",
       "<tr><td>5.71</td><td>158</td><td>262</td><td>20.0</td><td>1.2</td><td>22.0</td><td>0</td><td>23.3667</td><td>2018-12-25</td><td>0</td><td>20</td><td>20</td></tr>\n",
       "<tr><td>2.92</td><td>141</td><td>74</td><td>9.5</td><td>1.54</td><td>11.84</td><td>0</td><td>7.8333</td><td>2018-12-25</td><td>0</td><td>22</td><td>22</td></tr>\n",
       "<tr><td>7.86</td><td>152</td><td>182</td><td>26.0</td><td>0.0</td><td>26.8</td><td>0</td><td>22.7333</td><td>2018-12-25</td><td>0</td><td>23</td><td>23</td></tr>\n",
       "<tr><td>1.61</td><td>68</td><td>113</td><td>7.5</td><td>10.0</td><td>18.8</td><td>0</td><td>7.7167</td><td>2018-12-25</td><td>0</td><td>0</td><td>0</td></tr>\n",
       "<tr><td>2.44</td><td>230</td><td>141</td><td>11.0</td><td>2.46</td><td>14.76</td><td>0</td><td>13.25</td><td>2018-12-25</td><td>0</td><td>0</td><td>0</td></tr>\n",
       "<tr><td>1.61</td><td>100</td><td>229</td><td>9.0</td><td>2.06</td><td>12.36</td><td>0</td><td>11.1167</td><td>2018-12-25</td><td>0</td><td>0</td><td>0</td></tr>\n",
       "<tr><td>4.42</td><td>107</td><td>75</td><td>13.5</td><td>2.0</td><td>16.8</td><td>0</td><td>7.3167</td><td>2018-12-25</td><td>0</td><td>0</td><td>0</td></tr>\n",
       "<tr><td>0.65</td><td>211</td><td>114</td><td>4.0</td><td>1.59</td><td>6.89</td><td>0</td><td>1.4167</td><td>2018-12-25</td><td>0</td><td>0</td><td>0</td></tr>\n",
       "<tr><td>2.3</td><td>234</td><td>144</td><td>11.0</td><td>1.48</td><td>13.78</td><td>0</td><td>13.65</td><td>2018-12-25</td><td>0</td><td>0</td><td>0</td></tr>\n",
       "</table>\n",
       "only showing top 20 rows\n"
      ],
      "text/plain": [
       "+-------------+------------+------------+-----------+----------+------------+----------+-----------+----------+---+-----------+------------+\n",
       "|trip_distance|PULocationID|DOLocationID|fare_amount|tip_amount|total_amount|is_weekend|trip_length|      Date|Win|pickup_hour|dropoff_hour|\n",
       "+-------------+------------+------------+-----------+----------+------------+----------+-----------+----------+---+-----------+------------+\n",
       "|         2.56|         162|         263|       16.5|      4.58|       22.88|         0|    25.3833|2018-12-25|  0|          0|           1|\n",
       "|          0.9|         163|         162|        5.0|      1.45|        7.25|         0|        4.6|2018-12-25|  0|          9|           9|\n",
       "|         0.63|         100|          48|        4.0|      0.96|        5.76|         0|     2.6167|2018-12-25|  0|         10|          10|\n",
       "|         8.08|         161|          13|       23.5|       0.0|        24.3|         0|    15.8167|2018-12-25|  0|         10|          11|\n",
       "|         2.13|         162|         142|       11.5|       1.0|        13.3|         0|    14.6667|2018-12-25|  0|         15|          16|\n",
       "|         2.88|         230|         236|       11.0|      2.36|       14.16|         0|    10.8167|2018-12-25|  0|          0|           0|\n",
       "|         0.98|         161|         229|        6.0|      1.36|        8.16|         0|     6.1667|2018-12-25|  0|          0|           0|\n",
       "|         1.64|         246|         107|        9.5|       0.0|        10.3|         0|    12.4167|2018-12-25|  0|          3|           4|\n",
       "|         0.83|         237|         141|        5.0|       2.0|         7.8|         0|     3.9833|2018-12-25|  0|         17|          17|\n",
       "|          1.1|         237|         236|        5.5|      1.58|        7.88|         0|     3.8167|2018-12-25|  0|         17|          17|\n",
       "|         0.71|         114|         234|        4.5|      1.06|        6.36|         0|       3.15|2018-12-25|  0|         19|          19|\n",
       "|         5.71|         158|         262|       20.0|       1.2|        22.0|         0|    23.3667|2018-12-25|  0|         20|          20|\n",
       "|         2.92|         141|          74|        9.5|      1.54|       11.84|         0|     7.8333|2018-12-25|  0|         22|          22|\n",
       "|         7.86|         152|         182|       26.0|       0.0|        26.8|         0|    22.7333|2018-12-25|  0|         23|          23|\n",
       "|         1.61|          68|         113|        7.5|      10.0|        18.8|         0|     7.7167|2018-12-25|  0|          0|           0|\n",
       "|         2.44|         230|         141|       11.0|      2.46|       14.76|         0|      13.25|2018-12-25|  0|          0|           0|\n",
       "|         1.61|         100|         229|        9.0|      2.06|       12.36|         0|    11.1167|2018-12-25|  0|          0|           0|\n",
       "|         4.42|         107|          75|       13.5|       2.0|        16.8|         0|     7.3167|2018-12-25|  0|          0|           0|\n",
       "|         0.65|         211|         114|        4.0|      1.59|        6.89|         0|     1.4167|2018-12-25|  0|          0|           0|\n",
       "|          2.3|         234|         144|       11.0|      1.48|       13.78|         0|      13.65|2018-12-25|  0|          0|           0|\n",
       "+-------------+------------+------------+-----------+----------+------------+----------+-----------+----------+---+-----------+------------+\n",
       "only showing top 20 rows"
      ]
     },
     "execution_count": 7,
     "metadata": {},
     "output_type": "execute_result"
    }
   ],
   "source": [
    "# convert boolean values into 0 and 1\n",
    "\n",
    "yellow = yellow.withColumn('is_weekend', F.when(yellow.is_weekend == 'false', 0).otherwise(1))\n",
    "\n",
    "yellow = yellow.withColumn('Win', F.when(yellow.Win == 'No', 0).otherwise(1))\n",
    "\n",
    "yellow"
   ]
  },
  {
   "cell_type": "code",
   "execution_count": null,
   "id": "37368296",
   "metadata": {},
   "outputs": [],
   "source": []
  },
  {
   "cell_type": "code",
   "execution_count": 8,
   "id": "18c8a5be",
   "metadata": {},
   "outputs": [],
   "source": [
    "# use all 2018 data as a train set\n",
    "\n",
    "# then use the first game of 2019 as the test set\n",
    "\n",
    "yellow_train = yellow.where((F.col('Date') < '2019-01-11'))\n",
    "\n",
    "yellow_test = yellow.where((F.col('Date') == '2019-01-11'))\n"
   ]
  },
  {
   "cell_type": "code",
   "execution_count": 9,
   "id": "e76d4294",
   "metadata": {},
   "outputs": [],
   "source": [
    "yellow_train = yellow_train.drop('Date')"
   ]
  },
  {
   "cell_type": "code",
   "execution_count": 10,
   "id": "aa8b078e",
   "metadata": {},
   "outputs": [],
   "source": [
    "yellow_test = yellow_test.drop('Date')"
   ]
  },
  {
   "cell_type": "code",
   "execution_count": 11,
   "id": "983a3100",
   "metadata": {},
   "outputs": [
    {
     "data": {
      "text/html": [
       "<table border='1'>\n",
       "<tr><th>trip_distance</th><th>PULocationID</th><th>DOLocationID</th><th>fare_amount</th><th>tip_amount</th><th>total_amount</th><th>is_weekend</th><th>trip_length</th><th>Win</th><th>pickup_hour</th><th>dropoff_hour</th></tr>\n",
       "<tr><td>2.56</td><td>162</td><td>263</td><td>16.5</td><td>4.58</td><td>22.88</td><td>0</td><td>25.3833</td><td>0</td><td>0</td><td>1</td></tr>\n",
       "<tr><td>0.9</td><td>163</td><td>162</td><td>5.0</td><td>1.45</td><td>7.25</td><td>0</td><td>4.6</td><td>0</td><td>9</td><td>9</td></tr>\n",
       "<tr><td>0.63</td><td>100</td><td>48</td><td>4.0</td><td>0.96</td><td>5.76</td><td>0</td><td>2.6167</td><td>0</td><td>10</td><td>10</td></tr>\n",
       "<tr><td>8.08</td><td>161</td><td>13</td><td>23.5</td><td>0.0</td><td>24.3</td><td>0</td><td>15.8167</td><td>0</td><td>10</td><td>11</td></tr>\n",
       "<tr><td>2.13</td><td>162</td><td>142</td><td>11.5</td><td>1.0</td><td>13.3</td><td>0</td><td>14.6667</td><td>0</td><td>15</td><td>16</td></tr>\n",
       "<tr><td>2.88</td><td>230</td><td>236</td><td>11.0</td><td>2.36</td><td>14.16</td><td>0</td><td>10.8167</td><td>0</td><td>0</td><td>0</td></tr>\n",
       "<tr><td>0.98</td><td>161</td><td>229</td><td>6.0</td><td>1.36</td><td>8.16</td><td>0</td><td>6.1667</td><td>0</td><td>0</td><td>0</td></tr>\n",
       "<tr><td>1.64</td><td>246</td><td>107</td><td>9.5</td><td>0.0</td><td>10.3</td><td>0</td><td>12.4167</td><td>0</td><td>3</td><td>4</td></tr>\n",
       "<tr><td>0.83</td><td>237</td><td>141</td><td>5.0</td><td>2.0</td><td>7.8</td><td>0</td><td>3.9833</td><td>0</td><td>17</td><td>17</td></tr>\n",
       "<tr><td>1.1</td><td>237</td><td>236</td><td>5.5</td><td>1.58</td><td>7.88</td><td>0</td><td>3.8167</td><td>0</td><td>17</td><td>17</td></tr>\n",
       "<tr><td>0.71</td><td>114</td><td>234</td><td>4.5</td><td>1.06</td><td>6.36</td><td>0</td><td>3.15</td><td>0</td><td>19</td><td>19</td></tr>\n",
       "<tr><td>5.71</td><td>158</td><td>262</td><td>20.0</td><td>1.2</td><td>22.0</td><td>0</td><td>23.3667</td><td>0</td><td>20</td><td>20</td></tr>\n",
       "<tr><td>2.92</td><td>141</td><td>74</td><td>9.5</td><td>1.54</td><td>11.84</td><td>0</td><td>7.8333</td><td>0</td><td>22</td><td>22</td></tr>\n",
       "<tr><td>7.86</td><td>152</td><td>182</td><td>26.0</td><td>0.0</td><td>26.8</td><td>0</td><td>22.7333</td><td>0</td><td>23</td><td>23</td></tr>\n",
       "<tr><td>1.61</td><td>68</td><td>113</td><td>7.5</td><td>10.0</td><td>18.8</td><td>0</td><td>7.7167</td><td>0</td><td>0</td><td>0</td></tr>\n",
       "<tr><td>2.44</td><td>230</td><td>141</td><td>11.0</td><td>2.46</td><td>14.76</td><td>0</td><td>13.25</td><td>0</td><td>0</td><td>0</td></tr>\n",
       "<tr><td>1.61</td><td>100</td><td>229</td><td>9.0</td><td>2.06</td><td>12.36</td><td>0</td><td>11.1167</td><td>0</td><td>0</td><td>0</td></tr>\n",
       "<tr><td>4.42</td><td>107</td><td>75</td><td>13.5</td><td>2.0</td><td>16.8</td><td>0</td><td>7.3167</td><td>0</td><td>0</td><td>0</td></tr>\n",
       "<tr><td>0.65</td><td>211</td><td>114</td><td>4.0</td><td>1.59</td><td>6.89</td><td>0</td><td>1.4167</td><td>0</td><td>0</td><td>0</td></tr>\n",
       "<tr><td>2.3</td><td>234</td><td>144</td><td>11.0</td><td>1.48</td><td>13.78</td><td>0</td><td>13.65</td><td>0</td><td>0</td><td>0</td></tr>\n",
       "</table>\n",
       "only showing top 20 rows\n"
      ],
      "text/plain": [
       "+-------------+------------+------------+-----------+----------+------------+----------+-----------+---+-----------+------------+\n",
       "|trip_distance|PULocationID|DOLocationID|fare_amount|tip_amount|total_amount|is_weekend|trip_length|Win|pickup_hour|dropoff_hour|\n",
       "+-------------+------------+------------+-----------+----------+------------+----------+-----------+---+-----------+------------+\n",
       "|         2.56|         162|         263|       16.5|      4.58|       22.88|         0|    25.3833|  0|          0|           1|\n",
       "|          0.9|         163|         162|        5.0|      1.45|        7.25|         0|        4.6|  0|          9|           9|\n",
       "|         0.63|         100|          48|        4.0|      0.96|        5.76|         0|     2.6167|  0|         10|          10|\n",
       "|         8.08|         161|          13|       23.5|       0.0|        24.3|         0|    15.8167|  0|         10|          11|\n",
       "|         2.13|         162|         142|       11.5|       1.0|        13.3|         0|    14.6667|  0|         15|          16|\n",
       "|         2.88|         230|         236|       11.0|      2.36|       14.16|         0|    10.8167|  0|          0|           0|\n",
       "|         0.98|         161|         229|        6.0|      1.36|        8.16|         0|     6.1667|  0|          0|           0|\n",
       "|         1.64|         246|         107|        9.5|       0.0|        10.3|         0|    12.4167|  0|          3|           4|\n",
       "|         0.83|         237|         141|        5.0|       2.0|         7.8|         0|     3.9833|  0|         17|          17|\n",
       "|          1.1|         237|         236|        5.5|      1.58|        7.88|         0|     3.8167|  0|         17|          17|\n",
       "|         0.71|         114|         234|        4.5|      1.06|        6.36|         0|       3.15|  0|         19|          19|\n",
       "|         5.71|         158|         262|       20.0|       1.2|        22.0|         0|    23.3667|  0|         20|          20|\n",
       "|         2.92|         141|          74|        9.5|      1.54|       11.84|         0|     7.8333|  0|         22|          22|\n",
       "|         7.86|         152|         182|       26.0|       0.0|        26.8|         0|    22.7333|  0|         23|          23|\n",
       "|         1.61|          68|         113|        7.5|      10.0|        18.8|         0|     7.7167|  0|          0|           0|\n",
       "|         2.44|         230|         141|       11.0|      2.46|       14.76|         0|      13.25|  0|          0|           0|\n",
       "|         1.61|         100|         229|        9.0|      2.06|       12.36|         0|    11.1167|  0|          0|           0|\n",
       "|         4.42|         107|          75|       13.5|       2.0|        16.8|         0|     7.3167|  0|          0|           0|\n",
       "|         0.65|         211|         114|        4.0|      1.59|        6.89|         0|     1.4167|  0|          0|           0|\n",
       "|          2.3|         234|         144|       11.0|      1.48|       13.78|         0|      13.65|  0|          0|           0|\n",
       "+-------------+------------+------------+-----------+----------+------------+----------+-----------+---+-----------+------------+\n",
       "only showing top 20 rows"
      ]
     },
     "execution_count": 11,
     "metadata": {},
     "output_type": "execute_result"
    }
   ],
   "source": [
    "yellow_train"
   ]
  },
  {
   "cell_type": "code",
   "execution_count": 12,
   "id": "c06b6a35",
   "metadata": {},
   "outputs": [
    {
     "name": "stdout",
     "output_type": "stream",
     "text": [
      "+--------------------+----------+\n",
      "|            features|tip_amount|\n",
      "+--------------------+----------+\n",
      "|[16.5,2.56,22.88,...|      4.58|\n",
      "|[5.0,0.9,7.25,0.0...|      1.45|\n",
      "|[4.0,0.63,5.76,0....|      0.96|\n",
      "+--------------------+----------+\n",
      "only showing top 3 rows\n",
      "\n"
     ]
    }
   ],
   "source": [
    "from pyspark.ml.feature import VectorAssembler\n",
    "\n",
    "features = 'features'\n",
    "\n",
    "input_cols = ['fare_amount', 'trip_distance', 'total_amount', 'is_weekend', 'trip_length', 'Win',\n",
    "             'PULocationID', 'DOLocationID', 'pickup_hour', 'dropoff_hour']\n",
    "\n",
    "vectorAssembler = VectorAssembler(\n",
    "    inputCols = input_cols, \n",
    "    outputCol = features)\n",
    "\n",
    "v_yellow_train = vectorAssembler.transform(yellow_train.dropna('any'))\n",
    "\n",
    "v_yellow_train = v_yellow_train.select(['features', 'tip_amount'])\n",
    "\n",
    "v_yellow_train.show(3)"
   ]
  },
  {
   "cell_type": "code",
   "execution_count": 21,
   "id": "1b1a9d40",
   "metadata": {},
   "outputs": [
    {
     "name": "stdout",
     "output_type": "stream",
     "text": [
      "+--------------------+----------+\n",
      "|            features|tip_amount|\n",
      "+--------------------+----------+\n",
      "|[13.0,2.88,18.5,0...|       3.7|\n",
      "|[10.0,2.73,13.56,...|      2.26|\n",
      "|[8.0,2.03,11.16,0...|      1.86|\n",
      "+--------------------+----------+\n",
      "only showing top 3 rows\n",
      "\n"
     ]
    }
   ],
   "source": [
    "vectorAssembler = VectorAssembler(\n",
    "    inputCols = input_cols, \n",
    "    outputCol = features)\n",
    "\n",
    "v_yellow_test = vectorAssembler.transform(yellow_test.dropna('any'))\n",
    "\n",
    "v_yellow_test = v_yellow_test.select(['features', 'tip_amount'])\n",
    "\n",
    "v_yellow_test.show(3)"
   ]
  },
  {
   "cell_type": "code",
   "execution_count": 13,
   "id": "22e20add",
   "metadata": {},
   "outputs": [
    {
     "name": "stdout",
     "output_type": "stream",
     "text": [
      "22/08/22 13:43:34 WARN Instrumentation: [9ed71451] regParam is zero, which might cause numerical instability and overfitting.\n",
      "22/08/22 13:43:35 WARN InstanceBuilder$NativeBLAS: Failed to load implementation from:dev.ludovic.netlib.blas.JNIBLAS\n",
      "22/08/22 13:43:35 WARN InstanceBuilder$NativeBLAS: Failed to load implementation from:dev.ludovic.netlib.blas.ForeignLinkerBLAS\n"
     ]
    },
    {
     "name": "stderr",
     "output_type": "stream",
     "text": [
      "                                                                                \r"
     ]
    },
    {
     "name": "stdout",
     "output_type": "stream",
     "text": [
      "22/08/22 13:43:40 WARN InstanceBuilder$NativeLAPACK: Failed to load implementation from:dev.ludovic.netlib.lapack.JNILAPACK\n"
     ]
    },
    {
     "name": "stderr",
     "output_type": "stream",
     "text": [
      "                                                                                \r"
     ]
    }
   ],
   "source": [
    "from pyspark.ml.regression import LinearRegression\n",
    "lm = LinearRegression(featuresCol='features', labelCol='tip_amount').fit(v_yellow_train)\n"
   ]
  },
  {
   "cell_type": "code",
   "execution_count": 14,
   "id": "ea2b5228",
   "metadata": {},
   "outputs": [
    {
     "data": {
      "text/html": [
       "<div>\n",
       "<style scoped>\n",
       "    .dataframe tbody tr th:only-of-type {\n",
       "        vertical-align: middle;\n",
       "    }\n",
       "\n",
       "    .dataframe tbody tr th {\n",
       "        vertical-align: top;\n",
       "    }\n",
       "\n",
       "    .dataframe thead th {\n",
       "        text-align: right;\n",
       "    }\n",
       "</style>\n",
       "<table border=\"1\" class=\"dataframe\">\n",
       "  <thead>\n",
       "    <tr style=\"text-align: right;\">\n",
       "      <th></th>\n",
       "      <th>coefficient</th>\n",
       "    </tr>\n",
       "  </thead>\n",
       "  <tbody>\n",
       "    <tr>\n",
       "      <th>intercept</th>\n",
       "      <td>-0.356892</td>\n",
       "    </tr>\n",
       "    <tr>\n",
       "      <th>fare_amount</th>\n",
       "      <td>-0.775146</td>\n",
       "    </tr>\n",
       "    <tr>\n",
       "      <th>trip_distance</th>\n",
       "      <td>0.000229</td>\n",
       "    </tr>\n",
       "    <tr>\n",
       "      <th>total_amount</th>\n",
       "      <td>0.735339</td>\n",
       "    </tr>\n",
       "    <tr>\n",
       "      <th>is_weekend</th>\n",
       "      <td>0.112685</td>\n",
       "    </tr>\n",
       "    <tr>\n",
       "      <th>trip_length</th>\n",
       "      <td>0.049369</td>\n",
       "    </tr>\n",
       "    <tr>\n",
       "      <th>Win</th>\n",
       "      <td>-0.002104</td>\n",
       "    </tr>\n",
       "    <tr>\n",
       "      <th>PULocationID</th>\n",
       "      <td>0.000110</td>\n",
       "    </tr>\n",
       "    <tr>\n",
       "      <th>DOLocationID</th>\n",
       "      <td>0.000071</td>\n",
       "    </tr>\n",
       "    <tr>\n",
       "      <th>pickup_hour</th>\n",
       "      <td>-0.016068</td>\n",
       "    </tr>\n",
       "    <tr>\n",
       "      <th>dropoff_hour</th>\n",
       "      <td>0.000509</td>\n",
       "    </tr>\n",
       "  </tbody>\n",
       "</table>\n",
       "</div>"
      ],
      "text/plain": [
       "               coefficient\n",
       "intercept        -0.356892\n",
       "fare_amount      -0.775146\n",
       "trip_distance     0.000229\n",
       "total_amount      0.735339\n",
       "is_weekend        0.112685\n",
       "trip_length       0.049369\n",
       "Win              -0.002104\n",
       "PULocationID      0.000110\n",
       "DOLocationID      0.000071\n",
       "pickup_hour      -0.016068\n",
       "dropoff_hour      0.000509"
      ]
     },
     "execution_count": 14,
     "metadata": {},
     "output_type": "execute_result"
    }
   ],
   "source": [
    "# Access coefficients\n",
    "pd.DataFrame(\n",
    "    data=[lm.intercept] + list(lm.coefficients),\n",
    "    index=['intercept'] + input_cols,\n",
    "    columns=['coefficient']\n",
    ")"
   ]
  },
  {
   "cell_type": "code",
   "execution_count": 20,
   "id": "e5ce8ef6",
   "metadata": {},
   "outputs": [
    {
     "name": "stdout",
     "output_type": "stream",
     "text": [
      "RMSE: 0.517739\n",
      "r2: 0.863578\n",
      "MSE: 0.268054\n",
      "MAE: 0.305733\n"
     ]
    }
   ],
   "source": [
    "trainingSummary = lm.summary\n",
    "\n",
    "print(\"RMSE: %f\" % trainingSummary.rootMeanSquaredError)\n",
    "print(\"r2: %f\" % trainingSummary.r2)\n",
    "print(\"MSE: %f\" % trainingSummary.meanSquaredError)\n",
    "print(\"MAE: %f\" % trainingSummary.meanAbsoluteError)\n",
    "\n"
   ]
  },
  {
   "cell_type": "code",
   "execution_count": 18,
   "id": "4ee6f798",
   "metadata": {},
   "outputs": [
    {
     "name": "stderr",
     "output_type": "stream",
     "text": [
      "[Stage 16:===================================================>      (8 + 1) / 9]\r"
     ]
    },
    {
     "name": "stdout",
     "output_type": "stream",
     "text": [
      "+-------+------------------+\n",
      "|summary|        tip_amount|\n",
      "+-------+------------------+\n",
      "|  count|           2493024|\n",
      "|   mean|2.1022256384216456|\n",
      "| stddev|1.4017429974266153|\n",
      "|    min|               0.0|\n",
      "|    max|             411.0|\n",
      "+-------+------------------+\n",
      "\n"
     ]
    },
    {
     "name": "stderr",
     "output_type": "stream",
     "text": [
      "\r",
      "                                                                                \r"
     ]
    }
   ],
   "source": [
    "v_yellow_train.describe().show()"
   ]
  },
  {
   "cell_type": "code",
   "execution_count": 24,
   "id": "634926fb",
   "metadata": {},
   "outputs": [
    {
     "name": "stdout",
     "output_type": "stream",
     "text": [
      "+------------------+----------+--------------------+\n",
      "|        prediction|tip_amount|            features|\n",
      "+------------------+----------+--------------------+\n",
      "| 3.911862283017643|       3.7|[13.0,2.88,18.5,0...|\n",
      "|2.3485717572441147|      2.26|[10.0,2.73,13.56,...|\n",
      "| 2.077656941933478|      1.86|[8.0,2.03,11.16,0...|\n",
      "|2.5557676585083837|      2.49|[7.0,1.39,10.79,0...|\n",
      "|3.6198110799468903|      4.06|[19.0,5.88,24.36,...|\n",
      "+------------------+----------+--------------------+\n",
      "only showing top 5 rows\n",
      "\n"
     ]
    },
    {
     "name": "stderr",
     "output_type": "stream",
     "text": [
      "\r",
      "[Stage 30:===================================================>      (8 + 1) / 9]\r"
     ]
    },
    {
     "name": "stdout",
     "output_type": "stream",
     "text": [
      "R Squared (R2) on test data = 0.873226\n"
     ]
    },
    {
     "name": "stderr",
     "output_type": "stream",
     "text": [
      "\r",
      "                                                                                \r"
     ]
    }
   ],
   "source": [
    "from pyspark.ml.evaluation import RegressionEvaluator\n",
    "lm_predictions = lm.transform(v_yellow_test)\n",
    "lm_predictions.select(\"prediction\",\"tip_amount\",\"features\").show(5)\n",
    "lm_evaluator = RegressionEvaluator(predictionCol=\"prediction\", \\\n",
    "                 labelCol=\"tip_amount\",metricName=\"r2\")\n",
    "print(\"R Squared (R2) on test data = %g\" % lm_evaluator.evaluate(lm_predictions))"
   ]
  },
  {
   "cell_type": "code",
   "execution_count": 43,
   "id": "49b033c3",
   "metadata": {},
   "outputs": [
    {
     "name": "stderr",
     "output_type": "stream",
     "text": [
      "\r",
      "[Stage 119:==================================================>      (8 + 1) / 9]\r"
     ]
    },
    {
     "name": "stdout",
     "output_type": "stream",
     "text": [
      "R Squared (R2) on test data = 0.873226\n",
      "Root Mean Squared Error (RMSE) on test data = 0.519531\n",
      "Mean Squared Error (MSE) on test data = 0.269913\n",
      "Mean Absolute Error (MAE) on test data = 0.306498\n"
     ]
    },
    {
     "name": "stderr",
     "output_type": "stream",
     "text": [
      "\r",
      "                                                                                \r"
     ]
    }
   ],
   "source": [
    "test_result = lm.evaluate(v_yellow_test)\n",
    "\n",
    "print(\"R Squared (R2) on test data = %g\" % test_result.r2)\n",
    "print(\"Root Mean Squared Error (RMSE) on test data = %g\" % test_result.rootMeanSquaredError)\n",
    "print(\"Mean Squared Error (MSE) on test data = %g\" % test_result.meanSquaredError)\n",
    "print(\"Mean Absolute Error (MAE) on test data = %g\" % test_result.meanAbsoluteError)"
   ]
  },
  {
   "cell_type": "code",
   "execution_count": 31,
   "id": "2249f59a",
   "metadata": {},
   "outputs": [
    {
     "name": "stderr",
     "output_type": "stream",
     "text": [
      "                                                                                \r"
     ]
    },
    {
     "name": "stdout",
     "output_type": "stream",
     "text": [
      "+------------------+----------+--------------------+\n",
      "|        prediction|tip_amount|            features|\n",
      "+------------------+----------+--------------------+\n",
      "|3.3008385782169656|       3.7|[13.0,2.88,18.5,0...|\n",
      "| 2.333849971327231|      2.26|[10.0,2.73,13.56,...|\n",
      "| 1.900132687040225|      1.86|[8.0,2.03,11.16,0...|\n",
      "| 1.900132687040225|      2.49|[7.0,1.39,10.79,0...|\n",
      "|3.5703602680886886|      4.06|[19.0,5.88,24.36,...|\n",
      "+------------------+----------+--------------------+\n",
      "only showing top 5 rows\n",
      "\n"
     ]
    }
   ],
   "source": [
    "from pyspark.ml.regression import DecisionTreeRegressor\n",
    "dt = DecisionTreeRegressor(featuresCol ='features', labelCol = 'tip_amount').fit(v_yellow_train)\n",
    "\n",
    "dt_predictions = dt.transform(v_yellow_test)\n",
    "\n",
    "dt_predictions.select(\"prediction\",\"tip_amount\",\"features\").show(5)"
   ]
  },
  {
   "cell_type": "code",
   "execution_count": 46,
   "id": "15506a92",
   "metadata": {},
   "outputs": [
    {
     "name": "stderr",
     "output_type": "stream",
     "text": [
      "[Stage 135:==================================================>      (8 + 1) / 9]\r"
     ]
    },
    {
     "name": "stdout",
     "output_type": "stream",
     "text": [
      "R Squared (R2) on test data = 0.616291\n",
      "Root Mean Squared Error (RMSE) on test data = 0.903852\n",
      "Mean Squared Error (MSE) on test data = 0.816948\n",
      "Mean Absolute Error (MAE) on test data = 0.396183\n"
     ]
    },
    {
     "name": "stderr",
     "output_type": "stream",
     "text": [
      "\r",
      "                                                                                \r"
     ]
    }
   ],
   "source": [
    "dt_evaluator_r2 = RegressionEvaluator(\n",
    "    labelCol=\"tip_amount\", predictionCol=\"prediction\", metricName=\"r2\")\n",
    "\n",
    "dt_evaluator_rmse = RegressionEvaluator(\n",
    "    labelCol=\"tip_amount\", predictionCol=\"prediction\", metricName=\"rmse\")\n",
    "\n",
    "dt_evaluator_mse = RegressionEvaluator(\n",
    "    labelCol=\"tip_amount\", predictionCol=\"prediction\", metricName=\"mse\")\n",
    "\n",
    "dt_evaluator_mae = RegressionEvaluator(\n",
    "    labelCol=\"tip_amount\", predictionCol=\"prediction\", metricName=\"mae\")\n",
    "\n",
    "\n",
    "prediction_results_dt_r2 = dt_evaluator_r2.evaluate(dt_predictions)\n",
    "\n",
    "prediction_results_dt_rmse = dt_evaluator_rmse.evaluate(dt_predictions)\n",
    "\n",
    "prediction_results_dt_mse = dt_evaluator_mse.evaluate(dt_predictions)\n",
    "\n",
    "prediction_results_dt_mae = dt_evaluator_mae.evaluate(dt_predictions)\n",
    "\n",
    "\n",
    "print(\"R Squared (R2) on test data = %g\" % prediction_results_dt_r2)\n",
    "\n",
    "print(\"Root Mean Squared Error (RMSE) on test data = %g\" % prediction_results_dt_rmse)\n",
    "\n",
    "print(\"Mean Squared Error (MSE) on test data = %g\" % prediction_results_dt_mse)\n",
    "\n",
    "print(\"Mean Absolute Error (MAE) on test data = %g\" % prediction_results_dt_mae)\n",
    "\n",
    "\n"
   ]
  },
  {
   "cell_type": "code",
   "execution_count": 48,
   "id": "cf107946",
   "metadata": {},
   "outputs": [
    {
     "name": "stdout",
     "output_type": "stream",
     "text": [
      "['fare_amount', 'trip_distance', 'total_amount', 'is_weekend', 'trip_length', 'Win', 'PULocationID', 'DOLocationID', 'pickup_hour', 'dropoff_hour']\n"
     ]
    },
    {
     "data": {
      "text/plain": [
       "SparseVector(10, {0: 0.1799, 1: 0.0041, 2: 0.8155, 4: 0.0005})"
      ]
     },
     "execution_count": 48,
     "metadata": {},
     "output_type": "execute_result"
    }
   ],
   "source": [
    "# feature with index number 2 is most important\n",
    "# it is total_amount\n",
    "\n",
    "print(input_cols)\n",
    "dt.featureImportances"
   ]
  },
  {
   "cell_type": "code",
   "execution_count": null,
   "id": "fa7804c5",
   "metadata": {},
   "outputs": [],
   "source": []
  }
 ],
 "metadata": {
  "kernelspec": {
   "display_name": "Python 3 (ipykernel)",
   "language": "python",
   "name": "python3"
  },
  "language_info": {
   "codemirror_mode": {
    "name": "ipython",
    "version": 3
   },
   "file_extension": ".py",
   "mimetype": "text/x-python",
   "name": "python",
   "nbconvert_exporter": "python",
   "pygments_lexer": "ipython3",
   "version": "3.8.10"
  }
 },
 "nbformat": 4,
 "nbformat_minor": 5
}
