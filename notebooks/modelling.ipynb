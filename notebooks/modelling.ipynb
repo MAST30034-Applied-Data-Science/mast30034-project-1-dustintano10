{
 "cells": [
  {
   "cell_type": "code",
   "execution_count": 1,
   "id": "b7b7c16c",
   "metadata": {},
   "outputs": [
    {
     "name": "stdout",
     "output_type": "stream",
     "text": [
      "22/08/20 23:24:34 WARN Utils: Your hostname, DESKTOP-3ADPNV0 resolves to a loopback address: 127.0.1.1; using 172.25.23.95 instead (on interface eth0)\n",
      "22/08/20 23:24:34 WARN Utils: Set SPARK_LOCAL_IP if you need to bind to another address\n"
     ]
    },
    {
     "name": "stderr",
     "output_type": "stream",
     "text": [
      "Setting default log level to \"WARN\".\n",
      "To adjust logging level use sc.setLogLevel(newLevel). For SparkR, use setLogLevel(newLevel).\n"
     ]
    },
    {
     "name": "stdout",
     "output_type": "stream",
     "text": [
      "22/08/20 23:24:36 WARN NativeCodeLoader: Unable to load native-hadoop library for your platform... using builtin-java classes where applicable\n"
     ]
    }
   ],
   "source": [
    "from pyspark.sql import SparkSession, functions as F\n",
    "from pyspark.sql.functions import *\n",
    "\n",
    "# Cell to create a spark session\n",
    "spark = (\n",
    "    SparkSession.builder.appName(\"MAST30034 ASSIGNMENT 1 DUSTIN\")\n",
    "    .config(\"spark.sql.repl.eagerEval.enabled\", True) \n",
    "    .config(\"spark.sql.parquet.cacheMetadata\", \"true\")\n",
    "    .config(\"spark.sql.session.timeZone\", \"Etc/UTC\")\n",
    "    .config(\"spark.executor.memory\", \"2g\")\n",
    "    .config(\"spark.driver.memory\", \"4g\")\n",
    "    .getOrCreate()\n",
    ")"
   ]
  },
  {
   "cell_type": "code",
   "execution_count": 2,
   "id": "0d040657",
   "metadata": {},
   "outputs": [
    {
     "name": "stderr",
     "output_type": "stream",
     "text": [
      "                                                                                \r"
     ]
    }
   ],
   "source": [
    "yellow = spark.read.parquet('../../mast30034-project-1-dustintano10/data/curated/yellow/yellow_credit')"
   ]
  },
  {
   "cell_type": "code",
   "execution_count": 3,
   "id": "c530189d",
   "metadata": {},
   "outputs": [
    {
     "name": "stderr",
     "output_type": "stream",
     "text": [
      "                                                                                \r"
     ]
    },
    {
     "data": {
      "text/html": [
       "<table border='1'>\n",
       "<tr><th>Date</th><th>count</th></tr>\n",
       "<tr><td>2018-10-17</td><td>182129</td></tr>\n",
       "<tr><td>2018-10-20</td><td>169804</td></tr>\n",
       "<tr><td>2018-10-26</td><td>181843</td></tr>\n",
       "<tr><td>2018-10-29</td><td>156363</td></tr>\n",
       "<tr><td>2018-10-31</td><td>164490</td></tr>\n",
       "<tr><td>2018-11-05</td><td>161472</td></tr>\n",
       "<tr><td>2018-11-11</td><td>148113</td></tr>\n",
       "<tr><td>2018-11-20</td><td>166765</td></tr>\n",
       "<tr><td>2018-11-23</td><td>99489</td></tr>\n",
       "<tr><td>2018-12-01</td><td>180716</td></tr>\n",
       "<tr><td>2018-12-03</td><td>157951</td></tr>\n",
       "<tr><td>2018-12-08</td><td>177893</td></tr>\n",
       "<tr><td>2018-12-09</td><td>150746</td></tr>\n",
       "<tr><td>2018-12-17</td><td>166478</td></tr>\n",
       "<tr><td>2018-12-21</td><td>171904</td></tr>\n",
       "<tr><td>2018-12-25</td><td>56868</td></tr>\n",
       "<tr><td>2019-01-11</td><td>180695</td></tr>\n",
       "<tr><td>2019-01-13</td><td>140161</td></tr>\n",
       "<tr><td>2019-01-21</td><td>113949</td></tr>\n",
       "<tr><td>2019-01-23</td><td>164238</td></tr>\n",
       "</table>\n",
       "only showing top 20 rows\n"
      ],
      "text/plain": [
       "+----------+------+\n",
       "|      Date| count|\n",
       "+----------+------+\n",
       "|2018-10-17|182129|\n",
       "|2018-10-20|169804|\n",
       "|2018-10-26|181843|\n",
       "|2018-10-29|156363|\n",
       "|2018-10-31|164490|\n",
       "|2018-11-05|161472|\n",
       "|2018-11-11|148113|\n",
       "|2018-11-20|166765|\n",
       "|2018-11-23| 99489|\n",
       "|2018-12-01|180716|\n",
       "|2018-12-03|157951|\n",
       "|2018-12-08|177893|\n",
       "|2018-12-09|150746|\n",
       "|2018-12-17|166478|\n",
       "|2018-12-21|171904|\n",
       "|2018-12-25| 56868|\n",
       "|2019-01-11|180695|\n",
       "|2019-01-13|140161|\n",
       "|2019-01-21|113949|\n",
       "|2019-01-23|164238|\n",
       "+----------+------+\n",
       "only showing top 20 rows"
      ]
     },
     "execution_count": 3,
     "metadata": {},
     "output_type": "execute_result"
    }
   ],
   "source": [
    "yellow.groupBy('Date').count().orderBy('Date')\n"
   ]
  },
  {
   "cell_type": "code",
   "execution_count": 4,
   "id": "8dc5b9ae",
   "metadata": {},
   "outputs": [],
   "source": [
    "# converts the pickup_hours into categorical data as there are correlation that could be seen from analysis\n",
    "\n",
    "# drop the tpep pickup and dropoff columns\n",
    "\n",
    "yellow = yellow.withColumn('pickup_hour', hour(\"tpep_pickup_datetime\"))\n",
    "yellow = yellow.withColumn('dropoff_hour', hour(\"tpep_dropoff_datetime\"))\n",
    "\n",
    "yellow = yellow.drop('tpep_pickup_datetime', 'tpep_dropoff_datetime')"
   ]
  },
  {
   "cell_type": "code",
   "execution_count": 5,
   "id": "76935103",
   "metadata": {},
   "outputs": [],
   "source": [
    "# pick 2018-11-20 as train set after randomly picking it manually\n",
    "yellow_train = yellow.where((F.col('Date') == '2018-11-20'))\n",
    "\n",
    "# pick 2018-11-23 as the test set as it is the next game date after 2018-11-20\n",
    "yellow_test = yellow.where((F.col('Date') == '2018-11-23'))\n",
    "\n"
   ]
  },
  {
   "cell_type": "code",
   "execution_count": 6,
   "id": "e76d4294",
   "metadata": {},
   "outputs": [],
   "source": [
    "yellow_train = yellow_train.drop('Date','Start(ET)')"
   ]
  },
  {
   "cell_type": "code",
   "execution_count": 7,
   "id": "aa8b078e",
   "metadata": {},
   "outputs": [],
   "source": [
    "yellow_test = yellow_test.drop('Date', 'Start(ET)')"
   ]
  },
  {
   "cell_type": "code",
   "execution_count": null,
   "id": "c06b6a35",
   "metadata": {},
   "outputs": [],
   "source": []
  }
 ],
 "metadata": {
  "kernelspec": {
   "display_name": "Python 3 (ipykernel)",
   "language": "python",
   "name": "python3"
  },
  "language_info": {
   "codemirror_mode": {
    "name": "ipython",
    "version": 3
   },
   "file_extension": ".py",
   "mimetype": "text/x-python",
   "name": "python",
   "nbconvert_exporter": "python",
   "pygments_lexer": "ipython3",
   "version": "3.8.10"
  }
 },
 "nbformat": 4,
 "nbformat_minor": 5
}
