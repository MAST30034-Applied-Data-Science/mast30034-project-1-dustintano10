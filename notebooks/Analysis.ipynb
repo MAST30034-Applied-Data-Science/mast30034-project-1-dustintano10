{
 "cells": [
  {
   "cell_type": "code",
   "execution_count": 1,
   "id": "08c96093",
   "metadata": {},
   "outputs": [
    {
     "name": "stdout",
     "output_type": "stream",
     "text": [
      "22/08/18 16:36:56 WARN Utils: Your hostname, DESKTOP-3ADPNV0 resolves to a loopback address: 127.0.1.1; using 172.29.63.77 instead (on interface eth0)\n",
      "22/08/18 16:36:56 WARN Utils: Set SPARK_LOCAL_IP if you need to bind to another address\n"
     ]
    },
    {
     "name": "stderr",
     "output_type": "stream",
     "text": [
      "Setting default log level to \"WARN\".\n",
      "To adjust logging level use sc.setLogLevel(newLevel). For SparkR, use setLogLevel(newLevel).\n"
     ]
    },
    {
     "name": "stdout",
     "output_type": "stream",
     "text": [
      "22/08/18 16:36:59 WARN NativeCodeLoader: Unable to load native-hadoop library for your platform... using builtin-java classes where applicable\n",
      "22/08/18 16:37:02 WARN Utils: Service 'SparkUI' could not bind on port 4040. Attempting port 4041.\n"
     ]
    }
   ],
   "source": [
    "from pyspark.sql import SparkSession, functions as F\n",
    "\n",
    "# Cell to create a spark session\n",
    "spark = (\n",
    "    SparkSession.builder.appName(\"MAST30034 ASSIGNMENT 1 DUSTIN\")\n",
    "    .config(\"spark.sql.repl.eagerEval.enabled\", True) \n",
    "    .config(\"spark.sql.parquet.cacheMetadata\", \"true\")\n",
    "    .config(\"spark.sql.session.timeZone\", \"Etc/UTC\")\n",
    "    .config(\"spark.executor.memory\", \"2g\")\n",
    "    .config(\"spark.driver.memory\", \"4g\")\n",
    "    .getOrCreate()\n",
    ")"
   ]
  },
  {
   "cell_type": "code",
   "execution_count": 2,
   "id": "9539b9e8",
   "metadata": {},
   "outputs": [],
   "source": [
    "import pandas as pd\n",
    "import matplotlib.pyplot as plt\n",
    "\n",
    "from statsmodels.formula.api import ols, glm"
   ]
  },
  {
   "cell_type": "code",
   "execution_count": 3,
   "id": "5b796edb",
   "metadata": {},
   "outputs": [
    {
     "name": "stderr",
     "output_type": "stream",
     "text": [
      "                                                                                \r"
     ]
    }
   ],
   "source": [
    "yellow_spark = spark.read.parquet('../../mast30034-project-1-dustintano10/data/curated/yellow/yellow_credit')"
   ]
  },
  {
   "cell_type": "code",
   "execution_count": 4,
   "id": "5cf79927",
   "metadata": {},
   "outputs": [
    {
     "name": "stdout",
     "output_type": "stream",
     "text": [
      "root\n",
      " |-- VendorID: long (nullable = true)\n",
      " |-- trip_distance: double (nullable = true)\n",
      " |-- RatecodeID: double (nullable = true)\n",
      " |-- PULocationID: long (nullable = true)\n",
      " |-- DOLocationID: long (nullable = true)\n",
      " |-- payment_type: long (nullable = true)\n",
      " |-- fare_amount: double (nullable = true)\n",
      " |-- tip_amount: double (nullable = true)\n",
      " |-- total_amount: double (nullable = true)\n",
      " |-- day_of_week: string (nullable = true)\n",
      " |-- is_weekend: boolean (nullable = true)\n",
      " |-- pickup_date: date (nullable = true)\n",
      " |-- dropoff_date: date (nullable = true)\n",
      " |-- trip_length: double (nullable = true)\n",
      " |-- Start(ET): string (nullable = true)\n",
      " |-- Attend.: string (nullable = true)\n",
      " |-- Win: string (nullable = true)\n",
      " |-- Margin_loss: float (nullable = true)\n",
      " |-- Margin_victory: float (nullable = true)\n",
      " |-- pickup_hourly: string (nullable = true)\n",
      " |-- dropoff_hourly: string (nullable = true)\n",
      "\n"
     ]
    }
   ],
   "source": [
    "yellow_spark.printSchema()"
   ]
  },
  {
   "cell_type": "code",
   "execution_count": 6,
   "id": "11a99d9e",
   "metadata": {},
   "outputs": [
    {
     "name": "stderr",
     "output_type": "stream",
     "text": [
      "\r",
      "[Stage 7:==============>                                            (2 + 6) / 8]\r"
     ]
    },
    {
     "name": "stdout",
     "output_type": "stream",
     "text": [
      "+-------------+------+\n",
      "|Pickup_hourly| count|\n",
      "+-------------+------+\n",
      "|        14:00|336911|\n",
      "|        12:00|326419|\n",
      "|        20:00|374282|\n",
      "|        06:00|119633|\n",
      "|        21:00|364251|\n",
      "|        01:00|163836|\n",
      "|        03:00| 78311|\n",
      "|        09:00|303565|\n",
      "|        05:00| 43360|\n",
      "|        11:00|310329|\n",
      "|        15:00|340728|\n",
      "|        13:00|322422|\n",
      "|        02:00|119509|\n",
      "|        19:00|415862|\n",
      "|        08:00|300327|\n",
      "|        22:00|347845|\n",
      "|        07:00|233161|\n",
      "|        18:00|435000|\n",
      "|        16:00|317886|\n",
      "|        23:00|265261|\n",
      "|        10:00|298427|\n",
      "|        00:00|220750|\n",
      "|        04:00| 45434|\n",
      "|        17:00|378181|\n",
      "+-------------+------+\n",
      "\n"
     ]
    },
    {
     "name": "stderr",
     "output_type": "stream",
     "text": [
      "\r",
      "                                                                                \r"
     ]
    }
   ],
   "source": [
    "yellow_spark.groupBy(F.col(\"Pickup_hourly\")).count().show(30)"
   ]
  },
  {
   "cell_type": "code",
   "execution_count": 7,
   "id": "df69da62",
   "metadata": {},
   "outputs": [],
   "source": [
    "yellow_weekday = yellow_spark.filter( F.col(\"is_weekend\") == True )\n",
    "yellow_weekend = yellow_spark.filter( F.col(\"is_weekend\") == False)\n",
    "\n",
    "yellow_win = yellow_spark.filter( F.col(\"win\") == \"Yes\" )\n",
    "yellow_lose = yellow_spark.filter( F.col(\"win\") == \"No\" )\n",
    "\n"
   ]
  },
  {
   "cell_type": "code",
   "execution_count": 8,
   "id": "b6fd2985",
   "metadata": {},
   "outputs": [
    {
     "name": "stderr",
     "output_type": "stream",
     "text": [
      "                                                                                \r"
     ]
    },
    {
     "data": {
      "text/plain": [
       "1338679"
      ]
     },
     "execution_count": 8,
     "metadata": {},
     "output_type": "execute_result"
    }
   ],
   "source": [
    "yellow_win.count()"
   ]
  },
  {
   "cell_type": "code",
   "execution_count": 9,
   "id": "bcd3680b",
   "metadata": {},
   "outputs": [
    {
     "name": "stderr",
     "output_type": "stream",
     "text": [
      "\r",
      "[Stage 13:=====================>                                    (3 + 5) / 8]\r",
      "\r",
      "                                                                                \r"
     ]
    },
    {
     "data": {
      "text/plain": [
       "5123011"
      ]
     },
     "execution_count": 9,
     "metadata": {},
     "output_type": "execute_result"
    }
   ],
   "source": [
    "yellow_lose.count()"
   ]
  },
  {
   "cell_type": "code",
   "execution_count": 14,
   "id": "2b26d4a7",
   "metadata": {},
   "outputs": [
    {
     "name": "stdout",
     "output_type": "stream",
     "text": [
      "+-----+------------------+\n",
      "| hour|          mean_tip|\n",
      "+-----+------------------+\n",
      "|14:00|2.2072910520705777|\n",
      "|12:00|2.2127620765074814|\n",
      "|20:00|2.3382355222303373|\n",
      "|06:00|1.9312098722387012|\n",
      "|21:00|2.4110341226386884|\n",
      "|01:00|2.3371176238585316|\n",
      "|03:00| 2.294972082635396|\n",
      "|09:00|2.1508834958142637|\n",
      "|05:00| 2.135467395015362|\n",
      "|11:00|2.2136596892043063|\n",
      "|15:00|2.1974344176592653|\n",
      "|13:00|2.2091713893474405|\n",
      "|02:00| 2.293484165155034|\n",
      "|19:00| 2.305038050475544|\n",
      "|08:00|2.1058888881522004|\n",
      "|22:00| 2.459709558487872|\n",
      "|07:00| 2.011141206412145|\n",
      "|18:00| 2.311173083480809|\n",
      "|16:00|  2.27180269605932|\n",
      "|23:00|2.4635157400555445|\n",
      "|10:00|2.1804134989864146|\n",
      "|00:00|2.4242085337890105|\n",
      "|04:00| 2.372181865577613|\n",
      "|17:00|2.3028187843501344|\n",
      "+-----+------------------+\n",
      "\n"
     ]
    }
   ],
   "source": [
    "from pyspark.sql.functions import *\n",
    "(yellow_spark\n",
    " .groupBy(F.col(\"Pickup_hourly\").alias(\"hour\"))\n",
    " .agg(mean(\"tip_amount\").alias(\"mean_tip\"))\n",
    " .show(30)\n",
    ")"
   ]
  },
  {
   "cell_type": "code",
   "execution_count": 34,
   "id": "4ded4a28",
   "metadata": {},
   "outputs": [
    {
     "name": "stdout",
     "output_type": "stream",
     "text": [
      "+----+------------------+\n",
      "|hour|          mean_tip|\n",
      "+----+------------------+\n",
      "|  12|2.1626819055201585|\n",
      "|  22| 2.446235691321408|\n",
      "|   1|2.3254755988302573|\n",
      "|  13| 2.176139068634324|\n",
      "|   6| 2.139035560671228|\n",
      "|  16|2.2606291177283406|\n",
      "|   3| 2.274831516671488|\n",
      "|  20|2.3287920516273064|\n",
      "|   5| 2.312550354345394|\n",
      "|  19| 2.264033660544166|\n",
      "|  15| 2.224087137265075|\n",
      "|  17| 2.281596101551816|\n",
      "|   9| 2.006334670956713|\n",
      "|   4|2.3428525984354143|\n",
      "|   8| 2.012010099542251|\n",
      "|  23|2.4537930505652645|\n",
      "|   7|2.0283621560006453|\n",
      "|  10| 2.062244875098028|\n",
      "|  21|2.3846844674469443|\n",
      "|  11|2.1112948192322296|\n",
      "+----+------------------+\n",
      "only showing top 20 rows\n",
      "\n"
     ]
    }
   ],
   "source": [
    "# average tip amount per hour in a weekday\n",
    "(yellow_weekday\n",
    " .groupBy(hour(\"Pickup_hourly\").alias(\"hour\"))\n",
    " .agg(mean(\"tip_amount\").alias(\"mean_tip\"))\n",
    " .show()\n",
    ")"
   ]
  },
  {
   "cell_type": "code",
   "execution_count": 35,
   "id": "20a61469",
   "metadata": {},
   "outputs": [
    {
     "name": "stderr",
     "output_type": "stream",
     "text": [
      "\r",
      "[Stage 38:=============================>                            (4 + 4) / 8]\r"
     ]
    },
    {
     "name": "stdout",
     "output_type": "stream",
     "text": [
      "+----+------------------+\n",
      "|hour|          mean_tip|\n",
      "+----+------------------+\n",
      "|  12|2.2458609367016087|\n",
      "|  22| 2.465508696308898|\n",
      "|   1|2.3667451764857774|\n",
      "|  13|  2.23097526874565|\n",
      "|   6|1.8982083076804819|\n",
      "|  16| 2.278479554981979|\n",
      "|   3| 2.370431875677628|\n",
      "|  20| 2.342019114867856|\n",
      "|   5| 2.078286411128841|\n",
      "|  19|2.3225182269978872|\n",
      "|  15|2.1823695085714725|\n",
      "|  17| 2.313739749237615|\n",
      "|   9| 2.204921297798007|\n",
      "|   4|2.4315203257371736|\n",
      "|   8| 2.126849155621941|\n",
      "|  23|2.4685516834425147|\n",
      "|   7| 2.008542537977298|\n",
      "|  10|2.2460774457931643|\n",
      "|  21| 2.421188850021614|\n",
      "|  11| 2.278307719669036|\n",
      "+----+------------------+\n",
      "only showing top 20 rows\n",
      "\n"
     ]
    },
    {
     "name": "stderr",
     "output_type": "stream",
     "text": [
      "\r",
      "                                                                                \r"
     ]
    }
   ],
   "source": [
    "# average tip amount per hour in a weekend\n",
    "\n",
    "(yellow_weekend\n",
    " .groupBy(hour(\"Pickup_hourly\").alias(\"hour\"))\n",
    " .agg(mean(\"tip_amount\").alias(\"mean_tip\"))\n",
    " .show()\n",
    ")\n"
   ]
  },
  {
   "cell_type": "code",
   "execution_count": null,
   "id": "4074aa2d",
   "metadata": {},
   "outputs": [],
   "source": []
  }
 ],
 "metadata": {
  "kernelspec": {
   "display_name": "Python 3 (ipykernel)",
   "language": "python",
   "name": "python3"
  },
  "language_info": {
   "codemirror_mode": {
    "name": "ipython",
    "version": 3
   },
   "file_extension": ".py",
   "mimetype": "text/x-python",
   "name": "python",
   "nbconvert_exporter": "python",
   "pygments_lexer": "ipython3",
   "version": "3.8.10"
  }
 },
 "nbformat": 4,
 "nbformat_minor": 5
}
