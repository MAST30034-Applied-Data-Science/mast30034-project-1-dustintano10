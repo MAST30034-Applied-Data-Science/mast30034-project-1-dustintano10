{
 "cells": [
  {
   "cell_type": "code",
   "execution_count": 1,
   "id": "8c615b39",
   "metadata": {},
   "outputs": [
    {
     "name": "stdout",
     "output_type": "stream",
     "text": [
      "22/08/10 14:31:22 WARN Utils: Your hostname, DESKTOP-3ADPNV0 resolves to a loopback address: 127.0.1.1; using 172.20.25.184 instead (on interface eth0)\n",
      "22/08/10 14:31:22 WARN Utils: Set SPARK_LOCAL_IP if you need to bind to another address\n"
     ]
    },
    {
     "name": "stderr",
     "output_type": "stream",
     "text": [
      "Setting default log level to \"WARN\".\n",
      "To adjust logging level use sc.setLogLevel(newLevel). For SparkR, use setLogLevel(newLevel).\n"
     ]
    },
    {
     "name": "stdout",
     "output_type": "stream",
     "text": [
      "22/08/10 14:31:24 WARN NativeCodeLoader: Unable to load native-hadoop library for your platform... using builtin-java classes where applicable\n"
     ]
    }
   ],
   "source": [
    "from pyspark.sql import SparkSession, functions as F\n",
    "\n",
    "# Cell to create a spark session\n",
    "spark = (\n",
    "    SparkSession.builder.appName(\"MAST30034 ASSIGNMENT 1 DUSTIN\")\n",
    "    .config(\"spark.sql.repl.eagerEval.enabled\", True) \n",
    "    .config(\"spark.sql.parquet.cacheMetadata\", \"true\")\n",
    "    .config(\"spark.sql.session.timeZone\", \"Etc/UTC\")\n",
    "    .getOrCreate()\n",
    ")"
   ]
  },
  {
   "cell_type": "code",
   "execution_count": 2,
   "id": "2bea7237",
   "metadata": {},
   "outputs": [
    {
     "name": "stderr",
     "output_type": "stream",
     "text": [
      "                                                                                \r"
     ]
    }
   ],
   "source": [
    "yellow = spark.read.parquet('../../mast30034-project-1-dustintano10/data/raw/yellow_taxi/')\n",
    "green = spark.read.parquet('../../mast30034-project-1-dustintano10/data/raw/green_taxi/')"
   ]
  },
  {
   "cell_type": "code",
   "execution_count": 5,
   "id": "b1a381f6",
   "metadata": {},
   "outputs": [
    {
     "name": "stderr",
     "output_type": "stream",
     "text": [
      "\r",
      "[Stage 10:===========================================>              (3 + 1) / 4]\r",
      "\r",
      "                                                                                \r"
     ]
    },
    {
     "name": "stdout",
     "output_type": "stream",
     "text": [
      "-RECORD 0------------------------------------\n",
      " VendorID              | 1                   \n",
      " tpep_pickup_datetime  | 2018-03-01 00:01:34 \n",
      " tpep_dropoff_datetime | 2018-03-01 00:01:43 \n",
      " passenger_count       | 1                   \n",
      " trip_distance         | 0.0                 \n",
      " RatecodeID            | 1                   \n",
      " store_and_fwd_flag    | N                   \n",
      " PULocationID          | 145                 \n",
      " DOLocationID          | 145                 \n",
      " payment_type          | 2                   \n",
      " fare_amount           | 2.5                 \n",
      " extra                 | 0.5                 \n",
      " mta_tax               | 0.5                 \n",
      " tip_amount            | 0.0                 \n",
      " tolls_amount          | 0.0                 \n",
      " improvement_surcharge | 0.3                 \n",
      " total_amount          | 3.8                 \n",
      " congestion_surcharge  | null                \n",
      " airport_fee           | null                \n",
      "only showing top 1 row\n",
      "\n",
      "root\n",
      " |-- VendorID: long (nullable = true)\n",
      " |-- tpep_pickup_datetime: timestamp (nullable = true)\n",
      " |-- tpep_dropoff_datetime: timestamp (nullable = true)\n",
      " |-- passenger_count: double (nullable = true)\n",
      " |-- trip_distance: double (nullable = true)\n",
      " |-- RatecodeID: long (nullable = true)\n",
      " |-- store_and_fwd_flag: string (nullable = true)\n",
      " |-- PULocationID: long (nullable = true)\n",
      " |-- DOLocationID: long (nullable = true)\n",
      " |-- payment_type: long (nullable = true)\n",
      " |-- fare_amount: double (nullable = true)\n",
      " |-- extra: double (nullable = true)\n",
      " |-- mta_tax: double (nullable = true)\n",
      " |-- tip_amount: double (nullable = true)\n",
      " |-- tolls_amount: double (nullable = true)\n",
      " |-- improvement_surcharge: double (nullable = true)\n",
      " |-- total_amount: double (nullable = true)\n",
      " |-- congestion_surcharge: integer (nullable = true)\n",
      " |-- airport_fee: integer (nullable = true)\n",
      "\n"
     ]
    }
   ],
   "source": [
    "yellow_march_2019 = spark.read.parquet('../../mast30034-project-1-dustintano10/data/raw/yellow_taxi/2019-03.parquet')\n",
    "yellow_march_2019.show(1, vertical = True, truncate = 100)\n",
    "yellow_march_2019 = yellow_march_2019.withColumn(\n",
    "        'passenger_count',\n",
    "        F.col('passenger_count').cast('double')\n",
    "    )\n",
    "yellow_march_2019.printSchema()"
   ]
  },
  {
   "cell_type": "code",
   "execution_count": null,
   "id": "2dd4d026",
   "metadata": {},
   "outputs": [],
   "source": [
    "yellow.show(1, vertical = True, truncate = 100)"
   ]
  }
 ],
 "metadata": {
  "kernelspec": {
   "display_name": "Python 3 (ipykernel)",
   "language": "python",
   "name": "python3"
  },
  "language_info": {
   "codemirror_mode": {
    "name": "ipython",
    "version": 3
   },
   "file_extension": ".py",
   "mimetype": "text/x-python",
   "name": "python",
   "nbconvert_exporter": "python",
   "pygments_lexer": "ipython3",
   "version": "3.8.10"
  }
 },
 "nbformat": 4,
 "nbformat_minor": 5
}
