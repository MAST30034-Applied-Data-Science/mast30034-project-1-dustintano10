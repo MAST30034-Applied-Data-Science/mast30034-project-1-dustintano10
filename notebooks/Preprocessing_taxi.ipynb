{
 "cells": [
  {
   "cell_type": "code",
   "execution_count": 1,
   "id": "8c615b39",
   "metadata": {},
   "outputs": [
    {
     "name": "stdout",
     "output_type": "stream",
     "text": [
      "22/08/16 15:43:53 WARN Utils: Your hostname, DESKTOP-3ADPNV0 resolves to a loopback address: 127.0.1.1; using 192.168.154.173 instead (on interface eth0)\n",
      "22/08/16 15:43:53 WARN Utils: Set SPARK_LOCAL_IP if you need to bind to another address\n"
     ]
    },
    {
     "name": "stderr",
     "output_type": "stream",
     "text": [
      "Setting default log level to \"WARN\".\n",
      "To adjust logging level use sc.setLogLevel(newLevel). For SparkR, use setLogLevel(newLevel).\n"
     ]
    },
    {
     "name": "stdout",
     "output_type": "stream",
     "text": [
      "22/08/16 15:43:55 WARN NativeCodeLoader: Unable to load native-hadoop library for your platform... using builtin-java classes where applicable\n"
     ]
    }
   ],
   "source": [
    "from pyspark.sql import SparkSession, functions as F\n",
    "\n",
    "# Cell to create a spark session\n",
    "spark = (\n",
    "    SparkSession.builder.appName(\"MAST30034 ASSIGNMENT 1 DUSTIN\")\n",
    "    .config(\"spark.sql.repl.eagerEval.enabled\", True) \n",
    "    .config(\"spark.sql.parquet.cacheMetadata\", \"true\")\n",
    "    .config(\"spark.sql.session.timeZone\", \"Etc/UTC\")\n",
    "    .config(\"spark.executor.memory\", \"2g\")\n",
    "    .config(\"spark.driver.memory\", \"4g\")\n",
    "    .getOrCreate()\n",
    ")"
   ]
  },
  {
   "cell_type": "code",
   "execution_count": 2,
   "id": "2bea7237",
   "metadata": {},
   "outputs": [
    {
     "name": "stderr",
     "output_type": "stream",
     "text": [
      "                                                                                \r"
     ]
    }
   ],
   "source": [
    "yellow = spark.read.parquet('../../mast30034-project-1-dustintano10/data/raw/yellow_taxi/')"
   ]
  },
  {
   "cell_type": "code",
   "execution_count": 3,
   "id": "8eb09ca5",
   "metadata": {},
   "outputs": [
    {
     "name": "stderr",
     "output_type": "stream",
     "text": [
      "\r",
      "[Stage 1:>                                                          (0 + 1) / 1]\r"
     ]
    },
    {
     "name": "stdout",
     "output_type": "stream",
     "text": [
      "-RECORD 0------------------------------------\n",
      " VendorID              | 1                   \n",
      " tpep_pickup_datetime  | 2018-10-01 00:23:34 \n",
      " tpep_dropoff_datetime | 2018-10-01 00:44:50 \n",
      " passenger_count       | 1.0                 \n",
      " trip_distance         | 6.2                 \n",
      " RatecodeID            | 1.0                 \n",
      " store_and_fwd_flag    | N                   \n",
      " PULocationID          | 68                  \n",
      " DOLocationID          | 7                   \n",
      " payment_type          | 2                   \n",
      " fare_amount           | 20.5                \n",
      " extra                 | 0.5                 \n",
      " mta_tax               | 0.5                 \n",
      " tip_amount            | 0.0                 \n",
      " tolls_amount          | 0.0                 \n",
      " improvement_surcharge | 0.3                 \n",
      " total_amount          | 21.8                \n",
      " congestion_surcharge  | null                \n",
      " airport_fee           | null                \n",
      "only showing top 1 row\n",
      "\n",
      "root\n",
      " |-- VendorID: long (nullable = true)\n",
      " |-- tpep_pickup_datetime: timestamp (nullable = true)\n",
      " |-- tpep_dropoff_datetime: timestamp (nullable = true)\n",
      " |-- passenger_count: double (nullable = true)\n",
      " |-- trip_distance: double (nullable = true)\n",
      " |-- RatecodeID: double (nullable = true)\n",
      " |-- store_and_fwd_flag: string (nullable = true)\n",
      " |-- PULocationID: long (nullable = true)\n",
      " |-- DOLocationID: long (nullable = true)\n",
      " |-- payment_type: long (nullable = true)\n",
      " |-- fare_amount: double (nullable = true)\n",
      " |-- extra: double (nullable = true)\n",
      " |-- mta_tax: double (nullable = true)\n",
      " |-- tip_amount: double (nullable = true)\n",
      " |-- tolls_amount: double (nullable = true)\n",
      " |-- improvement_surcharge: double (nullable = true)\n",
      " |-- total_amount: double (nullable = true)\n",
      " |-- congestion_surcharge: integer (nullable = true)\n",
      " |-- airport_fee: integer (nullable = true)\n",
      "\n"
     ]
    },
    {
     "name": "stderr",
     "output_type": "stream",
     "text": [
      "\r",
      "                                                                                \r"
     ]
    }
   ],
   "source": [
    "yellow.show(1, vertical=True, truncate=100)\n",
    "yellow.printSchema()"
   ]
  },
  {
   "cell_type": "code",
   "execution_count": 4,
   "id": "ac50f431",
   "metadata": {},
   "outputs": [],
   "source": [
    "# create a new column called day_of_week to get day of week for the trip and is_weekend which identify if record is a \n",
    "# weekend or not\n",
    "from pyspark.sql.functions import *\n",
    "yellow = yellow.withColumn(\"day_of_week\", date_format(col(\"tpep_pickup_datetime\"),\"E\"))\n",
    "\n",
    "yellow = yellow.withColumn(\"is_weekend\", col(\"day_of_week\").isin([\"Sat\", \"Sun\"]).cast(\"boolean\"))"
   ]
  },
  {
   "cell_type": "code",
   "execution_count": 5,
   "id": "b1a381f6",
   "metadata": {},
   "outputs": [],
   "source": [
    "# separates the date and time from both the pickup and dropoff date time columns\n",
    "# creates new columns for pickup/dropoff date and pickup/dropoff time\n",
    "\n",
    "yellow = yellow.withColumn(\"pickup_date\",\n",
    "                 to_date(col(\"tpep_pickup_datetime\"),\"yyyy-MM-dd\"))\n",
    "\n",
    "yellow = yellow.withColumn(\"dropoff_date\",\n",
    "                 to_date(col(\"tpep_dropoff_datetime\"),\"yyyy-MM-dd\"))\n",
    "\n",
    "yellow = yellow.withColumn(\"pickup_time\", date_format('tpep_pickup_datetime', 'HH:mm:ss'))\n",
    "\n",
    "yellow = yellow.withColumn(\"dropoff_time\", date_format('tpep_dropoff_datetime', 'HH:mm:ss'))\n",
    "\n",
    "#drop columns that are not important for analysis\n",
    "yellow = yellow.drop(\"extra\", \"mta_tax\", \"congestion_surcharge\", \"airport_fee\", \"tolls_amount\", \"improvement_surcharge\",\n",
    "                    \"passenger_count\", \"store_and_fwd_flag\", )\n"
   ]
  },
  {
   "cell_type": "code",
   "execution_count": 6,
   "id": "368ad2fa",
   "metadata": {},
   "outputs": [
    {
     "name": "stderr",
     "output_type": "stream",
     "text": [
      "                                                                                \r"
     ]
    },
    {
     "data": {
      "text/html": [
       "<table border='1'>\n",
       "<tr><th>quantiles_distance</th><th>quantiles_fare</th></tr>\n",
       "<tr><td>[1.0, 1.69, 3.08]</td><td>[6.5, 9.5, 15.0]</td></tr>\n",
       "</table>\n"
      ],
      "text/plain": [
       "+------------------+----------------+\n",
       "|quantiles_distance|  quantiles_fare|\n",
       "+------------------+----------------+\n",
       "| [1.0, 1.69, 3.08]|[6.5, 9.5, 15.0]|\n",
       "+------------------+----------------+"
      ]
     },
     "execution_count": 6,
     "metadata": {},
     "output_type": "execute_result"
    }
   ],
   "source": [
    "# filter out all other payment_types as tips are only counted with credit card payment\n",
    "yellow_credit = yellow.filter(F.col('payment_type') == 1)\n",
    "\n",
    "# remove records that has trips starting before the month of october\n",
    "yellow_credit = yellow_credit.filter(F.col('pickup_date') >= '2018-10-01')\n",
    "\n",
    "# remove other RatecodeID's as they make up such a small amount of the total dataset\n",
    "yellow_credit = yellow_credit.where( (F.col('RatecodeID') == 1) | (F.col('RatecodeID') == 2))"
   ]
  },
  {
   "cell_type": "code",
   "execution_count": 35,
   "id": "19e133af",
   "metadata": {},
   "outputs": [
    {
     "name": "stderr",
     "output_type": "stream",
     "text": [
      "[Stage 28:===================================================>      (8 + 1) / 9]\r"
     ]
    },
    {
     "name": "stdout",
     "output_type": "stream",
     "text": [
      "-RECORD 0------------------------------------\n",
      " VendorID              | 2                   \n",
      " tpep_pickup_datetime  | 2019-06-07 16:19:14 \n",
      " tpep_dropoff_datetime | 2019-06-07 16:25:44 \n",
      " trip_distance         | 0.66                \n",
      " RatecodeID            | 1.0                 \n",
      " PULocationID          | 68                  \n",
      " DOLocationID          | 90                  \n",
      " payment_type          | 1                   \n",
      " fare_amount           | -6.0                \n",
      " tip_amount            | 0.0                 \n",
      " total_amount          | -10.3               \n",
      " day_of_week           | Fri                 \n",
      " is_weekend            | false               \n",
      " pickup_date           | 2019-06-07          \n",
      " dropoff_date          | 2019-06-07          \n",
      " pickup_time           | 16:19:14            \n",
      " dropoff_time          | 16:25:44            \n",
      "-RECORD 1------------------------------------\n",
      " VendorID              | 2                   \n",
      " tpep_pickup_datetime  | 2018-12-21 13:15:35 \n",
      " tpep_dropoff_datetime | 2018-12-21 13:18:53 \n",
      " trip_distance         | 0.48                \n",
      " RatecodeID            | 1.0                 \n",
      " PULocationID          | 239                 \n",
      " DOLocationID          | 143                 \n",
      " payment_type          | 1                   \n",
      " fare_amount           | -4.5                \n",
      " tip_amount            | -1.59               \n",
      " total_amount          | -6.89               \n",
      " day_of_week           | Fri                 \n",
      " is_weekend            | false               \n",
      " pickup_date           | 2018-12-21          \n",
      " dropoff_date          | 2018-12-21          \n",
      " pickup_time           | 13:15:35            \n",
      " dropoff_time          | 13:18:53            \n",
      "-RECORD 2------------------------------------\n",
      " VendorID              | 2                   \n",
      " tpep_pickup_datetime  | 2019-06-24 07:27:20 \n",
      " tpep_dropoff_datetime | 2019-06-24 07:29:17 \n",
      " trip_distance         | 0.72                \n",
      " RatecodeID            | 1.0                 \n",
      " PULocationID          | 236                 \n",
      " DOLocationID          | 236                 \n",
      " payment_type          | 1                   \n",
      " fare_amount           | -4.0                \n",
      " tip_amount            | -11.0               \n",
      " total_amount          | -18.3               \n",
      " day_of_week           | Mon                 \n",
      " is_weekend            | false               \n",
      " pickup_date           | 2019-06-24          \n",
      " dropoff_date          | 2019-06-24          \n",
      " pickup_time           | 07:27:20            \n",
      " dropoff_time          | 07:29:17            \n",
      "-RECORD 3------------------------------------\n",
      " VendorID              | 2                   \n",
      " tpep_pickup_datetime  | 2018-12-01 23:05:16 \n",
      " tpep_dropoff_datetime | 2018-12-01 23:07:56 \n",
      " trip_distance         | 0.26                \n",
      " RatecodeID            | 1.0                 \n",
      " PULocationID          | 144                 \n",
      " DOLocationID          | 231                 \n",
      " payment_type          | 1                   \n",
      " fare_amount           | -3.5                \n",
      " tip_amount            | -1.0                \n",
      " total_amount          | -5.8                \n",
      " day_of_week           | Sat                 \n",
      " is_weekend            | true                \n",
      " pickup_date           | 2018-12-01          \n",
      " dropoff_date          | 2018-12-01          \n",
      " pickup_time           | 23:05:16            \n",
      " dropoff_time          | 23:07:56            \n",
      "-RECORD 4------------------------------------\n",
      " VendorID              | 2                   \n",
      " tpep_pickup_datetime  | 2019-06-14 15:17:16 \n",
      " tpep_dropoff_datetime | 2019-06-14 15:17:23 \n",
      " trip_distance         | 0.0                 \n",
      " RatecodeID            | 1.0                 \n",
      " PULocationID          | 152                 \n",
      " DOLocationID          | 152                 \n",
      " payment_type          | 1                   \n",
      " fare_amount           | -2.5                \n",
      " tip_amount            | -0.66               \n",
      " total_amount          | -3.96               \n",
      " day_of_week           | Fri                 \n",
      " is_weekend            | false               \n",
      " pickup_date           | 2019-06-14          \n",
      " dropoff_date          | 2019-06-14          \n",
      " pickup_time           | 15:17:16            \n",
      " dropoff_time          | 15:17:23            \n",
      "-RECORD 5------------------------------------\n",
      " VendorID              | 2                   \n",
      " tpep_pickup_datetime  | 2019-05-30 11:22:51 \n",
      " tpep_dropoff_datetime | 2019-05-30 11:23:05 \n",
      " trip_distance         | 0.0                 \n",
      " RatecodeID            | 1.0                 \n",
      " PULocationID          | 152                 \n",
      " DOLocationID          | 152                 \n",
      " payment_type          | 1                   \n",
      " fare_amount           | -2.5                \n",
      " tip_amount            | -0.66               \n",
      " total_amount          | -3.96               \n",
      " day_of_week           | Thu                 \n",
      " is_weekend            | false               \n",
      " pickup_date           | 2019-05-30          \n",
      " dropoff_date          | 2019-05-30          \n",
      " pickup_time           | 11:22:51            \n",
      " dropoff_time          | 11:23:05            \n",
      "-RECORD 6------------------------------------\n",
      " VendorID              | 2                   \n",
      " tpep_pickup_datetime  | 2018-11-04 18:27:08 \n",
      " tpep_dropoff_datetime | 2018-11-04 18:27:12 \n",
      " trip_distance         | 0.0                 \n",
      " RatecodeID            | 1.0                 \n",
      " PULocationID          | 129                 \n",
      " DOLocationID          | 129                 \n",
      " payment_type          | 1                   \n",
      " fare_amount           | -2.5                \n",
      " tip_amount            | 0.0                 \n",
      " total_amount          | -3.3                \n",
      " day_of_week           | Sun                 \n",
      " is_weekend            | true                \n",
      " pickup_date           | 2018-11-04          \n",
      " dropoff_date          | 2018-11-04          \n",
      " pickup_time           | 18:27:08            \n",
      " dropoff_time          | 18:27:12            \n",
      "-RECORD 7------------------------------------\n",
      " VendorID              | 2                   \n",
      " tpep_pickup_datetime  | 2019-05-25 13:55:49 \n",
      " tpep_dropoff_datetime | 2019-05-25 13:55:55 \n",
      " trip_distance         | 0.02                \n",
      " RatecodeID            | 1.0                 \n",
      " PULocationID          | 161                 \n",
      " DOLocationID          | 161                 \n",
      " payment_type          | 1                   \n",
      " fare_amount           | -2.5                \n",
      " tip_amount            | -5.0                \n",
      " total_amount          | -10.8               \n",
      " day_of_week           | Sat                 \n",
      " is_weekend            | true                \n",
      " pickup_date           | 2019-05-25          \n",
      " dropoff_date          | 2019-05-25          \n",
      " pickup_time           | 13:55:49            \n",
      " dropoff_time          | 13:55:55            \n",
      "-RECORD 8------------------------------------\n",
      " VendorID              | 2                   \n",
      " tpep_pickup_datetime  | 2019-05-17 15:47:05 \n",
      " tpep_dropoff_datetime | 2019-05-17 15:47:12 \n",
      " trip_distance         | 0.0                 \n",
      " RatecodeID            | 1.0                 \n",
      " PULocationID          | 152                 \n",
      " DOLocationID          | 152                 \n",
      " payment_type          | 1                   \n",
      " fare_amount           | -2.5                \n",
      " tip_amount            | -0.66               \n",
      " total_amount          | -3.96               \n",
      " day_of_week           | Fri                 \n",
      " is_weekend            | false               \n",
      " pickup_date           | 2019-05-17          \n",
      " dropoff_date          | 2019-05-17          \n",
      " pickup_time           | 15:47:05            \n",
      " dropoff_time          | 15:47:12            \n",
      "-RECORD 9------------------------------------\n",
      " VendorID              | 2                   \n",
      " tpep_pickup_datetime  | 2018-12-09 16:23:37 \n",
      " tpep_dropoff_datetime | 2018-12-09 16:24:12 \n",
      " trip_distance         | 0.0                 \n",
      " RatecodeID            | 1.0                 \n",
      " PULocationID          | 138                 \n",
      " DOLocationID          | 138                 \n",
      " payment_type          | 1                   \n",
      " fare_amount           | -2.5                \n",
      " tip_amount            | -3.71               \n",
      " total_amount          | -18.53              \n",
      " day_of_week           | Sun                 \n",
      " is_weekend            | true                \n",
      " pickup_date           | 2018-12-09          \n",
      " dropoff_date          | 2018-12-09          \n",
      " pickup_time           | 16:23:37            \n",
      " dropoff_time          | 16:24:12            \n",
      "only showing top 10 rows\n",
      "\n"
     ]
    },
    {
     "name": "stderr",
     "output_type": "stream",
     "text": [
      "\r",
      "                                                                                \r"
     ]
    }
   ],
   "source": [
    "# remove records with negative values and 0 from fare_amount\n",
    "\n",
    "yellow_credit.where(F.col('fare_amount') > 0)\n",
    "\n",
    "# remove records where trip distance is 0\n",
    "\n",
    "yellow_credit.where(F.col('trip_distance') > 0)\n",
    "                                   "
   ]
  },
  {
   "cell_type": "code",
   "execution_count": null,
   "id": "7f294a3f",
   "metadata": {},
   "outputs": [],
   "source": [
    "# Here we load the curated nba_attendance and convert the Date column into date type\n",
    "# Then we convert the whole pandas dataframe into a spark dataframe \n",
    "import pandas as pd\n",
    "from pyspark.sql.types import *\n",
    "\n",
    "nba_attendance = pd.read_csv('../../mast30034-project-1-dustintano10/data/curated/nba_attendance_new.csv')\n",
    "\n",
    "nba_attendance['Date'] = pd.to_datetime(nba_attendance['Date'], format='%Y%m%d')\n",
    "\n",
    "schema = StructType([\n",
    "StructField(\"Date\", DateType(), True),\n",
    "StructField(\"Start(ET)\", StringType(), True),\n",
    "StructField(\"Attend.\", StringType(), True),\n",
    "StructField(\"Arena\", StringType(), True),\n",
    "StructField(\"Day_of_week\", StringType(), True)\n",
    "])\n",
    "\n",
    "nba_attendance_spark = spark.createDataFrame(nba_attendance, schema)"
   ]
  },
  {
   "cell_type": "code",
   "execution_count": null,
   "id": "4c89a6ca",
   "metadata": {},
   "outputs": [],
   "source": [
    "# joins the nba attendance with the yellow_credit dataframe\n",
    "yellow_credit = yellow_credit.join(nba_attendance_spark, yellow_credit.pickup_date == nba_attendance_spark.Date, 'left')"
   ]
  },
  {
   "cell_type": "code",
   "execution_count": null,
   "id": "290fa244",
   "metadata": {},
   "outputs": [],
   "source": [
    "# saves the new yellow_credit dataframe\n",
    "yellow_credit.write.mode('overwrite').parquet('../../mast30034-project-1-dustintano10/data/curated/yellow/yellow_credit')"
   ]
  }
 ],
 "metadata": {
  "kernelspec": {
   "display_name": "Python 3 (ipykernel)",
   "language": "python",
   "name": "python3"
  },
  "language_info": {
   "codemirror_mode": {
    "name": "ipython",
    "version": 3
   },
   "file_extension": ".py",
   "mimetype": "text/x-python",
   "name": "python",
   "nbconvert_exporter": "python",
   "pygments_lexer": "ipython3",
   "version": "3.8.10"
  }
 },
 "nbformat": 4,
 "nbformat_minor": 5
}
