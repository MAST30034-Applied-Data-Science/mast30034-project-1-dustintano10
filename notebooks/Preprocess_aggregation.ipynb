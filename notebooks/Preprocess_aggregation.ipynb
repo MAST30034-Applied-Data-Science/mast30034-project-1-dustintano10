{
 "cells": [
  {
   "cell_type": "code",
   "execution_count": 1,
   "id": "08c96093",
   "metadata": {},
   "outputs": [
    {
     "name": "stdout",
     "output_type": "stream",
     "text": [
      "22/08/19 14:55:01 WARN Utils: Your hostname, DESKTOP-3ADPNV0 resolves to a loopback address: 127.0.1.1; using 172.29.53.33 instead (on interface eth0)\n",
      "22/08/19 14:55:01 WARN Utils: Set SPARK_LOCAL_IP if you need to bind to another address\n"
     ]
    },
    {
     "name": "stderr",
     "output_type": "stream",
     "text": [
      "Setting default log level to \"WARN\".\n",
      "To adjust logging level use sc.setLogLevel(newLevel). For SparkR, use setLogLevel(newLevel).\n"
     ]
    },
    {
     "name": "stdout",
     "output_type": "stream",
     "text": [
      "22/08/19 14:55:03 WARN NativeCodeLoader: Unable to load native-hadoop library for your platform... using builtin-java classes where applicable\n"
     ]
    }
   ],
   "source": [
    "from pyspark.sql import SparkSession, functions as F\n",
    "\n",
    "# Cell to create a spark session\n",
    "spark = (\n",
    "    SparkSession.builder.appName(\"MAST30034 ASSIGNMENT 1 DUSTIN\")\n",
    "    .config(\"spark.sql.repl.eagerEval.enabled\", True) \n",
    "    .config(\"spark.sql.parquet.cacheMetadata\", \"true\")\n",
    "    .config(\"spark.sql.session.timeZone\", \"Etc/UTC\")\n",
    "    .config(\"spark.executor.memory\", \"2g\")\n",
    "    .config(\"spark.driver.memory\", \"4g\")\n",
    "    .getOrCreate()\n",
    ")"
   ]
  },
  {
   "cell_type": "code",
   "execution_count": 2,
   "id": "9539b9e8",
   "metadata": {},
   "outputs": [],
   "source": [
    "import pandas as pd\n",
    "import matplotlib.pyplot as plt\n",
    "import seaborn as sns\n",
    "from statsmodels.formula.api import ols, glm"
   ]
  },
  {
   "cell_type": "code",
   "execution_count": 3,
   "id": "5b796edb",
   "metadata": {},
   "outputs": [
    {
     "name": "stderr",
     "output_type": "stream",
     "text": [
      "                                                                                \r"
     ]
    }
   ],
   "source": [
    "yellow_spark = spark.read.parquet('../../mast30034-project-1-dustintano10/data/curated/yellow/yellow_credit')"
   ]
  },
  {
   "cell_type": "code",
   "execution_count": 4,
   "id": "5cf79927",
   "metadata": {},
   "outputs": [
    {
     "name": "stderr",
     "output_type": "stream",
     "text": [
      "                                                                                \r"
     ]
    },
    {
     "data": {
      "text/html": [
       "<table border='1'>\n",
       "<tr><th>tpep_pickup_datetime</th><th>tpep_dropoff_datetime</th><th>trip_distance</th><th>PULocationID</th><th>DOLocationID</th><th>fare_amount</th><th>tip_amount</th><th>total_amount</th><th>day_of_week</th><th>is_weekend</th><th>trip_length</th><th>Date</th><th>Start(ET)</th><th>Attendance</th><th>Win</th><th>margin_victory/loss</th></tr>\n",
       "<tr><td>2018-12-25 00:39:10</td><td>2018-12-25 01:04:33</td><td>2.56</td><td>162</td><td>263</td><td>16.5</td><td>4.58</td><td>22.88</td><td>Tue</td><td>false</td><td>25.3833</td><td>2018-12-25</td><td>12:00</td><td>19812</td><td>No</td><td>-14</td></tr>\n",
       "<tr><td>2018-12-25 09:08:51</td><td>2018-12-25 09:13:27</td><td>0.9</td><td>163</td><td>162</td><td>5.0</td><td>1.45</td><td>7.25</td><td>Tue</td><td>false</td><td>4.6</td><td>2018-12-25</td><td>12:00</td><td>19812</td><td>No</td><td>-14</td></tr>\n",
       "<tr><td>2018-12-25 10:29:03</td><td>2018-12-25 10:31:40</td><td>0.63</td><td>100</td><td>48</td><td>4.0</td><td>0.96</td><td>5.76</td><td>Tue</td><td>false</td><td>2.6167</td><td>2018-12-25</td><td>12:00</td><td>19812</td><td>No</td><td>-14</td></tr>\n",
       "<tr><td>2018-12-25 10:58:19</td><td>2018-12-25 11:14:08</td><td>8.08</td><td>161</td><td>13</td><td>23.5</td><td>0.0</td><td>24.3</td><td>Tue</td><td>false</td><td>15.8167</td><td>2018-12-25</td><td>12:00</td><td>19812</td><td>No</td><td>-14</td></tr>\n",
       "<tr><td>2018-12-25 15:52:23</td><td>2018-12-25 16:07:03</td><td>2.13</td><td>162</td><td>142</td><td>11.5</td><td>1.0</td><td>13.3</td><td>Tue</td><td>false</td><td>14.6667</td><td>2018-12-25</td><td>12:00</td><td>19812</td><td>No</td><td>-14</td></tr>\n",
       "<tr><td>2018-12-25 00:31:15</td><td>2018-12-25 00:42:04</td><td>2.88</td><td>230</td><td>236</td><td>11.0</td><td>2.36</td><td>14.16</td><td>Tue</td><td>false</td><td>10.8167</td><td>2018-12-25</td><td>12:00</td><td>19812</td><td>No</td><td>-14</td></tr>\n",
       "<tr><td>2018-12-25 00:51:53</td><td>2018-12-25 00:58:03</td><td>0.98</td><td>161</td><td>229</td><td>6.0</td><td>1.36</td><td>8.16</td><td>Tue</td><td>false</td><td>6.1667</td><td>2018-12-25</td><td>12:00</td><td>19812</td><td>No</td><td>-14</td></tr>\n",
       "<tr><td>2018-12-25 03:53:56</td><td>2018-12-25 04:06:21</td><td>1.64</td><td>246</td><td>107</td><td>9.5</td><td>0.0</td><td>10.3</td><td>Tue</td><td>false</td><td>12.4167</td><td>2018-12-25</td><td>12:00</td><td>19812</td><td>No</td><td>-14</td></tr>\n",
       "<tr><td>2018-12-25 17:03:49</td><td>2018-12-25 17:07:48</td><td>0.83</td><td>237</td><td>141</td><td>5.0</td><td>2.0</td><td>7.8</td><td>Tue</td><td>false</td><td>3.9833</td><td>2018-12-25</td><td>12:00</td><td>19812</td><td>No</td><td>-14</td></tr>\n",
       "<tr><td>2018-12-25 17:38:54</td><td>2018-12-25 17:42:43</td><td>1.1</td><td>237</td><td>236</td><td>5.5</td><td>1.58</td><td>7.88</td><td>Tue</td><td>false</td><td>3.8167</td><td>2018-12-25</td><td>12:00</td><td>19812</td><td>No</td><td>-14</td></tr>\n",
       "</table>\n"
      ],
      "text/plain": [
       "+--------------------+---------------------+-------------+------------+------------+-----------+----------+------------+-----------+----------+-----------+----------+---------+----------+---+-------------------+\n",
       "|tpep_pickup_datetime|tpep_dropoff_datetime|trip_distance|PULocationID|DOLocationID|fare_amount|tip_amount|total_amount|day_of_week|is_weekend|trip_length|      Date|Start(ET)|Attendance|Win|margin_victory/loss|\n",
       "+--------------------+---------------------+-------------+------------+------------+-----------+----------+------------+-----------+----------+-----------+----------+---------+----------+---+-------------------+\n",
       "| 2018-12-25 00:39:10|  2018-12-25 01:04:33|         2.56|         162|         263|       16.5|      4.58|       22.88|        Tue|     false|    25.3833|2018-12-25|    12:00|     19812| No|                -14|\n",
       "| 2018-12-25 09:08:51|  2018-12-25 09:13:27|          0.9|         163|         162|        5.0|      1.45|        7.25|        Tue|     false|        4.6|2018-12-25|    12:00|     19812| No|                -14|\n",
       "| 2018-12-25 10:29:03|  2018-12-25 10:31:40|         0.63|         100|          48|        4.0|      0.96|        5.76|        Tue|     false|     2.6167|2018-12-25|    12:00|     19812| No|                -14|\n",
       "| 2018-12-25 10:58:19|  2018-12-25 11:14:08|         8.08|         161|          13|       23.5|       0.0|        24.3|        Tue|     false|    15.8167|2018-12-25|    12:00|     19812| No|                -14|\n",
       "| 2018-12-25 15:52:23|  2018-12-25 16:07:03|         2.13|         162|         142|       11.5|       1.0|        13.3|        Tue|     false|    14.6667|2018-12-25|    12:00|     19812| No|                -14|\n",
       "| 2018-12-25 00:31:15|  2018-12-25 00:42:04|         2.88|         230|         236|       11.0|      2.36|       14.16|        Tue|     false|    10.8167|2018-12-25|    12:00|     19812| No|                -14|\n",
       "| 2018-12-25 00:51:53|  2018-12-25 00:58:03|         0.98|         161|         229|        6.0|      1.36|        8.16|        Tue|     false|     6.1667|2018-12-25|    12:00|     19812| No|                -14|\n",
       "| 2018-12-25 03:53:56|  2018-12-25 04:06:21|         1.64|         246|         107|        9.5|       0.0|        10.3|        Tue|     false|    12.4167|2018-12-25|    12:00|     19812| No|                -14|\n",
       "| 2018-12-25 17:03:49|  2018-12-25 17:07:48|         0.83|         237|         141|        5.0|       2.0|         7.8|        Tue|     false|     3.9833|2018-12-25|    12:00|     19812| No|                -14|\n",
       "| 2018-12-25 17:38:54|  2018-12-25 17:42:43|          1.1|         237|         236|        5.5|      1.58|        7.88|        Tue|     false|     3.8167|2018-12-25|    12:00|     19812| No|                -14|\n",
       "+--------------------+---------------------+-------------+------------+------------+-----------+----------+------------+-----------+----------+-----------+----------+---------+----------+---+-------------------+"
      ]
     },
     "execution_count": 4,
     "metadata": {},
     "output_type": "execute_result"
    }
   ],
   "source": [
    "yellow_spark.limit(10)"
   ]
  },
  {
   "cell_type": "code",
   "execution_count": 5,
   "id": "df69da62",
   "metadata": {},
   "outputs": [],
   "source": [
    "yellow_weekday = yellow_spark.filter( F.col(\"is_weekend\") == True )\n",
    "yellow_weekend = yellow_spark.filter( F.col(\"is_weekend\") == False)\n",
    "\n",
    "yellow_win = yellow_spark.filter( F.col(\"win\") == \"Yes\" )\n",
    "yellow_lose = yellow_spark.filter( F.col(\"win\") == \"No\" )\n",
    "\n"
   ]
  },
  {
   "cell_type": "code",
   "execution_count": 6,
   "id": "b6fd2985",
   "metadata": {},
   "outputs": [
    {
     "name": "stderr",
     "output_type": "stream",
     "text": [
      "                                                                                \r"
     ]
    },
    {
     "data": {
      "text/plain": [
       "1330808"
      ]
     },
     "execution_count": 6,
     "metadata": {},
     "output_type": "execute_result"
    }
   ],
   "source": [
    "yellow_win.count()"
   ]
  },
  {
   "cell_type": "code",
   "execution_count": 7,
   "id": "bcd3680b",
   "metadata": {},
   "outputs": [
    {
     "name": "stderr",
     "output_type": "stream",
     "text": [
      "                                                                                \r"
     ]
    },
    {
     "data": {
      "text/plain": [
       "5085064"
      ]
     },
     "execution_count": 7,
     "metadata": {},
     "output_type": "execute_result"
    }
   ],
   "source": [
    "yellow_lose.count()"
   ]
  },
  {
   "cell_type": "code",
   "execution_count": 8,
   "id": "2b26d4a7",
   "metadata": {},
   "outputs": [
    {
     "name": "stderr",
     "output_type": "stream",
     "text": [
      "[Stage 13:===================================================>      (8 + 1) / 9]\r"
     ]
    },
    {
     "name": "stdout",
     "output_type": "stream",
     "text": [
      "+----------+--------+-------------+---------+----------+-----------+-----------+---------------+\n",
      "|      date|mean_tip|mean_distance|mean_fare|mean_total|mean_length|mean_margin|mean_attendance|\n",
      "+----------+--------+-------------+---------+----------+-----------+-----------+---------------+\n",
      "|2018-10-17|  2.1856|       1.9649|  10.5971|   14.0219|    13.1581|       19.0|        18249.0|\n",
      "|2018-10-20|   2.083|       2.0786|  10.4644|   13.5894|    12.4323|       -2.0|        19427.0|\n",
      "|2018-10-26|  2.1301|       1.9315|  10.4513|   13.8198|    12.9489|      -28.0|        19812.0|\n",
      "|2018-10-29|  2.1076|       2.0071|  10.1668|   13.5296|    11.9771|       19.0|        19221.0|\n",
      "|2018-10-31|  2.0861|       1.9333|  10.2098|   13.5241|    12.3031|       -6.0|        18295.0|\n",
      "|2018-11-05|  2.1121|       1.9291|  10.2613|   13.6225|     12.589|       -1.0|        19812.0|\n",
      "|2018-11-11|  2.0881|       2.1319|  10.4366|   13.5995|    12.0614|      -26.0|        19812.0|\n",
      "|2018-11-20|  2.1076|       1.8736|  10.2946|   13.6276|     12.869|       -4.0|        19812.0|\n",
      "|2018-11-23|  1.9953|       1.9833|   9.5126|   12.7763|     10.396|        5.0|        18948.0|\n",
      "|2018-12-01|  2.0671|        1.983|  10.3111|   13.4179|    12.4687|        2.0|        19812.0|\n",
      "|2018-12-03|  2.1326|       1.9912|  10.2676|   13.6547|    12.2727|       -3.0|        19440.0|\n",
      "|2018-12-08|  2.1024|       1.9649|   10.487|   13.6198|    12.8957|       -8.0|        18662.0|\n",
      "|2018-12-09|  2.0447|       2.0987|  10.0504|   13.1463|     11.333|      -12.0|        18602.0|\n",
      "|2018-12-17|  2.1142|       1.9523|  10.0285|   13.3907|    11.8971|      -18.0|        18437.0|\n",
      "|2018-12-21|  2.1069|       1.9159|  10.0262|   13.3576|    12.0858|       -7.0|        19080.0|\n",
      "|2018-12-25|  2.1457|       2.2558|   9.7608|   12.9923|      9.664|      -14.0|        19812.0|\n",
      "|2019-01-11|  2.0615|       1.8699|   9.7875|   13.0996|    11.6433|      -15.0|        19812.0|\n",
      "|2019-01-13|  1.9457|       2.0122|   9.3246|   12.3052|     9.9052|       -3.0|        18596.0|\n",
      "|2019-01-21|  1.8716|       1.8874|   8.7458|   11.6247|     8.9263|      -18.0|        19493.0|\n",
      "|2019-01-23|   2.137|       1.9425|  10.1504|   13.5209|    12.1869|       -4.0|        18819.0|\n",
      "|2019-01-27|  2.0147|       2.1147|   9.7421|   12.8152|    10.5192|       -9.0|        18852.0|\n",
      "|2019-01-30|  2.0722|        1.872|   9.7103|   13.0278|    11.5046|      -24.0|        18842.0|\n",
      "|2019-02-01|  2.0784|       1.8584|   9.8336|   13.2465|    11.8587|      -14.0|        18343.0|\n",
      "|2019-02-03|  2.3163|       2.1332|   9.6566|   15.4009|    10.2668|      -12.0|        17025.0|\n",
      "|2019-02-05|  2.4761|       2.0015|  10.0706|   16.1951|    11.8403|      -13.0|        17853.0|\n",
      "|2019-02-09|  2.3775|       1.9535|   9.9087|   15.7312|    11.6464|       -5.0|        18886.0|\n",
      "|2019-02-13|   2.472|       1.9335|  10.0521|   16.1689|    12.1227|      -15.0|        18983.0|\n",
      "|2019-02-22|  2.4487|         1.96|  10.0477|    16.154|     11.971|      -11.0|        19096.0|\n",
      "|2019-02-24|  2.3329|       2.1248|   9.6185|    15.403|     10.241|       12.0|        18019.0|\n",
      "|2019-02-26|  2.4745|       1.9494|  10.0337|   16.1603|    11.9633|        5.0|        17833.0|\n",
      "|2019-02-28|  2.4907|       1.9398|  10.1583|   16.2948|    12.3335|       -7.0|        17573.0|\n",
      "|2019-03-09|  2.4278|       2.0397|  10.1787|   16.0459|    12.0037|       -8.0|        19812.0|\n",
      "|2019-03-17|  2.3927|       2.1432|   9.9177|   15.7697|    10.8079|        1.0|        19812.0|\n",
      "|2019-03-20|  2.5154|       2.0014|  10.1164|   16.2956|    11.9083|      -21.0|        18530.0|\n",
      "|2019-03-22|  2.4654|       1.9312|  10.0002|   16.1098|     11.967|      -18.0|        19290.0|\n",
      "|2019-03-24|  2.4184|       2.1716|  10.0529|   15.9359|     11.043|      -11.0|        18263.0|\n",
      "|2019-03-28|  2.5336|        1.996|  10.2924|   16.4909|    12.3815|      -25.0|        19812.0|\n",
      "|2019-03-30|  2.4459|       2.0849|  10.2399|   16.1419|    11.9646|       -8.0|        19812.0|\n",
      "|2019-04-01|  2.4325|       1.9887|   9.8206|   15.9091|    11.2448|        8.0|        18874.0|\n",
      "|2019-04-07|   2.394|        2.167|   9.9391|   15.7903|    10.8229|        3.0|        19812.0|\n",
      "|2019-04-10|  2.5239|       1.9941|  10.2423|   16.4344|    12.2753|      -26.0|        19812.0|\n",
      "+----------+--------+-------------+---------+----------+-----------+-----------+---------------+\n",
      "\n"
     ]
    },
    {
     "name": "stderr",
     "output_type": "stream",
     "text": [
      "\r",
      "                                                                                \r"
     ]
    }
   ],
   "source": [
    "# aggregate the data based on the date of the games\n",
    "\n",
    "from pyspark.sql.functions import *\n",
    "aggregate_date = (yellow_spark\n",
    "             .groupBy(F.col(\"Date\").alias(\"date\"))\n",
    "             .agg(round(mean(\"tip_amount\"),4).alias(\"mean_tip\"),\n",
    "                 round(mean(\"trip_distance\"),4).alias(\"mean_distance\"),\n",
    "                 round(mean(\"fare_amount\"),4).alias(\"mean_fare\"),\n",
    "                 round(mean(\"total_amount\"),4).alias(\"mean_total\"),\n",
    "                 round(mean(\"trip_length\"),4).alias(\"mean_length\"),\n",
    "                 round(mean(\"margin_victory/loss\"),4).alias(\"mean_margin\"),\n",
    "                 round(mean(\"Attendance\"),4).alias(\"mean_attendance\"))\n",
    "              .orderBy(\"date\")\n",
    ")\n",
    "aggregate_date.show(50)"
   ]
  },
  {
   "cell_type": "code",
   "execution_count": 9,
   "id": "76938908",
   "metadata": {},
   "outputs": [
    {
     "name": "stderr",
     "output_type": "stream",
     "text": [
      "                                                                                \r"
     ]
    }
   ],
   "source": [
    "aggregate_date.write.mode('overwrite').parquet('../../mast30034-project-1-dustintano10/data/curated/yellow/aggregate_date')"
   ]
  },
  {
   "cell_type": "code",
   "execution_count": 10,
   "id": "4ded4a28",
   "metadata": {},
   "outputs": [
    {
     "name": "stderr",
     "output_type": "stream",
     "text": [
      "                                                                                \r"
     ]
    }
   ],
   "source": [
    "# average tip amount per hour in a weekday\n",
    "aggregate_weekday = (yellow_weekday\n",
    "     .groupBy(hour(\"tpep_pickup_datetime\").alias(\"hour\"))\n",
    "     .agg(mean(\"tip_amount\").alias(\"mean_tip\"))\n",
    "     .orderBy(\"hour\")\n",
    "    )\n",
    "aggregate_weekday.write.mode('overwrite').parquet('../../mast30034-project-1-dustintano10/data/curated/yellow/aggregate_weekday')"
   ]
  },
  {
   "cell_type": "code",
   "execution_count": 11,
   "id": "20a61469",
   "metadata": {},
   "outputs": [
    {
     "name": "stderr",
     "output_type": "stream",
     "text": [
      "                                                                                \r"
     ]
    }
   ],
   "source": [
    "# average tip amount per hour in a weekend\n",
    "\n",
    "aggregate_weekend = (yellow_weekend\n",
    "     .groupBy(hour(\"tpep_pickup_datetime\").alias(\"hour\"))\n",
    "     .agg(mean(\"tip_amount\").alias(\"mean_tip\"))\n",
    "     .orderBy(\"hour\")\n",
    "    )\n",
    "\n",
    "aggregate_weekend.write.mode('overwrite').parquet('../../mast30034-project-1-dustintano10/data/curated/yellow/aggregate_weekend')"
   ]
  },
  {
   "cell_type": "code",
   "execution_count": 12,
   "id": "4074aa2d",
   "metadata": {},
   "outputs": [
    {
     "name": "stderr",
     "output_type": "stream",
     "text": [
      "\r",
      "[Stage 40:===================================================>      (8 + 1) / 9]\r",
      "\r",
      "                                                                                \r"
     ]
    }
   ],
   "source": [
    "# average tip amount per hour when the knicks win\n",
    "\n",
    "aggregate_win = (yellow_win\n",
    "     .groupBy(hour(\"tpep_pickup_datetime\").alias(\"hour\"))\n",
    "     .agg(mean(\"tip_amount\").alias(\"mean_tip\"))\n",
    "     .orderBy(\"hour\")\n",
    "    )\n",
    "\n",
    "aggregate_win.write.mode('overwrite').parquet('../../mast30034-project-1-dustintano10/data/curated/yellow/aggregate_win')"
   ]
  },
  {
   "cell_type": "code",
   "execution_count": 13,
   "id": "8838ee5c",
   "metadata": {},
   "outputs": [
    {
     "name": "stderr",
     "output_type": "stream",
     "text": [
      "                                                                                \r"
     ]
    }
   ],
   "source": [
    "# average tip amount per hour when the knicks lose\n",
    "\n",
    "aggregate_lose = (yellow_lose\n",
    "     .groupBy(hour(\"tpep_pickup_datetime\").alias(\"hour\"))\n",
    "     .agg(mean(\"tip_amount\").alias(\"mean_tip\"))\n",
    "     .orderBy(\"hour\")\n",
    "    )\n",
    "\n",
    "aggregate_lose.write.mode('overwrite').parquet('../../mast30034-project-1-dustintano10/data/curated/yellow/aggregate_lose')"
   ]
  },
  {
   "cell_type": "code",
   "execution_count": 28,
   "id": "6546989c",
   "metadata": {},
   "outputs": [
    {
     "name": "stderr",
     "output_type": "stream",
     "text": [
      "\r",
      "[Stage 98:===================================================>      (8 + 1) / 9]\r",
      "\r",
      "                                                                                \r"
     ]
    }
   ],
   "source": [
    "# average tip amount based on when the game starts\n",
    "\n",
    "aggregate_start = (yellow_spark\n",
    "                       .groupBy(F.col(\"Start(ET)\").alias(\"start_time\"))\n",
    "                       .agg(mean(\"tip_amount\").alias(\"mean_tip\"))\n",
    "                       .orderBy(\"start_time\"))\n",
    "aggregate_start.write.mode('overwrite').parquet('../../mast30034-project-1-dustintano10/data/curated/yellow/aggregate_start')"
   ]
  },
  {
   "cell_type": "code",
   "execution_count": 29,
   "id": "bf3a787f",
   "metadata": {},
   "outputs": [],
   "source": [
    "# aggregate by Pickup_location\n",
    "\n",
    "aggregate_PU = (yellow_spark\n",
    "                       .groupBy(F.col(\"PULocationID\").alias(\"Pickup_location\"))\n",
    "                       .agg(mean(\"tip_amount\").alias(\"mean_tip\"))\n",
    "                       .orderBy(\"Pickup_location\"))\n",
    "aggregate_PU.write.mode('overwrite').parquet('../../mast30034-project-1-dustintano10/data/curated/yellow/aggregate_PU')"
   ]
  },
  {
   "cell_type": "code",
   "execution_count": 30,
   "id": "84be40c0",
   "metadata": {},
   "outputs": [],
   "source": [
    "# Aggregate by dropoff location\n",
    "\n",
    "aggregate_DO = (yellow_spark\n",
    "                       .groupBy(F.col(\"DOLocationID\").alias(\"Dropoff_location\"))\n",
    "                       .agg(mean(\"tip_amount\").alias(\"mean_tip\"))\n",
    "                       .orderBy(\"Dropoff_location\"))\n",
    "aggregate_DO.write.mode('overwrite').parquet('../../mast30034-project-1-dustintano10/data/curated/yellow/aggregate_DO')"
   ]
  }
 ],
 "metadata": {
  "kernelspec": {
   "display_name": "Python 3 (ipykernel)",
   "language": "python",
   "name": "python3"
  },
  "language_info": {
   "codemirror_mode": {
    "name": "ipython",
    "version": 3
   },
   "file_extension": ".py",
   "mimetype": "text/x-python",
   "name": "python",
   "nbconvert_exporter": "python",
   "pygments_lexer": "ipython3",
   "version": "3.8.10"
  }
 },
 "nbformat": 4,
 "nbformat_minor": 5
}
