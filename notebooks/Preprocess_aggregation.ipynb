{
 "cells": [
  {
   "cell_type": "code",
   "execution_count": 1,
   "id": "08c96093",
   "metadata": {},
   "outputs": [
    {
     "name": "stdout",
     "output_type": "stream",
     "text": [
      "22/08/25 23:02:25 WARN Utils: Your hostname, DESKTOP-3ADPNV0 resolves to a loopback address: 127.0.1.1; using 172.25.27.116 instead (on interface eth0)\n",
      "22/08/25 23:02:25 WARN Utils: Set SPARK_LOCAL_IP if you need to bind to another address\n"
     ]
    },
    {
     "name": "stderr",
     "output_type": "stream",
     "text": [
      "Setting default log level to \"WARN\".\n",
      "To adjust logging level use sc.setLogLevel(newLevel). For SparkR, use setLogLevel(newLevel).\n"
     ]
    },
    {
     "name": "stdout",
     "output_type": "stream",
     "text": [
      "22/08/25 23:02:28 WARN NativeCodeLoader: Unable to load native-hadoop library for your platform... using builtin-java classes where applicable\n"
     ]
    }
   ],
   "source": [
    "from pyspark.sql import SparkSession, functions as F\n",
    "\n",
    "# Cell to create a spark session\n",
    "spark = (\n",
    "    SparkSession.builder.appName(\"MAST30034 ASSIGNMENT 1 DUSTIN\")\n",
    "    .config(\"spark.sql.repl.eagerEval.enabled\", True) \n",
    "    .config(\"spark.sql.parquet.cacheMetadata\", \"true\")\n",
    "    .config(\"spark.sql.session.timeZone\", \"Etc/UTC\")\n",
    "    .config(\"spark.executor.memory\", \"2g\")\n",
    "    .config(\"spark.driver.memory\", \"4g\")\n",
    "    .getOrCreate()\n",
    ")"
   ]
  },
  {
   "cell_type": "code",
   "execution_count": 2,
   "id": "9539b9e8",
   "metadata": {},
   "outputs": [],
   "source": [
    "from pyspark.sql.functions import *\n"
   ]
  },
  {
   "cell_type": "code",
   "execution_count": 3,
   "id": "5b796edb",
   "metadata": {},
   "outputs": [
    {
     "name": "stderr",
     "output_type": "stream",
     "text": [
      "                                                                                \r"
     ]
    }
   ],
   "source": [
    "yellow_spark = spark.read.parquet('../../mast30034-project-1-dustintano10/data/curated/yellow/yellow_indexed')"
   ]
  },
  {
   "cell_type": "code",
   "execution_count": 4,
   "id": "df69da62",
   "metadata": {},
   "outputs": [],
   "source": [
    "# create dataframes to aggregate data based in if it is a weekend or not and also aggregate based on win or lost\n",
    "\n",
    "yellow_weekday = yellow_spark.filter( F.col(\"is_weekend\") == True )\n",
    "yellow_weekend = yellow_spark.filter( F.col(\"is_weekend\") == False)\n",
    "\n",
    "yellow_win = yellow_spark.filter( F.col(\"win\") == \"Yes\" )\n",
    "yellow_lose = yellow_spark.filter( F.col(\"win\") == \"No\" )\n",
    "\n"
   ]
  },
  {
   "cell_type": "code",
   "execution_count": 5,
   "id": "b6fd2985",
   "metadata": {},
   "outputs": [
    {
     "name": "stderr",
     "output_type": "stream",
     "text": [
      "                                                                                \r"
     ]
    },
    {
     "data": {
      "text/plain": [
       "1276445"
      ]
     },
     "execution_count": 5,
     "metadata": {},
     "output_type": "execute_result"
    }
   ],
   "source": [
    "# counts for wins \n",
    "\n",
    "yellow_win.count()"
   ]
  },
  {
   "cell_type": "code",
   "execution_count": 6,
   "id": "bcd3680b",
   "metadata": {},
   "outputs": [
    {
     "data": {
      "text/plain": [
       "4889389"
      ]
     },
     "execution_count": 6,
     "metadata": {},
     "output_type": "execute_result"
    }
   ],
   "source": [
    "# counts for lost \n",
    "# higher number is expected as the knicks lost a more substantial amount of games this season compared\n",
    "# to wins\n",
    "\n",
    "yellow_lose.count()"
   ]
  },
  {
   "cell_type": "code",
   "execution_count": 7,
   "id": "4ded4a28",
   "metadata": {},
   "outputs": [
    {
     "name": "stderr",
     "output_type": "stream",
     "text": [
      "                                                                                \r"
     ]
    }
   ],
   "source": [
    "# average tip amount per hour in a weekday\n",
    "aggregate_weekday = (yellow_weekday\n",
    "     .groupBy(hour(\"tpep_pickup_datetime\").alias(\"hour\"))\n",
    "     .agg(round(mean(\"tip_amount\"),4).alias(\"mean_tip\"))\n",
    "     .orderBy(\"hour\")\n",
    "    )\n",
    "aggregate_weekday.write.mode('overwrite').parquet('../../mast30034-project-1-dustintano10/data/curated/yellow/aggregate_weekday')"
   ]
  },
  {
   "cell_type": "code",
   "execution_count": 8,
   "id": "20a61469",
   "metadata": {},
   "outputs": [
    {
     "name": "stderr",
     "output_type": "stream",
     "text": [
      "                                                                                \r"
     ]
    }
   ],
   "source": [
    "# average tip amount per hour in a weekend\n",
    "\n",
    "aggregate_weekend = (yellow_weekend\n",
    "     .groupBy(hour(\"tpep_pickup_datetime\").alias(\"hour\"))\n",
    "     .agg(round(mean(\"tip_amount\"),4).alias(\"mean_tip\"))\n",
    "     .orderBy(\"hour\")\n",
    "    )\n",
    "\n",
    "aggregate_weekend.write.mode('overwrite').parquet('../../mast30034-project-1-dustintano10/data/curated/yellow/aggregate_weekend')"
   ]
  },
  {
   "cell_type": "code",
   "execution_count": 9,
   "id": "4074aa2d",
   "metadata": {},
   "outputs": [
    {
     "name": "stderr",
     "output_type": "stream",
     "text": [
      "\r",
      "[Stage 23:=============================================>            (7 + 2) / 9]\r",
      "\r",
      "                                                                                \r"
     ]
    }
   ],
   "source": [
    "# average tip amount per hour when the knicks win\n",
    "\n",
    "aggregate_win = (yellow_win\n",
    "     .groupBy(hour(\"tpep_pickup_datetime\").alias(\"hour\"))\n",
    "     .agg(round(mean(\"tip_amount\"),4).alias(\"mean_tip\"))\n",
    "     .orderBy(\"hour\")\n",
    "    )\n",
    "\n",
    "aggregate_win.write.mode('overwrite').parquet('../../mast30034-project-1-dustintano10/data/curated/yellow/aggregate_win')"
   ]
  },
  {
   "cell_type": "code",
   "execution_count": 10,
   "id": "8838ee5c",
   "metadata": {},
   "outputs": [
    {
     "name": "stderr",
     "output_type": "stream",
     "text": [
      "                                                                                \r"
     ]
    }
   ],
   "source": [
    "# average tip amount per hour when the knicks lose\n",
    "\n",
    "aggregate_lose = (yellow_lose\n",
    "     .groupBy(hour(\"tpep_pickup_datetime\").alias(\"hour\"))\n",
    "     .agg(round(mean(\"tip_amount\"),4).alias(\"mean_tip\"))\n",
    "     .orderBy(\"hour\")\n",
    "    )\n",
    "\n",
    "aggregate_lose.write.mode('overwrite').parquet('../../mast30034-project-1-dustintano10/data/curated/yellow/aggregate_lose')"
   ]
  },
  {
   "cell_type": "code",
   "execution_count": 11,
   "id": "6546989c",
   "metadata": {},
   "outputs": [
    {
     "name": "stderr",
     "output_type": "stream",
     "text": [
      "                                                                                \r"
     ]
    }
   ],
   "source": [
    "# average tip amount based on when the game starts\n",
    "\n",
    "aggregate_start = (yellow_spark\n",
    "                       .groupBy(F.col(\"Start(ET)\").alias(\"start_time\"))\n",
    "                       .agg(round(mean(\"tip_amount\"),4).alias(\"mean_tip\"))\n",
    "                       .orderBy(\"start_time\"))\n",
    "aggregate_start.write.mode('overwrite').parquet('../../mast30034-project-1-dustintano10/data/curated/yellow/aggregate_start')"
   ]
  },
  {
   "cell_type": "code",
   "execution_count": 12,
   "id": "bf3a787f",
   "metadata": {},
   "outputs": [
    {
     "name": "stderr",
     "output_type": "stream",
     "text": [
      "\r",
      "[Stage 47:===================================================>      (8 + 1) / 9]\r",
      "\r",
      "                                                                                \r"
     ]
    }
   ],
   "source": [
    "# aggregate by Pickup_location\n",
    "\n",
    "aggregate_PU = (yellow_spark\n",
    "                       .groupBy(F.col(\"PULocationID\").alias(\"Pickup_location\"))\n",
    "                       .agg(round(mean(\"tip_amount\"),4).alias(\"mean_tip\"))\n",
    "                       .orderBy(\"Pickup_location\"))\n",
    "aggregate_PU.write.mode('overwrite').parquet('../../mast30034-project-1-dustintano10/data/curated/yellow/aggregate_PU')\n"
   ]
  },
  {
   "cell_type": "code",
   "execution_count": 13,
   "id": "7309dc49",
   "metadata": {},
   "outputs": [
    {
     "name": "stdout",
     "output_type": "stream",
     "text": [
      "+---------------+--------+\n",
      "|Pickup_location|mean_tip|\n",
      "+---------------+--------+\n",
      "|              1|   14.23|\n",
      "|              2|   3.248|\n",
      "|              3|  0.3266|\n",
      "|              4|  2.2265|\n",
      "|              5|     0.0|\n",
      "|              6|    1.89|\n",
      "|              7|  2.0128|\n",
      "|              8|   2.235|\n",
      "|              9|  0.1549|\n",
      "|             10|  0.4327|\n",
      "|             11|   0.263|\n",
      "|             12|  2.8506|\n",
      "|             13|  2.6931|\n",
      "|             14|  0.6417|\n",
      "|             15|  0.1198|\n",
      "|             16|  0.3632|\n",
      "|             17|  1.1741|\n",
      "|             18|  0.3355|\n",
      "|             19|  0.2311|\n",
      "|             20|  0.2997|\n",
      "|             21|  0.2797|\n",
      "|             22|  0.5504|\n",
      "|             23|  1.0133|\n",
      "|             24|   2.101|\n",
      "+---------------+--------+\n",
      "only showing top 24 rows\n",
      "\n"
     ]
    }
   ],
   "source": [
    "aggregate_PU.show(24)"
   ]
  },
  {
   "cell_type": "code",
   "execution_count": 14,
   "id": "84be40c0",
   "metadata": {},
   "outputs": [],
   "source": [
    "# Aggregate by dropoff location\n",
    "\n",
    "aggregate_DO = (yellow_spark\n",
    "                       .groupBy(F.col(\"DOLocationID\").alias(\"Dropoff_location\"))\n",
    "                       .agg(round(mean(\"tip_amount\"),4).alias(\"mean_tip\"))\n",
    "                       .orderBy(\"Dropoff_location\"))\n",
    "aggregate_DO.write.mode('overwrite').parquet('../../mast30034-project-1-dustintano10/data/curated/yellow/aggregate_DO')"
   ]
  },
  {
   "cell_type": "code",
   "execution_count": 15,
   "id": "9929acc4",
   "metadata": {},
   "outputs": [
    {
     "name": "stdout",
     "output_type": "stream",
     "text": [
      "+----------------+--------+\n",
      "|Dropoff_location|mean_tip|\n",
      "+----------------+--------+\n",
      "|               1|  17.285|\n",
      "|               2|    2.03|\n",
      "|               3|  0.2409|\n",
      "|               4|  2.1857|\n",
      "|               6|     2.0|\n",
      "|               7|  3.2945|\n",
      "|               8|  3.0443|\n",
      "|               9|  1.7292|\n",
      "|              10|  2.6393|\n",
      "|              11|  0.5524|\n",
      "|              12|  2.8587|\n",
      "|              13|  2.7433|\n",
      "|              14|  2.9942|\n",
      "|              15|   1.963|\n",
      "|              16|  0.6199|\n",
      "|              17|  2.9469|\n",
      "|              18|  0.8039|\n",
      "|              19|  0.1795|\n",
      "|              20|  1.1351|\n",
      "|              21|  0.8939|\n",
      "|              22|   0.701|\n",
      "|              23|  1.7314|\n",
      "|              24|  2.2133|\n",
      "|              25|  3.0389|\n",
      "+----------------+--------+\n",
      "only showing top 24 rows\n",
      "\n"
     ]
    },
    {
     "name": "stderr",
     "output_type": "stream",
     "text": [
      "\r",
      "[Stage 66:=============================================>            (7 + 2) / 9]\r",
      "\r",
      "                                                                                \r"
     ]
    }
   ],
   "source": [
    "aggregate_DO.show(24)"
   ]
  },
  {
   "cell_type": "code",
   "execution_count": 16,
   "id": "9f79abda",
   "metadata": {},
   "outputs": [
    {
     "name": "stderr",
     "output_type": "stream",
     "text": [
      "                                                                                \r"
     ]
    }
   ],
   "source": [
    "# take 10% sample from main data\n",
    "\n",
    "SAMPLE_SIZE = 0.10\n",
    "\n",
    "yellow_sample = yellow_spark.sample(SAMPLE_SIZE, seed=0)\n",
    "\n",
    "yellow_sample.write.mode('overwrite').parquet('../../mast30034-project-1-dustintano10/data/curated/yellow/yellow_sample')\n"
   ]
  },
  {
   "cell_type": "code",
   "execution_count": null,
   "id": "74607bc7",
   "metadata": {},
   "outputs": [],
   "source": []
  }
 ],
 "metadata": {
  "kernelspec": {
   "display_name": "Python 3 (ipykernel)",
   "language": "python",
   "name": "python3"
  },
  "language_info": {
   "codemirror_mode": {
    "name": "ipython",
    "version": 3
   },
   "file_extension": ".py",
   "mimetype": "text/x-python",
   "name": "python",
   "nbconvert_exporter": "python",
   "pygments_lexer": "ipython3",
   "version": "3.8.10"
  }
 },
 "nbformat": 4,
 "nbformat_minor": 5
}
