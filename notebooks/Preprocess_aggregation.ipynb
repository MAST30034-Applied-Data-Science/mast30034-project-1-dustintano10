{
 "cells": [
  {
   "cell_type": "code",
   "execution_count": 1,
   "id": "08c96093",
   "metadata": {},
   "outputs": [
    {
     "name": "stdout",
     "output_type": "stream",
     "text": [
      "22/08/20 15:18:17 WARN Utils: Your hostname, DESKTOP-3ADPNV0 resolves to a loopback address: 127.0.1.1; using 172.25.27.161 instead (on interface eth0)\n",
      "22/08/20 15:18:17 WARN Utils: Set SPARK_LOCAL_IP if you need to bind to another address\n"
     ]
    },
    {
     "name": "stderr",
     "output_type": "stream",
     "text": [
      "Setting default log level to \"WARN\".\n",
      "To adjust logging level use sc.setLogLevel(newLevel). For SparkR, use setLogLevel(newLevel).\n"
     ]
    },
    {
     "name": "stdout",
     "output_type": "stream",
     "text": [
      "22/08/20 15:18:19 WARN NativeCodeLoader: Unable to load native-hadoop library for your platform... using builtin-java classes where applicable\n",
      "22/08/20 15:18:21 WARN Utils: Service 'SparkUI' could not bind on port 4040. Attempting port 4041.\n",
      "22/08/20 15:18:21 WARN Utils: Service 'SparkUI' could not bind on port 4041. Attempting port 4042.\n"
     ]
    }
   ],
   "source": [
    "from pyspark.sql import SparkSession, functions as F\n",
    "\n",
    "# Cell to create a spark session\n",
    "spark = (\n",
    "    SparkSession.builder.appName(\"MAST30034 ASSIGNMENT 1 DUSTIN\")\n",
    "    .config(\"spark.sql.repl.eagerEval.enabled\", True) \n",
    "    .config(\"spark.sql.parquet.cacheMetadata\", \"true\")\n",
    "    .config(\"spark.sql.session.timeZone\", \"Etc/UTC\")\n",
    "    .config(\"spark.executor.memory\", \"2g\")\n",
    "    .config(\"spark.driver.memory\", \"4g\")\n",
    "    .getOrCreate()\n",
    ")"
   ]
  },
  {
   "cell_type": "code",
   "execution_count": 2,
   "id": "9539b9e8",
   "metadata": {},
   "outputs": [],
   "source": [
    "from pyspark.sql.functions import *\n"
   ]
  },
  {
   "cell_type": "code",
   "execution_count": 3,
   "id": "5b796edb",
   "metadata": {},
   "outputs": [
    {
     "name": "stderr",
     "output_type": "stream",
     "text": [
      "                                                                                \r"
     ]
    }
   ],
   "source": [
    "yellow_spark = spark.read.parquet('../../mast30034-project-1-dustintano10/data/curated/yellow/yellow_credit')"
   ]
  },
  {
   "cell_type": "code",
   "execution_count": 4,
   "id": "5cf79927",
   "metadata": {},
   "outputs": [
    {
     "name": "stderr",
     "output_type": "stream",
     "text": [
      "                                                                                \r"
     ]
    },
    {
     "data": {
      "text/html": [
       "<table border='1'>\n",
       "<tr><th>tpep_pickup_datetime</th><th>tpep_dropoff_datetime</th><th>trip_distance</th><th>PULocationID</th><th>DOLocationID</th><th>fare_amount</th><th>tip_amount</th><th>total_amount</th><th>day_of_week</th><th>is_weekend</th><th>trip_length</th><th>Date</th><th>Start(ET)</th><th>Attendance</th><th>Win</th><th>margin_victory/loss</th></tr>\n",
       "<tr><td>2018-12-25 00:39:10</td><td>2018-12-25 01:04:33</td><td>2.56</td><td>162</td><td>263</td><td>16.5</td><td>4.58</td><td>22.88</td><td>Tue</td><td>false</td><td>25.3833</td><td>2018-12-25</td><td>12:00</td><td>19812</td><td>No</td><td>-14</td></tr>\n",
       "<tr><td>2018-12-25 09:08:51</td><td>2018-12-25 09:13:27</td><td>0.9</td><td>163</td><td>162</td><td>5.0</td><td>1.45</td><td>7.25</td><td>Tue</td><td>false</td><td>4.6</td><td>2018-12-25</td><td>12:00</td><td>19812</td><td>No</td><td>-14</td></tr>\n",
       "<tr><td>2018-12-25 10:29:03</td><td>2018-12-25 10:31:40</td><td>0.63</td><td>100</td><td>48</td><td>4.0</td><td>0.96</td><td>5.76</td><td>Tue</td><td>false</td><td>2.6167</td><td>2018-12-25</td><td>12:00</td><td>19812</td><td>No</td><td>-14</td></tr>\n",
       "<tr><td>2018-12-25 10:58:19</td><td>2018-12-25 11:14:08</td><td>8.08</td><td>161</td><td>13</td><td>23.5</td><td>0.0</td><td>24.3</td><td>Tue</td><td>false</td><td>15.8167</td><td>2018-12-25</td><td>12:00</td><td>19812</td><td>No</td><td>-14</td></tr>\n",
       "<tr><td>2018-12-25 15:52:23</td><td>2018-12-25 16:07:03</td><td>2.13</td><td>162</td><td>142</td><td>11.5</td><td>1.0</td><td>13.3</td><td>Tue</td><td>false</td><td>14.6667</td><td>2018-12-25</td><td>12:00</td><td>19812</td><td>No</td><td>-14</td></tr>\n",
       "<tr><td>2018-12-25 00:31:15</td><td>2018-12-25 00:42:04</td><td>2.88</td><td>230</td><td>236</td><td>11.0</td><td>2.36</td><td>14.16</td><td>Tue</td><td>false</td><td>10.8167</td><td>2018-12-25</td><td>12:00</td><td>19812</td><td>No</td><td>-14</td></tr>\n",
       "<tr><td>2018-12-25 00:51:53</td><td>2018-12-25 00:58:03</td><td>0.98</td><td>161</td><td>229</td><td>6.0</td><td>1.36</td><td>8.16</td><td>Tue</td><td>false</td><td>6.1667</td><td>2018-12-25</td><td>12:00</td><td>19812</td><td>No</td><td>-14</td></tr>\n",
       "<tr><td>2018-12-25 03:53:56</td><td>2018-12-25 04:06:21</td><td>1.64</td><td>246</td><td>107</td><td>9.5</td><td>0.0</td><td>10.3</td><td>Tue</td><td>false</td><td>12.4167</td><td>2018-12-25</td><td>12:00</td><td>19812</td><td>No</td><td>-14</td></tr>\n",
       "<tr><td>2018-12-25 17:03:49</td><td>2018-12-25 17:07:48</td><td>0.83</td><td>237</td><td>141</td><td>5.0</td><td>2.0</td><td>7.8</td><td>Tue</td><td>false</td><td>3.9833</td><td>2018-12-25</td><td>12:00</td><td>19812</td><td>No</td><td>-14</td></tr>\n",
       "<tr><td>2018-12-25 17:38:54</td><td>2018-12-25 17:42:43</td><td>1.1</td><td>237</td><td>236</td><td>5.5</td><td>1.58</td><td>7.88</td><td>Tue</td><td>false</td><td>3.8167</td><td>2018-12-25</td><td>12:00</td><td>19812</td><td>No</td><td>-14</td></tr>\n",
       "</table>\n"
      ],
      "text/plain": [
       "+--------------------+---------------------+-------------+------------+------------+-----------+----------+------------+-----------+----------+-----------+----------+---------+----------+---+-------------------+\n",
       "|tpep_pickup_datetime|tpep_dropoff_datetime|trip_distance|PULocationID|DOLocationID|fare_amount|tip_amount|total_amount|day_of_week|is_weekend|trip_length|      Date|Start(ET)|Attendance|Win|margin_victory/loss|\n",
       "+--------------------+---------------------+-------------+------------+------------+-----------+----------+------------+-----------+----------+-----------+----------+---------+----------+---+-------------------+\n",
       "| 2018-12-25 00:39:10|  2018-12-25 01:04:33|         2.56|         162|         263|       16.5|      4.58|       22.88|        Tue|     false|    25.3833|2018-12-25|    12:00|     19812| No|                -14|\n",
       "| 2018-12-25 09:08:51|  2018-12-25 09:13:27|          0.9|         163|         162|        5.0|      1.45|        7.25|        Tue|     false|        4.6|2018-12-25|    12:00|     19812| No|                -14|\n",
       "| 2018-12-25 10:29:03|  2018-12-25 10:31:40|         0.63|         100|          48|        4.0|      0.96|        5.76|        Tue|     false|     2.6167|2018-12-25|    12:00|     19812| No|                -14|\n",
       "| 2018-12-25 10:58:19|  2018-12-25 11:14:08|         8.08|         161|          13|       23.5|       0.0|        24.3|        Tue|     false|    15.8167|2018-12-25|    12:00|     19812| No|                -14|\n",
       "| 2018-12-25 15:52:23|  2018-12-25 16:07:03|         2.13|         162|         142|       11.5|       1.0|        13.3|        Tue|     false|    14.6667|2018-12-25|    12:00|     19812| No|                -14|\n",
       "| 2018-12-25 00:31:15|  2018-12-25 00:42:04|         2.88|         230|         236|       11.0|      2.36|       14.16|        Tue|     false|    10.8167|2018-12-25|    12:00|     19812| No|                -14|\n",
       "| 2018-12-25 00:51:53|  2018-12-25 00:58:03|         0.98|         161|         229|        6.0|      1.36|        8.16|        Tue|     false|     6.1667|2018-12-25|    12:00|     19812| No|                -14|\n",
       "| 2018-12-25 03:53:56|  2018-12-25 04:06:21|         1.64|         246|         107|        9.5|       0.0|        10.3|        Tue|     false|    12.4167|2018-12-25|    12:00|     19812| No|                -14|\n",
       "| 2018-12-25 17:03:49|  2018-12-25 17:07:48|         0.83|         237|         141|        5.0|       2.0|         7.8|        Tue|     false|     3.9833|2018-12-25|    12:00|     19812| No|                -14|\n",
       "| 2018-12-25 17:38:54|  2018-12-25 17:42:43|          1.1|         237|         236|        5.5|      1.58|        7.88|        Tue|     false|     3.8167|2018-12-25|    12:00|     19812| No|                -14|\n",
       "+--------------------+---------------------+-------------+------------+------------+-----------+----------+------------+-----------+----------+-----------+----------+---------+----------+---+-------------------+"
      ]
     },
     "execution_count": 4,
     "metadata": {},
     "output_type": "execute_result"
    }
   ],
   "source": [
    "yellow_spark.limit(10)"
   ]
  },
  {
   "cell_type": "code",
   "execution_count": 5,
   "id": "df69da62",
   "metadata": {},
   "outputs": [],
   "source": [
    "yellow_weekday = yellow_spark.filter( F.col(\"is_weekend\") == True )\n",
    "yellow_weekend = yellow_spark.filter( F.col(\"is_weekend\") == False)\n",
    "\n",
    "yellow_win = yellow_spark.filter( F.col(\"win\") == \"Yes\" )\n",
    "yellow_lose = yellow_spark.filter( F.col(\"win\") == \"No\" )\n",
    "\n"
   ]
  },
  {
   "cell_type": "code",
   "execution_count": 6,
   "id": "b6fd2985",
   "metadata": {},
   "outputs": [
    {
     "name": "stderr",
     "output_type": "stream",
     "text": [
      "                                                                                \r"
     ]
    },
    {
     "data": {
      "text/plain": [
       "1330808"
      ]
     },
     "execution_count": 6,
     "metadata": {},
     "output_type": "execute_result"
    }
   ],
   "source": [
    "yellow_win.count()"
   ]
  },
  {
   "cell_type": "code",
   "execution_count": 7,
   "id": "bcd3680b",
   "metadata": {},
   "outputs": [
    {
     "data": {
      "text/plain": [
       "5085064"
      ]
     },
     "execution_count": 7,
     "metadata": {},
     "output_type": "execute_result"
    }
   ],
   "source": [
    "yellow_lose.count()"
   ]
  },
  {
   "cell_type": "code",
   "execution_count": 8,
   "id": "4ded4a28",
   "metadata": {},
   "outputs": [
    {
     "name": "stderr",
     "output_type": "stream",
     "text": [
      "                                                                                \r"
     ]
    }
   ],
   "source": [
    "# average tip amount per hour in a weekday\n",
    "aggregate_weekday = (yellow_weekday\n",
    "     .groupBy(hour(\"tpep_pickup_datetime\").alias(\"hour\"))\n",
    "     .agg(round(mean(\"tip_amount\"),4).alias(\"mean_tip\"))\n",
    "     .orderBy(\"hour\")\n",
    "    )\n",
    "aggregate_weekday.write.mode('overwrite').parquet('../../mast30034-project-1-dustintano10/data/curated/yellow/aggregate_weekday')"
   ]
  },
  {
   "cell_type": "code",
   "execution_count": 9,
   "id": "20a61469",
   "metadata": {},
   "outputs": [
    {
     "name": "stderr",
     "output_type": "stream",
     "text": [
      "                                                                                \r"
     ]
    }
   ],
   "source": [
    "# average tip amount per hour in a weekend\n",
    "\n",
    "aggregate_weekend = (yellow_weekend\n",
    "     .groupBy(hour(\"tpep_pickup_datetime\").alias(\"hour\"))\n",
    "     .agg(round(mean(\"tip_amount\"),4).alias(\"mean_tip\"))\n",
    "     .orderBy(\"hour\")\n",
    "    )\n",
    "\n",
    "aggregate_weekend.write.mode('overwrite').parquet('../../mast30034-project-1-dustintano10/data/curated/yellow/aggregate_weekend')"
   ]
  },
  {
   "cell_type": "code",
   "execution_count": 10,
   "id": "4074aa2d",
   "metadata": {},
   "outputs": [
    {
     "name": "stderr",
     "output_type": "stream",
     "text": [
      "\r",
      "[Stage 29:===================================================>      (8 + 1) / 9]\r",
      "\r",
      "                                                                                \r"
     ]
    }
   ],
   "source": [
    "# average tip amount per hour when the knicks win\n",
    "\n",
    "aggregate_win = (yellow_win\n",
    "     .groupBy(hour(\"tpep_pickup_datetime\").alias(\"hour\"))\n",
    "     .agg(round(mean(\"tip_amount\"),4).alias(\"mean_tip\"))\n",
    "     .orderBy(\"hour\")\n",
    "    )\n",
    "\n",
    "aggregate_win.write.mode('overwrite').parquet('../../mast30034-project-1-dustintano10/data/curated/yellow/aggregate_win')"
   ]
  },
  {
   "cell_type": "code",
   "execution_count": 11,
   "id": "8838ee5c",
   "metadata": {},
   "outputs": [
    {
     "name": "stderr",
     "output_type": "stream",
     "text": [
      "                                                                                \r"
     ]
    }
   ],
   "source": [
    "# average tip amount per hour when the knicks lose\n",
    "\n",
    "aggregate_lose = (yellow_lose\n",
    "     .groupBy(hour(\"tpep_pickup_datetime\").alias(\"hour\"))\n",
    "     .agg(round(mean(\"tip_amount\"),4).alias(\"mean_tip\"))\n",
    "     .orderBy(\"hour\")\n",
    "    )\n",
    "\n",
    "aggregate_lose.write.mode('overwrite').parquet('../../mast30034-project-1-dustintano10/data/curated/yellow/aggregate_lose')"
   ]
  },
  {
   "cell_type": "code",
   "execution_count": 12,
   "id": "6546989c",
   "metadata": {},
   "outputs": [],
   "source": [
    "# average tip amount based on when the game starts\n",
    "\n",
    "aggregate_start = (yellow_spark\n",
    "                       .groupBy(F.col(\"Start(ET)\").alias(\"start_time\"))\n",
    "                       .agg(round(mean(\"tip_amount\"),4).alias(\"mean_tip\"))\n",
    "                       .orderBy(\"start_time\"))\n",
    "aggregate_start.write.mode('overwrite').parquet('../../mast30034-project-1-dustintano10/data/curated/yellow/aggregate_start')"
   ]
  },
  {
   "cell_type": "code",
   "execution_count": 13,
   "id": "bf3a787f",
   "metadata": {},
   "outputs": [
    {
     "name": "stderr",
     "output_type": "stream",
     "text": [
      "\r",
      "[Stage 53:===================================================>      (8 + 1) / 9]\r",
      "\r",
      "                                                                                \r"
     ]
    }
   ],
   "source": [
    "# aggregate by Pickup_location\n",
    "\n",
    "aggregate_PU = (yellow_spark\n",
    "                       .groupBy(F.col(\"PULocationID\").alias(\"Pickup_location\"))\n",
    "                       .agg(round(mean(\"tip_amount\"),4).alias(\"mean_tip\"))\n",
    "                       .orderBy(\"Pickup_location\"))\n",
    "aggregate_PU.write.mode('overwrite').parquet('../../mast30034-project-1-dustintano10/data/curated/yellow/aggregate_PU')"
   ]
  },
  {
   "cell_type": "code",
   "execution_count": 14,
   "id": "84be40c0",
   "metadata": {},
   "outputs": [
    {
     "name": "stderr",
     "output_type": "stream",
     "text": [
      "\r",
      "[Stage 61:===================================================>      (8 + 1) / 9]\r",
      "\r",
      "                                                                                \r"
     ]
    }
   ],
   "source": [
    "# Aggregate by dropoff location\n",
    "\n",
    "aggregate_DO = (yellow_spark\n",
    "                       .groupBy(F.col(\"DOLocationID\").alias(\"Dropoff_location\"))\n",
    "                       .agg(round(mean(\"tip_amount\"),4).alias(\"mean_tip\"))\n",
    "                       .orderBy(\"Dropoff_location\"))\n",
    "aggregate_DO.write.mode('overwrite').parquet('../../mast30034-project-1-dustintano10/data/curated/yellow/aggregate_DO')"
   ]
  },
  {
   "cell_type": "code",
   "execution_count": 16,
   "id": "9f79abda",
   "metadata": {},
   "outputs": [
    {
     "name": "stderr",
     "output_type": "stream",
     "text": [
      "                                                                                \r"
     ]
    }
   ],
   "source": [
    "# take 10% sample from main data\n",
    "\n",
    "SAMPLE_SIZE = 0.10\n",
    "\n",
    "yellow_sample = yellow_spark.sample(SAMPLE_SIZE, seed=0)\n",
    "\n",
    "yellow_sample.write.mode('overwrite').parquet('../../mast30034-project-1-dustintano10/data/curated/yellow/yellow_sample')\n"
   ]
  },
  {
   "cell_type": "code",
   "execution_count": null,
   "id": "74607bc7",
   "metadata": {},
   "outputs": [],
   "source": []
  }
 ],
 "metadata": {
  "kernelspec": {
   "display_name": "Python 3 (ipykernel)",
   "language": "python",
   "name": "python3"
  },
  "language_info": {
   "codemirror_mode": {
    "name": "ipython",
    "version": 3
   },
   "file_extension": ".py",
   "mimetype": "text/x-python",
   "name": "python",
   "nbconvert_exporter": "python",
   "pygments_lexer": "ipython3",
   "version": "3.8.10"
  }
 },
 "nbformat": 4,
 "nbformat_minor": 5
}
