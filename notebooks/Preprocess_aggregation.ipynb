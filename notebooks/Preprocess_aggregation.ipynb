{
 "cells": [
  {
   "cell_type": "code",
   "execution_count": 1,
   "id": "08c96093",
   "metadata": {},
   "outputs": [
    {
     "name": "stdout",
     "output_type": "stream",
     "text": [
      "22/08/24 19:47:13 WARN Utils: Your hostname, DESKTOP-3ADPNV0 resolves to a loopback address: 127.0.1.1; using 172.25.24.22 instead (on interface eth0)\n",
      "22/08/24 19:47:13 WARN Utils: Set SPARK_LOCAL_IP if you need to bind to another address\n"
     ]
    },
    {
     "name": "stderr",
     "output_type": "stream",
     "text": [
      "Setting default log level to \"WARN\".\n",
      "To adjust logging level use sc.setLogLevel(newLevel). For SparkR, use setLogLevel(newLevel).\n"
     ]
    },
    {
     "name": "stdout",
     "output_type": "stream",
     "text": [
      "22/08/24 19:47:16 WARN NativeCodeLoader: Unable to load native-hadoop library for your platform... using builtin-java classes where applicable\n",
      "22/08/24 19:47:18 WARN Utils: Service 'SparkUI' could not bind on port 4040. Attempting port 4041.\n"
     ]
    }
   ],
   "source": [
    "from pyspark.sql import SparkSession, functions as F\n",
    "\n",
    "# Cell to create a spark session\n",
    "spark = (\n",
    "    SparkSession.builder.appName(\"MAST30034 ASSIGNMENT 1 DUSTIN\")\n",
    "    .config(\"spark.sql.repl.eagerEval.enabled\", True) \n",
    "    .config(\"spark.sql.parquet.cacheMetadata\", \"true\")\n",
    "    .config(\"spark.sql.session.timeZone\", \"Etc/UTC\")\n",
    "    .config(\"spark.executor.memory\", \"2g\")\n",
    "    .config(\"spark.driver.memory\", \"4g\")\n",
    "    .getOrCreate()\n",
    ")"
   ]
  },
  {
   "cell_type": "code",
   "execution_count": 2,
   "id": "9539b9e8",
   "metadata": {},
   "outputs": [],
   "source": [
    "from pyspark.sql.functions import *\n"
   ]
  },
  {
   "cell_type": "code",
   "execution_count": 3,
   "id": "5b796edb",
   "metadata": {},
   "outputs": [
    {
     "name": "stderr",
     "output_type": "stream",
     "text": [
      "                                                                                \r"
     ]
    }
   ],
   "source": [
    "yellow_spark = spark.read.parquet('../../mast30034-project-1-dustintano10/data/curated/yellow/yellow_credit')"
   ]
  },
  {
   "cell_type": "code",
   "execution_count": 4,
   "id": "df69da62",
   "metadata": {},
   "outputs": [],
   "source": [
    "# create dataframes to aggregate data based in if it is a weekend or not and also aggregate based on win or lost\n",
    "\n",
    "yellow_weekday = yellow_spark.filter( F.col(\"is_weekend\") == True )\n",
    "yellow_weekend = yellow_spark.filter( F.col(\"is_weekend\") == False)\n",
    "\n",
    "yellow_win = yellow_spark.filter( F.col(\"win\") == \"Yes\" )\n",
    "yellow_lose = yellow_spark.filter( F.col(\"win\") == \"No\" )\n",
    "\n"
   ]
  },
  {
   "cell_type": "code",
   "execution_count": 6,
   "id": "b6fd2985",
   "metadata": {},
   "outputs": [
    {
     "name": "stderr",
     "output_type": "stream",
     "text": [
      "\r",
      "[Stage 7:====================================================>      (8 + 1) / 9]\r",
      "\r",
      "                                                                                \r"
     ]
    },
    {
     "data": {
      "text/plain": [
       "1330808"
      ]
     },
     "execution_count": 6,
     "metadata": {},
     "output_type": "execute_result"
    }
   ],
   "source": [
    "# counts for wins \n",
    "\n",
    "yellow_win.count()"
   ]
  },
  {
   "cell_type": "code",
   "execution_count": 7,
   "id": "bcd3680b",
   "metadata": {},
   "outputs": [
    {
     "data": {
      "text/plain": [
       "5085064"
      ]
     },
     "execution_count": 7,
     "metadata": {},
     "output_type": "execute_result"
    }
   ],
   "source": [
    "# counts for lost \n",
    "# higher number is expected as the knicks lost a more substantial amount of games this season compared\n",
    "# to wins\n",
    "\n",
    "yellow_lose.count()"
   ]
  },
  {
   "cell_type": "code",
   "execution_count": 5,
   "id": "4ded4a28",
   "metadata": {},
   "outputs": [
    {
     "name": "stderr",
     "output_type": "stream",
     "text": [
      "                                                                                \r"
     ]
    }
   ],
   "source": [
    "# average tip amount per hour in a weekday\n",
    "aggregate_weekday = (yellow_weekday\n",
    "     .groupBy(hour(\"tpep_pickup_datetime\").alias(\"hour\"))\n",
    "     .agg(round(mean(\"tip_amount\"),4).alias(\"mean_tip\"))\n",
    "     .orderBy(\"hour\")\n",
    "    )\n",
    "aggregate_weekday.write.mode('overwrite').parquet('../../mast30034-project-1-dustintano10/data/curated/yellow/aggregate_weekday')"
   ]
  },
  {
   "cell_type": "code",
   "execution_count": 6,
   "id": "20a61469",
   "metadata": {},
   "outputs": [
    {
     "name": "stderr",
     "output_type": "stream",
     "text": [
      "                                                                                \r"
     ]
    }
   ],
   "source": [
    "# average tip amount per hour in a weekend\n",
    "\n",
    "aggregate_weekend = (yellow_weekend\n",
    "     .groupBy(hour(\"tpep_pickup_datetime\").alias(\"hour\"))\n",
    "     .agg(round(mean(\"tip_amount\"),4).alias(\"mean_tip\"))\n",
    "     .orderBy(\"hour\")\n",
    "    )\n",
    "\n",
    "aggregate_weekend.write.mode('overwrite').parquet('../../mast30034-project-1-dustintano10/data/curated/yellow/aggregate_weekend')"
   ]
  },
  {
   "cell_type": "code",
   "execution_count": 7,
   "id": "4074aa2d",
   "metadata": {},
   "outputs": [
    {
     "name": "stderr",
     "output_type": "stream",
     "text": [
      "\r",
      "[Stage 17:======================================>                   (6 + 3) / 9]\r",
      "\r",
      "                                                                                \r"
     ]
    }
   ],
   "source": [
    "# average tip amount per hour when the knicks win\n",
    "\n",
    "aggregate_win = (yellow_win\n",
    "     .groupBy(hour(\"tpep_pickup_datetime\").alias(\"hour\"))\n",
    "     .agg(round(mean(\"tip_amount\"),4).alias(\"mean_tip\"))\n",
    "     .orderBy(\"hour\")\n",
    "    )\n",
    "\n",
    "aggregate_win.write.mode('overwrite').parquet('../../mast30034-project-1-dustintano10/data/curated/yellow/aggregate_win')"
   ]
  },
  {
   "cell_type": "code",
   "execution_count": 8,
   "id": "8838ee5c",
   "metadata": {},
   "outputs": [
    {
     "name": "stderr",
     "output_type": "stream",
     "text": [
      "                                                                                \r"
     ]
    }
   ],
   "source": [
    "# average tip amount per hour when the knicks lose\n",
    "\n",
    "aggregate_lose = (yellow_lose\n",
    "     .groupBy(hour(\"tpep_pickup_datetime\").alias(\"hour\"))\n",
    "     .agg(round(mean(\"tip_amount\"),4).alias(\"mean_tip\"))\n",
    "     .orderBy(\"hour\")\n",
    "    )\n",
    "\n",
    "aggregate_lose.write.mode('overwrite').parquet('../../mast30034-project-1-dustintano10/data/curated/yellow/aggregate_lose')"
   ]
  },
  {
   "cell_type": "code",
   "execution_count": 9,
   "id": "6546989c",
   "metadata": {},
   "outputs": [
    {
     "name": "stderr",
     "output_type": "stream",
     "text": [
      "                                                                                \r"
     ]
    }
   ],
   "source": [
    "# average tip amount based on when the game starts\n",
    "\n",
    "aggregate_start = (yellow_spark\n",
    "                       .groupBy(F.col(\"Start(ET)\").alias(\"start_time\"))\n",
    "                       .agg(round(mean(\"tip_amount\"),4).alias(\"mean_tip\"))\n",
    "                       .orderBy(\"start_time\"))\n",
    "aggregate_start.write.mode('overwrite').parquet('../../mast30034-project-1-dustintano10/data/curated/yellow/aggregate_start')"
   ]
  },
  {
   "cell_type": "code",
   "execution_count": 10,
   "id": "bf3a787f",
   "metadata": {},
   "outputs": [
    {
     "name": "stderr",
     "output_type": "stream",
     "text": [
      "\r",
      "[Stage 41:=============================================>            (7 + 2) / 9]\r",
      "\r",
      "                                                                                \r"
     ]
    }
   ],
   "source": [
    "# aggregate by Pickup_location\n",
    "\n",
    "aggregate_PU = (yellow_spark\n",
    "                       .groupBy(F.col(\"PULocationID\").alias(\"Pickup_location\"))\n",
    "                       .agg(round(mean(\"tip_amount\"),4).alias(\"mean_tip\"))\n",
    "                       .orderBy(\"Pickup_location\"))\n",
    "aggregate_PU.write.mode('overwrite').parquet('../../mast30034-project-1-dustintano10/data/curated/yellow/aggregate_PU')"
   ]
  },
  {
   "cell_type": "code",
   "execution_count": 11,
   "id": "84be40c0",
   "metadata": {},
   "outputs": [
    {
     "name": "stderr",
     "output_type": "stream",
     "text": [
      "\r",
      "[Stage 49:===================================================>      (8 + 1) / 9]\r",
      "\r",
      "                                                                                \r"
     ]
    }
   ],
   "source": [
    "# Aggregate by dropoff location\n",
    "\n",
    "aggregate_DO = (yellow_spark\n",
    "                       .groupBy(F.col(\"DOLocationID\").alias(\"Dropoff_location\"))\n",
    "                       .agg(round(mean(\"tip_amount\"),4).alias(\"mean_tip\"))\n",
    "                       .orderBy(\"Dropoff_location\"))\n",
    "aggregate_DO.write.mode('overwrite').parquet('../../mast30034-project-1-dustintano10/data/curated/yellow/aggregate_DO')"
   ]
  },
  {
   "cell_type": "code",
   "execution_count": 12,
   "id": "9f79abda",
   "metadata": {},
   "outputs": [
    {
     "name": "stderr",
     "output_type": "stream",
     "text": [
      "                                                                                \r"
     ]
    }
   ],
   "source": [
    "# take 10% sample from main data\n",
    "\n",
    "SAMPLE_SIZE = 0.10\n",
    "\n",
    "yellow_sample = yellow_spark.sample(SAMPLE_SIZE, seed=0)\n",
    "\n",
    "yellow_sample.write.mode('overwrite').parquet('../../mast30034-project-1-dustintano10/data/curated/yellow/yellow_sample')\n"
   ]
  },
  {
   "cell_type": "code",
   "execution_count": null,
   "id": "74607bc7",
   "metadata": {},
   "outputs": [],
   "source": []
  }
 ],
 "metadata": {
  "kernelspec": {
   "display_name": "Python 3 (ipykernel)",
   "language": "python",
   "name": "python3"
  },
  "language_info": {
   "codemirror_mode": {
    "name": "ipython",
    "version": 3
   },
   "file_extension": ".py",
   "mimetype": "text/x-python",
   "name": "python",
   "nbconvert_exporter": "python",
   "pygments_lexer": "ipython3",
   "version": "3.8.10"
  }
 },
 "nbformat": 4,
 "nbformat_minor": 5
}
