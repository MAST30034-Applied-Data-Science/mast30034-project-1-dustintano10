{
 "cells": [
  {
   "cell_type": "code",
   "execution_count": 1,
   "id": "08c96093",
   "metadata": {},
   "outputs": [
    {
     "name": "stdout",
     "output_type": "stream",
     "text": [
      "22/08/19 00:23:03 WARN Utils: Your hostname, DESKTOP-3ADPNV0 resolves to a loopback address: 127.0.1.1; using 172.29.57.13 instead (on interface eth0)\n",
      "22/08/19 00:23:03 WARN Utils: Set SPARK_LOCAL_IP if you need to bind to another address\n"
     ]
    },
    {
     "name": "stderr",
     "output_type": "stream",
     "text": [
      "Setting default log level to \"WARN\".\n",
      "To adjust logging level use sc.setLogLevel(newLevel). For SparkR, use setLogLevel(newLevel).\n"
     ]
    },
    {
     "name": "stdout",
     "output_type": "stream",
     "text": [
      "22/08/19 00:23:05 WARN NativeCodeLoader: Unable to load native-hadoop library for your platform... using builtin-java classes where applicable\n",
      "22/08/19 00:23:07 WARN Utils: Service 'SparkUI' could not bind on port 4040. Attempting port 4041.\n"
     ]
    }
   ],
   "source": [
    "from pyspark.sql import SparkSession, functions as F\n",
    "\n",
    "# Cell to create a spark session\n",
    "spark = (\n",
    "    SparkSession.builder.appName(\"MAST30034 ASSIGNMENT 1 DUSTIN\")\n",
    "    .config(\"spark.sql.repl.eagerEval.enabled\", True) \n",
    "    .config(\"spark.sql.parquet.cacheMetadata\", \"true\")\n",
    "    .config(\"spark.sql.session.timeZone\", \"Etc/UTC\")\n",
    "    .config(\"spark.executor.memory\", \"2g\")\n",
    "    .config(\"spark.driver.memory\", \"4g\")\n",
    "    .getOrCreate()\n",
    ")"
   ]
  },
  {
   "cell_type": "code",
   "execution_count": 2,
   "id": "9539b9e8",
   "metadata": {},
   "outputs": [],
   "source": [
    "import pandas as pd\n",
    "import matplotlib.pyplot as plt\n",
    "import seaborn as sns\n",
    "from statsmodels.formula.api import ols, glm"
   ]
  },
  {
   "cell_type": "code",
   "execution_count": 3,
   "id": "5b796edb",
   "metadata": {},
   "outputs": [
    {
     "name": "stderr",
     "output_type": "stream",
     "text": [
      "                                                                                \r"
     ]
    }
   ],
   "source": [
    "yellow_spark = spark.read.parquet('../../mast30034-project-1-dustintano10/data/curated/yellow/yellow_credit')"
   ]
  },
  {
   "cell_type": "code",
   "execution_count": 4,
   "id": "5cf79927",
   "metadata": {},
   "outputs": [
    {
     "name": "stderr",
     "output_type": "stream",
     "text": [
      "                                                                                \r"
     ]
    },
    {
     "data": {
      "text/html": [
       "<table border='1'>\n",
       "<tr><th>tpep_pickup_datetime</th><th>tpep_dropoff_datetime</th><th>trip_distance</th><th>PULocationID</th><th>DOLocationID</th><th>fare_amount</th><th>tip_amount</th><th>total_amount</th><th>day_of_week</th><th>is_weekend</th><th>trip_length</th><th>Start(ET)</th><th>Attendance</th><th>Win</th><th>margin_victory/loss</th></tr>\n",
       "<tr><td>2018-12-25 00:39:10</td><td>2018-12-25 01:04:33</td><td>2.56</td><td>162</td><td>263</td><td>16.5</td><td>4.58</td><td>22.88</td><td>Tue</td><td>false</td><td>25.3833</td><td>12:00</td><td>19812</td><td>No</td><td>-14</td></tr>\n",
       "<tr><td>2018-12-25 09:08:51</td><td>2018-12-25 09:13:27</td><td>0.9</td><td>163</td><td>162</td><td>5.0</td><td>1.45</td><td>7.25</td><td>Tue</td><td>false</td><td>4.6</td><td>12:00</td><td>19812</td><td>No</td><td>-14</td></tr>\n",
       "<tr><td>2018-12-25 10:29:03</td><td>2018-12-25 10:31:40</td><td>0.63</td><td>100</td><td>48</td><td>4.0</td><td>0.96</td><td>5.76</td><td>Tue</td><td>false</td><td>2.6167</td><td>12:00</td><td>19812</td><td>No</td><td>-14</td></tr>\n",
       "<tr><td>2018-12-25 10:58:19</td><td>2018-12-25 11:14:08</td><td>8.08</td><td>161</td><td>13</td><td>23.5</td><td>0.0</td><td>24.3</td><td>Tue</td><td>false</td><td>15.8167</td><td>12:00</td><td>19812</td><td>No</td><td>-14</td></tr>\n",
       "<tr><td>2018-12-25 15:52:23</td><td>2018-12-25 16:07:03</td><td>2.13</td><td>162</td><td>142</td><td>11.5</td><td>1.0</td><td>13.3</td><td>Tue</td><td>false</td><td>14.6667</td><td>12:00</td><td>19812</td><td>No</td><td>-14</td></tr>\n",
       "<tr><td>2018-12-25 00:31:15</td><td>2018-12-25 00:42:04</td><td>2.88</td><td>230</td><td>236</td><td>11.0</td><td>2.36</td><td>14.16</td><td>Tue</td><td>false</td><td>10.8167</td><td>12:00</td><td>19812</td><td>No</td><td>-14</td></tr>\n",
       "<tr><td>2018-12-25 00:51:53</td><td>2018-12-25 00:58:03</td><td>0.98</td><td>161</td><td>229</td><td>6.0</td><td>1.36</td><td>8.16</td><td>Tue</td><td>false</td><td>6.1667</td><td>12:00</td><td>19812</td><td>No</td><td>-14</td></tr>\n",
       "<tr><td>2018-12-25 03:53:56</td><td>2018-12-25 04:06:21</td><td>1.64</td><td>246</td><td>107</td><td>9.5</td><td>0.0</td><td>10.3</td><td>Tue</td><td>false</td><td>12.4167</td><td>12:00</td><td>19812</td><td>No</td><td>-14</td></tr>\n",
       "<tr><td>2018-12-25 17:03:49</td><td>2018-12-25 17:07:48</td><td>0.83</td><td>237</td><td>141</td><td>5.0</td><td>2.0</td><td>7.8</td><td>Tue</td><td>false</td><td>3.9833</td><td>12:00</td><td>19812</td><td>No</td><td>-14</td></tr>\n",
       "<tr><td>2018-12-25 17:38:54</td><td>2018-12-25 17:42:43</td><td>1.1</td><td>237</td><td>236</td><td>5.5</td><td>1.58</td><td>7.88</td><td>Tue</td><td>false</td><td>3.8167</td><td>12:00</td><td>19812</td><td>No</td><td>-14</td></tr>\n",
       "</table>\n"
      ],
      "text/plain": [
       "+--------------------+---------------------+-------------+------------+------------+-----------+----------+------------+-----------+----------+-----------+---------+----------+---+-------------------+\n",
       "|tpep_pickup_datetime|tpep_dropoff_datetime|trip_distance|PULocationID|DOLocationID|fare_amount|tip_amount|total_amount|day_of_week|is_weekend|trip_length|Start(ET)|Attendance|Win|margin_victory/loss|\n",
       "+--------------------+---------------------+-------------+------------+------------+-----------+----------+------------+-----------+----------+-----------+---------+----------+---+-------------------+\n",
       "| 2018-12-25 00:39:10|  2018-12-25 01:04:33|         2.56|         162|         263|       16.5|      4.58|       22.88|        Tue|     false|    25.3833|    12:00|     19812| No|                -14|\n",
       "| 2018-12-25 09:08:51|  2018-12-25 09:13:27|          0.9|         163|         162|        5.0|      1.45|        7.25|        Tue|     false|        4.6|    12:00|     19812| No|                -14|\n",
       "| 2018-12-25 10:29:03|  2018-12-25 10:31:40|         0.63|         100|          48|        4.0|      0.96|        5.76|        Tue|     false|     2.6167|    12:00|     19812| No|                -14|\n",
       "| 2018-12-25 10:58:19|  2018-12-25 11:14:08|         8.08|         161|          13|       23.5|       0.0|        24.3|        Tue|     false|    15.8167|    12:00|     19812| No|                -14|\n",
       "| 2018-12-25 15:52:23|  2018-12-25 16:07:03|         2.13|         162|         142|       11.5|       1.0|        13.3|        Tue|     false|    14.6667|    12:00|     19812| No|                -14|\n",
       "| 2018-12-25 00:31:15|  2018-12-25 00:42:04|         2.88|         230|         236|       11.0|      2.36|       14.16|        Tue|     false|    10.8167|    12:00|     19812| No|                -14|\n",
       "| 2018-12-25 00:51:53|  2018-12-25 00:58:03|         0.98|         161|         229|        6.0|      1.36|        8.16|        Tue|     false|     6.1667|    12:00|     19812| No|                -14|\n",
       "| 2018-12-25 03:53:56|  2018-12-25 04:06:21|         1.64|         246|         107|        9.5|       0.0|        10.3|        Tue|     false|    12.4167|    12:00|     19812| No|                -14|\n",
       "| 2018-12-25 17:03:49|  2018-12-25 17:07:48|         0.83|         237|         141|        5.0|       2.0|         7.8|        Tue|     false|     3.9833|    12:00|     19812| No|                -14|\n",
       "| 2018-12-25 17:38:54|  2018-12-25 17:42:43|          1.1|         237|         236|        5.5|      1.58|        7.88|        Tue|     false|     3.8167|    12:00|     19812| No|                -14|\n",
       "+--------------------+---------------------+-------------+------------+------------+-----------+----------+------------+-----------+----------+-----------+---------+----------+---+-------------------+"
      ]
     },
     "execution_count": 4,
     "metadata": {},
     "output_type": "execute_result"
    }
   ],
   "source": [
    "yellow_spark.limit(10)"
   ]
  },
  {
   "cell_type": "code",
   "execution_count": 5,
   "id": "df69da62",
   "metadata": {},
   "outputs": [],
   "source": [
    "yellow_weekday = yellow_spark.filter( F.col(\"is_weekend\") == True )\n",
    "yellow_weekend = yellow_spark.filter( F.col(\"is_weekend\") == False)\n",
    "\n",
    "yellow_win = yellow_spark.filter( F.col(\"win\") == \"Yes\" )\n",
    "yellow_lose = yellow_spark.filter( F.col(\"win\") == \"No\" )\n",
    "\n"
   ]
  },
  {
   "cell_type": "code",
   "execution_count": 6,
   "id": "b6fd2985",
   "metadata": {},
   "outputs": [
    {
     "name": "stderr",
     "output_type": "stream",
     "text": [
      "\r",
      "[Stage 7:==========================>                                (4 + 5) / 9]\r",
      "\r",
      "                                                                                \r"
     ]
    },
    {
     "data": {
      "text/plain": [
       "1338679"
      ]
     },
     "execution_count": 6,
     "metadata": {},
     "output_type": "execute_result"
    }
   ],
   "source": [
    "yellow_win.count()"
   ]
  },
  {
   "cell_type": "code",
   "execution_count": 7,
   "id": "bcd3680b",
   "metadata": {},
   "outputs": [
    {
     "data": {
      "text/plain": [
       "5123011"
      ]
     },
     "execution_count": 7,
     "metadata": {},
     "output_type": "execute_result"
    }
   ],
   "source": [
    "yellow_lose.count()"
   ]
  },
  {
   "cell_type": "code",
   "execution_count": 20,
   "id": "2b26d4a7",
   "metadata": {},
   "outputs": [
    {
     "name": "stderr",
     "output_type": "stream",
     "text": [
      "[Stage 22:======================================>                   (6 + 3) / 9]\r"
     ]
    },
    {
     "name": "stdout",
     "output_type": "stream",
     "text": [
      "+---+--------+-------------+---------+----------+-----------+-----------+---------------+\n",
      "|day|mean_tip|mean_distance|mean_fare|mean_total|mean_length|mean_margin|mean_attendance|\n",
      "+---+--------+-------------+---------+----------+-----------+-----------+---------------+\n",
      "|  1|  2.1808|       1.9505|  10.0336|   14.1025|    11.9441|    -2.1304|     19013.4593|\n",
      "|  3|  2.2224|        2.065|   9.9969|   14.4964|    11.3412|    -7.2285|     18305.3494|\n",
      "|  5|  2.2998|       1.9739|  10.1839|   14.9446|    12.2229|    -7.0531|     18823.8292|\n",
      "|  7|  2.3962|       2.1722|   9.9516|   15.8067|    10.8308|        3.0|        19812.0|\n",
      "|  8|  2.1107|       1.9784|  10.5353|   13.6814|    12.9662|       -8.0|        18662.0|\n",
      "|  9|  2.3008|        2.038|  10.0794|   15.1052|    11.7183|     -8.143|     19118.8947|\n",
      "| 10|  2.5281|       2.0038|  10.2646|   16.4624|    12.2903|      -26.0|        19812.0|\n",
      "| 11|  2.0775|       1.9957|  10.1002|   13.3512|    11.8496|   -19.9415|        19812.0|\n",
      "| 13|  2.2418|       1.9751|   9.7457|   14.4766|    11.1508|     -9.679|     18811.3985|\n",
      "| 17|  2.2222|       2.0185|  10.2329|   14.3128|    12.0861|     1.2499|     18745.9022|\n",
      "| 20|  2.2356|       1.9962|  10.3292|   14.5092|    12.4492|    -8.7463|     19269.4382|\n",
      "| 21|  2.0178|       1.9137|   9.5401|   12.6984|    10.8485|   -11.3735|     19244.2051|\n",
      "| 22|  2.4637|       1.9575|  10.0591|   16.1752|    12.0089|    -14.535|     19193.9695|\n",
      "| 23|  2.0877|       1.9672|   9.9309|   13.2669|     11.525|    -0.5988|       18867.75|\n",
      "| 24|  2.3782|       2.1541|   9.8469|   15.6851|    10.6442|     0.7566|     18138.2775|\n",
      "| 25|  2.1499|       2.2632|   9.7804|   13.0187|     9.6811|      -14.0|        19812.0|\n",
      "| 26|  2.3018|       1.9504|  10.2806|   14.9872|    12.5091|   -12.0738|     18856.9103|\n",
      "| 27|  2.0175|       2.1197|   9.7542|   12.8322|    10.5264|       -9.0|        18852.0|\n",
      "| 28|  2.5174|       1.9788|  10.2548|   16.4292|    12.3875|   -15.5759|     18639.7408|\n",
      "| 29|   2.111|       2.0146|  10.1835|   13.5506|    11.9869|       19.0|        19221.0|\n",
      "| 30|  2.2505|       1.9807|    9.987|   14.5052|    11.7554|   -16.6227|     19289.2512|\n",
      "| 31|  2.0927|       1.9446|  10.2492|   13.5721|     12.354|       -6.0|        18295.0|\n",
      "+---+--------+-------------+---------+----------+-----------+-----------+---------------+\n",
      "\n"
     ]
    },
    {
     "name": "stderr",
     "output_type": "stream",
     "text": [
      "\r",
      "                                                                                \r"
     ]
    }
   ],
   "source": [
    "from pyspark.sql.functions import *\n",
    "aggregate_month = (yellow_spark\n",
    "             .groupBy(month(\"tpep_pickup_datetime\").alias(\"month\"))\n",
    "             .agg(round(mean(\"tip_amount\"),4).alias(\"mean_tip\"),\n",
    "                 round(mean(\"trip_distance\"),4).alias(\"mean_distance\"),\n",
    "                 round(mean(\"fare_amount\"),4).alias(\"mean_fare\"),\n",
    "                 round(mean(\"total_amount\"),4).alias(\"mean_total\"),\n",
    "                 round(mean(\"trip_length\"),4).alias(\"mean_length\"),\n",
    "                 round(mean(\"margin_victory/loss\"),4).alias(\"mean_margin\"),\n",
    "                 round(mean(\"Attendance\"),4).alias(\"mean_attendance\"))\n",
    "              .orderBy(\"month\")\n",
    ")\n",
    "aggregate_day.show(24)"
   ]
  },
  {
   "cell_type": "code",
   "execution_count": null,
   "id": "5eaa9c3c",
   "metadata": {},
   "outputs": [],
   "source": []
  },
  {
   "cell_type": "code",
   "execution_count": 34,
   "id": "4ded4a28",
   "metadata": {},
   "outputs": [
    {
     "name": "stdout",
     "output_type": "stream",
     "text": [
      "+----+------------------+\n",
      "|hour|          mean_tip|\n",
      "+----+------------------+\n",
      "|  12|2.1626819055201585|\n",
      "|  22| 2.446235691321408|\n",
      "|   1|2.3254755988302573|\n",
      "|  13| 2.176139068634324|\n",
      "|   6| 2.139035560671228|\n",
      "|  16|2.2606291177283406|\n",
      "|   3| 2.274831516671488|\n",
      "|  20|2.3287920516273064|\n",
      "|   5| 2.312550354345394|\n",
      "|  19| 2.264033660544166|\n",
      "|  15| 2.224087137265075|\n",
      "|  17| 2.281596101551816|\n",
      "|   9| 2.006334670956713|\n",
      "|   4|2.3428525984354143|\n",
      "|   8| 2.012010099542251|\n",
      "|  23|2.4537930505652645|\n",
      "|   7|2.0283621560006453|\n",
      "|  10| 2.062244875098028|\n",
      "|  21|2.3846844674469443|\n",
      "|  11|2.1112948192322296|\n",
      "+----+------------------+\n",
      "only showing top 20 rows\n",
      "\n"
     ]
    }
   ],
   "source": [
    "# average tip amount per hour in a weekday\n",
    "(yellow_weekday\n",
    " .groupBy(hour(\"Pickup_hourly\").alias(\"hour\"))\n",
    " .agg(mean(\"tip_amount\").alias(\"mean_tip\"))\n",
    " .show()\n",
    ")"
   ]
  },
  {
   "cell_type": "code",
   "execution_count": 35,
   "id": "20a61469",
   "metadata": {},
   "outputs": [
    {
     "name": "stderr",
     "output_type": "stream",
     "text": [
      "\r",
      "[Stage 38:=============================>                            (4 + 4) / 8]\r"
     ]
    },
    {
     "name": "stdout",
     "output_type": "stream",
     "text": [
      "+----+------------------+\n",
      "|hour|          mean_tip|\n",
      "+----+------------------+\n",
      "|  12|2.2458609367016087|\n",
      "|  22| 2.465508696308898|\n",
      "|   1|2.3667451764857774|\n",
      "|  13|  2.23097526874565|\n",
      "|   6|1.8982083076804819|\n",
      "|  16| 2.278479554981979|\n",
      "|   3| 2.370431875677628|\n",
      "|  20| 2.342019114867856|\n",
      "|   5| 2.078286411128841|\n",
      "|  19|2.3225182269978872|\n",
      "|  15|2.1823695085714725|\n",
      "|  17| 2.313739749237615|\n",
      "|   9| 2.204921297798007|\n",
      "|   4|2.4315203257371736|\n",
      "|   8| 2.126849155621941|\n",
      "|  23|2.4685516834425147|\n",
      "|   7| 2.008542537977298|\n",
      "|  10|2.2460774457931643|\n",
      "|  21| 2.421188850021614|\n",
      "|  11| 2.278307719669036|\n",
      "+----+------------------+\n",
      "only showing top 20 rows\n",
      "\n"
     ]
    },
    {
     "name": "stderr",
     "output_type": "stream",
     "text": [
      "\r",
      "                                                                                \r"
     ]
    }
   ],
   "source": [
    "# average tip amount per hour in a weekend\n",
    "\n",
    "(yellow_weekend\n",
    " .groupBy(hour(\"Pickup_hourly\").alias(\"hour\"))\n",
    " .agg(mean(\"tip_amount\").alias(\"mean_tip\"))\n",
    " .show()\n",
    ")\n"
   ]
  },
  {
   "cell_type": "code",
   "execution_count": null,
   "id": "4074aa2d",
   "metadata": {},
   "outputs": [],
   "source": []
  }
 ],
 "metadata": {
  "kernelspec": {
   "display_name": "Python 3 (ipykernel)",
   "language": "python",
   "name": "python3"
  },
  "language_info": {
   "codemirror_mode": {
    "name": "ipython",
    "version": 3
   },
   "file_extension": ".py",
   "mimetype": "text/x-python",
   "name": "python",
   "nbconvert_exporter": "python",
   "pygments_lexer": "ipython3",
   "version": "3.8.10"
  }
 },
 "nbformat": 4,
 "nbformat_minor": 5
}
